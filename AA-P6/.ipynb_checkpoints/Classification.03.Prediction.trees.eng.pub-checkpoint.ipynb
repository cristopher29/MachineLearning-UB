{
 "cells": [
  {
   "cell_type": "markdown",
   "metadata": {},
   "source": [
    "# Classification 03\n",
    "\n",
    "# CART - Classification and regression trees"
   ]
  },
  {
   "cell_type": "markdown",
   "metadata": {},
   "source": [
    "#### Josep Fortiana 2019-11-05"
   ]
  },
  {
   "cell_type": "markdown",
   "metadata": {},
   "source": [
    "The `rpart` function (recursive partitioning) in the `rpart` R package implements the _Classification And Regresion Trees (CART)_ algorithm by Breiman and Friedman. Its main features are: (a) It can predict either a numerical response (regression) or a qualitative response (classification), and (b) Ability to deal with both qualitative and numerical predictors. Furthermore, (c) In each CART partition step the optimized quantity is, by default, Gini's impurity index (see [Victor Zhou's blog](https://victorzhou.com/blog/gini-impurity/), instead of the information gain used in the predecessor algorithm ID3, or the $\\chi^2$ statistic used in CHAID. The `rpart` implementation includes information gain as an optional parameter, which allows us to simulate ID3, as we see below.\n",
    "\n",
    "The CART algorithm works by recursively partitioning a `train` data set in successive steps, in each of which according to values of one of the predictor variables, chosen as the one optimizing the impurity index.\n",
    "\n",
    "Each continuous numerical predictor is treated by sweeping its range and locating an interior point where the impurity index increment resulting from a partition attains an extreme value. The partition is then performed according to the variable for which this extreme value is the best. It is possible that two or more partitions in the resulting hierarchy is done according to the same predictor."
   ]
  },
  {
   "cell_type": "markdown",
   "metadata": {},
   "source": [
    "## 1. Classification with _CART_"
   ]
  },
  {
   "cell_type": "markdown",
   "metadata": {},
   "source": [
    "## 1.1. `synth.tr` and `synth.te` data sets"
   ]
  },
  {
   "cell_type": "markdown",
   "metadata": {},
   "source": [
    "### Synthetic Classification Problem\n",
    "\n",
    "#### Description\n",
    "\n",
    "The `synth.tr` data frame has 250 rows and 3 columns. The `synth.te` data frame has 100 rows and 3 columns. It is intended that `synth.tr` be used from training and `synth.te` for testing.\n",
    "\n",
    "#### Format\n",
    "\n",
    "These data frames contains the following columns:\n",
    "\n",
    "`xs` : x-coordinate\n",
    "\n",
    "`ys` : y-coordinate\n",
    "\n",
    "`yc` : class, coded as 0 or 1.\n",
    "\n",
    "#### Source\n",
    "\n",
    "Ripley, B.D. (1994),  \"Neural networks and related methods for classification (with discussion)\". Journal of the Royal Statistical Society series B 56, 409–456."
   ]
  },
  {
   "cell_type": "code",
   "execution_count": 6,
   "metadata": {
    "collapsed": false
   },
   "outputs": [
    {
     "name": "stderr",
     "output_type": "stream",
     "text": [
      "Loading required package: MASS\n"
     ]
    },
    {
     "name": "stdout",
     "output_type": "stream",
     "text": [
      "'data.frame':\t250 obs. of  3 variables:\n",
      " $ xs: num  0.051 -0.748 -0.773 0.218 0.373 ...\n",
      " $ ys: num  0.161 0.089 0.263 0.127 0.497 ...\n",
      " $ yc: int  0 0 0 0 0 0 0 0 0 0 ...\n",
      "'data.frame':\t1000 obs. of  3 variables:\n",
      " $ xs: num  -0.971 -0.632 -0.774 -0.606 -0.539 ...\n",
      " $ ys: num  0.429 0.252 0.691 0.176 0.377 ...\n",
      " $ yc: int  0 0 0 0 0 0 0 0 0 0 ...\n"
     ]
    }
   ],
   "source": [
    "require(MASS)\n",
    "data(synth.tr)\n",
    "data(synth.te)\n",
    "str(synth.tr)\n",
    "str(synth.te)"
   ]
  },
  {
   "cell_type": "markdown",
   "metadata": {},
   "source": [
    "Cast `yc` as a factor (it is numerically coded 0/1). This is important for `rpart` as it deals with both classification and regression; if not explicitly stated the program has no way to know this response is a label in a classification problem."
   ]
  },
  {
   "cell_type": "code",
   "execution_count": 7,
   "metadata": {
    "collapsed": true
   },
   "outputs": [],
   "source": [
    "synth.tr$yc<-factor(synth.tr$yc)\n",
    "synth.te$yc<-factor(synth.te$yc)"
   ]
  },
  {
   "cell_type": "markdown",
   "metadata": {},
   "source": [
    " #### Tree construction"
   ]
  },
  {
   "cell_type": "code",
   "execution_count": 8,
   "metadata": {
    "collapsed": false
   },
   "outputs": [],
   "source": [
    "#install.packages(\"rpart\",dependencies=TRUE,repos=\"https://cloud.r-project.org\")\n",
    "require(rpart)"
   ]
  },
  {
   "cell_type": "code",
   "execution_count": 9,
   "metadata": {
    "collapsed": false
   },
   "outputs": [],
   "source": [
    "synth.rpart<-rpart(yc~xs+ys,data=synth.tr)"
   ]
  },
  {
   "cell_type": "markdown",
   "metadata": {},
   "source": [
    "#### Show the tree"
   ]
  },
  {
   "cell_type": "code",
   "execution_count": 10,
   "metadata": {
    "collapsed": false
   },
   "outputs": [
    {
     "data": {
      "image/png": "[encoded data removed]",
      "text/plain": [
       "plot without title"
      ]
     },
     "metadata": {},
     "output_type": "display_data"
    }
   ],
   "source": [
    "options(repr.plot.width=4,repr.plot.height=4)\n",
    "plot(synth.rpart)\n",
    "text(synth.rpart,use.n=TRUE,xpd=2,cex=0.6)"
   ]
  },
  {
   "cell_type": "code",
   "execution_count": 6,
   "metadata": {
    "collapsed": false
   },
   "outputs": [
    {
     "data": {
      "image/png": "[encoded data removed]",
      "text/plain": [
       "plot without title"
      ]
     },
     "metadata": {},
     "output_type": "display_data"
    }
   ],
   "source": [
    "#\n",
    "# See the help in 'plot.rpart' and 'test.rpart'\n",
    "#\n",
    "# 'margin' space around tree\n",
    "# 'branch' to decie whether to plot a 'square' tree or with not orthogonal branch angles\n",
    "options(repr.plot.width=5.5,repr.plot.height=5.5)\n",
    "plot(synth.rpart,branch=0.6,margin=0.2,lwd=2)\n",
    "# 'splits' to label each partition\n",
    "# 'all' to label all nodel (instead of only terminal nodes)\n",
    "# 'xpd' to allow extending labels out of the plot rectangle\n",
    "# 'cex' scale of labels\n",
    "# 'fancy' to put frames around nodes\n",
    "# 'fwidth' ,'fheight', scale for frames around nodes\n",
    "text(synth.rpart,use.n=TRUE,fancy=TRUE,fwidth=0.4,fheight=0.4,splits=TRUE,cex=0.5,all=TRUE,xpd=2,col=\"blue\")"
   ]
  },
  {
   "cell_type": "markdown",
   "metadata": {},
   "source": [
    "#### Confusion matrix"
   ]
  },
  {
   "cell_type": "code",
   "execution_count": 7,
   "metadata": {
    "collapsed": false
   },
   "outputs": [
    {
     "data": {
      "text/plain": [
       "    Pred\n",
       "True   0   1\n",
       "   0 469  31\n",
       "   1  72 428"
      ]
     },
     "metadata": {},
     "output_type": "display_data"
    }
   ],
   "source": [
    "synth.rpart.pred<- predict(synth.rpart,synth.te, type = \"class\")\n",
    "synth.rpart.conf<-table(True = synth.te$yc, Pred = synth.rpart.pred)\n",
    "synth.rpart.conf"
   ]
  },
  {
   "cell_type": "markdown",
   "metadata": {},
   "source": [
    "#### Misclassification error estimate"
   ]
  },
  {
   "cell_type": "code",
   "execution_count": 8,
   "metadata": {
    "collapsed": false
   },
   "outputs": [
    {
     "data": {
      "text/html": [
       "10.3"
      ],
      "text/latex": [
       "10.3"
      ],
      "text/markdown": [
       "10.3"
      ],
      "text/plain": [
       "[1] 10.3"
      ]
     },
     "metadata": {},
     "output_type": "display_data"
    }
   ],
   "source": [
    "n<-sum(synth.rpart.conf)\n",
    "n1<-sum(diag(synth.rpart.conf))\n",
    "P.err<-100*(n-n1)/n\n",
    "round(P.err,3)"
   ]
  },
  {
   "cell_type": "markdown",
   "metadata": {},
   "source": [
    "The resulting tree can be modulated by modifying control parameters in `rpart`. This can be done through the `rpart.control()` function. See the help to find about possible parameters to be modified and their default values. For instance:"
   ]
  },
  {
   "cell_type": "code",
   "execution_count": 9,
   "metadata": {
    "collapsed": false
   },
   "outputs": [
    {
     "data": {
      "image/png": "[encoded data removed]",
      "text/plain": [
       "plot without title"
      ]
     },
     "metadata": {},
     "output_type": "display_data"
    }
   ],
   "source": [
    "options(repr.plot.width=5.5,repr.plot.height=5.5)\n",
    "control.parms<-rpart.control(minsplit = 10,cp=0.005)\n",
    "synth.rpart.2<-rpart(yc~xs+ys,data=synth.tr,control=control.parms)\n",
    "plot(synth.rpart.2)\n",
    "text(synth.rpart.2,use.n=TRUE,xpd=2,cex=0.6)"
   ]
  },
  {
   "cell_type": "markdown",
   "metadata": {},
   "source": [
    "#### Confusion matrix"
   ]
  },
  {
   "cell_type": "code",
   "execution_count": 10,
   "metadata": {
    "collapsed": false
   },
   "outputs": [
    {
     "data": {
      "text/plain": [
       "    Pred\n",
       "True   0   1\n",
       "   0 449  51\n",
       "   1  50 450"
      ]
     },
     "metadata": {},
     "output_type": "display_data"
    }
   ],
   "source": [
    "synth.rpart.2.pred<-predict(synth.rpart.2,synth.te,type=\"class\")\n",
    "synth.rpart.2.conf<-table(True = synth.te$yc,Pred=synth.rpart.2.pred)\n",
    "synth.rpart.2.conf"
   ]
  },
  {
   "cell_type": "markdown",
   "metadata": {},
   "source": [
    "#### Misclassification error estimate "
   ]
  },
  {
   "cell_type": "code",
   "execution_count": 11,
   "metadata": {
    "collapsed": false
   },
   "outputs": [
    {
     "data": {
      "text/html": [
       "10.1"
      ],
      "text/latex": [
       "10.1"
      ],
      "text/markdown": [
       "10.1"
      ],
      "text/plain": [
       "[1] 10.1"
      ]
     },
     "metadata": {},
     "output_type": "display_data"
    }
   ],
   "source": [
    "n.2<-sum(synth.rpart.2.conf)\n",
    "n1.2<-sum(diag(synth.rpart.2.conf))\n",
    "P.err.2<-100*(n.2-n1.2)/n\n",
    "round(P.err.2,3)"
   ]
  },
  {
   "cell_type": "markdown",
   "metadata": {},
   "source": [
    "`minsplit` and `cp` are the most relevant parameters. Try with several values of these, and other, parameters, seeing their influence on the missclassification error estimate."
   ]
  },
  {
   "cell_type": "markdown",
   "metadata": {},
   "source": [
    "## 1.2. `Titanic` data"
   ]
  },
  {
   "cell_type": "markdown",
   "metadata": {},
   "source": [
    "### Survival of passengers on the Titanic\n",
    "\n",
    "#### Description\n",
    "\n",
    "This data set provides information on the fate of passengers on the fatal maiden voyage of the ocean liner 'Titanic', summarized according to economic status (class), sex, age and survival.\n",
    "\n",
    "#### Format\n",
    "\n",
    "In the `datasets` R package, under the `Titanic`, these data appear in an aggregated form, as a table of frequencies. A 4-dimensional array resulting from cross-tabulating $2201$ observations on 4 variables. The variables and their levels are as follows:\n",
    "\n",
    "    No\tName\t  Levels\n",
    "    1.\tClass:\t  \"1st\", \"2nd\", \"3rd\", \"Crew\",\n",
    "    2.\tAge:\t  \"Child\", \"Adult\"\n",
    "    3.\tSex:\t  \"Male\", \"Female\",\n",
    "    4.\tSurvived: \"No\", \"Yes\".\n",
    "\n",
    "For the purpose of the present laboratory you may find it unfolded as a `data.frame` with $2201$ rows, one for each of the $2201$ passengers and crew, in the file `Titanic.data.txt`.\n",
    "\n",
    "#### Details\n",
    "\n",
    "The sinking of the Titanic is a famous event, and new books are still being published about it. Many well-known facts—from the proportions of first-class passengers to the ‘women and children first’ policy, and the fact that that policy was not entirely successful in saving the women and children in the third class—are reflected in the survival rates for various classes of passenger.\n",
    "\n",
    "These data were originally collected by the British Board of Trade in their investigation of the sinking. Note that there is not complete agreement among primary sources as to the exact numbers on board, rescued, or lost.\n",
    "\n",
    "Due in particular to the very successful film ‘Titanic’, the last years saw a rise in public interest in the Titanic. Very detailed data about the passengers is now available on the Internet, at sites such as [Encyclopedia Titanica](https://www.encyclopedia-titanica.org/).\n",
    "\n",
    "Source\n",
    "Dawson, Robert J. MacG. (1995), The ‘Unusual Episode’ Data Revisited. Journal of Statistics Education, 3. doi: 10.1080/10691898.1995.11910499.\n",
    "\n",
    "The source provides a data set recording class, sex, age, and survival status for each person on board of the Titanic, and is based on data originally collected by the British Board of Trade and reprinted in:\n",
    "\n",
    "British Board of Trade (1990), Report on the Loss of the ‘Titanic’ (S.S.). British Board of Trade Inquiry Report (reprint). Gloucester, UK: Allan Sutton Publishing."
   ]
  },
  {
   "cell_type": "code",
   "execution_count": 12,
   "metadata": {
    "collapsed": false
   },
   "outputs": [
    {
     "name": "stdout",
     "output_type": "stream",
     "text": [
      "'data.frame':\t2201 obs. of  4 variables:\n",
      " $ Class   : Factor w/ 4 levels \"1st\",\"2nd\",\"3rd\",..: 1 1 1 1 1 1 1 1 1 1 ...\n",
      " $ Age     : Factor w/ 2 levels \"adult\",\"child\": 1 1 1 1 1 1 1 1 1 1 ...\n",
      " $ Sex     : Factor w/ 2 levels \"female\",\"male\": 2 2 2 2 2 2 2 2 2 2 ...\n",
      " $ Survived: Factor w/ 2 levels \"no\",\"yes\": 2 2 2 2 2 2 2 2 2 2 ...\n"
     ]
    }
   ],
   "source": [
    "Titanic1<-read.table(\"Titanic.data.txt\",header=TRUE)\n",
    "str(Titanic1)"
   ]
  },
  {
   "cell_type": "code",
   "execution_count": 13,
   "metadata": {
    "collapsed": false
   },
   "outputs": [
    {
     "name": "stderr",
     "output_type": "stream",
     "text": [
      "Loading required package: rpart.plot\n"
     ]
    }
   ],
   "source": [
    "#install.packages(\"rpart\",dependencies=TRUE,repos=\"https://cloud.r-project.org\")\n",
    "#install.packages(\"rpart.plot\",dependencies=TRUE,repos=\"https://cloud.r-project.org\")\n",
    "require(rpart)\n",
    "require(rpart.plot)"
   ]
  },
  {
   "cell_type": "markdown",
   "metadata": {},
   "source": [
    "The following classification uses the `rpart()` function to reproduce the behavior of the `ID3` algorithm. \n",
    "\n",
    "Then we try the `prp()`, in the `rpart.plot` package for plots. Here we show only one of the many possible graphics presentation options. RTFM to know them."
   ]
  },
  {
   "cell_type": "code",
   "execution_count": 14,
   "metadata": {
    "collapsed": false
   },
   "outputs": [
    {
     "name": "stderr",
     "output_type": "stream",
     "text": [
      "Warning message:\n",
      "\"cex and tweak both specified, applying both\""
     ]
    },
    {
     "data": {
      "image/png": "[encoded data removed]",
      "text/plain": [
       "plot without title"
      ]
     },
     "metadata": {},
     "output_type": "display_data"
    }
   ],
   "source": [
    "options(repr.plot.width=5.5,repr.plot.height=5.5)\n",
    "Titanic.ID3<-rpart(Survived~.,data=Titanic1,minsplit=10,parms=list(split=\"information\"))\n",
    "prp(Titanic.ID3,type=4,extra=1,col=1:4,tweak=1.2,box.col=\"Moccasin\",cex=0.6)"
   ]
  },
  {
   "cell_type": "markdown",
   "metadata": {},
   "source": [
    "## 1.3. `SAheart` data"
   ]
  },
  {
   "cell_type": "markdown",
   "metadata": {},
   "source": [
    "From the `ElemStatLearn` package, `SAheart` is a data frame with $462$ observations on the following $10$ variables.\n",
    "\n",
    "01. `sbp`: systolic blood pressure.\n",
    "\n",
    "02. `tobacco`: cumulative tobacco (kg).\n",
    "\n",
    "03. `ldl`: low density lipoprotein cholesterol.\n",
    "\n",
    "04. `adiposity`: a numeric vector.\n",
    "\n",
    "05. `famhist`: family history of heart disease, a factor with levels `Absent`, `Present`.\n",
    "\n",
    "06. `typea`: type-A behavior.\n",
    "\n",
    "07. `obesity`: a numeric vector.\n",
    "\n",
    "08. `alcohol`: current alcohol consumption.\n",
    "\n",
    "09. `age`: age at onset\n",
    "\n",
    "10. `chd`: response, coronary heart disease\n",
    "\n",
    "##### Details\n",
    "\n",
    "A retrospective sample of males in a heart-disease high-risk region of the Western Cape, South Africa. There are roughly two controls per case of CHD. Many of the CHD positive men have undergone blood pressure reduction treatment and other programs to reduce their risk factors after their CHD event. In some cases the measurements were made after these treatments. These data are taken from a larger dataset, described in Rousseauw et al, 1983, South African Medical Journal."
   ]
  },
  {
   "cell_type": "code",
   "execution_count": 15,
   "metadata": {
    "collapsed": false
   },
   "outputs": [
    {
     "name": "stderr",
     "output_type": "stream",
     "text": [
      "Loading required package: ElemStatLearn\n"
     ]
    },
    {
     "name": "stdout",
     "output_type": "stream",
     "text": [
      "'data.frame':\t462 obs. of  10 variables:\n",
      " $ sbp      : int  160 144 118 170 134 132 142 114 114 132 ...\n",
      " $ tobacco  : num  12 0.01 0.08 7.5 13.6 6.2 4.05 4.08 0 0 ...\n",
      " $ ldl      : num  5.73 4.41 3.48 6.41 3.5 6.47 3.38 4.59 3.83 5.8 ...\n",
      " $ adiposity: num  23.1 28.6 32.3 38 27.8 ...\n",
      " $ famhist  : Factor w/ 2 levels \"Absent\",\"Present\": 2 1 2 2 2 2 1 2 2 2 ...\n",
      " $ typea    : int  49 55 52 51 60 62 59 62 49 69 ...\n",
      " $ obesity  : num  25.3 28.9 29.1 32 26 ...\n",
      " $ alcohol  : num  97.2 2.06 3.81 24.26 57.34 ...\n",
      " $ age      : int  52 63 46 58 49 45 38 58 29 53 ...\n",
      " $ chd      : int  1 1 0 1 1 0 0 1 0 1 ...\n"
     ]
    }
   ],
   "source": [
    "#install.packages(\"ElemStatLearn\",dependencies=TRUE,repos=\"https://cloud.r-project.org\")\n",
    "require(ElemStatLearn)\n",
    "data(SAheart)\n",
    "str(SAheart)"
   ]
  },
  {
   "cell_type": "markdown",
   "metadata": {},
   "source": [
    "Cast the response `chd` as a factor (it is numerically coded 0/1). This is important for `rpart()` as it deals with both classification and regression; if not explicitly stated the program has no way to know this response is a label in a classification problem."
   ]
  },
  {
   "cell_type": "code",
   "execution_count": 16,
   "metadata": {
    "collapsed": true
   },
   "outputs": [],
   "source": [
    "SAheart$chd<-factor(SAheart$chd)"
   ]
  },
  {
   "cell_type": "markdown",
   "metadata": {},
   "source": [
    "Optionally, `famhist` can be cast as a numeric predictor (in the given `data.frame` is a factor). This is not required for prediction trees, as the CART algorithm can directly process factor predictors, but it might be useful to compare results with other prediction methods."
   ]
  },
  {
   "cell_type": "code",
   "execution_count": 17,
   "metadata": {
    "collapsed": true
   },
   "outputs": [],
   "source": [
    "#SAheart$famhist<-as.numeric(SAheart$famhist)"
   ]
  },
  {
   "cell_type": "markdown",
   "metadata": {},
   "source": [
    "As usual, split the dataset in `train` and `test` subsets."
   ]
  },
  {
   "cell_type": "code",
   "execution_count": 18,
   "metadata": {
    "collapsed": true
   },
   "outputs": [],
   "source": [
    "n<-nrow(SAheart)\n",
    "ntrain<-ceiling(0.60*n)\n",
    "Itrain<-sample(1:n,ntrain,replace=FALSE)\n",
    "n<-nrow(SAheart)\n",
    "ntrain<-ceiling(0.60*n)\n",
    "Itrain<-sample(1:n,ntrain,replace=FALSE)\n",
    "SAheart.train<-SAheart[Itrain,]\n",
    "SAheart.test<-SAheart[-Itrain,]"
   ]
  },
  {
   "cell_type": "markdown",
   "metadata": {},
   "source": [
    "Build a classification tree, compute the predictions for the `test` subset, obtain the confusion matrix and a misclassification error estimate."
   ]
  },
  {
   "cell_type": "code",
   "execution_count": 19,
   "metadata": {
    "collapsed": true
   },
   "outputs": [],
   "source": [
    "#\n",
    "#  Insert your code here\n",
    "#"
   ]
  },
  {
   "cell_type": "markdown",
   "metadata": {},
   "source": [
    "## 1.4. `Carseats` data with the `tree` package (from ISLR, lab 8.3, pag. 329)\n",
    "\n",
    "[Code from the ISLR book](http://faculty.marshall.usc.edu/gareth-james/ISL/Chapter%208%20Lab.txt)"
   ]
  },
  {
   "cell_type": "markdown",
   "metadata": {},
   "source": [
    "### Sales of Child Car Seats\n",
    "\n",
    "#### Description\n",
    "\n",
    "A simulated data set containing sales of child car seats at 400 different stores.\n",
    "\n",
    "#### Format\n",
    "\n",
    "A data frame with 400 observations on the following 11 variables.\n",
    "\n",
    "01. `Sales`: Unit sales (in thousands) at each location\n",
    "\n",
    "02. `CompPrice`: Price charged by competitor at each location\n",
    "\n",
    "03. `Income`: Community income level (in thousands of dollars)\n",
    "\n",
    "04. `Advertising`: Local advertising budget for company at each location (in thousands of dollars)\n",
    "\n",
    "05. `Population`: Population size in region (in thousands)\n",
    "\n",
    "06. `Price`: Price company charges for car seats at each site\n",
    "\n",
    "07. `ShelveLoc`: A factor with levels \"Bad\", \"Good\" and \"Medium\" indicating the quality of the shelving location for the car seats at each site\n",
    "\n",
    "08. `Age`: Average age of the local population\n",
    "\n",
    "09. `Education`: Education level at each location\n",
    "\n",
    "10. `Urban`: A factor with levels \"No\" and \"Yes\" to indicate whether the store is in an urban or rural location\n",
    "\n",
    "11. `US`: A factor with levels \"No\" and \"Yes\" to indicate whether the store is in the US or not\n",
    "\n",
    "#### Source\n",
    "\n",
    "Simulated data\n",
    "\n",
    "#### References\n",
    "\n",
    "James, G., Witten, D., Hastie, T., and Tibshirani, R. (2013) [An Introduction to Statistical Learning with applications in R](www.StatLearning.com), Springer-Verlag, New York"
   ]
  },
  {
   "cell_type": "code",
   "execution_count": 20,
   "metadata": {
    "collapsed": false
   },
   "outputs": [
    {
     "name": "stderr",
     "output_type": "stream",
     "text": [
      "Loading required package: ISLR\n"
     ]
    },
    {
     "name": "stdout",
     "output_type": "stream",
     "text": [
      "'data.frame':\t400 obs. of  11 variables:\n",
      " $ Sales      : num  9.5 11.22 10.06 7.4 4.15 ...\n",
      " $ CompPrice  : num  138 111 113 117 141 124 115 136 132 132 ...\n",
      " $ Income     : num  73 48 35 100 64 113 105 81 110 113 ...\n",
      " $ Advertising: num  11 16 10 4 3 13 0 15 0 0 ...\n",
      " $ Population : num  276 260 269 466 340 501 45 425 108 131 ...\n",
      " $ Price      : num  120 83 80 97 128 72 108 120 124 124 ...\n",
      " $ ShelveLoc  : Factor w/ 3 levels \"Bad\",\"Good\",\"Medium\": 1 2 3 3 1 1 3 2 3 3 ...\n",
      " $ Age        : num  42 65 59 55 38 78 71 67 76 76 ...\n",
      " $ Education  : num  17 10 12 14 13 16 15 10 10 17 ...\n",
      " $ Urban      : Factor w/ 2 levels \"No\",\"Yes\": 2 2 2 2 2 1 2 2 1 1 ...\n",
      " $ US         : Factor w/ 2 levels \"No\",\"Yes\": 2 2 2 2 1 2 1 2 1 2 ...\n"
     ]
    }
   ],
   "source": [
    "#install.packages(\"ISLR\",dependencies=TRUE,repos=\"https://cloud.r-project.org\")\n",
    "require(ISLR)\n",
    "data(Carseats)\n",
    "str(Carseats)"
   ]
  },
  {
   "cell_type": "code",
   "execution_count": 21,
   "metadata": {
    "collapsed": false
   },
   "outputs": [
    {
     "data": {
      "text/plain": [
       "   Min. 1st Qu.  Median    Mean 3rd Qu.    Max. \n",
       "  0.000   5.390   7.490   7.496   9.320  16.270 "
      ]
     },
     "metadata": {},
     "output_type": "display_data"
    }
   ],
   "source": [
    "summary(Carseats$Sales)"
   ]
  },
  {
   "cell_type": "markdown",
   "metadata": {},
   "source": [
    "Discretize `Sales` into a factor, `High`, with two levels. Truncation value is slightly greater than the median, hence more than half of data are in the \"No\" class."
   ]
  },
  {
   "cell_type": "code",
   "execution_count": 22,
   "metadata": {
    "collapsed": false
   },
   "outputs": [
    {
     "data": {
      "text/plain": [
       "High\n",
       " No Yes \n",
       "236 164 "
      ]
     },
     "metadata": {},
     "output_type": "display_data"
    }
   ],
   "source": [
    "High<-ifelse(Carseats$Sales<=8,\"No\",\"Yes\")\n",
    "table(High)"
   ]
  },
  {
   "cell_type": "markdown",
   "metadata": {},
   "source": [
    "Append the new variable to the `data.frame` (avoid using the original `Sales` variable as a predictor!)."
   ]
  },
  {
   "cell_type": "code",
   "execution_count": 23,
   "metadata": {
    "collapsed": false
   },
   "outputs": [
    {
     "name": "stdout",
     "output_type": "stream",
     "text": [
      "'data.frame':\t400 obs. of  11 variables:\n",
      " $ CompPrice  : num  138 111 113 117 141 124 115 136 132 132 ...\n",
      " $ Income     : num  73 48 35 100 64 113 105 81 110 113 ...\n",
      " $ Advertising: num  11 16 10 4 3 13 0 15 0 0 ...\n",
      " $ Population : num  276 260 269 466 340 501 45 425 108 131 ...\n",
      " $ Price      : num  120 83 80 97 128 72 108 120 124 124 ...\n",
      " $ ShelveLoc  : Factor w/ 3 levels \"Bad\",\"Good\",\"Medium\": 1 2 3 3 1 1 3 2 3 3 ...\n",
      " $ Age        : num  42 65 59 55 38 78 71 67 76 76 ...\n",
      " $ Education  : num  17 10 12 14 13 16 15 10 10 17 ...\n",
      " $ Urban      : Factor w/ 2 levels \"No\",\"Yes\": 2 2 2 2 2 1 2 2 1 1 ...\n",
      " $ US         : Factor w/ 2 levels \"No\",\"Yes\": 2 2 2 2 1 2 1 2 1 2 ...\n",
      " $ High       : Factor w/ 2 levels \"No\",\"Yes\": 2 2 2 1 1 2 1 2 1 1 ...\n"
     ]
    }
   ],
   "source": [
    "Carseats.D<-data.frame(Carseats[,-1],High)\n",
    "str(Carseats.D)"
   ]
  },
  {
   "cell_type": "code",
   "execution_count": 24,
   "metadata": {
    "collapsed": false
   },
   "outputs": [
    {
     "name": "stderr",
     "output_type": "stream",
     "text": [
      "Loading required package: tree\n"
     ]
    }
   ],
   "source": [
    "#install.packages(\"tree\",dependencies=TRUE,repos=\"https://cloud.r-project.org\")\n",
    "require(tree)"
   ]
  },
  {
   "cell_type": "code",
   "execution_count": 25,
   "metadata": {
    "collapsed": true
   },
   "outputs": [],
   "source": [
    "# attach(Carseats) (not necessary to attach())\n",
    "# Classification. Response is the new binary variable 'High' \n",
    "# \n",
    "Carseats.D.tree<-tree(High~.,Carseats.D)\n",
    "# Alternative method, as in the book.\n",
    "# If we did not remove 'Sales' from the dataset then we must discard it explicitly from the set of predictors.\n",
    "#Carseats.D.tree<-tree(High~.-Sales,Carseats.D)"
   ]
  },
  {
   "cell_type": "markdown",
   "metadata": {},
   "source": [
    "The `print()` method for the `tree` class generates a verbose description of nodes and splitting criteria."
   ]
  },
  {
   "cell_type": "code",
   "execution_count": 26,
   "metadata": {
    "collapsed": false
   },
   "outputs": [
    {
     "name": "stdout",
     "output_type": "stream",
     "text": [
      "node), split, n, deviance, yval, (yprob)\n",
      "      * denotes terminal node\n",
      "\n",
      "  1) root 400 541.500 No ( 0.59000 0.41000 )  \n",
      "    2) ShelveLoc: Bad,Medium 315 390.600 No ( 0.68889 0.31111 )  \n",
      "      4) Price < 92.5 46  56.530 Yes ( 0.30435 0.69565 )  \n",
      "        8) Income < 57 10  12.220 No ( 0.70000 0.30000 )  \n",
      "         16) CompPrice < 110.5 5   0.000 No ( 1.00000 0.00000 ) *\n",
      "         17) CompPrice > 110.5 5   6.730 Yes ( 0.40000 0.60000 ) *\n",
      "        9) Income > 57 36  35.470 Yes ( 0.19444 0.80556 )  \n",
      "         18) Population < 207.5 16  21.170 Yes ( 0.37500 0.62500 ) *\n",
      "         19) Population > 207.5 20   7.941 Yes ( 0.05000 0.95000 ) *\n",
      "      5) Price > 92.5 269 299.800 No ( 0.75465 0.24535 )  \n",
      "       10) Advertising < 13.5 224 213.200 No ( 0.81696 0.18304 )  \n",
      "         20) CompPrice < 124.5 96  44.890 No ( 0.93750 0.06250 )  \n",
      "           40) Price < 106.5 38  33.150 No ( 0.84211 0.15789 )  \n",
      "             80) Population < 177 12  16.300 No ( 0.58333 0.41667 )  \n",
      "              160) Income < 60.5 6   0.000 No ( 1.00000 0.00000 ) *\n",
      "              161) Income > 60.5 6   5.407 Yes ( 0.16667 0.83333 ) *\n",
      "             81) Population > 177 26   8.477 No ( 0.96154 0.03846 ) *\n",
      "           41) Price > 106.5 58   0.000 No ( 1.00000 0.00000 ) *\n",
      "         21) CompPrice > 124.5 128 150.200 No ( 0.72656 0.27344 )  \n",
      "           42) Price < 122.5 51  70.680 Yes ( 0.49020 0.50980 )  \n",
      "             84) ShelveLoc: Bad 11   6.702 No ( 0.90909 0.09091 ) *\n",
      "             85) ShelveLoc: Medium 40  52.930 Yes ( 0.37500 0.62500 )  \n",
      "              170) Price < 109.5 16   7.481 Yes ( 0.06250 0.93750 ) *\n",
      "              171) Price > 109.5 24  32.600 No ( 0.58333 0.41667 )  \n",
      "                342) Age < 49.5 13  16.050 Yes ( 0.30769 0.69231 ) *\n",
      "                343) Age > 49.5 11   6.702 No ( 0.90909 0.09091 ) *\n",
      "           43) Price > 122.5 77  55.540 No ( 0.88312 0.11688 )  \n",
      "             86) CompPrice < 147.5 58  17.400 No ( 0.96552 0.03448 ) *\n",
      "             87) CompPrice > 147.5 19  25.010 No ( 0.63158 0.36842 )  \n",
      "              174) Price < 147 12  16.300 Yes ( 0.41667 0.58333 )  \n",
      "                348) CompPrice < 152.5 7   5.742 Yes ( 0.14286 0.85714 ) *\n",
      "                349) CompPrice > 152.5 5   5.004 No ( 0.80000 0.20000 ) *\n",
      "              175) Price > 147 7   0.000 No ( 1.00000 0.00000 ) *\n",
      "       11) Advertising > 13.5 45  61.830 Yes ( 0.44444 0.55556 )  \n",
      "         22) Age < 54.5 25  25.020 Yes ( 0.20000 0.80000 )  \n",
      "           44) CompPrice < 130.5 14  18.250 Yes ( 0.35714 0.64286 )  \n",
      "             88) Income < 100 9  12.370 No ( 0.55556 0.44444 ) *\n",
      "             89) Income > 100 5   0.000 Yes ( 0.00000 1.00000 ) *\n",
      "           45) CompPrice > 130.5 11   0.000 Yes ( 0.00000 1.00000 ) *\n",
      "         23) Age > 54.5 20  22.490 No ( 0.75000 0.25000 )  \n",
      "           46) CompPrice < 122.5 10   0.000 No ( 1.00000 0.00000 ) *\n",
      "           47) CompPrice > 122.5 10  13.860 No ( 0.50000 0.50000 )  \n",
      "             94) Price < 125 5   0.000 Yes ( 0.00000 1.00000 ) *\n",
      "             95) Price > 125 5   0.000 No ( 1.00000 0.00000 ) *\n",
      "    3) ShelveLoc: Good 85  90.330 Yes ( 0.22353 0.77647 )  \n",
      "      6) Price < 135 68  49.260 Yes ( 0.11765 0.88235 )  \n",
      "       12) US: No 17  22.070 Yes ( 0.35294 0.64706 )  \n",
      "         24) Price < 109 8   0.000 Yes ( 0.00000 1.00000 ) *\n",
      "         25) Price > 109 9  11.460 No ( 0.66667 0.33333 ) *\n",
      "       13) US: Yes 51  16.880 Yes ( 0.03922 0.96078 ) *\n",
      "      7) Price > 135 17  22.070 No ( 0.64706 0.35294 )  \n",
      "       14) Income < 46 6   0.000 No ( 1.00000 0.00000 ) *\n",
      "       15) Income > 46 11  15.160 Yes ( 0.45455 0.54545 ) *\n"
     ]
    }
   ],
   "source": [
    "print(Carseats.D.tree)"
   ]
  },
  {
   "cell_type": "markdown",
   "metadata": {},
   "source": [
    "The `summary()` method just a short description."
   ]
  },
  {
   "cell_type": "code",
   "execution_count": 27,
   "metadata": {
    "collapsed": false
   },
   "outputs": [
    {
     "data": {
      "text/plain": [
       "\n",
       "Classification tree:\n",
       "tree(formula = High ~ ., data = Carseats.D)\n",
       "Variables actually used in tree construction:\n",
       "[1] \"ShelveLoc\"   \"Price\"       \"Income\"      \"CompPrice\"   \"Population\" \n",
       "[6] \"Advertising\" \"Age\"         \"US\"         \n",
       "Number of terminal nodes:  27 \n",
       "Residual mean deviance:  0.4575 = 170.7 / 373 \n",
       "Misclassification error rate: 0.09 = 36 / 400 "
      ]
     },
     "metadata": {},
     "output_type": "display_data"
    }
   ],
   "source": [
    "summary(Carseats.D.tree)"
   ]
  },
  {
   "cell_type": "markdown",
   "metadata": {},
   "source": [
    "The default `plot()` method. Actually it calls `plot.tree()`"
   ]
  },
  {
   "cell_type": "code",
   "execution_count": 28,
   "metadata": {
    "collapsed": false
   },
   "outputs": [
    {
     "data": {
      "image/png": "[encoded data removed]",
      "text/plain": [
       "plot without title"
      ]
     },
     "metadata": {},
     "output_type": "display_data"
    }
   ],
   "source": [
    "options(repr.plot.width=6.5,repr.plot.height=6.5)\n",
    "plot(Carseats.D.tree)\n",
    "text(Carseats.D.tree,pretty=0,cex=0.5,col=\"blue\")"
   ]
  },
  {
   "cell_type": "markdown",
   "metadata": {},
   "source": [
    "See the `proportional` key word in the help for `plot.tree()`."
   ]
  },
  {
   "cell_type": "code",
   "execution_count": 29,
   "metadata": {
    "collapsed": false
   },
   "outputs": [
    {
     "data": {
      "image/png": "[encoded data removed]",
      "text/plain": [
       "plot without title"
      ]
     },
     "metadata": {},
     "output_type": "display_data"
    }
   ],
   "source": [
    "options(repr.plot.width=6.5,repr.plot.height=6.5)\n",
    "plot(Carseats.D.tree,type='proportional')\n",
    "text(Carseats.D.tree,pretty=0,cex=0.5,col=\"blue\")"
   ]
  },
  {
   "cell_type": "markdown",
   "metadata": {},
   "source": [
    "### Cross-validation to assess misclassification errors"
   ]
  },
  {
   "cell_type": "code",
   "execution_count": 30,
   "metadata": {
    "collapsed": true
   },
   "outputs": [],
   "source": [
    "# 'Hold-out' cross-validation \n",
    "set.seed(2)\n",
    "n<-nrow(Carseats.D)\n",
    "n.train<-floor(0.5*n)\n",
    "n.test<-n-n.train\n",
    "I.train<-sample(1:n, n.train)\n",
    "Carseats.D.test<-Carseats.D[-I.train,]\n",
    "High.test<-High[-I.train]"
   ]
  },
  {
   "cell_type": "markdown",
   "metadata": {},
   "source": [
    "Confusion matrix"
   ]
  },
  {
   "cell_type": "code",
   "execution_count": 31,
   "metadata": {
    "collapsed": false,
    "scrolled": true
   },
   "outputs": [
    {
     "data": {
      "text/plain": [
       "               High.test\n",
       "Carseats.D.pred  No Yes\n",
       "            No  104  33\n",
       "            Yes  13  50"
      ]
     },
     "metadata": {},
     "output_type": "display_data"
    },
    {
     "data": {
      "text/html": [
       "<span style=white-space:pre-wrap>'Misclassification error estimate =  0.23'</span>"
      ],
      "text/latex": [
       "'Misclassification error estimate =  0.23'"
      ],
      "text/markdown": [
       "<span style=white-space:pre-wrap>'Misclassification error estimate =  0.23'</span>"
      ],
      "text/plain": [
       "[1] \"Misclassification error estimate =  0.23\""
      ]
     },
     "metadata": {},
     "output_type": "display_data"
    }
   ],
   "source": [
    "#Carseats.D.tree=tree(High~.-Sales,Carseats.D,subset=I.train)\n",
    "Carseats.D.tree=tree(High~.,Carseats.D,subset=I.train)\n",
    "Carseats.D.pred=predict(Carseats.D.tree,Carseats.D.test,type=\"class\")\n",
    "Carseats.D.conf<-table(Carseats.D.pred,High.test)\n",
    "Carseats.D.conf\n",
    "P.err<-(n.test-sum(diag(Carseats.D.conf)))/n.test\n",
    "paste(\"Misclassification error estimate = \", round(P.err,3))"
   ]
  },
  {
   "cell_type": "markdown",
   "metadata": {},
   "source": [
    "### Pruning to avoid overfitting"
   ]
  },
  {
   "cell_type": "markdown",
   "metadata": {},
   "source": [
    "#### Using the hardwired `cv.tree()` function to prune the obtained tree."
   ]
  },
  {
   "cell_type": "code",
   "execution_count": 32,
   "metadata": {
    "collapsed": false
   },
   "outputs": [
    {
     "data": {
      "text/html": [
       "<ol class=list-inline>\n",
       "\t<li>'size'</li>\n",
       "\t<li>'dev'</li>\n",
       "\t<li>'k'</li>\n",
       "\t<li>'method'</li>\n",
       "</ol>\n"
      ],
      "text/latex": [
       "\\begin{enumerate*}\n",
       "\\item 'size'\n",
       "\\item 'dev'\n",
       "\\item 'k'\n",
       "\\item 'method'\n",
       "\\end{enumerate*}\n"
      ],
      "text/markdown": [
       "1. 'size'\n",
       "2. 'dev'\n",
       "3. 'k'\n",
       "4. 'method'\n",
       "\n",
       "\n"
      ],
      "text/plain": [
       "[1] \"size\"   \"dev\"    \"k\"      \"method\""
      ]
     },
     "metadata": {},
     "output_type": "display_data"
    },
    {
     "data": {
      "text/plain": [
       "$size\n",
       "[1] 21 19 14  9  8  5  3  2  1\n",
       "\n",
       "$dev\n",
       "[1] 74 76 81 81 75 77 78 85 81\n",
       "\n",
       "$k\n",
       "[1] -Inf  0.0  1.0  1.4  2.0  3.0  4.0  9.0 18.0\n",
       "\n",
       "$method\n",
       "[1] \"misclass\"\n",
       "\n",
       "attr(,\"class\")\n",
       "[1] \"prune\"         \"tree.sequence\""
      ]
     },
     "metadata": {},
     "output_type": "display_data"
    }
   ],
   "source": [
    "set.seed(3)\n",
    "Carseats.D.tree.CV=cv.tree(Carseats.D.tree,FUN=prune.misclass)\n",
    "names(Carseats.D.tree.CV)\n",
    "Carseats.D.tree.CV"
   ]
  },
  {
   "cell_type": "code",
   "execution_count": 33,
   "metadata": {
    "collapsed": false
   },
   "outputs": [
    {
     "data": {
      "image/png": "[encoded data removed]",
      "text/plain": [
       "plot without title"
      ]
     },
     "metadata": {},
     "output_type": "display_data"
    },
    {
     "data": {
      "image/png": "[encoded data removed]",
      "text/plain": [
       "plot without title"
      ]
     },
     "metadata": {},
     "output_type": "display_data"
    }
   ],
   "source": [
    "par(mfrow=c(1,2))\n",
    "plot(Carseats.D.tree.CV$size,Carseats.D.tree.CV$dev,type=\"b\")\n",
    "plot(Carseats.D.tree.CV$k,Carseats.D.tree.CV$dev,type=\"b\")\n",
    "prune.carseats=prune.misclass(Carseats.D.tree,best=9)\n",
    "plot(prune.carseats)\n",
    "text(prune.carseats,pretty=0)"
   ]
  },
  {
   "cell_type": "code",
   "execution_count": 34,
   "metadata": {
    "collapsed": false
   },
   "outputs": [
    {
     "data": {
      "text/plain": [
       "               High.test\n",
       "Carseats.D.pred No Yes\n",
       "            No  97  25\n",
       "            Yes 20  58"
      ]
     },
     "metadata": {},
     "output_type": "display_data"
    }
   ],
   "source": [
    "Carseats.D.pred=predict(prune.carseats,Carseats.D.test,type=\"class\")\n",
    "table(Carseats.D.pred,High.test)\n",
    "#(94+60)/200"
   ]
  },
  {
   "cell_type": "code",
   "execution_count": 35,
   "metadata": {
    "collapsed": false
   },
   "outputs": [
    {
     "data": {
      "image/png": "[encoded data removed]",
      "text/plain": [
       "plot without title"
      ]
     },
     "metadata": {},
     "output_type": "display_data"
    }
   ],
   "source": [
    "prune.carseats=prune.misclass(Carseats.D.tree,best=15)\n",
    "plot(prune.carseats)\n",
    "text(prune.carseats,pretty=0)"
   ]
  },
  {
   "cell_type": "code",
   "execution_count": 36,
   "metadata": {
    "collapsed": false
   },
   "outputs": [
    {
     "data": {
      "text/plain": [
       "               High.test\n",
       "Carseats.D.pred  No Yes\n",
       "            No  102  30\n",
       "            Yes  15  53"
      ]
     },
     "metadata": {},
     "output_type": "display_data"
    }
   ],
   "source": [
    "Carseats.D.pred=predict(prune.carseats,Carseats.D.test,type=\"class\")\n",
    "table(Carseats.D.pred,High.test)\n",
    "#(86+62)/200"
   ]
  },
  {
   "cell_type": "code",
   "execution_count": null,
   "metadata": {
    "collapsed": true
   },
   "outputs": [],
   "source": []
  },
  {
   "cell_type": "markdown",
   "metadata": {},
   "source": [
    "# 2. Regression with CART"
   ]
  },
  {
   "cell_type": "markdown",
   "metadata": {},
   "source": [
    "## 2.0. Visualizing regression trees"
   ]
  },
  {
   "cell_type": "markdown",
   "metadata": {},
   "source": [
    "Observe that in regression problems prediction functions are locally constant functions (step functions)."
   ]
  },
  {
   "cell_type": "markdown",
   "metadata": {},
   "source": [
    "### Regression with a single continuous predictor"
   ]
  },
  {
   "cell_type": "code",
   "execution_count": 1,
   "metadata": {
    "collapsed": false,
    "scrolled": true
   },
   "outputs": [
    {
     "name": "stderr",
     "output_type": "stream",
     "text": [
      "Loading required package: rpart\n"
     ]
    }
   ],
   "source": [
    "#install.packages(\"rpart\",dependencies=TRUE,repos=\"https://cloud.r-project.org\")\n",
    "require(rpart)"
   ]
  },
  {
   "cell_type": "markdown",
   "metadata": {},
   "source": [
    "### Training set: a collection of  $(x,y)$ pairs of values, coordinates of points on a parabola"
   ]
  },
  {
   "cell_type": "code",
   "execution_count": 2,
   "metadata": {
    "collapsed": false
   },
   "outputs": [
    {
     "data": {
      "image/png": "[encoded data removed]",
      "text/plain": [
       "plot without title"
      ]
     },
     "metadata": {},
     "output_type": "display_data"
    }
   ],
   "source": [
    "x<-seq(-3,3,by=0.1)\n",
    "n<-length(x)\n",
    "y<-x^2\n",
    "options(repr.plot.width=4,repr.plot.height=4)\n",
    "old.par<-par(cex.axis=0.6,cex.lab=0.7)\n",
    "plot(x,y, \"l\",lwd=2,col=\"blue\")\n",
    "par(old.par)"
   ]
  },
  {
   "cell_type": "markdown",
   "metadata": {},
   "source": [
    "### Build and show the tree"
   ]
  },
  {
   "cell_type": "code",
   "execution_count": 39,
   "metadata": {
    "collapsed": false
   },
   "outputs": [
    {
     "data": {
      "image/png": "[encoded data removed]",
      "text/plain": [
       "plot without title"
      ]
     },
     "metadata": {},
     "output_type": "display_data"
    }
   ],
   "source": [
    "r<-rpart(y~x)\n",
    "options(repr.plot.width=4,repr.plot.height=4)\n",
    "plot(r,branch=0.5)\n",
    "text(r,use.n=TRUE,xpd=2,cex=0.6, col=\"blue\")"
   ]
  },
  {
   "cell_type": "markdown",
   "metadata": {},
   "source": [
    "### Stepwise prediction function superimposed to training set"
   ]
  },
  {
   "cell_type": "code",
   "execution_count": 40,
   "metadata": {
    "collapsed": false
   },
   "outputs": [
    {
     "data": {
      "image/png": "[encoded data removed]",
      "text/plain": [
       "plot without title"
      ]
     },
     "metadata": {},
     "output_type": "display_data"
    }
   ],
   "source": [
    "yp<-predict(r,newdata=data.frame(x))\n",
    "options(repr.plot.width=4,repr.plot.height=4)\n",
    "old.par<-par(cex.axis=0.6,cex.lab=0.7)\n",
    "plot(x,y, \"l\",lwd=2,col=\"blue\")\n",
    "lines(x,yp,lwd=2,col=\"red\")\n",
    "par(old.par)"
   ]
  },
  {
   "cell_type": "markdown",
   "metadata": {},
   "source": [
    "### Regression with two continuous numerical predictors"
   ]
  },
  {
   "cell_type": "code",
   "execution_count": 3,
   "metadata": {
    "collapsed": false
   },
   "outputs": [
    {
     "name": "stderr",
     "output_type": "stream",
     "text": [
      "Loading required package: tcltk\n",
      "Loading required package: tkrgl\n",
      "Warning message in library(package, lib.loc = lib.loc, character.only = TRUE, logical.return = TRUE, :\n",
      "“there is no package called ‘tkrgl’”Loading required package: tkrplot\n",
      "Warning message in library(package, lib.loc = lib.loc, character.only = TRUE, logical.return = TRUE, :\n",
      "“there is no package called ‘tkrplot’”Loading required package: TeachingDemos\n",
      "Warning message in library(package, lib.loc = lib.loc, character.only = TRUE, logical.return = TRUE, :\n",
      "“there is no package called ‘TeachingDemos’”"
     ]
    }
   ],
   "source": [
    "## Run this code chunk directly in RStudio. Dynamical graphics do not work well within a Jupyter notebook\n",
    "#install.packages(\"tcltk\",dependencies=TRUE,repos=\"https://cloud.r-project.org\")\n",
    "#install.packages(\"tkrgl\",dependencies=TRUE,repos=\"https://cloud.r-project.org\")\n",
    "#install.packages(\"tkrplot\",dependencies=TRUE,repos=\"https://cloud.r-project.org\")\n",
    "#install.packages(\"TeachingDemos\",dependencies=TRUE,repos=\"https://cloud.r-project.org\")\n",
    "require(tcltk)\n",
    "require(tkrgl)\n",
    "require(tkrplot)\n",
    "require(TeachingDemos)"
   ]
  },
  {
   "cell_type": "markdown",
   "metadata": {},
   "source": [
    "### A training set, a collection of pairs (2-dim predictor: `(x,y)`, response: `fxy.m`)"
   ]
  },
  {
   "cell_type": "code",
   "execution_count": 4,
   "metadata": {
    "collapsed": true
   },
   "outputs": [],
   "source": [
    "xy<-expand.grid(x,x)\n",
    "fxy.v<-(1/2*pi)*exp(-0.5*(xy[,1]^2+xy[,2]^2))\n",
    "fxy.m<-matrix(fxy.v,nrow=length(x))"
   ]
  },
  {
   "cell_type": "code",
   "execution_count": 46,
   "metadata": {
    "collapsed": true
   },
   "outputs": [],
   "source": [
    "## Run this code chunk directly in RStudio. Dynamical graphics do not work well within a Jupyter notebook\n",
    "#rotate.persp(x,x,fxy.m)\n",
    "#z<-fxy.v"
   ]
  },
  {
   "cell_type": "markdown",
   "metadata": {},
   "source": [
    "### Build and show the tree"
   ]
  },
  {
   "cell_type": "code",
   "execution_count": 47,
   "metadata": {
    "collapsed": false
   },
   "outputs": [
    {
     "data": {
      "image/png": "[encoded data removed]",
      "text/plain": [
       "plot without title"
      ]
     },
     "metadata": {},
     "output_type": "display_data"
    }
   ],
   "source": [
    "xy.rpart<-rpart(fxy.v~xy[,1]+xy[,2])\n",
    "options(repr.plot.width=5,repr.plot.height=5)\n",
    "plot(xy.rpart)\n",
    "text(xy.rpart,use.n=TRUE,xpd=2,cex=0.5)"
   ]
  },
  {
   "cell_type": "markdown",
   "metadata": {},
   "source": [
    "### Show the prediction function"
   ]
  },
  {
   "cell_type": "code",
   "execution_count": 48,
   "metadata": {
    "collapsed": true
   },
   "outputs": [],
   "source": [
    "## Run this code chunk directly in RStudio. Dynamical graphics do not work well within a Jupyter notebook\n",
    "#xy.pred<-predict(xy.rpart,newdata=data.frame(xy))\n",
    "#xy.pred.m<-matrix(xy.pred,nrow=length(x))\n",
    "#rotate.persp(x,y,xy.pred.m)"
   ]
  },
  {
   "cell_type": "markdown",
   "metadata": {},
   "source": [
    "## 2.1.  `Boston` data (from `MASS`)  with the `tree` package (from ISLR, lab 8.3.2, pag. 332)\n",
    "\n",
    "[Code from the ISLR book](http://faculty.marshall.usc.edu/gareth-james/ISL/Chapter%208%20Lab.txt)"
   ]
  },
  {
   "cell_type": "markdown",
   "metadata": {},
   "source": [
    "## Housing Values in Suburbs of Boston\n",
    "\n",
    "### Description\n",
    "\n",
    "The Boston data frame has 506 rows and 14 columns.\n",
    "\n",
    "### Format\n",
    "\n",
    "The Boston data frame has 506 rows and 14 columns (predictors). We have descriptions and summaries of predictors as follows:\n",
    "\n",
    "01. `crim`: per capita crime rate by town.\n",
    "\n",
    "02. `zn`: proportion of residential land zoned for lots over 25,000 sq.ft.\n",
    "\n",
    "03. `indus`: proportion of non-retail business acres per town.\n",
    "\n",
    "04. `chas`: Charles River dummy variable (= 1 if tract bounds river; 0 otherwise).\n",
    "\n",
    "05. `nox`: nitrogen oxides concentration (parts per 10 million).\n",
    "\n",
    "06. `rm`: average number of rooms per dwelling.\n",
    "\n",
    "07. `age`: proportion of owner-occupied units built prior to 1940.\n",
    "\n",
    "08. `dis`: weighted mean of distances to five Boston employment centres.\n",
    "\n",
    "09. `rad`: index of accessibility to radial highways.\n",
    "\n",
    "10. `tax`: full-value property-tax rate per $10,000.\n",
    "\n",
    "11. `ptratio`: pupil-teacher ratio by town.\n",
    "\n",
    "12. `black`: 1000(Bk - 0.63)^2 where Bk is the proportion of blacks by town.\n",
    "\n",
    "13. `lstat`: lower status of the population (percent).\n",
    "\n",
    "14. `medv`: median value of owner-occupied homes in $1000s."
   ]
  },
  {
   "cell_type": "code",
   "execution_count": 49,
   "metadata": {
    "collapsed": false
   },
   "outputs": [
    {
     "name": "stdout",
     "output_type": "stream",
     "text": [
      "'data.frame':\t506 obs. of  14 variables:\n",
      " $ crim   : num  0.00632 0.02731 0.02729 0.03237 0.06905 ...\n",
      " $ zn     : num  18 0 0 0 0 0 12.5 12.5 12.5 12.5 ...\n",
      " $ indus  : num  2.31 7.07 7.07 2.18 2.18 2.18 7.87 7.87 7.87 7.87 ...\n",
      " $ chas   : int  0 0 0 0 0 0 0 0 0 0 ...\n",
      " $ nox    : num  0.538 0.469 0.469 0.458 0.458 0.458 0.524 0.524 0.524 0.524 ...\n",
      " $ rm     : num  6.58 6.42 7.18 7 7.15 ...\n",
      " $ age    : num  65.2 78.9 61.1 45.8 54.2 58.7 66.6 96.1 100 85.9 ...\n",
      " $ dis    : num  4.09 4.97 4.97 6.06 6.06 ...\n",
      " $ rad    : int  1 2 2 3 3 3 5 5 5 5 ...\n",
      " $ tax    : num  296 242 242 222 222 222 311 311 311 311 ...\n",
      " $ ptratio: num  15.3 17.8 17.8 18.7 18.7 18.7 15.2 15.2 15.2 15.2 ...\n",
      " $ black  : num  397 397 393 395 397 ...\n",
      " $ lstat  : num  4.98 9.14 4.03 2.94 5.33 ...\n",
      " $ medv   : num  24 21.6 34.7 33.4 36.2 28.7 22.9 27.1 16.5 18.9 ...\n"
     ]
    }
   ],
   "source": [
    "require(MASS)\n",
    "data(Boston)\n",
    "str(Boston)"
   ]
  },
  {
   "cell_type": "code",
   "execution_count": 50,
   "metadata": {
    "collapsed": true
   },
   "outputs": [],
   "source": [
    "set.seed(1)\n",
    "train = sample(1:nrow(Boston), nrow(Boston)/2)"
   ]
  },
  {
   "cell_type": "code",
   "execution_count": 51,
   "metadata": {
    "collapsed": false
   },
   "outputs": [
    {
     "data": {
      "text/plain": [
       "\n",
       "Regression tree:\n",
       "tree(formula = medv ~ ., data = Boston, subset = train)\n",
       "Variables actually used in tree construction:\n",
       "[1] \"rm\"    \"lstat\" \"crim\"  \"age\"  \n",
       "Number of terminal nodes:  7 \n",
       "Residual mean deviance:  10.38 = 2555 / 246 \n",
       "Distribution of residuals:\n",
       "    Min.  1st Qu.   Median     Mean  3rd Qu.     Max. \n",
       "-10.1800  -1.7770  -0.1775   0.0000   1.9230  16.5800 "
      ]
     },
     "metadata": {},
     "output_type": "display_data"
    }
   ],
   "source": [
    "tree.boston=tree(medv~.,Boston,subset=train)\n",
    "summary(tree.boston)"
   ]
  },
  {
   "cell_type": "code",
   "execution_count": 52,
   "metadata": {
    "collapsed": false
   },
   "outputs": [
    {
     "data": {
      "image/png": "[encoded data removed]",
      "text/plain": [
       "plot without title"
      ]
     },
     "metadata": {},
     "output_type": "display_data"
    }
   ],
   "source": [
    "options(repr.plot.width=5,repr.plot.height=5)\n",
    "plot(tree.boston)\n",
    "text(tree.boston,pretty=0)"
   ]
  },
  {
   "cell_type": "code",
   "execution_count": 53,
   "metadata": {
    "collapsed": true
   },
   "outputs": [],
   "source": [
    "cv.boston=cv.tree(tree.boston)"
   ]
  },
  {
   "cell_type": "code",
   "execution_count": 54,
   "metadata": {
    "collapsed": false
   },
   "outputs": [
    {
     "data": {
      "image/png": "[encoded data removed]",
      "text/plain": [
       "plot without title"
      ]
     },
     "metadata": {},
     "output_type": "display_data"
    }
   ],
   "source": [
    "plot(cv.boston$size,cv.boston$dev,type='b')"
   ]
  },
  {
   "cell_type": "markdown",
   "metadata": {},
   "source": [
    "### Pruning to avoid overfitting"
   ]
  },
  {
   "cell_type": "code",
   "execution_count": 55,
   "metadata": {
    "collapsed": true
   },
   "outputs": [],
   "source": [
    "prune.boston=prune.tree(tree.boston,best=5)"
   ]
  },
  {
   "cell_type": "code",
   "execution_count": 56,
   "metadata": {
    "collapsed": false
   },
   "outputs": [
    {
     "data": {
      "image/png": "[encoded data removed]",
      "text/plain": [
       "plot without title"
      ]
     },
     "metadata": {},
     "output_type": "display_data"
    }
   ],
   "source": [
    "plot(prune.boston)\n",
    "text(prune.boston,pretty=0)\n",
    "yhat=predict(tree.boston,newdata=Boston[-train,])"
   ]
  },
  {
   "cell_type": "code",
   "execution_count": 57,
   "metadata": {
    "collapsed": false
   },
   "outputs": [
    {
     "data": {
      "image/png": "[encoded data removed]",
      "text/plain": [
       "plot without title"
      ]
     },
     "metadata": {},
     "output_type": "display_data"
    }
   ],
   "source": [
    "boston.test=Boston[-train,\"medv\"]\n",
    "plot(yhat,boston.test)\n",
    "abline(0,1)"
   ]
  },
  {
   "cell_type": "code",
   "execution_count": 58,
   "metadata": {
    "collapsed": false
   },
   "outputs": [
    {
     "data": {
      "text/html": [
       "35.2868818594623"
      ],
      "text/latex": [
       "35.2868818594623"
      ],
      "text/markdown": [
       "35.2868818594623"
      ],
      "text/plain": [
       "[1] 35.28688"
      ]
     },
     "metadata": {},
     "output_type": "display_data"
    }
   ],
   "source": [
    "mean((yhat-boston.test)^2)"
   ]
  },
  {
   "cell_type": "markdown",
   "metadata": {},
   "source": [
    "## 2.2. `cpus` data (from `MASS`)"
   ]
  },
  {
   "cell_type": "markdown",
   "metadata": {},
   "source": [
    "## Performance of Computer CPUs\n",
    "\n",
    "### Description\n",
    "\n",
    "A relative performance measure and characteristics of 209 CPUs.\n",
    "\n",
    "### Format\n",
    "\n",
    "The components are:\n",
    "\n",
    "01. `name`: manufacturer and model.\n",
    "\n",
    "02. `syct`: cycle time in nanoseconds.\n",
    "\n",
    "03. `mmin`: minimum main memory in kilobytes.\n",
    "\n",
    "04. `mmax`: maximum main memory in kilobytes.\n",
    "\n",
    "05. `cach`: cache size in kilobytes.\n",
    "\n",
    "06. `chmin`: minimum number of channels.\n",
    "\n",
    "07. `chmax`: maximum number of channels.\n",
    "\n",
    "08. `perf`: published performance on a benchmark mix relative to an IBM 370/158-3.\n",
    "\n",
    "09. `estperf`: estimated performance (by Ein-Dor & Feldmesser).\n",
    "\n",
    "### Source\n",
    "\n",
    "P. Ein-Dor and J. Feldmesser (1987), _Attributes of the performance of central processing units: a relative performance prediction model._ Comm. ACM. 30, 308–317.\n",
    "\n",
    "### References\n",
    "\n",
    "Venables, W. N. and Ripley, B. D. (2002) Modern Applied Statistics with S. Fourth edition. Springer."
   ]
  },
  {
   "cell_type": "code",
   "execution_count": 59,
   "metadata": {
    "collapsed": false
   },
   "outputs": [
    {
     "name": "stdout",
     "output_type": "stream",
     "text": [
      "'data.frame':\t209 obs. of  9 variables:\n",
      " $ name   : Factor w/ 209 levels \"ADVISOR 32/60\",..: 1 3 2 4 5 6 8 9 10 7 ...\n",
      " $ syct   : int  125 29 29 29 29 26 23 23 23 23 ...\n",
      " $ mmin   : int  256 8000 8000 8000 8000 8000 16000 16000 16000 32000 ...\n",
      " $ mmax   : int  6000 32000 32000 32000 16000 32000 32000 32000 64000 64000 ...\n",
      " $ cach   : int  256 32 32 32 32 64 64 64 64 128 ...\n",
      " $ chmin  : int  16 8 8 8 8 8 16 16 16 32 ...\n",
      " $ chmax  : int  128 32 32 32 16 32 32 32 32 64 ...\n",
      " $ perf   : int  198 269 220 172 132 318 367 489 636 1144 ...\n",
      " $ estperf: int  199 253 253 253 132 290 381 381 749 1238 ...\n"
     ]
    }
   ],
   "source": [
    "require(MASS)\n",
    "data(cpus)\n",
    "str(cpus)"
   ]
  },
  {
   "cell_type": "markdown",
   "metadata": {},
   "source": [
    "Discard the first variable, the brand label. \n",
    "\n",
    "If desired this list of brand labels can be saved as an auxiliary vector, to be used in plots.\n",
    "\n",
    "We also discard the last (ninth) variable, an estimate of the response variable by the authors of the original paper.l:"
   ]
  },
  {
   "cell_type": "code",
   "execution_count": 60,
   "metadata": {
    "collapsed": false
   },
   "outputs": [
    {
     "name": "stdout",
     "output_type": "stream",
     "text": [
      "'data.frame':\t209 obs. of  7 variables:\n",
      " $ syct : int  125 29 29 29 29 26 23 23 23 23 ...\n",
      " $ mmin : int  256 8000 8000 8000 8000 8000 16000 16000 16000 32000 ...\n",
      " $ mmax : int  6000 32000 32000 32000 16000 32000 32000 32000 64000 64000 ...\n",
      " $ cach : int  256 32 32 32 32 64 64 64 64 128 ...\n",
      " $ chmin: int  16 8 8 8 8 8 16 16 16 32 ...\n",
      " $ chmax: int  128 32 32 32 16 32 32 32 32 64 ...\n",
      " $ perf : int  198 269 220 172 132 318 367 489 636 1144 ...\n"
     ]
    }
   ],
   "source": [
    "labels<-cpus[,1]\n",
    "cpus<-cpus[,2:8] \n",
    "rownames(cpus)<-as.character(labels)\n",
    "str(cpus)"
   ]
  },
  {
   "cell_type": "markdown",
   "metadata": {},
   "source": [
    "Prepare a new `data.frame` with the logarithmic transform of the response:"
   ]
  },
  {
   "cell_type": "code",
   "execution_count": 61,
   "metadata": {
    "collapsed": false
   },
   "outputs": [
    {
     "name": "stdout",
     "output_type": "stream",
     "text": [
      "'data.frame':\t209 obs. of  7 variables:\n",
      " $ syct   : int  125 29 29 29 29 26 23 23 23 23 ...\n",
      " $ mmin   : int  256 8000 8000 8000 8000 8000 16000 16000 16000 32000 ...\n",
      " $ mmax   : int  6000 32000 32000 32000 16000 32000 32000 32000 64000 64000 ...\n",
      " $ cach   : int  256 32 32 32 32 64 64 64 64 128 ...\n",
      " $ chmin  : int  16 8 8 8 8 8 16 16 16 32 ...\n",
      " $ chmax  : int  128 32 32 32 16 32 32 32 32 64 ...\n",
      " $ logperf: num  2.3 2.43 2.34 2.24 2.12 ...\n"
     ]
    }
   ],
   "source": [
    "logcpus<-cpus[,1:6]\n",
    "logcpus$logperf<-log10(cpus$perf)\n",
    "str(logcpus)"
   ]
  },
  {
   "cell_type": "code",
   "execution_count": 62,
   "metadata": {
    "collapsed": true,
    "scrolled": true
   },
   "outputs": [],
   "source": [
    "#install.packages(\"rpart\",dependencies=TRUE,repos=\"https://cloud.r-project.org\")\n",
    "require(rpart)"
   ]
  },
  {
   "cell_type": "code",
   "execution_count": 63,
   "metadata": {
    "collapsed": true
   },
   "outputs": [],
   "source": [
    "logcpus.rpart.01<-rpart(logperf~.,data=logcpus,cp=1.0e-3)"
   ]
  },
  {
   "cell_type": "code",
   "execution_count": 64,
   "metadata": {
    "collapsed": false
   },
   "outputs": [
    {
     "name": "stdout",
     "output_type": "stream",
     "text": [
      "n= 209 \n",
      "\n",
      "node), split, n, deviance, yval\n",
      "      * denotes terminal node\n",
      "\n",
      "  1) root 209 43.11554000 1.753333  \n",
      "    2) cach< 27 143 11.79085000 1.524647  \n",
      "      4) mmax< 6100 78  3.89374400 1.374824  \n",
      "        8) mmax< 1750 12  0.78425160 1.088732 *\n",
      "        9) mmax>=1750 66  1.94873300 1.426840  \n",
      "         18) mmax< 2500 17  0.56676380 1.325292 *\n",
      "         19) mmax>=2500 49  1.14584500 1.462071  \n",
      "           38) chmax< 4.5 14  0.35284960 1.354804 *\n",
      "           39) chmax>=4.5 35  0.56747110 1.504978  \n",
      "             78) syct< 110 9  0.07741772 1.414738 *\n",
      "             79) syct>=110 26  0.39139370 1.536215 *\n",
      "      5) mmax>=6100 65  4.04520300 1.704434  \n",
      "       10) syct>=360 7  0.12908090 1.279749 *\n",
      "       11) syct< 360 58  2.50124700 1.755690  \n",
      "         22) chmin< 5.5 46  1.22622900 1.698613  \n",
      "           44) cach< 0.5 11  0.20206270 1.530643 *\n",
      "           45) cach>=0.5 35  0.61627500 1.751403  \n",
      "             90) chmin>=1.5 15  0.26087250 1.690337 *\n",
      "             91) chmin< 1.5 20  0.25751430 1.797203  \n",
      "              182) mmax< 14000 13  0.08761793 1.756702 *\n",
      "              183) mmax>=14000 7  0.10896860 1.872420 *\n",
      "         23) chmin>=5.5 12  0.55071310 1.974483 *\n",
      "    3) cach>=27 66  7.64263500 2.248821  \n",
      "      6) mmax< 28000 41  2.34141700 2.061986  \n",
      "       12) cach< 96.5 34  1.59195100 2.008124  \n",
      "         24) mmax< 11240 14  0.42462370 1.826635 *\n",
      "         25) mmax>=11240 20  0.38340130 2.135166  \n",
      "           50) chmax< 14 10  0.07835528 2.037790 *\n",
      "           51) chmax>=14 10  0.11540350 2.232542 *\n",
      "       13) cach>=96.5 7  0.17173020 2.323601 *\n",
      "      7) mmax>=28000 25  1.52286300 2.555230  \n",
      "       14) cach< 56 7  0.06929430 2.268365 *\n",
      "       15) cach>=56 18  0.65351270 2.666788 *\n"
     ]
    }
   ],
   "source": [
    "print(logcpus.rpart.01)"
   ]
  },
  {
   "cell_type": "code",
   "execution_count": 65,
   "metadata": {
    "collapsed": false
   },
   "outputs": [
    {
     "data": {
      "image/png": "[encoded data removed]",
      "text/plain": [
       "plot without title"
      ]
     },
     "metadata": {},
     "output_type": "display_data"
    }
   ],
   "source": [
    "options(repr.plot.width=5,repr.plot.height=5)\n",
    "plot(logcpus.rpart.01,uniform=TRUE)\n",
    "text(logcpus.rpart.01,digits=3,cex=0.6)"
   ]
  },
  {
   "cell_type": "markdown",
   "metadata": {},
   "source": [
    "### Pruning to avoid overfitting"
   ]
  },
  {
   "cell_type": "markdown",
   "metadata": {},
   "source": [
    "#### Print values of the complexity parameter `cp`"
   ]
  },
  {
   "cell_type": "code",
   "execution_count": 66,
   "metadata": {
    "collapsed": false
   },
   "outputs": [
    {
     "name": "stdout",
     "output_type": "stream",
     "text": [
      "\n",
      "Regression tree:\n",
      "rpart(formula = logperf ~ ., data = logcpus, cp = 0.001)\n",
      "\n",
      "Variables actually used in tree construction:\n",
      "[1] cach  chmax chmin mmax  syct \n",
      "\n",
      "Root node error: 43.116/209 = 0.20629\n",
      "\n",
      "n= 209 \n",
      "\n",
      "          CP nsplit rel error  xerror     xstd\n",
      "1  0.5492697      0   1.00000 1.00876 0.097175\n",
      "2  0.0893390      1   0.45073 0.47045 0.047958\n",
      "3  0.0876332      2   0.36139 0.41098 0.041916\n",
      "4  0.0328159      3   0.27376 0.31317 0.031408\n",
      "5  0.0269220      4   0.24094 0.31708 0.031502\n",
      "6  0.0185561      5   0.21402 0.26620 0.027217\n",
      "7  0.0167992      6   0.19546 0.26451 0.026823\n",
      "8  0.0157908      7   0.17866 0.24550 0.025310\n",
      "9  0.0094604      9   0.14708 0.24648 0.026248\n",
      "10 0.0054766     10   0.13762 0.22284 0.023495\n",
      "11 0.0052307     11   0.13215 0.22244 0.023620\n",
      "12 0.0043985     12   0.12692 0.22244 0.023620\n",
      "13 0.0022883     13   0.12252 0.21594 0.023442\n",
      "14 0.0022704     14   0.12023 0.21639 0.023448\n",
      "15 0.0014131     15   0.11796 0.21658 0.023365\n",
      "16 0.0010000     16   0.11655 0.21947 0.023529\n"
     ]
    }
   ],
   "source": [
    "printcp(logcpus.rpart.01)"
   ]
  },
  {
   "cell_type": "code",
   "execution_count": 67,
   "metadata": {
    "collapsed": false
   },
   "outputs": [
    {
     "data": {
      "image/png": "[encoded data removed]",
      "text/plain": [
       "plot without title"
      ]
     },
     "metadata": {},
     "output_type": "display_data"
    }
   ],
   "source": [
    "plotcp(logcpus.rpart.01,cex.axis=0.6)"
   ]
  },
  {
   "cell_type": "code",
   "execution_count": 68,
   "metadata": {
    "collapsed": false
   },
   "outputs": [
    {
     "name": "stdout",
     "output_type": "stream",
     "text": [
      "n= 209 \n",
      "\n",
      "node), split, n, deviance, yval\n",
      "      * denotes terminal node\n",
      "\n",
      " 1) root 209 43.1000 1.75  \n",
      "   2) cach< 27 143 11.8000 1.52  \n",
      "     4) mmax< 6.1e+03 78  3.8900 1.37  \n",
      "       8) mmax< 1.75e+03 12  0.7840 1.09 *\n",
      "       9) mmax>=1.75e+03 66  1.9500 1.43 *\n",
      "     5) mmax>=6.1e+03 65  4.0500 1.70  \n",
      "      10) syct>=360 7  0.1290 1.28 *\n",
      "      11) syct< 360 58  2.5000 1.76  \n",
      "        22) chmin< 5.5 46  1.2300 1.70  \n",
      "          44) cach< 0.5 11  0.2020 1.53 *\n",
      "          45) cach>=0.5 35  0.6160 1.75 *\n",
      "        23) chmin>=5.5 12  0.5510 1.97 *\n",
      "   3) cach>=27 66  7.6400 2.25  \n",
      "     6) mmax< 2.8e+04 41  2.3400 2.06  \n",
      "      12) cach< 96.5 34  1.5900 2.01  \n",
      "        24) mmax< 1.12e+04 14  0.4250 1.83 *\n",
      "        25) mmax>=1.12e+04 20  0.3830 2.14 *\n",
      "      13) cach>=96.5 7  0.1720 2.32 *\n",
      "     7) mmax>=2.8e+04 25  1.5200 2.56  \n",
      "      14) cach< 56 7  0.0693 2.27 *\n",
      "      15) cach>=56 18  0.6540 2.67 *\n"
     ]
    }
   ],
   "source": [
    "print(logcpus.rpart.01,cp=0.006,digits=3)"
   ]
  },
  {
   "cell_type": "code",
   "execution_count": 69,
   "metadata": {
    "collapsed": true
   },
   "outputs": [],
   "source": [
    "logcpus.rpart.02<-prune(logcpus.rpart.01,cp=0.006)"
   ]
  },
  {
   "cell_type": "code",
   "execution_count": 70,
   "metadata": {
    "collapsed": false
   },
   "outputs": [
    {
     "data": {
      "image/png": "[encoded data removed]",
      "text/plain": [
       "plot without title"
      ]
     },
     "metadata": {},
     "output_type": "display_data"
    }
   ],
   "source": [
    "plot(logcpus.rpart.02,branch=0.4,uniform=TRUE)\n",
    "text(logcpus.rpart.02,digits=3,cex=0.6)"
   ]
  },
  {
   "cell_type": "code",
   "execution_count": 71,
   "metadata": {
    "collapsed": false
   },
   "outputs": [
    {
     "data": {
      "image/png": "[encoded data removed]",
      "text/plain": [
       "plot without title"
      ]
     },
     "metadata": {},
     "output_type": "display_data"
    }
   ],
   "source": [
    "plot(logcpus.rpart.02,branch=0.6,compress=TRUE,uniform=TRUE)\n",
    "text(logcpus.rpart.02,digits=3,all=TRUE,use.n=TRUE,cex=0.6)"
   ]
  }
 ],
 "metadata": {
  "kernelspec": {
   "display_name": "R",
   "language": "R",
   "name": "ir"
  },
  "language_info": {
   "codemirror_mode": "r",
   "file_extension": ".r",
   "mimetype": "text/x-r-source",
   "name": "R",
   "pygments_lexer": "r",
   "version": "3.3.3"
  }
 },
 "nbformat": 4,
 "nbformat_minor": 2
}
