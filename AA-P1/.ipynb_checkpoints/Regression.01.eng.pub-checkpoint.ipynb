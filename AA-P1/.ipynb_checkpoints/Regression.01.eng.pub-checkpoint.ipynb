{
 "cells": [
  {
   "cell_type": "markdown",
   "metadata": {},
   "source": [
    "#  Linear Regression"
   ]
  },
  {
   "cell_type": "markdown",
   "metadata": {},
   "source": [
    "##### Josep Fortiana 2019-10-01"
   ]
  },
  {
   "cell_type": "markdown",
   "metadata": {},
   "source": [
    "## 1. Simple linear regression: A simulated example"
   ]
  },
  {
   "cell_type": "markdown",
   "metadata": {},
   "source": [
    "### Generate a simulated dataset for simple linear regression"
   ]
  },
  {
   "cell_type": "code",
   "execution_count": 1,
   "metadata": {
    "collapsed": true
   },
   "outputs": [],
   "source": [
    "# More or less arbitrary parameters for the data generation\n",
    "\n",
    "trueA<-1   \n",
    "trueB<-5\n",
    "trueSd<-15\n",
    "sampleSize<-20 # n = sampleSize "
   ]
  },
  {
   "cell_type": "code",
   "execution_count": 2,
   "metadata": {
    "collapsed": true
   },
   "outputs": [],
   "source": [
    "# Uniformly spread x values in the interval [-n/2,n/2]\n",
    "x<-(-(sampleSize-1)/2):((sampleSize-1)/2)\n",
    "# y values of the form a + b*x + N(0,trueSd)\n",
    "y<-trueA+trueB*x+rnorm(n=sampleSize,mean=0,sd=trueSd)"
   ]
  },
  {
   "cell_type": "code",
   "execution_count": 3,
   "metadata": {
    "collapsed": false,
    "scrolled": false
   },
   "outputs": [
    {
     "data": {
      "image/png": "[encoded data removed]",
      "text/plain": [
       "Plot with title “Test data”"
      ]
     },
     "metadata": {},
     "output_type": "display_data"
    }
   ],
   "source": [
    "# Plot data points plus the line used in the generation\n",
    "# Note this line is NOT a regression line, which will be computed below\n",
    "options(repr.plot.width=4, repr.plot.height=4)\n",
    "plot(x,y,pch='+',cex=0.8,col=\"blue\",main=\"Test data\")\n",
    "abline(trueA,trueB,lwd=2.5,col=\"cyan\")"
   ]
  },
  {
   "cell_type": "markdown",
   "metadata": {},
   "source": [
    "### Adjust a least squares linear regression model"
   ]
  },
  {
   "cell_type": "code",
   "execution_count": 4,
   "metadata": {
    "collapsed": false
   },
   "outputs": [
    {
     "data": {
      "image/png": "[encoded data removed]",
      "text/plain": [
       "Plot with title “Test data”"
      ]
     },
     "metadata": {},
     "output_type": "display_data"
    }
   ],
   "source": [
    "lm.1<-lm(y~x)\n",
    "options(repr.plot.width=4, repr.plot.height=4)\n",
    "plot(x,y,pch='+',cex=0.8,col=\"blue\",main=\"Test data\")\n",
    "abline(trueA,trueB,lwd=2.5,col=\"cyan\")\n",
    "abline(lm.1,lwd=2.5,col=\"blue\")\n",
    "legend(\"topleft\",c(\"Original line\",\"\",\"Regression line\"), lwd=2.5,col=c(\"cyan\",\"white\",\"blue\"),cex=0.6)"
   ]
  },
  {
   "cell_type": "markdown",
   "metadata": {},
   "source": [
    "### Extract information from the fitted model"
   ]
  },
  {
   "cell_type": "code",
   "execution_count": 5,
   "metadata": {
    "collapsed": false
   },
   "outputs": [
    {
     "name": "stdout",
     "output_type": "stream",
     "text": [
      "\n",
      "Call:\n",
      "lm(formula = y ~ x)\n",
      "\n",
      "Coefficients:\n",
      "(Intercept)            x  \n",
      "      2.993        4.995  \n",
      "\n"
     ]
    },
    {
     "data": {
      "text/plain": [
       "\n",
       "Call:\n",
       "lm(formula = y ~ x)\n",
       "\n",
       "Residuals:\n",
       "    Min      1Q  Median      3Q     Max \n",
       "-28.331  -8.847   3.153   8.481  20.071 \n",
       "\n",
       "Coefficients:\n",
       "            Estimate Std. Error t value Pr(>|t|)    \n",
       "(Intercept)   2.9929     2.9030   1.031    0.316    \n",
       "x             4.9945     0.5035   9.921 1.01e-08 ***\n",
       "---\n",
       "Signif. codes:  0 ‘***’ 0.001 ‘**’ 0.01 ‘*’ 0.05 ‘.’ 0.1 ‘ ’ 1\n",
       "\n",
       "Residual standard error: 12.98 on 18 degrees of freedom\n",
       "Multiple R-squared:  0.8454,\tAdjusted R-squared:  0.8368 \n",
       "F-statistic: 98.42 on 1 and 18 DF,  p-value: 1.01e-08\n"
      ]
     },
     "metadata": {},
     "output_type": "display_data"
    }
   ],
   "source": [
    "print(lm.1)\n",
    "summary(lm.1)"
   ]
  },
  {
   "cell_type": "markdown",
   "metadata": {},
   "source": [
    "### Regression coefficients"
   ]
  },
  {
   "cell_type": "code",
   "execution_count": 6,
   "metadata": {
    "collapsed": false,
    "scrolled": true
   },
   "outputs": [
    {
     "data": {
      "text/html": [
       "<dl class=dl-horizontal>\n",
       "\t<dt>(Intercept)</dt>\n",
       "\t\t<dd>2.99293264079449</dd>\n",
       "\t<dt>x</dt>\n",
       "\t\t<dd>4.99453024795648</dd>\n",
       "</dl>\n"
      ],
      "text/latex": [
       "\\begin{description*}\n",
       "\\item[(Intercept)] 2.99293264079449\n",
       "\\item[x] 4.99453024795648\n",
       "\\end{description*}\n"
      ],
      "text/markdown": [
       "(Intercept)\n",
       ":   2.99293264079449x\n",
       ":   4.99453024795648\n",
       "\n"
      ],
      "text/plain": [
       "(Intercept)           x \n",
       "   2.992933    4.994530 "
      ]
     },
     "metadata": {},
     "output_type": "display_data"
    },
    {
     "data": {
      "text/html": [
       "<strong>(Intercept):</strong> 2.993"
      ],
      "text/latex": [
       "\\textbf{(Intercept):} 2.993"
      ],
      "text/markdown": [
       "**(Intercept):** 2.993"
      ],
      "text/plain": [
       "(Intercept) \n",
       "      2.993 "
      ]
     },
     "metadata": {},
     "output_type": "display_data"
    },
    {
     "data": {
      "text/html": [
       "<strong>x:</strong> 4.995"
      ],
      "text/latex": [
       "\\textbf{x:} 4.995"
      ],
      "text/markdown": [
       "**x:** 4.995"
      ],
      "text/plain": [
       "    x \n",
       "4.995 "
      ]
     },
     "metadata": {},
     "output_type": "display_data"
    }
   ],
   "source": [
    "Coeff<-coefficients(lm.1)\n",
    "Coeff\n",
    "a.hat<-Coeff[1]\n",
    "b.hat<-Coeff[2]\n",
    "#a.hat<-as.numeric(lm.1$coefficients[1])\n",
    "#b.hat<-as.numeric(lm.1$coefficients[2])\n",
    "round(a.hat,3)\n",
    "round(b.hat,3)"
   ]
  },
  {
   "cell_type": "markdown",
   "metadata": {},
   "source": [
    "## 2. Relevant quantities in a regression"
   ]
  },
  {
   "cell_type": "markdown",
   "metadata": {},
   "source": [
    "### 1. Total Sum of Squares"
   ]
  },
  {
   "cell_type": "code",
   "execution_count": 7,
   "metadata": {
    "collapsed": false,
    "scrolled": true
   },
   "outputs": [
    {
     "data": {
      "text/html": [
       "19801.747"
      ],
      "text/latex": [
       "19801.747"
      ],
      "text/markdown": [
       "19801.747"
      ],
      "text/plain": [
       "[1] 19801.75"
      ]
     },
     "metadata": {},
     "output_type": "display_data"
    },
    {
     "data": {
      "text/html": [
       "19622.594"
      ],
      "text/latex": [
       "19622.594"
      ],
      "text/markdown": [
       "19622.594"
      ],
      "text/plain": [
       "[1] 19622.59"
      ]
     },
     "metadata": {},
     "output_type": "display_data"
    },
    {
     "data": {
      "text/html": [
       "20"
      ],
      "text/latex": [
       "20"
      ],
      "text/markdown": [
       "20"
      ],
      "text/plain": [
       "[1] 20"
      ]
     },
     "metadata": {},
     "output_type": "display_data"
    },
    {
     "data": {
      "text/html": [
       "19"
      ],
      "text/latex": [
       "19"
      ],
      "text/markdown": [
       "19"
      ],
      "text/plain": [
       "[1] 19"
      ]
     },
     "metadata": {},
     "output_type": "display_data"
    }
   ],
   "source": [
    "# Total sum of squares\n",
    "TotalSS<-sum(y^2)\n",
    "round(TotalSS,3)\n",
    "# Centered data\n",
    "y0<-y-mean(y)   \n",
    "# Centered total sum of squares\n",
    "TotalSS0<-sum(y0^2)        \n",
    "round(TotalSS0,3)\n",
    "# Total number of degrees of freedom\n",
    "n<-length(y)\n",
    "Totaldf<-n\n",
    "# Total number of degrees of freedom of the centered y\n",
    "Totaldf0<-n-1\n",
    "Totaldf\n",
    "Totaldf0"
   ]
  },
  {
   "cell_type": "markdown",
   "metadata": {},
   "source": [
    "### 2. Fitted values and Regression Sum of Squares"
   ]
  },
  {
   "cell_type": "code",
   "execution_count": 8,
   "metadata": {
    "collapsed": false
   },
   "outputs": [
    {
     "data": {
      "text/html": [
       "16767.799"
      ],
      "text/latex": [
       "16767.799"
      ],
      "text/markdown": [
       "16767.799"
      ],
      "text/plain": [
       "[1] 16767.8"
      ]
     },
     "metadata": {},
     "output_type": "display_data"
    },
    {
     "data": {
      "text/html": [
       "16588.646"
      ],
      "text/latex": [
       "16588.646"
      ],
      "text/markdown": [
       "16588.646"
      ],
      "text/plain": [
       "[1] 16588.65"
      ]
     },
     "metadata": {},
     "output_type": "display_data"
    },
    {
     "data": {
      "text/html": [
       "2"
      ],
      "text/latex": [
       "2"
      ],
      "text/markdown": [
       "2"
      ],
      "text/plain": [
       "[1] 2"
      ]
     },
     "metadata": {},
     "output_type": "display_data"
    },
    {
     "data": {
      "text/html": [
       "1"
      ],
      "text/latex": [
       "1"
      ],
      "text/markdown": [
       "1"
      ],
      "text/plain": [
       "[1] 1"
      ]
     },
     "metadata": {},
     "output_type": "display_data"
    }
   ],
   "source": [
    "# Fitted values\n",
    "yhat<-fitted.values(lm.1)\n",
    "#yhat<-as.numeric(lm.1$fitted.values) # Alternative syntax\n",
    "# Centered fitted values\n",
    "yhat0<-yhat-mean(yhat)\n",
    "# Regression Sum of Squares\n",
    "RegSS<-sum(yhat^2)\n",
    "round(RegSS,3)\n",
    "# Centered Regression Sum if Squares\n",
    "RegSS0<-sum(yhat0^2)\n",
    "round(RegSS0,3)\n",
    "# Number of degrees of freedom of the regression\n",
    "Regdf<-2\n",
    "# Number of degrees of freedom of the regression (centered)\n",
    "Regdf0<-1\n",
    "\n",
    "Regdf\n",
    "Regdf0"
   ]
  },
  {
   "cell_type": "markdown",
   "metadata": {},
   "source": [
    "Check that `mean(y)` coincides with `mean(yhat)`"
   ]
  },
  {
   "cell_type": "markdown",
   "metadata": {},
   "source": [
    "### 3. Regression residuals and Residual Sum of Squares"
   ]
  },
  {
   "cell_type": "code",
   "execution_count": 9,
   "metadata": {
    "collapsed": false
   },
   "outputs": [
    {
     "data": {
      "text/html": [
       "3033.948"
      ],
      "text/latex": [
       "3033.948"
      ],
      "text/markdown": [
       "3033.948"
      ],
      "text/plain": [
       "[1] 3033.948"
      ]
     },
     "metadata": {},
     "output_type": "display_data"
    },
    {
     "data": {
      "text/html": [
       "18"
      ],
      "text/latex": [
       "18"
      ],
      "text/markdown": [
       "18"
      ],
      "text/plain": [
       "[1] 18"
      ]
     },
     "metadata": {},
     "output_type": "display_data"
    }
   ],
   "source": [
    "# The regression residuals can be extracted as:\n",
    "ytilde<-residuals(lm.1)\n",
    "# ytilde<-as.numeric(lm.11$residuals) # Alternative syntax\n",
    "# Also: \n",
    "# ytilde<-y-yhat \n",
    "# or\n",
    "# ytilde<-y0-yhat0\n",
    "#\n",
    "# Note that, since both y and yhat have the same mean, regression residuals are centered.\n",
    "ResSS<-sum(ytilde^2)\n",
    "Resdf<-Totaldf0-Regdf0\n",
    "round(ResSS,3)\n",
    "Resdf"
   ]
  },
  {
   "cell_type": "markdown",
   "metadata": {},
   "source": [
    "### 4. [Total Sum of Squares]  =  [Regression Sum of Squares]  +  [Residual Sum of Squares]"
   ]
  },
  {
   "cell_type": "code",
   "execution_count": 10,
   "metadata": {
    "collapsed": false
   },
   "outputs": [
    {
     "data": {
      "text/html": [
       "0"
      ],
      "text/latex": [
       "0"
      ],
      "text/markdown": [
       "0"
      ],
      "text/plain": [
       "[1] 0"
      ]
     },
     "metadata": {},
     "output_type": "display_data"
    },
    {
     "data": {
      "text/html": [
       "0"
      ],
      "text/latex": [
       "0"
      ],
      "text/markdown": [
       "0"
      ],
      "text/plain": [
       "[1] 0"
      ]
     },
     "metadata": {},
     "output_type": "display_data"
    }
   ],
   "source": [
    "# Both with the non-centered and with the centered version\n",
    "round(TotalSS-(RegSS+ResSS),10)\n",
    "round(TotalSS0-(RegSS0+ResSS),10)"
   ]
  },
  {
   "cell_type": "markdown",
   "metadata": {},
   "source": [
    "### 5. Regression Coefficient of Determination (Multiple R-squared)"
   ]
  },
  {
   "cell_type": "code",
   "execution_count": 11,
   "metadata": {
    "collapsed": false
   },
   "outputs": [
    {
     "data": {
      "text/html": [
       "0.8454"
      ],
      "text/latex": [
       "0.8454"
      ],
      "text/markdown": [
       "0.8454"
      ],
      "text/plain": [
       "[1] 0.8454"
      ]
     },
     "metadata": {},
     "output_type": "display_data"
    }
   ],
   "source": [
    "# By definition, with the centered sums of squares\n",
    "R2<-RegSS0/TotalSS0\n",
    "round(R2,4)"
   ]
  },
  {
   "cell_type": "markdown",
   "metadata": {},
   "source": [
    "### 6. Adjusted Coefficient of Determination (Adjusted for the number $p$ of predictors)\n",
    "\n",
    "$$\n",
    "    {\\bar {R}}^{2}=1-(1-R^{2})\\dfrac{n-1}{n-p-1}\n",
    "$$\n",
    "\n",
    "The Adjusted Coefficient of Determination is also equal to:\n",
    "\n",
    "$$\n",
    "    {\\displaystyle {\\bar {R}}^{2}={1-{SS_{\\text{res}}/{\\text{df}}_{e} \\over SS_{\\text{tot}0}/{\\text{df}}_{t0}}}}\n",
    "$$"
   ]
  },
  {
   "cell_type": "code",
   "execution_count": 12,
   "metadata": {
    "collapsed": false
   },
   "outputs": [
    {
     "data": {
      "text/html": [
       "0.8368"
      ],
      "text/latex": [
       "0.8368"
      ],
      "text/markdown": [
       "0.8368"
      ],
      "text/plain": [
       "[1] 0.8368"
      ]
     },
     "metadata": {},
     "output_type": "display_data"
    },
    {
     "data": {
      "text/html": [
       "0.8368"
      ],
      "text/latex": [
       "0.8368"
      ],
      "text/markdown": [
       "0.8368"
      ],
      "text/plain": [
       "[1] 0.8368"
      ]
     },
     "metadata": {},
     "output_type": "display_data"
    }
   ],
   "source": [
    "p<-1\n",
    "R2adj.1<-1-(1-R2)*(n-1)/(n-p-1)\n",
    "round(R2adj.1,4)\n",
    "R2adj.2<-1-(ResSS/Resdf)/(TotalSS0/Totaldf0)\n",
    "round(R2adj.1,4)"
   ]
  },
  {
   "cell_type": "markdown",
   "metadata": {},
   "source": [
    "### 7. Mean squares and regression F statistic"
   ]
  },
  {
   "cell_type": "code",
   "execution_count": 13,
   "metadata": {
    "collapsed": false
   },
   "outputs": [
    {
     "data": {
      "text/html": [
       "1032.768"
      ],
      "text/latex": [
       "1032.768"
      ],
      "text/markdown": [
       "1032.768"
      ],
      "text/plain": [
       "[1] 1032.768"
      ]
     },
     "metadata": {},
     "output_type": "display_data"
    },
    {
     "data": {
      "text/html": [
       "16588.646"
      ],
      "text/latex": [
       "16588.646"
      ],
      "text/markdown": [
       "16588.646"
      ],
      "text/plain": [
       "[1] 16588.65"
      ]
     },
     "metadata": {},
     "output_type": "display_data"
    },
    {
     "data": {
      "text/html": [
       "168.553"
      ],
      "text/latex": [
       "168.553"
      ],
      "text/markdown": [
       "168.553"
      ],
      "text/plain": [
       "[1] 168.553"
      ]
     },
     "metadata": {},
     "output_type": "display_data"
    },
    {
     "data": {
      "text/html": [
       "98.418"
      ],
      "text/latex": [
       "98.418"
      ],
      "text/markdown": [
       "98.418"
      ],
      "text/plain": [
       "[1] 98.418"
      ]
     },
     "metadata": {},
     "output_type": "display_data"
    },
    {
     "data": {
      "text/html": [
       "1.01e-08"
      ],
      "text/latex": [
       "1.01e-08"
      ],
      "text/markdown": [
       "1.01e-08"
      ],
      "text/plain": [
       "[1] 1.01e-08"
      ]
     },
     "metadata": {},
     "output_type": "display_data"
    }
   ],
   "source": [
    "TotalMeanS0<-TotalSS0/Totaldf0\n",
    "RegMeanS0<-RegSS0/Regdf0\n",
    "ResMeanS<-ResSS/Resdf    # Remember that residuals are centered (hence there is no need of a \"0\" here)\n",
    "F<-RegMeanS0/ResMeanS\n",
    "# The p-value is the probability of obtaining F values larger than the observed one, assuming the null \n",
    "# hypothesis that there is no regression relationship is true.\n",
    "p.val<-1-pf(F,df1=Regdf0,df2=Resdf)\n",
    "round(TotalMeanS0,3)\n",
    "round(RegMeanS0,3)\n",
    "round(ResMeanS,3)\n",
    "round(F,3)\n",
    "round(p.val,10)"
   ]
  },
  {
   "cell_type": "markdown",
   "metadata": {},
   "source": [
    "The quotient F is a measure of how the Regression Mean Squares exceeds the Residual Mean of Squares. \n",
    "\n",
    "When the model is a Gauss-Markov normal regression, this quantity follows a Fisher-Snedecor distributions with degrees of freedom Regdf0 and Resdf. The resulting $p$-value is computed assuming this is true. When it is larger than the standard significance level ($p$-value > 0.05) we conclude the regression model is non-significant."
   ]
  },
  {
   "cell_type": "markdown",
   "metadata": {},
   "source": [
    "### 8. The `anova()` function\n",
    "\n",
    "Displays the Sums of Squares and Mean Squares, decomposed by each individual predictor and residuals contribution (here there is a single predictor `x`)."
   ]
  },
  {
   "cell_type": "code",
   "execution_count": 14,
   "metadata": {
    "collapsed": false
   },
   "outputs": [
    {
     "data": {
      "text/html": [
       "<table>\n",
       "<caption>A anova: 2 × 5</caption>\n",
       "<thead>\n",
       "\t<tr><th></th><th scope=col>Df</th><th scope=col>Sum Sq</th><th scope=col>Mean Sq</th><th scope=col>F value</th><th scope=col>Pr(&gt;F)</th></tr>\n",
       "\t<tr><th></th><th scope=col>&lt;int&gt;</th><th scope=col>&lt;dbl&gt;</th><th scope=col>&lt;dbl&gt;</th><th scope=col>&lt;dbl&gt;</th><th scope=col>&lt;dbl&gt;</th></tr>\n",
       "</thead>\n",
       "<tbody>\n",
       "\t<tr><th scope=row>x</th><td> 1</td><td>16588.646</td><td>16588.6460</td><td>98.41817</td><td>1.009532e-08</td></tr>\n",
       "\t<tr><th scope=row>Residuals</th><td>18</td><td> 3033.948</td><td>  168.5527</td><td>      NA</td><td>          NA</td></tr>\n",
       "</tbody>\n",
       "</table>\n"
      ],
      "text/latex": [
       "A anova: 2 × 5\n",
       "\\begin{tabular}{r|lllll}\n",
       "  & Df & Sum Sq & Mean Sq & F value & Pr(>F)\\\\\n",
       "  & <int> & <dbl> & <dbl> & <dbl> & <dbl>\\\\\n",
       "\\hline\n",
       "\tx &  1 & 16588.646 & 16588.6460 & 98.41817 & 1.009532e-08\\\\\n",
       "\tResiduals & 18 &  3033.948 &   168.5527 &       NA &           NA\\\\\n",
       "\\end{tabular}\n"
      ],
      "text/markdown": [
       "\n",
       "A anova: 2 × 5\n",
       "\n",
       "| <!--/--> | Df &lt;int&gt; | Sum Sq &lt;dbl&gt; | Mean Sq &lt;dbl&gt; | F value &lt;dbl&gt; | Pr(&gt;F) &lt;dbl&gt; |\n",
       "|---|---|---|---|---|---|\n",
       "| x |  1 | 16588.646 | 16588.6460 | 98.41817 | 1.009532e-08 |\n",
       "| Residuals | 18 |  3033.948 |   168.5527 |       NA |           NA |\n",
       "\n"
      ],
      "text/plain": [
       "          Df Sum Sq    Mean Sq    F value  Pr(>F)      \n",
       "x          1 16588.646 16588.6460 98.41817 1.009532e-08\n",
       "Residuals 18  3033.948   168.5527       NA           NA"
      ]
     },
     "metadata": {},
     "output_type": "display_data"
    }
   ],
   "source": [
    "lm.1.anova<-anova(lm.1)\n",
    "lm.1.anova\n",
    "# str(lm.1.anova)"
   ]
  },
  {
   "cell_type": "markdown",
   "metadata": {},
   "source": [
    "### 9. Residual standard error (estimate $\\hat{\\sigma}$ of the residuals standard deviation)"
   ]
  },
  {
   "cell_type": "code",
   "execution_count": 15,
   "metadata": {
    "collapsed": false
   },
   "outputs": [
    {
     "data": {
      "text/html": [
       "12.983"
      ],
      "text/latex": [
       "12.983"
      ],
      "text/markdown": [
       "12.983"
      ],
      "text/plain": [
       "[1] 12.983"
      ]
     },
     "metadata": {},
     "output_type": "display_data"
    },
    {
     "data": {
      "text/html": [
       "12.983"
      ],
      "text/latex": [
       "12.983"
      ],
      "text/markdown": [
       "12.983"
      ],
      "text/plain": [
       "[1] 12.983"
      ]
     },
     "metadata": {},
     "output_type": "display_data"
    }
   ],
   "source": [
    "# Computing from the relevant quantities we have:\n",
    "ResSE<-sqrt(ResMeanS)\n",
    "round(ResSE,3)\n",
    "# Alternatively, from the anova() function output:\n",
    "sigma2.hat<-lm.1.anova$Sum[2]/lm.1.anova$Df[2]\n",
    "sigma.hat<-sqrt(sigma2.hat)\n",
    "round(sigma.hat,3)"
   ]
  },
  {
   "cell_type": "markdown",
   "metadata": {},
   "source": [
    "### 10. Estimate of the matrix of variances and covariances of  $\\hat{a}$ and $\\hat{b}$"
   ]
  },
  {
   "cell_type": "code",
   "execution_count": 16,
   "metadata": {
    "collapsed": false
   },
   "outputs": [
    {
     "data": {
      "text/html": [
       "<table>\n",
       "<caption>A matrix: 2 × 2 of type dbl</caption>\n",
       "<thead>\n",
       "\t<tr><th></th><th scope=col>(Intercept)</th><th scope=col>x</th></tr>\n",
       "</thead>\n",
       "<tbody>\n",
       "\t<tr><th scope=row>(Intercept)</th><td>8.428</td><td>0.000</td></tr>\n",
       "\t<tr><th scope=row>x</th><td>0.000</td><td>0.253</td></tr>\n",
       "</tbody>\n",
       "</table>\n"
      ],
      "text/latex": [
       "A matrix: 2 × 2 of type dbl\n",
       "\\begin{tabular}{r|ll}\n",
       "  & (Intercept) & x\\\\\n",
       "\\hline\n",
       "\t(Intercept) & 8.428 & 0.000\\\\\n",
       "\tx & 0.000 & 0.253\\\\\n",
       "\\end{tabular}\n"
      ],
      "text/markdown": [
       "\n",
       "A matrix: 2 × 2 of type dbl\n",
       "\n",
       "| <!--/--> | (Intercept) | x |\n",
       "|---|---|---|\n",
       "| (Intercept) | 8.428 | 0.000 |\n",
       "| x | 0.000 | 0.253 |\n",
       "\n"
      ],
      "text/plain": [
       "            (Intercept) x    \n",
       "(Intercept) 8.428       0.000\n",
       "x           0.000       0.253"
      ]
     },
     "metadata": {},
     "output_type": "display_data"
    }
   ],
   "source": [
    "V<-vcov(lm.1)\n",
    "round(V,3)\n",
    "# Null out-of-diagonal entries result from the peculiar way x was constructed for this example. \n",
    "# In general one would expect non-null entries."
   ]
  },
  {
   "cell_type": "markdown",
   "metadata": {},
   "source": [
    "### 11. Estimates of the standard deviations of the regression coefficients"
   ]
  },
  {
   "cell_type": "code",
   "execution_count": 17,
   "metadata": {
    "collapsed": false
   },
   "outputs": [
    {
     "data": {
      "text/html": [
       "2.903"
      ],
      "text/latex": [
       "2.903"
      ],
      "text/markdown": [
       "2.903"
      ],
      "text/plain": [
       "[1] 2.903"
      ]
     },
     "metadata": {},
     "output_type": "display_data"
    },
    {
     "data": {
      "text/html": [
       "0.5035"
      ],
      "text/latex": [
       "0.5035"
      ],
      "text/markdown": [
       "0.5035"
      ],
      "text/plain": [
       "[1] 0.5035"
      ]
     },
     "metadata": {},
     "output_type": "display_data"
    }
   ],
   "source": [
    "v<-diag(V)\n",
    "sigma2.a<-as.numeric(v[1])\n",
    "sigma2.b<-as.numeric(v[2])\n",
    "sigma.a<-sqrt(sigma2.a)\n",
    "sigma.b<-sqrt(sigma2.b)\n",
    "round(sigma.a,4)\n",
    "round(sigma.b,4)"
   ]
  },
  {
   "cell_type": "markdown",
   "metadata": {},
   "source": [
    "### 12. Student's $t$ statistics\n",
    "\n",
    "They are a standardized measure of how each of the regression coefficients, here $\\hat{a}$ and $\\hat{b}$, differ from zero.\n",
    "\n",
    "When data are normal and the the regression model is Gauss-Màrkov these quantities follow a Student's distribution $t(n-p-1)$. \n",
    "\n",
    "For each coefficient, the $p$-value is, in principle, used to test the hypotheses:\n",
    "\n",
    "$$\n",
    "\\left\\{\n",
    "\\begin{array}{cl}\n",
    "    H_{0}: \\mskip15mu&\\text{The coefficient is null,}\\\\\n",
    "    H_{1}: \\mskip15mu&\\text{The coefficient is not zero,}\n",
    "\\end{array}\\right.\n",
    "$$\n",
    "\n",
    "In practice, these $p$-valors are taken as a mere hint, a first step to a more precise assessment of the importance of each predictor."
   ]
  },
  {
   "cell_type": "code",
   "execution_count": 18,
   "metadata": {
    "collapsed": false
   },
   "outputs": [
    {
     "data": {
      "text/html": [
       "1.031"
      ],
      "text/latex": [
       "1.031"
      ],
      "text/markdown": [
       "1.031"
      ],
      "text/plain": [
       "[1] 1.031"
      ]
     },
     "metadata": {},
     "output_type": "display_data"
    },
    {
     "data": {
      "text/html": [
       "9.9206"
      ],
      "text/latex": [
       "9.9206"
      ],
      "text/markdown": [
       "9.9206"
      ],
      "text/plain": [
       "[1] 9.9206"
      ]
     },
     "metadata": {},
     "output_type": "display_data"
    },
    {
     "data": {
      "text/html": [
       "0.31621169"
      ],
      "text/latex": [
       "0.31621169"
      ],
      "text/markdown": [
       "0.31621169"
      ],
      "text/plain": [
       "[1] 0.3162117"
      ]
     },
     "metadata": {},
     "output_type": "display_data"
    },
    {
     "data": {
      "text/html": [
       "1.0095e-08"
      ],
      "text/latex": [
       "1.0095e-08"
      ],
      "text/markdown": [
       "1.0095e-08"
      ],
      "text/plain": [
       "[1] 1.0095e-08"
      ]
     },
     "metadata": {},
     "output_type": "display_data"
    },
    {
     "data": {
      "text/html": [
       "<table>\n",
       "<caption>A matrix: 2 × 4 of type dbl</caption>\n",
       "<thead>\n",
       "\t<tr><th></th><th scope=col>Estimate</th><th scope=col>Std. Error</th><th scope=col>t value</th><th scope=col>Pr(&gt;|t|)</th></tr>\n",
       "</thead>\n",
       "<tbody>\n",
       "\t<tr><th scope=row>(Intercept)</th><td>2.992933</td><td>2.9030388</td><td>1.030965</td><td>3.162117e-01</td></tr>\n",
       "\t<tr><th scope=row>x</th><td>4.994530</td><td>0.5034508</td><td>9.920593</td><td>1.009532e-08</td></tr>\n",
       "</tbody>\n",
       "</table>\n"
      ],
      "text/latex": [
       "A matrix: 2 × 4 of type dbl\n",
       "\\begin{tabular}{r|llll}\n",
       "  & Estimate & Std. Error & t value & Pr(>\\textbar{}t\\textbar{})\\\\\n",
       "\\hline\n",
       "\t(Intercept) & 2.992933 & 2.9030388 & 1.030965 & 3.162117e-01\\\\\n",
       "\tx & 4.994530 & 0.5034508 & 9.920593 & 1.009532e-08\\\\\n",
       "\\end{tabular}\n"
      ],
      "text/markdown": [
       "\n",
       "A matrix: 2 × 4 of type dbl\n",
       "\n",
       "| <!--/--> | Estimate | Std. Error | t value | Pr(&gt;|t|) |\n",
       "|---|---|---|---|---|\n",
       "| (Intercept) | 2.992933 | 2.9030388 | 1.030965 | 3.162117e-01 |\n",
       "| x | 4.994530 | 0.5034508 | 9.920593 | 1.009532e-08 |\n",
       "\n"
      ],
      "text/plain": [
       "            Estimate Std. Error t value  Pr(>|t|)    \n",
       "(Intercept) 2.992933 2.9030388  1.030965 3.162117e-01\n",
       "x           4.994530 0.5034508  9.920593 1.009532e-08"
      ]
     },
     "metadata": {},
     "output_type": "display_data"
    }
   ],
   "source": [
    "t.a<-as.numeric(a.hat/sigma.a)\n",
    "t.b<-as.numeric(b.hat/sigma.b)\n",
    "round(t.a,4)\n",
    "round(t.b,4)\n",
    "p.val.a<-2*pt(-abs(t.a),n-2)\n",
    "p.val.b<-2*pt(-abs(t.b),n-2)\n",
    "round(p.val.a,8)\n",
    "round(p.val.b,12)\n",
    "S<-summary(lm.1)\n",
    "coefficients(S)"
   ]
  },
  {
   "cell_type": "markdown",
   "metadata": {},
   "source": [
    "### 13. The regression matrix (or model matrix)\n",
    "\n",
    "Now we see how the least squares regression is actually computed:"
   ]
  },
  {
   "cell_type": "code",
   "execution_count": 19,
   "metadata": {
    "collapsed": false
   },
   "outputs": [
    {
     "name": "stdout",
     "output_type": "stream",
     "text": [
      " num [1:20, 1:2] 1 1 1 1 1 1 1 1 1 1 ...\n",
      " - attr(*, \"dimnames\")=List of 2\n",
      "  ..$ : chr [1:20] \"1\" \"2\" \"3\" \"4\" ...\n",
      "  ..$ : chr [1:2] \"(Intercept)\" \"x\"\n",
      " - attr(*, \"assign\")= int [1:2] 0 1\n"
     ]
    },
    {
     "data": {
      "text/html": [
       "<table>\n",
       "<caption>A matrix: 20 × 2 of type dbl</caption>\n",
       "<thead>\n",
       "\t<tr><th scope=col>(Intercept)</th><th scope=col>x</th></tr>\n",
       "</thead>\n",
       "<tbody>\n",
       "\t<tr><td>1</td><td>-9.5</td></tr>\n",
       "\t<tr><td>1</td><td>-8.5</td></tr>\n",
       "\t<tr><td>1</td><td>-7.5</td></tr>\n",
       "\t<tr><td>1</td><td>-6.5</td></tr>\n",
       "\t<tr><td>1</td><td>-5.5</td></tr>\n",
       "\t<tr><td>1</td><td>-4.5</td></tr>\n",
       "\t<tr><td>1</td><td>-3.5</td></tr>\n",
       "\t<tr><td>1</td><td>-2.5</td></tr>\n",
       "\t<tr><td>1</td><td>-1.5</td></tr>\n",
       "\t<tr><td>1</td><td>-0.5</td></tr>\n",
       "\t<tr><td>1</td><td> 0.5</td></tr>\n",
       "\t<tr><td>1</td><td> 1.5</td></tr>\n",
       "\t<tr><td>1</td><td> 2.5</td></tr>\n",
       "\t<tr><td>1</td><td> 3.5</td></tr>\n",
       "\t<tr><td>1</td><td> 4.5</td></tr>\n",
       "\t<tr><td>1</td><td> 5.5</td></tr>\n",
       "\t<tr><td>1</td><td> 6.5</td></tr>\n",
       "\t<tr><td>1</td><td> 7.5</td></tr>\n",
       "\t<tr><td>1</td><td> 8.5</td></tr>\n",
       "\t<tr><td>1</td><td> 9.5</td></tr>\n",
       "</tbody>\n",
       "</table>\n"
      ],
      "text/latex": [
       "A matrix: 20 × 2 of type dbl\n",
       "\\begin{tabular}{r|ll}\n",
       " (Intercept) & x\\\\\n",
       "\\hline\n",
       "\t 1 & -9.5\\\\\n",
       "\t 1 & -8.5\\\\\n",
       "\t 1 & -7.5\\\\\n",
       "\t 1 & -6.5\\\\\n",
       "\t 1 & -5.5\\\\\n",
       "\t 1 & -4.5\\\\\n",
       "\t 1 & -3.5\\\\\n",
       "\t 1 & -2.5\\\\\n",
       "\t 1 & -1.5\\\\\n",
       "\t 1 & -0.5\\\\\n",
       "\t 1 &  0.5\\\\\n",
       "\t 1 &  1.5\\\\\n",
       "\t 1 &  2.5\\\\\n",
       "\t 1 &  3.5\\\\\n",
       "\t 1 &  4.5\\\\\n",
       "\t 1 &  5.5\\\\\n",
       "\t 1 &  6.5\\\\\n",
       "\t 1 &  7.5\\\\\n",
       "\t 1 &  8.5\\\\\n",
       "\t 1 &  9.5\\\\\n",
       "\\end{tabular}\n"
      ],
      "text/markdown": [
       "\n",
       "A matrix: 20 × 2 of type dbl\n",
       "\n",
       "| (Intercept) | x |\n",
       "|---|---|\n",
       "| 1 | -9.5 |\n",
       "| 1 | -8.5 |\n",
       "| 1 | -7.5 |\n",
       "| 1 | -6.5 |\n",
       "| 1 | -5.5 |\n",
       "| 1 | -4.5 |\n",
       "| 1 | -3.5 |\n",
       "| 1 | -2.5 |\n",
       "| 1 | -1.5 |\n",
       "| 1 | -0.5 |\n",
       "| 1 |  0.5 |\n",
       "| 1 |  1.5 |\n",
       "| 1 |  2.5 |\n",
       "| 1 |  3.5 |\n",
       "| 1 |  4.5 |\n",
       "| 1 |  5.5 |\n",
       "| 1 |  6.5 |\n",
       "| 1 |  7.5 |\n",
       "| 1 |  8.5 |\n",
       "| 1 |  9.5 |\n",
       "\n"
      ],
      "text/plain": [
       "   (Intercept) x   \n",
       "1  1           -9.5\n",
       "2  1           -8.5\n",
       "3  1           -7.5\n",
       "4  1           -6.5\n",
       "5  1           -5.5\n",
       "6  1           -4.5\n",
       "7  1           -3.5\n",
       "8  1           -2.5\n",
       "9  1           -1.5\n",
       "10 1           -0.5\n",
       "11 1            0.5\n",
       "12 1            1.5\n",
       "13 1            2.5\n",
       "14 1            3.5\n",
       "15 1            4.5\n",
       "16 1            5.5\n",
       "17 1            6.5\n",
       "18 1            7.5\n",
       "19 1            8.5\n",
       "20 1            9.5"
      ]
     },
     "metadata": {},
     "output_type": "display_data"
    }
   ],
   "source": [
    "X<-model.matrix(lm.1)\n",
    "str(X)\n",
    "X"
   ]
  },
  {
   "cell_type": "markdown",
   "metadata": {},
   "source": [
    "### 14 . Regression coefficients (estimates of)\n",
    "\n",
    "The regression coefficients vector $\\hat{\\beta}=\\left(\\begin{array}{c}\\hat{a}\\\\\\hat{b}\\end{array}\\right)$ is computed as:\n",
    "\n",
    "$$\n",
    "    \\hat{\\beta}=(X'\\cdot X)^{-1}\\cdot X' \\cdot y\n",
    "$$"
   ]
  },
  {
   "cell_type": "code",
   "execution_count": 20,
   "metadata": {
    "collapsed": false
   },
   "outputs": [
    {
     "data": {
      "text/html": [
       "<table>\n",
       "<caption>A matrix: 2 × 2 of type dbl</caption>\n",
       "<thead>\n",
       "\t<tr><th></th><th scope=col>(Intercept)</th><th scope=col>x</th></tr>\n",
       "</thead>\n",
       "<tbody>\n",
       "\t<tr><th scope=row>(Intercept)</th><td>20</td><td>  0</td></tr>\n",
       "\t<tr><th scope=row>x</th><td> 0</td><td>665</td></tr>\n",
       "</tbody>\n",
       "</table>\n"
      ],
      "text/latex": [
       "A matrix: 2 × 2 of type dbl\n",
       "\\begin{tabular}{r|ll}\n",
       "  & (Intercept) & x\\\\\n",
       "\\hline\n",
       "\t(Intercept) & 20 &   0\\\\\n",
       "\tx &  0 & 665\\\\\n",
       "\\end{tabular}\n"
      ],
      "text/markdown": [
       "\n",
       "A matrix: 2 × 2 of type dbl\n",
       "\n",
       "| <!--/--> | (Intercept) | x |\n",
       "|---|---|---|\n",
       "| (Intercept) | 20 |   0 |\n",
       "| x |  0 | 665 |\n",
       "\n"
      ],
      "text/plain": [
       "            (Intercept) x  \n",
       "(Intercept) 20            0\n",
       "x            0          665"
      ]
     },
     "metadata": {},
     "output_type": "display_data"
    }
   ],
   "source": [
    "# Matrix to invert\n",
    "Q<-t(X) %*% X\n",
    "round(Q,3)"
   ]
  },
  {
   "cell_type": "code",
   "execution_count": 21,
   "metadata": {
    "collapsed": false
   },
   "outputs": [
    {
     "data": {
      "text/html": [
       "<table>\n",
       "<caption>A matrix: 2 × 1 of type dbl</caption>\n",
       "<tbody>\n",
       "\t<tr><th scope=row>(Intercept)</th><td>2.9929</td></tr>\n",
       "\t<tr><th scope=row>x</th><td>4.9945</td></tr>\n",
       "</tbody>\n",
       "</table>\n"
      ],
      "text/latex": [
       "A matrix: 2 × 1 of type dbl\n",
       "\\begin{tabular}{r|l}\n",
       "\t(Intercept) & 2.9929\\\\\n",
       "\tx & 4.9945\\\\\n",
       "\\end{tabular}\n"
      ],
      "text/markdown": [
       "\n",
       "A matrix: 2 × 1 of type dbl\n",
       "\n",
       "| (Intercept) | 2.9929 |\n",
       "| x | 4.9945 |\n",
       "\n"
      ],
      "text/plain": [
       "            [,1]  \n",
       "(Intercept) 2.9929\n",
       "x           4.9945"
      ]
     },
     "metadata": {},
     "output_type": "display_data"
    }
   ],
   "source": [
    "# Compute regression coefficients:\n",
    "Q1<-solve(Q)   # inverse matrix\n",
    "beta.hat<-Q1 %*%t(X) %*% y\n",
    "round(beta.hat,4)"
   ]
  },
  {
   "cell_type": "markdown",
   "metadata": {},
   "source": [
    "### 15. The hat matrix and the fitted $\\hat{y}$ values\n",
    "\n",
    "The hat matrix for a regression with model matrix $X$ is:\n",
    "\n",
    "$$\n",
    "    H=X\\cdot(X'\\cdot X)^{-1}\\cdot X'.\n",
    "$$\n",
    "\n",
    "It satisfies that:\n",
    "\n",
    "$$\n",
    "    H\\cdot y  = X\\cdot(X'\\cdot X)^{-1}\\cdot X'\\cdot y= X\\cdot(X'\\cdot X)^{-1}\\cdot X'\\cdot y = X\\cdot \\hat{\\beta} = \\hat{y}.\n",
    "$$"
   ]
  },
  {
   "cell_type": "code",
   "execution_count": 22,
   "metadata": {
    "collapsed": true
   },
   "outputs": [],
   "source": [
    "# The hat matrix is the [n,n] matrix:\n",
    "H<-X %*% solve(Q)%*%t(X)\n",
    "# H is the operator that \"puts a hat\" on y, giving yhat. "
   ]
  },
  {
   "cell_type": "code",
   "execution_count": 23,
   "metadata": {
    "collapsed": false
   },
   "outputs": [
    {
     "data": {
      "text/html": [
       "7e-15"
      ],
      "text/latex": [
       "7e-15"
      ],
      "text/markdown": [
       "7e-15"
      ],
      "text/plain": [
       "[1] 7e-15"
      ]
     },
     "metadata": {},
     "output_type": "display_data"
    }
   ],
   "source": [
    "# Check that indeed this yhat coincides with the one obtained above\n",
    "yhat.1<-H %*% y\n",
    "round(max(abs(yhat-yhat.1)),15)"
   ]
  },
  {
   "cell_type": "markdown",
   "metadata": {},
   "source": [
    "Properties of $H$"
   ]
  },
  {
   "cell_type": "code",
   "execution_count": 24,
   "metadata": {
    "collapsed": false
   },
   "outputs": [
    {
     "data": {
      "text/html": [
       "2"
      ],
      "text/latex": [
       "2"
      ],
      "text/markdown": [
       "2"
      ],
      "text/plain": [
       "[1] 2"
      ]
     },
     "metadata": {},
     "output_type": "display_data"
    },
    {
     "data": {
      "text/html": [
       "0"
      ],
      "text/latex": [
       "0"
      ],
      "text/markdown": [
       "0"
      ],
      "text/plain": [
       "[1] 0"
      ]
     },
     "metadata": {},
     "output_type": "display_data"
    }
   ],
   "source": [
    "# The sum of diagonal entries in H (the trace of H) is equal to the rank of X\n",
    "sum(diag(H))\n",
    "# H is an idempotent matrix. The square of H is equal to H.\n",
    "round(max(abs(H %*% H-H)),15)\n",
    "#round(H,3)"
   ]
  },
  {
   "cell_type": "markdown",
   "metadata": {},
   "source": [
    "### 16. Covariances of regression coefficients estimates\n",
    "\n",
    "The matrix of variances and covariances of the coefficients vector:\n",
    "\n",
    "$$\n",
    "    \\hat{\\beta}=(X'\\cdot X)^{-1}\\cdot X' \\cdot y\n",
    "$$\n",
    "\n",
    "is computed by:\n",
    "\n",
    "$$\n",
    "    \\operatorname{Var}(\\hat{\\beta})=(X'\\cdot X)^{-1}\\cdot X'\n",
    "       \\cdot\\operatorname{Var}(y)\\cdot X\\cdot(X'\\cdot X)^{-1}\n",
    "$$\n",
    "\n",
    "If the Gauss-Markov condition holds, then $\\operatorname{Var}(y)=\\sigma^2\\,I$ and the expression above is simplified:\n",
    "\n",
    "$$\n",
    "      \\operatorname{Var}(\\hat{\\beta})=\\sigma^2\\,(X'\\cdot X)^{-1}\n",
    "$$"
   ]
  },
  {
   "cell_type": "code",
   "execution_count": 25,
   "metadata": {
    "collapsed": false
   },
   "outputs": [
    {
     "data": {
      "text/html": [
       "<table>\n",
       "<caption>A matrix: 2 × 2 of type dbl</caption>\n",
       "<thead>\n",
       "\t<tr><th></th><th scope=col>(Intercept)</th><th scope=col>x</th></tr>\n",
       "</thead>\n",
       "<tbody>\n",
       "\t<tr><th scope=row>(Intercept)</th><td>8.427634</td><td>0.0000000</td></tr>\n",
       "\t<tr><th scope=row>x</th><td>0.000000</td><td>0.2534627</td></tr>\n",
       "</tbody>\n",
       "</table>\n"
      ],
      "text/latex": [
       "A matrix: 2 × 2 of type dbl\n",
       "\\begin{tabular}{r|ll}\n",
       "  & (Intercept) & x\\\\\n",
       "\\hline\n",
       "\t(Intercept) & 8.427634 & 0.0000000\\\\\n",
       "\tx & 0.000000 & 0.2534627\\\\\n",
       "\\end{tabular}\n"
      ],
      "text/markdown": [
       "\n",
       "A matrix: 2 × 2 of type dbl\n",
       "\n",
       "| <!--/--> | (Intercept) | x |\n",
       "|---|---|---|\n",
       "| (Intercept) | 8.427634 | 0.0000000 |\n",
       "| x | 0.000000 | 0.2534627 |\n",
       "\n"
      ],
      "text/plain": [
       "            (Intercept) x        \n",
       "(Intercept) 8.427634    0.0000000\n",
       "x           0.000000    0.2534627"
      ]
     },
     "metadata": {},
     "output_type": "display_data"
    }
   ],
   "source": [
    "# Compare this V1 with the one obtained above with the vcov() function\n",
    "V1<-Q1*sigma2.hat\n",
    "V1"
   ]
  },
  {
   "cell_type": "markdown",
   "metadata": {},
   "source": [
    "## 3. The `Advertising` dataset"
   ]
  },
  {
   "cell_type": "markdown",
   "metadata": {},
   "source": [
    "Download `Advertising.csv`, from the textbook web page [An Introduction to Statistical Learning with Applications in R (ISLR)](http://www-bcf.usc.edu/~gareth/ISL/data.html). This dataset is used both in lesson 3 in this course and in Chapter 3 of the textbook. In this section we follow the treatment of the `Advertising` dataset from his chapter.\n",
    "\n",
    "Set the directory where you saved the dataset file as the RStudio working directory."
   ]
  },
  {
   "cell_type": "markdown",
   "metadata": {},
   "source": [
    "Read dataset.\n",
    "\n",
    "Omit the first column, variable `X`, the index of each sample. Anyway it can be recovered by: `row.names(Advertising)`."
   ]
  },
  {
   "cell_type": "code",
   "execution_count": 26,
   "metadata": {
    "collapsed": true
   },
   "outputs": [],
   "source": [
    "Advertising<-read.csv(\"Advertising.csv\")\n",
    "Advertising<-Advertising[,-1]"
   ]
  },
  {
   "cell_type": "markdown",
   "metadata": {},
   "source": [
    "### Pairwise simple linear regressions\n",
    "\n",
    "Following ISLR, Chapter 3:\n",
    "\n",
    "Compute simple linear regressions, one for each of the predictors, `TV`, `Radio`, `Newspapers`. \n",
    "\n",
    "Plot all three scatterplots, superimposing on them the regression line.\n",
    "\n",
    "What can be said about goodness-of-fit of these models?\n",
    "\n",
    "Which variable, of the possible predictors, `TV`, `Radio`, `Newspapers`, is a better predictor of `Sales`?\n",
    "\n",
    "Compare the goodness of fit of these linear regressions with the k-NN regressions from last lesson."
   ]
  },
  {
   "cell_type": "code",
   "execution_count": 27,
   "metadata": {
    "collapsed": false
   },
   "outputs": [
    {
     "data": {
      "text/plain": [
       "\n",
       "Call:\n",
       "lm(formula = Sales ~ TV, data = Advertising)\n",
       "\n",
       "Residuals:\n",
       "    Min      1Q  Median      3Q     Max \n",
       "-8.3860 -1.9545 -0.1913  2.0671  7.2124 \n",
       "\n",
       "Coefficients:\n",
       "            Estimate Std. Error t value Pr(>|t|)    \n",
       "(Intercept) 7.032594   0.457843   15.36   <2e-16 ***\n",
       "TV          0.047537   0.002691   17.67   <2e-16 ***\n",
       "---\n",
       "Signif. codes:  0 ‘***’ 0.001 ‘**’ 0.01 ‘*’ 0.05 ‘.’ 0.1 ‘ ’ 1\n",
       "\n",
       "Residual standard error: 3.259 on 198 degrees of freedom\n",
       "Multiple R-squared:  0.6119,\tAdjusted R-squared:  0.6099 \n",
       "F-statistic: 312.1 on 1 and 198 DF,  p-value: < 2.2e-16\n"
      ]
     },
     "metadata": {},
     "output_type": "display_data"
    },
    {
     "data": {
      "image/png": "[encoded data removed]",
      "text/plain": [
       "Plot with title “Sales~TV”"
      ]
     },
     "metadata": {},
     "output_type": "display_data"
    }
   ],
   "source": [
    "#\n",
    "# Insert your code here\n",
    "#\n",
    "\n",
    "#library(gvlma)\n",
    "\n",
    "lm.TV<-lm(data=Advertising, Sales~TV)\n",
    "options(repr.plot.width=4, repr.plot.height=4)\n",
    "plot(Advertising$TV,Advertising$Sales,cex=0.3,col=\"blue\",main=\"Sales~TV\")\n",
    "abline(lm.TV,lwd=2.5,col=\"red\")\n",
    "\n",
    "#gvlma(lm.TV)\n",
    "summary(lm.TV)"
   ]
  },
  {
   "cell_type": "code",
   "execution_count": 28,
   "metadata": {
    "collapsed": false
   },
   "outputs": [
    {
     "data": {
      "text/plain": [
       "\n",
       "Call:\n",
       "lm(formula = Sales ~ Radio, data = Advertising)\n",
       "\n",
       "Residuals:\n",
       "     Min       1Q   Median       3Q      Max \n",
       "-15.7305  -2.1324   0.7707   2.7775   8.1810 \n",
       "\n",
       "Coefficients:\n",
       "            Estimate Std. Error t value Pr(>|t|)    \n",
       "(Intercept)  9.31164    0.56290  16.542   <2e-16 ***\n",
       "Radio        0.20250    0.02041   9.921   <2e-16 ***\n",
       "---\n",
       "Signif. codes:  0 ‘***’ 0.001 ‘**’ 0.01 ‘*’ 0.05 ‘.’ 0.1 ‘ ’ 1\n",
       "\n",
       "Residual standard error: 4.275 on 198 degrees of freedom\n",
       "Multiple R-squared:  0.332,\tAdjusted R-squared:  0.3287 \n",
       "F-statistic: 98.42 on 1 and 198 DF,  p-value: < 2.2e-16\n"
      ]
     },
     "metadata": {},
     "output_type": "display_data"
    },
    {
     "data": {
      "image/png": "[encoded data removed]",
      "text/plain": [
       "Plot with title “Radio~TV”"
      ]
     },
     "metadata": {},
     "output_type": "display_data"
    }
   ],
   "source": [
    "lm.Radio<-lm(data=Advertising, Sales~Radio)\n",
    "options(repr.plot.width=4, repr.plot.height=4)\n",
    "plot(Advertising$Radio,Advertising$Sales,pch='+',cex=0.8,col=\"blue\",main=\"Radio~TV\")\n",
    "abline(lm.Radio,lwd=2.5,col=\"red\")\n",
    "\n",
    "#gvlma(lm.Radio)\n",
    "summary(lm.Radio)"
   ]
  },
  {
   "cell_type": "code",
   "execution_count": 29,
   "metadata": {
    "collapsed": false
   },
   "outputs": [
    {
     "data": {
      "text/plain": [
       "\n",
       "Call:\n",
       "lm(formula = Sales ~ Newspaper, data = Advertising)\n",
       "\n",
       "Residuals:\n",
       "     Min       1Q   Median       3Q      Max \n",
       "-11.2272  -3.3873  -0.8392   3.5059  12.7751 \n",
       "\n",
       "Coefficients:\n",
       "            Estimate Std. Error t value Pr(>|t|)    \n",
       "(Intercept) 12.35141    0.62142   19.88  < 2e-16 ***\n",
       "Newspaper    0.05469    0.01658    3.30  0.00115 ** \n",
       "---\n",
       "Signif. codes:  0 ‘***’ 0.001 ‘**’ 0.01 ‘*’ 0.05 ‘.’ 0.1 ‘ ’ 1\n",
       "\n",
       "Residual standard error: 5.092 on 198 degrees of freedom\n",
       "Multiple R-squared:  0.05212,\tAdjusted R-squared:  0.04733 \n",
       "F-statistic: 10.89 on 1 and 198 DF,  p-value: 0.001148\n"
      ]
     },
     "metadata": {},
     "output_type": "display_data"
    },
    {
     "data": {
      "image/png": "[encoded data removed]",
      "text/plain": [
       "Plot with title “Newspaper~TV”"
      ]
     },
     "metadata": {},
     "output_type": "display_data"
    }
   ],
   "source": [
    "lm.Newspaper<-lm(data=Advertising, Sales~Newspaper)\n",
    "options(repr.plot.width=4, repr.plot.height=4)\n",
    "plot(Advertising$Newspaper,Advertising$Sales,pch='+',cex=0.8,col=\"blue\",main=\"Newspaper~TV\")\n",
    "abline(lm.Newspaper,lwd=2.5,col=\"red\")\n",
    "\n",
    "#gvlma(lm.Newspaper)\n",
    "summary(lm.Newspaper)"
   ]
  },
  {
   "cell_type": "markdown",
   "metadata": {},
   "source": [
    "## 4. Multiple regression"
   ]
  },
  {
   "cell_type": "code",
   "execution_count": 30,
   "metadata": {
    "collapsed": true
   },
   "outputs": [],
   "source": [
    "Advertising<-read.csv(\"Advertising.csv\")\n",
    "Advertising<-Advertising[,-1]"
   ]
  },
  {
   "cell_type": "code",
   "execution_count": 31,
   "metadata": {
    "collapsed": false
   },
   "outputs": [
    {
     "name": "stdout",
     "output_type": "stream",
     "text": [
      "'data.frame':\t200 obs. of  4 variables:\n",
      " $ TV       : num  230.1 44.5 17.2 151.5 180.8 ...\n",
      " $ Radio    : num  37.8 39.3 45.9 41.3 10.8 48.9 32.8 19.6 2.1 2.6 ...\n",
      " $ Newspaper: num  69.2 45.1 69.3 58.5 58.4 75 23.5 11.6 1 21.2 ...\n",
      " $ Sales    : num  22.1 10.4 9.3 18.5 12.9 7.2 11.8 13.2 4.8 10.6 ...\n"
     ]
    }
   ],
   "source": [
    "str(Advertising)"
   ]
  },
  {
   "cell_type": "code",
   "execution_count": 32,
   "metadata": {
    "collapsed": false
   },
   "outputs": [
    {
     "data": {
      "image/png": "[encoded data removed]",
      "text/plain": [
       "plot without title"
      ]
     },
     "metadata": {},
     "output_type": "display_data"
    }
   ],
   "source": [
    "plot(Advertising)"
   ]
  },
  {
   "cell_type": "code",
   "execution_count": 33,
   "metadata": {
    "collapsed": false
   },
   "outputs": [
    {
     "data": {
      "text/html": [
       "<table>\n",
       "<caption>A matrix: 4 × 4 of type dbl</caption>\n",
       "<thead>\n",
       "\t<tr><th></th><th scope=col>TV</th><th scope=col>Radio</th><th scope=col>Newspaper</th><th scope=col>Sales</th></tr>\n",
       "</thead>\n",
       "<tbody>\n",
       "\t<tr><th scope=row>TV</th><td>1.00000000</td><td>0.05480866</td><td>0.05664787</td><td>0.7822244</td></tr>\n",
       "\t<tr><th scope=row>Radio</th><td>0.05480866</td><td>1.00000000</td><td>0.35410375</td><td>0.5762226</td></tr>\n",
       "\t<tr><th scope=row>Newspaper</th><td>0.05664787</td><td>0.35410375</td><td>1.00000000</td><td>0.2282990</td></tr>\n",
       "\t<tr><th scope=row>Sales</th><td>0.78222442</td><td>0.57622257</td><td>0.22829903</td><td>1.0000000</td></tr>\n",
       "</tbody>\n",
       "</table>\n"
      ],
      "text/latex": [
       "A matrix: 4 × 4 of type dbl\n",
       "\\begin{tabular}{r|llll}\n",
       "  & TV & Radio & Newspaper & Sales\\\\\n",
       "\\hline\n",
       "\tTV & 1.00000000 & 0.05480866 & 0.05664787 & 0.7822244\\\\\n",
       "\tRadio & 0.05480866 & 1.00000000 & 0.35410375 & 0.5762226\\\\\n",
       "\tNewspaper & 0.05664787 & 0.35410375 & 1.00000000 & 0.2282990\\\\\n",
       "\tSales & 0.78222442 & 0.57622257 & 0.22829903 & 1.0000000\\\\\n",
       "\\end{tabular}\n"
      ],
      "text/markdown": [
       "\n",
       "A matrix: 4 × 4 of type dbl\n",
       "\n",
       "| <!--/--> | TV | Radio | Newspaper | Sales |\n",
       "|---|---|---|---|---|\n",
       "| TV | 1.00000000 | 0.05480866 | 0.05664787 | 0.7822244 |\n",
       "| Radio | 0.05480866 | 1.00000000 | 0.35410375 | 0.5762226 |\n",
       "| Newspaper | 0.05664787 | 0.35410375 | 1.00000000 | 0.2282990 |\n",
       "| Sales | 0.78222442 | 0.57622257 | 0.22829903 | 1.0000000 |\n",
       "\n"
      ],
      "text/plain": [
       "          TV         Radio      Newspaper  Sales    \n",
       "TV        1.00000000 0.05480866 0.05664787 0.7822244\n",
       "Radio     0.05480866 1.00000000 0.35410375 0.5762226\n",
       "Newspaper 0.05664787 0.35410375 1.00000000 0.2282990\n",
       "Sales     0.78222442 0.57622257 0.22829903 1.0000000"
      ]
     },
     "metadata": {},
     "output_type": "display_data"
    },
    {
     "data": {
      "text/html": [
       "<table>\n",
       "<caption>A matrix: 4 × 4 of type dbl</caption>\n",
       "<thead>\n",
       "\t<tr><th></th><th scope=col>TV</th><th scope=col>Radio</th><th scope=col>Newspaper</th><th scope=col>Sales</th></tr>\n",
       "</thead>\n",
       "<tbody>\n",
       "\t<tr><th scope=row>TV</th><td>1.00</td><td>0.05</td><td>0.06</td><td>0.78</td></tr>\n",
       "\t<tr><th scope=row>Radio</th><td>0.05</td><td>1.00</td><td>0.35</td><td>0.58</td></tr>\n",
       "\t<tr><th scope=row>Newspaper</th><td>0.06</td><td>0.35</td><td>1.00</td><td>0.23</td></tr>\n",
       "\t<tr><th scope=row>Sales</th><td>0.78</td><td>0.58</td><td>0.23</td><td>1.00</td></tr>\n",
       "</tbody>\n",
       "</table>\n"
      ],
      "text/latex": [
       "A matrix: 4 × 4 of type dbl\n",
       "\\begin{tabular}{r|llll}\n",
       "  & TV & Radio & Newspaper & Sales\\\\\n",
       "\\hline\n",
       "\tTV & 1.00 & 0.05 & 0.06 & 0.78\\\\\n",
       "\tRadio & 0.05 & 1.00 & 0.35 & 0.58\\\\\n",
       "\tNewspaper & 0.06 & 0.35 & 1.00 & 0.23\\\\\n",
       "\tSales & 0.78 & 0.58 & 0.23 & 1.00\\\\\n",
       "\\end{tabular}\n"
      ],
      "text/markdown": [
       "\n",
       "A matrix: 4 × 4 of type dbl\n",
       "\n",
       "| <!--/--> | TV | Radio | Newspaper | Sales |\n",
       "|---|---|---|---|---|\n",
       "| TV | 1.00 | 0.05 | 0.06 | 0.78 |\n",
       "| Radio | 0.05 | 1.00 | 0.35 | 0.58 |\n",
       "| Newspaper | 0.06 | 0.35 | 1.00 | 0.23 |\n",
       "| Sales | 0.78 | 0.58 | 0.23 | 1.00 |\n",
       "\n"
      ],
      "text/plain": [
       "          TV   Radio Newspaper Sales\n",
       "TV        1.00 0.05  0.06      0.78 \n",
       "Radio     0.05 1.00  0.35      0.58 \n",
       "Newspaper 0.06 0.35  1.00      0.23 \n",
       "Sales     0.78 0.58  0.23      1.00 "
      ]
     },
     "metadata": {},
     "output_type": "display_data"
    },
    {
     "data": {
      "text/html": [
       "<table>\n",
       "<caption>A matrix: 4 × 4 of type dbl</caption>\n",
       "<thead>\n",
       "\t<tr><th></th><th scope=col>TV</th><th scope=col>Radio</th><th scope=col>Newspaper</th><th scope=col>Sales</th></tr>\n",
       "</thead>\n",
       "<tbody>\n",
       "\t<tr><th scope=row>TV</th><td>1.0</td><td>0.1</td><td>0.1</td><td>0.8</td></tr>\n",
       "\t<tr><th scope=row>Radio</th><td>0.1</td><td>1.0</td><td>0.4</td><td>0.6</td></tr>\n",
       "\t<tr><th scope=row>Newspaper</th><td>0.1</td><td>0.4</td><td>1.0</td><td>0.2</td></tr>\n",
       "\t<tr><th scope=row>Sales</th><td>0.8</td><td>0.6</td><td>0.2</td><td>1.0</td></tr>\n",
       "</tbody>\n",
       "</table>\n"
      ],
      "text/latex": [
       "A matrix: 4 × 4 of type dbl\n",
       "\\begin{tabular}{r|llll}\n",
       "  & TV & Radio & Newspaper & Sales\\\\\n",
       "\\hline\n",
       "\tTV & 1.0 & 0.1 & 0.1 & 0.8\\\\\n",
       "\tRadio & 0.1 & 1.0 & 0.4 & 0.6\\\\\n",
       "\tNewspaper & 0.1 & 0.4 & 1.0 & 0.2\\\\\n",
       "\tSales & 0.8 & 0.6 & 0.2 & 1.0\\\\\n",
       "\\end{tabular}\n"
      ],
      "text/markdown": [
       "\n",
       "A matrix: 4 × 4 of type dbl\n",
       "\n",
       "| <!--/--> | TV | Radio | Newspaper | Sales |\n",
       "|---|---|---|---|---|\n",
       "| TV | 1.0 | 0.1 | 0.1 | 0.8 |\n",
       "| Radio | 0.1 | 1.0 | 0.4 | 0.6 |\n",
       "| Newspaper | 0.1 | 0.4 | 1.0 | 0.2 |\n",
       "| Sales | 0.8 | 0.6 | 0.2 | 1.0 |\n",
       "\n"
      ],
      "text/plain": [
       "          TV  Radio Newspaper Sales\n",
       "TV        1.0 0.1   0.1       0.8  \n",
       "Radio     0.1 1.0   0.4       0.6  \n",
       "Newspaper 0.1 0.4   1.0       0.2  \n",
       "Sales     0.8 0.6   0.2       1.0  "
      ]
     },
     "metadata": {},
     "output_type": "display_data"
    }
   ],
   "source": [
    "cor(Advertising)\n",
    "round(cor(Advertising),2)\n",
    "round(cor(Advertising),1)"
   ]
  },
  {
   "cell_type": "markdown",
   "metadata": {},
   "source": [
    "Multiple linear regression of Sales on all three predictors"
   ]
  },
  {
   "cell_type": "code",
   "execution_count": 34,
   "metadata": {
    "collapsed": false
   },
   "outputs": [
    {
     "data": {
      "text/plain": [
       "\n",
       "Call:\n",
       "lm(formula = Sales ~ TV + Radio + Newspaper, data = Advertising)\n",
       "\n",
       "Residuals:\n",
       "    Min      1Q  Median      3Q     Max \n",
       "-8.8277 -0.8908  0.2418  1.1893  2.8292 \n",
       "\n",
       "Coefficients:\n",
       "             Estimate Std. Error t value Pr(>|t|)    \n",
       "(Intercept)  2.938889   0.311908   9.422   <2e-16 ***\n",
       "TV           0.045765   0.001395  32.809   <2e-16 ***\n",
       "Radio        0.188530   0.008611  21.893   <2e-16 ***\n",
       "Newspaper   -0.001037   0.005871  -0.177     0.86    \n",
       "---\n",
       "Signif. codes:  0 ‘***’ 0.001 ‘**’ 0.01 ‘*’ 0.05 ‘.’ 0.1 ‘ ’ 1\n",
       "\n",
       "Residual standard error: 1.686 on 196 degrees of freedom\n",
       "Multiple R-squared:  0.8972,\tAdjusted R-squared:  0.8956 \n",
       "F-statistic: 570.3 on 3 and 196 DF,  p-value: < 2.2e-16\n"
      ]
     },
     "metadata": {},
     "output_type": "display_data"
    },
    {
     "data": {
      "text/html": [
       "<table>\n",
       "<caption>A anova: 4 × 5</caption>\n",
       "<thead>\n",
       "\t<tr><th></th><th scope=col>Df</th><th scope=col>Sum Sq</th><th scope=col>Mean Sq</th><th scope=col>F value</th><th scope=col>Pr(&gt;F)</th></tr>\n",
       "\t<tr><th></th><th scope=col>&lt;int&gt;</th><th scope=col>&lt;dbl&gt;</th><th scope=col>&lt;dbl&gt;</th><th scope=col>&lt;dbl&gt;</th><th scope=col>&lt;dbl&gt;</th></tr>\n",
       "</thead>\n",
       "<tbody>\n",
       "\t<tr><th scope=row>TV</th><td>  1</td><td>3.314618e+03</td><td>3.314618e+03</td><td>1.166731e+03</td><td>1.809337e-84</td></tr>\n",
       "\t<tr><th scope=row>Radio</th><td>  1</td><td>1.545617e+03</td><td>1.545617e+03</td><td>5.440501e+02</td><td>1.882722e-58</td></tr>\n",
       "\t<tr><th scope=row>Newspaper</th><td>  1</td><td>8.871717e-02</td><td>8.871717e-02</td><td>3.122805e-02</td><td>8.599151e-01</td></tr>\n",
       "\t<tr><th scope=row>Residuals</th><td>196</td><td>5.568253e+02</td><td>2.840945e+00</td><td>          NA</td><td>          NA</td></tr>\n",
       "</tbody>\n",
       "</table>\n"
      ],
      "text/latex": [
       "A anova: 4 × 5\n",
       "\\begin{tabular}{r|lllll}\n",
       "  & Df & Sum Sq & Mean Sq & F value & Pr(>F)\\\\\n",
       "  & <int> & <dbl> & <dbl> & <dbl> & <dbl>\\\\\n",
       "\\hline\n",
       "\tTV &   1 & 3.314618e+03 & 3.314618e+03 & 1.166731e+03 & 1.809337e-84\\\\\n",
       "\tRadio &   1 & 1.545617e+03 & 1.545617e+03 & 5.440501e+02 & 1.882722e-58\\\\\n",
       "\tNewspaper &   1 & 8.871717e-02 & 8.871717e-02 & 3.122805e-02 & 8.599151e-01\\\\\n",
       "\tResiduals & 196 & 5.568253e+02 & 2.840945e+00 &           NA &           NA\\\\\n",
       "\\end{tabular}\n"
      ],
      "text/markdown": [
       "\n",
       "A anova: 4 × 5\n",
       "\n",
       "| <!--/--> | Df &lt;int&gt; | Sum Sq &lt;dbl&gt; | Mean Sq &lt;dbl&gt; | F value &lt;dbl&gt; | Pr(&gt;F) &lt;dbl&gt; |\n",
       "|---|---|---|---|---|---|\n",
       "| TV |   1 | 3.314618e+03 | 3.314618e+03 | 1.166731e+03 | 1.809337e-84 |\n",
       "| Radio |   1 | 1.545617e+03 | 1.545617e+03 | 5.440501e+02 | 1.882722e-58 |\n",
       "| Newspaper |   1 | 8.871717e-02 | 8.871717e-02 | 3.122805e-02 | 8.599151e-01 |\n",
       "| Residuals | 196 | 5.568253e+02 | 2.840945e+00 |           NA |           NA |\n",
       "\n"
      ],
      "text/plain": [
       "          Df  Sum Sq       Mean Sq      F value      Pr(>F)      \n",
       "TV          1 3.314618e+03 3.314618e+03 1.166731e+03 1.809337e-84\n",
       "Radio       1 1.545617e+03 1.545617e+03 5.440501e+02 1.882722e-58\n",
       "Newspaper   1 8.871717e-02 8.871717e-02 3.122805e-02 8.599151e-01\n",
       "Residuals 196 5.568253e+02 2.840945e+00           NA           NA"
      ]
     },
     "metadata": {},
     "output_type": "display_data"
    }
   ],
   "source": [
    "lm.Advertising.01<-lm(Sales~TV+Radio+Newspaper,data=Advertising)\n",
    "summary(lm.Advertising.01)\n",
    "anova(lm.Advertising.01)"
   ]
  },
  {
   "cell_type": "code",
   "execution_count": 35,
   "metadata": {
    "collapsed": false
   },
   "outputs": [
    {
     "data": {
      "text/plain": [
       "\n",
       "Call:\n",
       "lm(formula = Sales ~ ., data = Advertising)\n",
       "\n",
       "Residuals:\n",
       "    Min      1Q  Median      3Q     Max \n",
       "-8.8277 -0.8908  0.2418  1.1893  2.8292 \n",
       "\n",
       "Coefficients:\n",
       "             Estimate Std. Error t value Pr(>|t|)    \n",
       "(Intercept)  2.938889   0.311908   9.422   <2e-16 ***\n",
       "TV           0.045765   0.001395  32.809   <2e-16 ***\n",
       "Radio        0.188530   0.008611  21.893   <2e-16 ***\n",
       "Newspaper   -0.001037   0.005871  -0.177     0.86    \n",
       "---\n",
       "Signif. codes:  0 ‘***’ 0.001 ‘**’ 0.01 ‘*’ 0.05 ‘.’ 0.1 ‘ ’ 1\n",
       "\n",
       "Residual standard error: 1.686 on 196 degrees of freedom\n",
       "Multiple R-squared:  0.8972,\tAdjusted R-squared:  0.8956 \n",
       "F-statistic: 570.3 on 3 and 196 DF,  p-value: < 2.2e-16\n"
      ]
     },
     "metadata": {},
     "output_type": "display_data"
    },
    {
     "data": {
      "text/html": [
       "<table>\n",
       "<caption>A anova: 4 × 5</caption>\n",
       "<thead>\n",
       "\t<tr><th></th><th scope=col>Df</th><th scope=col>Sum Sq</th><th scope=col>Mean Sq</th><th scope=col>F value</th><th scope=col>Pr(&gt;F)</th></tr>\n",
       "\t<tr><th></th><th scope=col>&lt;int&gt;</th><th scope=col>&lt;dbl&gt;</th><th scope=col>&lt;dbl&gt;</th><th scope=col>&lt;dbl&gt;</th><th scope=col>&lt;dbl&gt;</th></tr>\n",
       "</thead>\n",
       "<tbody>\n",
       "\t<tr><th scope=row>TV</th><td>  1</td><td>3.314618e+03</td><td>3.314618e+03</td><td>1.166731e+03</td><td>1.809337e-84</td></tr>\n",
       "\t<tr><th scope=row>Radio</th><td>  1</td><td>1.545617e+03</td><td>1.545617e+03</td><td>5.440501e+02</td><td>1.882722e-58</td></tr>\n",
       "\t<tr><th scope=row>Newspaper</th><td>  1</td><td>8.871717e-02</td><td>8.871717e-02</td><td>3.122805e-02</td><td>8.599151e-01</td></tr>\n",
       "\t<tr><th scope=row>Residuals</th><td>196</td><td>5.568253e+02</td><td>2.840945e+00</td><td>          NA</td><td>          NA</td></tr>\n",
       "</tbody>\n",
       "</table>\n"
      ],
      "text/latex": [
       "A anova: 4 × 5\n",
       "\\begin{tabular}{r|lllll}\n",
       "  & Df & Sum Sq & Mean Sq & F value & Pr(>F)\\\\\n",
       "  & <int> & <dbl> & <dbl> & <dbl> & <dbl>\\\\\n",
       "\\hline\n",
       "\tTV &   1 & 3.314618e+03 & 3.314618e+03 & 1.166731e+03 & 1.809337e-84\\\\\n",
       "\tRadio &   1 & 1.545617e+03 & 1.545617e+03 & 5.440501e+02 & 1.882722e-58\\\\\n",
       "\tNewspaper &   1 & 8.871717e-02 & 8.871717e-02 & 3.122805e-02 & 8.599151e-01\\\\\n",
       "\tResiduals & 196 & 5.568253e+02 & 2.840945e+00 &           NA &           NA\\\\\n",
       "\\end{tabular}\n"
      ],
      "text/markdown": [
       "\n",
       "A anova: 4 × 5\n",
       "\n",
       "| <!--/--> | Df &lt;int&gt; | Sum Sq &lt;dbl&gt; | Mean Sq &lt;dbl&gt; | F value &lt;dbl&gt; | Pr(&gt;F) &lt;dbl&gt; |\n",
       "|---|---|---|---|---|---|\n",
       "| TV |   1 | 3.314618e+03 | 3.314618e+03 | 1.166731e+03 | 1.809337e-84 |\n",
       "| Radio |   1 | 1.545617e+03 | 1.545617e+03 | 5.440501e+02 | 1.882722e-58 |\n",
       "| Newspaper |   1 | 8.871717e-02 | 8.871717e-02 | 3.122805e-02 | 8.599151e-01 |\n",
       "| Residuals | 196 | 5.568253e+02 | 2.840945e+00 |           NA |           NA |\n",
       "\n"
      ],
      "text/plain": [
       "          Df  Sum Sq       Mean Sq      F value      Pr(>F)      \n",
       "TV          1 3.314618e+03 3.314618e+03 1.166731e+03 1.809337e-84\n",
       "Radio       1 1.545617e+03 1.545617e+03 5.440501e+02 1.882722e-58\n",
       "Newspaper   1 8.871717e-02 8.871717e-02 3.122805e-02 8.599151e-01\n",
       "Residuals 196 5.568253e+02 2.840945e+00           NA           NA"
      ]
     },
     "metadata": {},
     "output_type": "display_data"
    }
   ],
   "source": [
    "# Equivalent, alternative, notation\n",
    "lm.Advertising.02<-lm(Sales~.,data=Advertising)\n",
    "summary(lm.Advertising.02)\n",
    "anova(lm.Advertising.02)"
   ]
  },
  {
   "cell_type": "markdown",
   "metadata": {},
   "source": [
    "## 5. The _Credit_ dataset"
   ]
  },
  {
   "cell_type": "code",
   "execution_count": 37,
   "metadata": {
    "collapsed": false
   },
   "outputs": [
    {
     "name": "stderr",
     "output_type": "stream",
     "text": [
      "Installing package into ‘/home/crquispq7.alumnes/R/x86_64-pc-linux-gnu-library/3.3’\n",
      "(as ‘lib’ is unspecified)\n",
      "Loading required package: ISLR\n"
     ]
    },
    {
     "name": "stdout",
     "output_type": "stream",
     "text": [
      "'data.frame':\t400 obs. of  12 variables:\n",
      " $ ID       : int  1 2 3 4 5 6 7 8 9 10 ...\n",
      " $ Income   : num  14.9 106 104.6 148.9 55.9 ...\n",
      " $ Limit    : int  3606 6645 7075 9504 4897 8047 3388 7114 3300 6819 ...\n",
      " $ Rating   : int  283 483 514 681 357 569 259 512 266 491 ...\n",
      " $ Cards    : int  2 3 4 3 2 4 2 2 5 3 ...\n",
      " $ Age      : int  34 82 71 36 68 77 37 87 66 41 ...\n",
      " $ Education: int  11 15 11 11 16 10 12 9 13 19 ...\n",
      " $ Gender   : Factor w/ 2 levels \" Male\",\"Female\": 1 2 1 2 1 1 2 1 2 2 ...\n",
      " $ Student  : Factor w/ 2 levels \"No\",\"Yes\": 1 2 1 1 1 1 1 1 1 2 ...\n",
      " $ Married  : Factor w/ 2 levels \"No\",\"Yes\": 2 2 1 1 2 1 1 1 1 2 ...\n",
      " $ Ethnicity: Factor w/ 3 levels \"African American\",..: 3 2 2 2 3 3 1 2 3 1 ...\n",
      " $ Balance  : int  333 903 580 964 331 1151 203 872 279 1350 ...\n"
     ]
    }
   ],
   "source": [
    "install.packages(\"ISLR\", repos=\"https://cloud.r-project.org/\")\n",
    "require(ISLR)\n",
    "data(Credit)\n",
    "str(Credit)"
   ]
  },
  {
   "cell_type": "code",
   "execution_count": 38,
   "metadata": {
    "collapsed": false
   },
   "outputs": [
    {
     "name": "stdout",
     "output_type": "stream",
     "text": [
      "'data.frame':\t400 obs. of  11 variables:\n",
      " $ Income   : num  14.9 106 104.6 148.9 55.9 ...\n",
      " $ Limit    : int  3606 6645 7075 9504 4897 8047 3388 7114 3300 6819 ...\n",
      " $ Rating   : int  283 483 514 681 357 569 259 512 266 491 ...\n",
      " $ Cards    : int  2 3 4 3 2 4 2 2 5 3 ...\n",
      " $ Age      : int  34 82 71 36 68 77 37 87 66 41 ...\n",
      " $ Education: int  11 15 11 11 16 10 12 9 13 19 ...\n",
      " $ Gender   : Factor w/ 2 levels \" Male\",\"Female\": 1 2 1 2 1 1 2 1 2 2 ...\n",
      " $ Student  : Factor w/ 2 levels \"No\",\"Yes\": 1 2 1 1 1 1 1 1 1 2 ...\n",
      " $ Married  : Factor w/ 2 levels \"No\",\"Yes\": 2 2 1 1 2 1 1 1 1 2 ...\n",
      " $ Ethnicity: Factor w/ 3 levels \"African American\",..: 3 2 2 2 3 3 1 2 3 1 ...\n",
      " $ Balance  : int  333 903 580 964 331 1151 203 872 279 1350 ...\n"
     ]
    }
   ],
   "source": [
    "# See the Credit dataset help file \n",
    "# From the information we see there, we should:\n",
    "# 1. Remove the ID from the dataset\n",
    "# 2. Check the qualitative predictors are indeed coded as factors\n",
    "Credit<-Credit[,-1]\n",
    "str(Credit)"
   ]
  },
  {
   "cell_type": "code",
   "execution_count": 39,
   "metadata": {
    "collapsed": false
   },
   "outputs": [
    {
     "name": "stdout",
     "output_type": "stream",
     "text": [
      "'data.frame':\t400 obs. of  7 variables:\n",
      " $ Balance  : int  333 903 580 964 331 1151 203 872 279 1350 ...\n",
      " $ Age      : int  34 82 71 36 68 77 37 87 66 41 ...\n",
      " $ Cards    : int  2 3 4 3 2 4 2 2 5 3 ...\n",
      " $ Education: int  11 15 11 11 16 10 12 9 13 19 ...\n",
      " $ Income   : num  14.9 106 104.6 148.9 55.9 ...\n",
      " $ Limit    : int  3606 6645 7075 9504 4897 8047 3388 7114 3300 6819 ...\n",
      " $ Rating   : int  283 483 514 681 357 569 259 512 266 491 ...\n"
     ]
    }
   ],
   "source": [
    "# Isolate the quantitative variables from Credit (as in Figure 3.6)\n",
    "with(Credit,Credit.Quant<<-data.frame(Balance,Age,Cards,Education, Income,Limit,Rating))\n",
    "str(Credit.Quant)"
   ]
  },
  {
   "cell_type": "code",
   "execution_count": 40,
   "metadata": {
    "collapsed": false
   },
   "outputs": [
    {
     "data": {
      "image/png": "[encoded data removed]",
      "text/plain": [
       "plot without title"
      ]
     },
     "metadata": {},
     "output_type": "display_data"
    }
   ],
   "source": [
    "plot(Credit.Quant,pch=19,col=\"DarkBlue\",cex=0.3)"
   ]
  },
  {
   "cell_type": "code",
   "execution_count": 41,
   "metadata": {
    "collapsed": false
   },
   "outputs": [
    {
     "data": {
      "text/html": [
       "<table>\n",
       "<caption>A matrix: 7 × 7 of type dbl</caption>\n",
       "<thead>\n",
       "\t<tr><th></th><th scope=col>Balance</th><th scope=col>Age</th><th scope=col>Cards</th><th scope=col>Education</th><th scope=col>Income</th><th scope=col>Limit</th><th scope=col>Rating</th></tr>\n",
       "</thead>\n",
       "<tbody>\n",
       "\t<tr><th scope=row>Balance</th><td> 1.00</td><td>0.00</td><td> 0.09</td><td>-0.01</td><td> 0.46</td><td> 0.86</td><td> 0.86</td></tr>\n",
       "\t<tr><th scope=row>Age</th><td> 0.00</td><td>1.00</td><td> 0.04</td><td> 0.00</td><td> 0.18</td><td> 0.10</td><td> 0.10</td></tr>\n",
       "\t<tr><th scope=row>Cards</th><td> 0.09</td><td>0.04</td><td> 1.00</td><td>-0.05</td><td>-0.02</td><td> 0.01</td><td> 0.05</td></tr>\n",
       "\t<tr><th scope=row>Education</th><td>-0.01</td><td>0.00</td><td>-0.05</td><td> 1.00</td><td>-0.03</td><td>-0.02</td><td>-0.03</td></tr>\n",
       "\t<tr><th scope=row>Income</th><td> 0.46</td><td>0.18</td><td>-0.02</td><td>-0.03</td><td> 1.00</td><td> 0.79</td><td> 0.79</td></tr>\n",
       "\t<tr><th scope=row>Limit</th><td> 0.86</td><td>0.10</td><td> 0.01</td><td>-0.02</td><td> 0.79</td><td> 1.00</td><td> 1.00</td></tr>\n",
       "\t<tr><th scope=row>Rating</th><td> 0.86</td><td>0.10</td><td> 0.05</td><td>-0.03</td><td> 0.79</td><td> 1.00</td><td> 1.00</td></tr>\n",
       "</tbody>\n",
       "</table>\n"
      ],
      "text/latex": [
       "A matrix: 7 × 7 of type dbl\n",
       "\\begin{tabular}{r|lllllll}\n",
       "  & Balance & Age & Cards & Education & Income & Limit & Rating\\\\\n",
       "\\hline\n",
       "\tBalance &  1.00 & 0.00 &  0.09 & -0.01 &  0.46 &  0.86 &  0.86\\\\\n",
       "\tAge &  0.00 & 1.00 &  0.04 &  0.00 &  0.18 &  0.10 &  0.10\\\\\n",
       "\tCards &  0.09 & 0.04 &  1.00 & -0.05 & -0.02 &  0.01 &  0.05\\\\\n",
       "\tEducation & -0.01 & 0.00 & -0.05 &  1.00 & -0.03 & -0.02 & -0.03\\\\\n",
       "\tIncome &  0.46 & 0.18 & -0.02 & -0.03 &  1.00 &  0.79 &  0.79\\\\\n",
       "\tLimit &  0.86 & 0.10 &  0.01 & -0.02 &  0.79 &  1.00 &  1.00\\\\\n",
       "\tRating &  0.86 & 0.10 &  0.05 & -0.03 &  0.79 &  1.00 &  1.00\\\\\n",
       "\\end{tabular}\n"
      ],
      "text/markdown": [
       "\n",
       "A matrix: 7 × 7 of type dbl\n",
       "\n",
       "| <!--/--> | Balance | Age | Cards | Education | Income | Limit | Rating |\n",
       "|---|---|---|---|---|---|---|---|\n",
       "| Balance |  1.00 | 0.00 |  0.09 | -0.01 |  0.46 |  0.86 |  0.86 |\n",
       "| Age |  0.00 | 1.00 |  0.04 |  0.00 |  0.18 |  0.10 |  0.10 |\n",
       "| Cards |  0.09 | 0.04 |  1.00 | -0.05 | -0.02 |  0.01 |  0.05 |\n",
       "| Education | -0.01 | 0.00 | -0.05 |  1.00 | -0.03 | -0.02 | -0.03 |\n",
       "| Income |  0.46 | 0.18 | -0.02 | -0.03 |  1.00 |  0.79 |  0.79 |\n",
       "| Limit |  0.86 | 0.10 |  0.01 | -0.02 |  0.79 |  1.00 |  1.00 |\n",
       "| Rating |  0.86 | 0.10 |  0.05 | -0.03 |  0.79 |  1.00 |  1.00 |\n",
       "\n"
      ],
      "text/plain": [
       "          Balance Age  Cards Education Income Limit Rating\n",
       "Balance    1.00   0.00  0.09 -0.01      0.46   0.86  0.86 \n",
       "Age        0.00   1.00  0.04  0.00      0.18   0.10  0.10 \n",
       "Cards      0.09   0.04  1.00 -0.05     -0.02   0.01  0.05 \n",
       "Education -0.01   0.00 -0.05  1.00     -0.03  -0.02 -0.03 \n",
       "Income     0.46   0.18 -0.02 -0.03      1.00   0.79  0.79 \n",
       "Limit      0.86   0.10  0.01 -0.02      0.79   1.00  1.00 \n",
       "Rating     0.86   0.10  0.05 -0.03      0.79   1.00  1.00 "
      ]
     },
     "metadata": {},
     "output_type": "display_data"
    }
   ],
   "source": [
    "round(cor(Credit.Quant),2)"
   ]
  },
  {
   "cell_type": "markdown",
   "metadata": {},
   "source": [
    "## 6. Regression with qualitative predictors"
   ]
  },
  {
   "cell_type": "markdown",
   "metadata": {},
   "source": [
    "### Predicting `Balance` from `Gender`"
   ]
  },
  {
   "cell_type": "code",
   "execution_count": 42,
   "metadata": {
    "collapsed": false
   },
   "outputs": [
    {
     "data": {
      "text/plain": [
       "\n",
       "Call:\n",
       "lm(formula = Balance ~ Gender, data = Credit)\n",
       "\n",
       "Residuals:\n",
       "    Min      1Q  Median      3Q     Max \n",
       "-529.54 -455.35  -60.17  334.71 1489.20 \n",
       "\n",
       "Coefficients:\n",
       "             Estimate Std. Error t value Pr(>|t|)    \n",
       "(Intercept)    509.80      33.13  15.389   <2e-16 ***\n",
       "GenderFemale    19.73      46.05   0.429    0.669    \n",
       "---\n",
       "Signif. codes:  0 ‘***’ 0.001 ‘**’ 0.01 ‘*’ 0.05 ‘.’ 0.1 ‘ ’ 1\n",
       "\n",
       "Residual standard error: 460.2 on 398 degrees of freedom\n",
       "Multiple R-squared:  0.0004611,\tAdjusted R-squared:  -0.00205 \n",
       "F-statistic: 0.1836 on 1 and 398 DF,  p-value: 0.6685\n"
      ]
     },
     "metadata": {},
     "output_type": "display_data"
    },
    {
     "data": {
      "text/html": [
       "<table>\n",
       "<caption>A anova: 2 × 5</caption>\n",
       "<thead>\n",
       "\t<tr><th></th><th scope=col>Df</th><th scope=col>Sum Sq</th><th scope=col>Mean Sq</th><th scope=col>F value</th><th scope=col>Pr(&gt;F)</th></tr>\n",
       "\t<tr><th></th><th scope=col>&lt;int&gt;</th><th scope=col>&lt;dbl&gt;</th><th scope=col>&lt;dbl&gt;</th><th scope=col>&lt;dbl&gt;</th><th scope=col>&lt;dbl&gt;</th></tr>\n",
       "</thead>\n",
       "<tbody>\n",
       "\t<tr><th scope=row>Gender</th><td>  1</td><td>   38891.91</td><td> 38891.91</td><td>0.1836156</td><td>0.6685161</td></tr>\n",
       "\t<tr><th scope=row>Residuals</th><td>398</td><td>84301020.00</td><td>211811.61</td><td>       NA</td><td>       NA</td></tr>\n",
       "</tbody>\n",
       "</table>\n"
      ],
      "text/latex": [
       "A anova: 2 × 5\n",
       "\\begin{tabular}{r|lllll}\n",
       "  & Df & Sum Sq & Mean Sq & F value & Pr(>F)\\\\\n",
       "  & <int> & <dbl> & <dbl> & <dbl> & <dbl>\\\\\n",
       "\\hline\n",
       "\tGender &   1 &    38891.91 &  38891.91 & 0.1836156 & 0.6685161\\\\\n",
       "\tResiduals & 398 & 84301020.00 & 211811.61 &        NA &        NA\\\\\n",
       "\\end{tabular}\n"
      ],
      "text/markdown": [
       "\n",
       "A anova: 2 × 5\n",
       "\n",
       "| <!--/--> | Df &lt;int&gt; | Sum Sq &lt;dbl&gt; | Mean Sq &lt;dbl&gt; | F value &lt;dbl&gt; | Pr(&gt;F) &lt;dbl&gt; |\n",
       "|---|---|---|---|---|---|\n",
       "| Gender |   1 |    38891.91 |  38891.91 | 0.1836156 | 0.6685161 |\n",
       "| Residuals | 398 | 84301020.00 | 211811.61 |        NA |        NA |\n",
       "\n"
      ],
      "text/plain": [
       "          Df  Sum Sq      Mean Sq   F value   Pr(>F)   \n",
       "Gender      1    38891.91  38891.91 0.1836156 0.6685161\n",
       "Residuals 398 84301020.00 211811.61        NA        NA"
      ]
     },
     "metadata": {},
     "output_type": "display_data"
    }
   ],
   "source": [
    "lm.Credit.Gender<-lm(Balance~Gender,data=Credit)\n",
    "summary(lm.Credit.Gender)\n",
    "anova(lm.Credit.Gender)"
   ]
  },
  {
   "cell_type": "code",
   "execution_count": 45,
   "metadata": {
    "collapsed": false
   },
   "outputs": [
    {
     "name": "stdout",
     "output_type": "stream",
     "text": [
      "    (Intercept) GenderFemale\n",
      "1             1            0\n",
      "2             1            1\n",
      "3             1            0\n",
      "4             1            1\n",
      "5             1            0\n",
      "6             1            0\n",
      "7             1            1\n",
      "8             1            0\n",
      "9             1            1\n",
      "10            1            1\n",
      "11            1            0\n",
      "12            1            0\n",
      "13            1            1\n",
      "14            1            0\n",
      "15            1            1\n",
      "16            1            1\n",
      "17            1            1\n",
      "18            1            1\n",
      "19            1            1\n",
      "20            1            0\n",
      "21            1            1\n",
      "22            1            1\n",
      "23            1            0\n",
      "24            1            0\n",
      "25            1            1\n",
      "26            1            1\n",
      "27            1            1\n",
      "28            1            0\n",
      "29            1            1\n",
      "30            1            1\n",
      "31            1            1\n",
      "32            1            0\n",
      "33            1            1\n",
      "34            1            0\n",
      "35            1            1\n",
      "36            1            1\n",
      "37            1            1\n",
      "38            1            1\n",
      "39            1            1\n",
      "40            1            0\n",
      "41            1            1\n",
      "42            1            0\n",
      "43            1            1\n",
      "44            1            1\n",
      "45            1            1\n",
      "46            1            1\n",
      "47            1            1\n",
      "48            1            0\n",
      "49            1            0\n",
      "50            1            0\n",
      "51            1            0\n",
      "52            1            0\n",
      "53            1            0\n",
      "54            1            0\n",
      "55            1            1\n",
      "56            1            1\n",
      "57            1            1\n",
      "58            1            1\n",
      "59            1            0\n",
      "60            1            1\n",
      "61            1            1\n",
      "62            1            1\n",
      "63            1            1\n",
      "64            1            0\n",
      "65            1            1\n",
      "66            1            1\n",
      "67            1            1\n",
      "68            1            1\n",
      "69            1            1\n",
      "70            1            0\n",
      "71            1            0\n",
      "72            1            1\n",
      "73            1            1\n",
      "74            1            0\n",
      "75            1            1\n",
      "76            1            0\n",
      "77            1            0\n",
      "78            1            1\n",
      "79            1            1\n",
      "80            1            0\n",
      "81            1            1\n",
      "82            1            0\n",
      "83            1            0\n",
      "84            1            1\n",
      "85            1            0\n",
      "86            1            1\n",
      "87            1            0\n",
      "88            1            1\n",
      "89            1            0\n",
      "90            1            1\n",
      "91            1            0\n",
      "92            1            0\n",
      "93            1            0\n",
      "94            1            0\n",
      "95            1            1\n",
      "96            1            1\n",
      "97            1            0\n",
      "98            1            1\n",
      "99            1            1\n",
      "100           1            0\n",
      "101           1            0\n",
      "102           1            1\n",
      "103           1            0\n",
      "104           1            0\n",
      "105           1            1\n",
      "106           1            1\n",
      "107           1            0\n",
      "108           1            0\n",
      "109           1            0\n",
      "110           1            0\n",
      "111           1            1\n",
      "112           1            1\n",
      "113           1            0\n",
      "114           1            1\n",
      "115           1            0\n",
      "116           1            1\n",
      "117           1            1\n",
      "118           1            0\n",
      "119           1            1\n",
      "120           1            0\n",
      "121           1            1\n",
      "122           1            0\n",
      "123           1            1\n",
      "124           1            1\n",
      "125           1            1\n",
      "126           1            1\n",
      "127           1            1\n",
      "128           1            1\n",
      "129           1            0\n",
      "130           1            0\n",
      "131           1            1\n",
      "132           1            0\n",
      "133           1            0\n",
      "134           1            1\n",
      "135           1            1\n",
      "136           1            1\n",
      "137           1            1\n",
      "138           1            0\n",
      "139           1            1\n",
      "140           1            0\n",
      "141           1            1\n",
      "142           1            0\n",
      "143           1            0\n",
      "144           1            1\n",
      "145           1            0\n",
      "146           1            0\n",
      "147           1            1\n",
      "148           1            0\n",
      "149           1            1\n",
      "150           1            0\n",
      "151           1            1\n",
      "152           1            1\n",
      "153           1            1\n",
      "154           1            0\n",
      "155           1            0\n",
      "156           1            1\n",
      "157           1            1\n",
      "158           1            1\n",
      "159           1            1\n",
      "160           1            0\n",
      "161           1            1\n",
      "162           1            0\n",
      "163           1            0\n",
      "164           1            1\n",
      "165           1            0\n",
      "166           1            0\n",
      "167           1            0\n",
      "168           1            1\n",
      "169           1            1\n",
      "170           1            1\n",
      "171           1            0\n",
      "172           1            1\n",
      "173           1            0\n",
      "174           1            0\n",
      "175           1            0\n",
      "176           1            0\n",
      "177           1            0\n",
      "178           1            1\n",
      "179           1            1\n",
      "180           1            1\n",
      "181           1            0\n",
      "182           1            0\n",
      "183           1            1\n",
      "184           1            1\n",
      "185           1            1\n",
      "186           1            1\n",
      "187           1            0\n",
      "188           1            0\n",
      "189           1            0\n",
      "190           1            1\n",
      "191           1            1\n",
      "192           1            1\n",
      "193           1            0\n",
      "194           1            1\n",
      "195           1            0\n",
      "196           1            1\n",
      "197           1            0\n",
      "198           1            1\n",
      "199           1            1\n",
      "200           1            0\n",
      "201           1            0\n",
      "202           1            1\n",
      "203           1            1\n",
      "204           1            1\n",
      "205           1            1\n",
      "206           1            0\n",
      "207           1            0\n",
      "208           1            1\n",
      "209           1            0\n",
      "210           1            1\n",
      "211           1            1\n",
      "212           1            0\n",
      "213           1            0\n",
      "214           1            0\n",
      "215           1            1\n",
      "216           1            1\n",
      "217           1            0\n",
      "218           1            0\n",
      "219           1            1\n",
      "220           1            1\n",
      "221           1            1\n",
      "222           1            1\n",
      "223           1            0\n",
      "224           1            0\n",
      "225           1            0\n",
      "226           1            1\n",
      "227           1            1\n",
      "228           1            1\n",
      "229           1            1\n",
      "230           1            0\n",
      "231           1            0\n",
      "232           1            0\n",
      "233           1            0\n",
      "234           1            0\n",
      "235           1            0\n",
      "236           1            1\n",
      "237           1            0\n",
      "238           1            0\n",
      "239           1            1\n",
      "240           1            1\n",
      "241           1            1\n",
      "242           1            0\n",
      "243           1            1\n",
      "244           1            1\n",
      "245           1            1\n",
      "246           1            1\n",
      "247           1            1\n",
      "248           1            0\n",
      "249           1            0\n",
      "250           1            1\n",
      "251           1            1\n",
      "252           1            0\n",
      "253           1            1\n",
      "254           1            0\n",
      "255           1            1\n",
      "256           1            0\n",
      "257           1            1\n",
      "258           1            0\n",
      "259           1            0\n",
      "260           1            1\n",
      "261           1            0\n",
      "262           1            1\n",
      "263           1            1\n",
      "264           1            1\n",
      "265           1            0\n",
      "266           1            1\n",
      "267           1            1\n",
      "268           1            1\n",
      "269           1            0\n",
      "270           1            1\n",
      "271           1            0\n",
      "272           1            1\n",
      "273           1            1\n",
      "274           1            0\n",
      "275           1            1\n",
      "276           1            0\n",
      "277           1            1\n",
      "278           1            0\n",
      "279           1            1\n",
      "280           1            1\n",
      "281           1            1\n",
      "282           1            1\n",
      "283           1            1\n",
      "284           1            1\n",
      "285           1            0\n",
      "286           1            1\n",
      "287           1            1\n",
      "288           1            0\n",
      "289           1            1\n",
      "290           1            0\n",
      "291           1            0\n",
      "292           1            1\n",
      "293           1            0\n",
      "294           1            0\n",
      "295           1            0\n",
      "296           1            1\n",
      "297           1            1\n",
      "298           1            0\n",
      "299           1            1\n",
      "300           1            1\n",
      "301           1            0\n",
      "302           1            1\n",
      "303           1            1\n",
      "304           1            0\n",
      "305           1            1\n",
      "306           1            1\n",
      "307           1            0\n",
      "308           1            1\n",
      "309           1            0\n",
      "310           1            1\n",
      "311           1            0\n",
      "312           1            1\n",
      "313           1            0\n",
      "314           1            1\n",
      "315           1            0\n",
      "316           1            0\n",
      "317           1            0\n",
      "318           1            0\n",
      "319           1            1\n",
      "320           1            0\n",
      "321           1            0\n",
      "322           1            1\n",
      "323           1            0\n",
      "324           1            0\n",
      "325           1            0\n",
      "326           1            1\n",
      "327           1            0\n",
      "328           1            1\n",
      "329           1            1\n",
      "330           1            1\n",
      "331           1            0\n",
      "332           1            0\n",
      "333           1            0\n",
      "334           1            0\n",
      "335           1            1\n",
      "336           1            1\n",
      "337           1            0\n",
      "338           1            0\n",
      "339           1            0\n",
      "340           1            0\n",
      "341           1            1\n",
      "342           1            1\n",
      "343           1            0\n",
      "344           1            1\n",
      "345           1            0\n",
      "346           1            0\n",
      "347           1            0\n",
      "348           1            0\n",
      "349           1            0\n",
      "350           1            1\n",
      "351           1            1\n",
      "352           1            0\n",
      "353           1            0\n",
      "354           1            0\n",
      "355           1            1\n",
      "356           1            1\n",
      "357           1            0\n",
      "358           1            0\n",
      "359           1            0\n",
      "360           1            0\n",
      "361           1            1\n",
      "362           1            1\n",
      "363           1            1\n",
      "364           1            0\n",
      "365           1            0\n",
      "366           1            0\n",
      "367           1            0\n",
      "368           1            0\n",
      "369           1            1\n",
      "370           1            0\n",
      "371           1            0\n",
      "372           1            0\n",
      "373           1            1\n",
      "374           1            1\n",
      "375           1            1\n",
      "376           1            1\n",
      "377           1            1\n",
      "378           1            0\n",
      "379           1            0\n",
      "380           1            0\n",
      "381           1            1\n",
      "382           1            0\n",
      "383           1            0\n",
      "384           1            0\n",
      "385           1            0\n",
      "386           1            1\n",
      "387           1            0\n",
      "388           1            0\n",
      "389           1            1\n",
      "390           1            0\n",
      "391           1            1\n",
      "392           1            1\n",
      "393           1            0\n",
      "394           1            0\n",
      "395           1            0\n",
      "396           1            0\n",
      "397           1            0\n",
      "398           1            1\n",
      "399           1            0\n",
      "400           1            1\n",
      "attr(,\"assign\")\n",
      "[1] 0 1\n",
      "attr(,\"contrasts\")\n",
      "attr(,\"contrasts\")$Gender\n",
      "[1] \"contr.treatment\"\n",
      "\n"
     ]
    }
   ],
   "source": [
    "X1<-model.matrix(lm.Credit.Gender)\n",
    "print(X1)"
   ]
  },
  {
   "cell_type": "markdown",
   "metadata": {},
   "source": [
    "By default, `lm()` prepares a model matrix for a qualitative predictor entered as a `factor` with $g$ levels, adding $g-1$ columns constructed as follows: it takes one level as the base level and the remaining ones as \"treatments\" coded with dummy variables, where a $1$ in a given column means that the corresponding treatment is present.\n",
    "\n",
    "The `contr.*()` functions are internally used to generate these columns. In the above example for the `Credit` data, the two-levels version was used."
   ]
  },
  {
   "cell_type": "code",
   "execution_count": 44,
   "metadata": {
    "collapsed": false
   },
   "outputs": [
    {
     "data": {
      "text/html": [
       "<table>\n",
       "<caption>A matrix: 2 × 1 of type dbl</caption>\n",
       "<thead>\n",
       "\t<tr><th scope=col>2</th></tr>\n",
       "</thead>\n",
       "<tbody>\n",
       "\t<tr><td>0</td></tr>\n",
       "\t<tr><td>1</td></tr>\n",
       "</tbody>\n",
       "</table>\n"
      ],
      "text/latex": [
       "A matrix: 2 × 1 of type dbl\n",
       "\\begin{tabular}{r|l}\n",
       " 2\\\\\n",
       "\\hline\n",
       "\t 0\\\\\n",
       "\t 1\\\\\n",
       "\\end{tabular}\n"
      ],
      "text/markdown": [
       "\n",
       "A matrix: 2 × 1 of type dbl\n",
       "\n",
       "| 2 |\n",
       "|---|\n",
       "| 0 |\n",
       "| 1 |\n",
       "\n"
      ],
      "text/plain": [
       "  2\n",
       "1 0\n",
       "2 1"
      ]
     },
     "metadata": {},
     "output_type": "display_data"
    },
    {
     "data": {
      "text/html": [
       "<table>\n",
       "<caption>A matrix: 3 × 2 of type dbl</caption>\n",
       "<thead>\n",
       "\t<tr><th scope=col>2</th><th scope=col>3</th></tr>\n",
       "</thead>\n",
       "<tbody>\n",
       "\t<tr><td>0</td><td>0</td></tr>\n",
       "\t<tr><td>1</td><td>0</td></tr>\n",
       "\t<tr><td>0</td><td>1</td></tr>\n",
       "</tbody>\n",
       "</table>\n"
      ],
      "text/latex": [
       "A matrix: 3 × 2 of type dbl\n",
       "\\begin{tabular}{r|ll}\n",
       " 2 & 3\\\\\n",
       "\\hline\n",
       "\t 0 & 0\\\\\n",
       "\t 1 & 0\\\\\n",
       "\t 0 & 1\\\\\n",
       "\\end{tabular}\n"
      ],
      "text/markdown": [
       "\n",
       "A matrix: 3 × 2 of type dbl\n",
       "\n",
       "| 2 | 3 |\n",
       "|---|---|\n",
       "| 0 | 0 |\n",
       "| 1 | 0 |\n",
       "| 0 | 1 |\n",
       "\n"
      ],
      "text/plain": [
       "  2 3\n",
       "1 0 0\n",
       "2 1 0\n",
       "3 0 1"
      ]
     },
     "metadata": {},
     "output_type": "display_data"
    },
    {
     "data": {
      "text/html": [
       "<table>\n",
       "<caption>A matrix: 4 × 3 of type dbl</caption>\n",
       "<thead>\n",
       "\t<tr><th scope=col>2</th><th scope=col>3</th><th scope=col>4</th></tr>\n",
       "</thead>\n",
       "<tbody>\n",
       "\t<tr><td>0</td><td>0</td><td>0</td></tr>\n",
       "\t<tr><td>1</td><td>0</td><td>0</td></tr>\n",
       "\t<tr><td>0</td><td>1</td><td>0</td></tr>\n",
       "\t<tr><td>0</td><td>0</td><td>1</td></tr>\n",
       "</tbody>\n",
       "</table>\n"
      ],
      "text/latex": [
       "A matrix: 4 × 3 of type dbl\n",
       "\\begin{tabular}{r|lll}\n",
       " 2 & 3 & 4\\\\\n",
       "\\hline\n",
       "\t 0 & 0 & 0\\\\\n",
       "\t 1 & 0 & 0\\\\\n",
       "\t 0 & 1 & 0\\\\\n",
       "\t 0 & 0 & 1\\\\\n",
       "\\end{tabular}\n"
      ],
      "text/markdown": [
       "\n",
       "A matrix: 4 × 3 of type dbl\n",
       "\n",
       "| 2 | 3 | 4 |\n",
       "|---|---|---|\n",
       "| 0 | 0 | 0 |\n",
       "| 1 | 0 | 0 |\n",
       "| 0 | 1 | 0 |\n",
       "| 0 | 0 | 1 |\n",
       "\n"
      ],
      "text/plain": [
       "  2 3 4\n",
       "1 0 0 0\n",
       "2 1 0 0\n",
       "3 0 1 0\n",
       "4 0 0 1"
      ]
     },
     "metadata": {},
     "output_type": "display_data"
    }
   ],
   "source": [
    "contr.treatment(2)\n",
    "contr.treatment(3)\n",
    "contr.treatment(4)"
   ]
  },
  {
   "cell_type": "markdown",
   "metadata": {},
   "source": [
    "Other codings are possible. For instance, if one does not want to distinguish one level as base:"
   ]
  },
  {
   "cell_type": "code",
   "execution_count": 46,
   "metadata": {
    "collapsed": false
   },
   "outputs": [
    {
     "data": {
      "text/html": [
       "<table>\n",
       "<caption>A matrix: 2 × 1 of type dbl</caption>\n",
       "<tbody>\n",
       "\t<tr><td> 1</td></tr>\n",
       "\t<tr><td>-1</td></tr>\n",
       "</tbody>\n",
       "</table>\n"
      ],
      "text/latex": [
       "A matrix: 2 × 1 of type dbl\n",
       "\\begin{tabular}{r|l}\n",
       "\t  1\\\\\n",
       "\t -1\\\\\n",
       "\\end{tabular}\n"
      ],
      "text/markdown": [
       "\n",
       "A matrix: 2 × 1 of type dbl\n",
       "\n",
       "|  1 |\n",
       "| -1 |\n",
       "\n"
      ],
      "text/plain": [
       "  [,1]\n",
       "1  1  \n",
       "2 -1  "
      ]
     },
     "metadata": {},
     "output_type": "display_data"
    },
    {
     "data": {
      "text/html": [
       "<table>\n",
       "<caption>A matrix: 3 × 2 of type dbl</caption>\n",
       "<tbody>\n",
       "\t<tr><td> 1</td><td> 0</td></tr>\n",
       "\t<tr><td> 0</td><td> 1</td></tr>\n",
       "\t<tr><td>-1</td><td>-1</td></tr>\n",
       "</tbody>\n",
       "</table>\n"
      ],
      "text/latex": [
       "A matrix: 3 × 2 of type dbl\n",
       "\\begin{tabular}{r|ll}\n",
       "\t  1 &  0\\\\\n",
       "\t  0 &  1\\\\\n",
       "\t -1 & -1\\\\\n",
       "\\end{tabular}\n"
      ],
      "text/markdown": [
       "\n",
       "A matrix: 3 × 2 of type dbl\n",
       "\n",
       "|  1 |  0 |\n",
       "|  0 |  1 |\n",
       "| -1 | -1 |\n",
       "\n"
      ],
      "text/plain": [
       "  [,1] [,2]\n",
       "1  1    0  \n",
       "2  0    1  \n",
       "3 -1   -1  "
      ]
     },
     "metadata": {},
     "output_type": "display_data"
    },
    {
     "data": {
      "text/html": [
       "<table>\n",
       "<caption>A matrix: 4 × 3 of type dbl</caption>\n",
       "<tbody>\n",
       "\t<tr><td> 1</td><td> 0</td><td> 0</td></tr>\n",
       "\t<tr><td> 0</td><td> 1</td><td> 0</td></tr>\n",
       "\t<tr><td> 0</td><td> 0</td><td> 1</td></tr>\n",
       "\t<tr><td>-1</td><td>-1</td><td>-1</td></tr>\n",
       "</tbody>\n",
       "</table>\n"
      ],
      "text/latex": [
       "A matrix: 4 × 3 of type dbl\n",
       "\\begin{tabular}{r|lll}\n",
       "\t  1 &  0 &  0\\\\\n",
       "\t  0 &  1 &  0\\\\\n",
       "\t  0 &  0 &  1\\\\\n",
       "\t -1 & -1 & -1\\\\\n",
       "\\end{tabular}\n"
      ],
      "text/markdown": [
       "\n",
       "A matrix: 4 × 3 of type dbl\n",
       "\n",
       "|  1 |  0 |  0 |\n",
       "|  0 |  1 |  0 |\n",
       "|  0 |  0 |  1 |\n",
       "| -1 | -1 | -1 |\n",
       "\n"
      ],
      "text/plain": [
       "  [,1] [,2] [,3]\n",
       "1  1    0    0  \n",
       "2  0    1    0  \n",
       "3  0    0    1  \n",
       "4 -1   -1   -1  "
      ]
     },
     "metadata": {},
     "output_type": "display_data"
    }
   ],
   "source": [
    "contr.sum(2)\n",
    "contr.sum(3)\n",
    "contr.sum(4)"
   ]
  },
  {
   "cell_type": "code",
   "execution_count": 47,
   "metadata": {
    "collapsed": false
   },
   "outputs": [
    {
     "data": {
      "text/plain": [
       "\n",
       "Call:\n",
       "lm(formula = Balance ~ Ethnicity, data = Credit)\n",
       "\n",
       "Residuals:\n",
       "    Min      1Q  Median      3Q     Max \n",
       "-531.00 -457.08  -63.25  339.25 1480.50 \n",
       "\n",
       "Coefficients:\n",
       "                   Estimate Std. Error t value Pr(>|t|)    \n",
       "(Intercept)          531.00      46.32  11.464   <2e-16 ***\n",
       "EthnicityAsian       -18.69      65.02  -0.287    0.774    \n",
       "EthnicityCaucasian   -12.50      56.68  -0.221    0.826    \n",
       "---\n",
       "Signif. codes:  0 ‘***’ 0.001 ‘**’ 0.01 ‘*’ 0.05 ‘.’ 0.1 ‘ ’ 1\n",
       "\n",
       "Residual standard error: 460.9 on 397 degrees of freedom\n",
       "Multiple R-squared:  0.0002188,\tAdjusted R-squared:  -0.004818 \n",
       "F-statistic: 0.04344 on 2 and 397 DF,  p-value: 0.9575\n"
      ]
     },
     "metadata": {},
     "output_type": "display_data"
    },
    {
     "data": {
      "text/html": [
       "<table>\n",
       "<caption>A anova: 2 × 5</caption>\n",
       "<thead>\n",
       "\t<tr><th></th><th scope=col>Df</th><th scope=col>Sum Sq</th><th scope=col>Mean Sq</th><th scope=col>F value</th><th scope=col>Pr(&gt;F)</th></tr>\n",
       "\t<tr><th></th><th scope=col>&lt;int&gt;</th><th scope=col>&lt;dbl&gt;</th><th scope=col>&lt;dbl&gt;</th><th scope=col>&lt;dbl&gt;</th><th scope=col>&lt;dbl&gt;</th></tr>\n",
       "</thead>\n",
       "<tbody>\n",
       "\t<tr><th scope=row>Ethnicity</th><td>  2</td><td>   18454.2</td><td>  9227.1</td><td>0.04344278</td><td>0.9574919</td></tr>\n",
       "\t<tr><th scope=row>Residuals</th><td>397</td><td>84321457.7</td><td>212396.6</td><td>        NA</td><td>       NA</td></tr>\n",
       "</tbody>\n",
       "</table>\n"
      ],
      "text/latex": [
       "A anova: 2 × 5\n",
       "\\begin{tabular}{r|lllll}\n",
       "  & Df & Sum Sq & Mean Sq & F value & Pr(>F)\\\\\n",
       "  & <int> & <dbl> & <dbl> & <dbl> & <dbl>\\\\\n",
       "\\hline\n",
       "\tEthnicity &   2 &    18454.2 &   9227.1 & 0.04344278 & 0.9574919\\\\\n",
       "\tResiduals & 397 & 84321457.7 & 212396.6 &         NA &        NA\\\\\n",
       "\\end{tabular}\n"
      ],
      "text/markdown": [
       "\n",
       "A anova: 2 × 5\n",
       "\n",
       "| <!--/--> | Df &lt;int&gt; | Sum Sq &lt;dbl&gt; | Mean Sq &lt;dbl&gt; | F value &lt;dbl&gt; | Pr(&gt;F) &lt;dbl&gt; |\n",
       "|---|---|---|---|---|---|\n",
       "| Ethnicity |   2 |    18454.2 |   9227.1 | 0.04344278 | 0.9574919 |\n",
       "| Residuals | 397 | 84321457.7 | 212396.6 |         NA |        NA |\n",
       "\n"
      ],
      "text/plain": [
       "          Df  Sum Sq     Mean Sq  F value    Pr(>F)   \n",
       "Ethnicity   2    18454.2   9227.1 0.04344278 0.9574919\n",
       "Residuals 397 84321457.7 212396.6         NA        NA"
      ]
     },
     "metadata": {},
     "output_type": "display_data"
    }
   ],
   "source": [
    "lm.Credit.Ethnicity<-lm(Balance~Ethnicity,data=Credit)\n",
    "summary(lm.Credit.Ethnicity)\n",
    "anova(lm.Credit.Ethnicity)"
   ]
  },
  {
   "cell_type": "markdown",
   "metadata": {},
   "source": [
    "### Interaction terms"
   ]
  },
  {
   "cell_type": "code",
   "execution_count": 48,
   "metadata": {
    "collapsed": false
   },
   "outputs": [
    {
     "data": {
      "text/plain": [
       "\n",
       "Call:\n",
       "lm(formula = Sales ~ Radio + TV, data = Advertising)\n",
       "\n",
       "Residuals:\n",
       "    Min      1Q  Median      3Q     Max \n",
       "-8.7977 -0.8752  0.2422  1.1708  2.8328 \n",
       "\n",
       "Coefficients:\n",
       "            Estimate Std. Error t value Pr(>|t|)    \n",
       "(Intercept)  2.92110    0.29449   9.919   <2e-16 ***\n",
       "Radio        0.18799    0.00804  23.382   <2e-16 ***\n",
       "TV           0.04575    0.00139  32.909   <2e-16 ***\n",
       "---\n",
       "Signif. codes:  0 ‘***’ 0.001 ‘**’ 0.01 ‘*’ 0.05 ‘.’ 0.1 ‘ ’ 1\n",
       "\n",
       "Residual standard error: 1.681 on 197 degrees of freedom\n",
       "Multiple R-squared:  0.8972,\tAdjusted R-squared:  0.8962 \n",
       "F-statistic: 859.6 on 2 and 197 DF,  p-value: < 2.2e-16\n"
      ]
     },
     "metadata": {},
     "output_type": "display_data"
    },
    {
     "data": {
      "text/html": [
       "<table>\n",
       "<caption>A anova: 3 × 5</caption>\n",
       "<thead>\n",
       "\t<tr><th></th><th scope=col>Df</th><th scope=col>Sum Sq</th><th scope=col>Mean Sq</th><th scope=col>F value</th><th scope=col>Pr(&gt;F)</th></tr>\n",
       "\t<tr><th></th><th scope=col>&lt;int&gt;</th><th scope=col>&lt;dbl&gt;</th><th scope=col>&lt;dbl&gt;</th><th scope=col>&lt;dbl&gt;</th><th scope=col>&lt;dbl&gt;</th></tr>\n",
       "</thead>\n",
       "<tbody>\n",
       "\t<tr><th scope=row>Radio</th><td>  1</td><td>1798.669</td><td>1798.669201</td><td> 636.2524</td><td>1.319743e-63</td></tr>\n",
       "\t<tr><th scope=row>TV</th><td>  1</td><td>3061.566</td><td>3061.565569</td><td>1082.9831</td><td>5.436980e-82</td></tr>\n",
       "\t<tr><th scope=row>Residuals</th><td>197</td><td> 556.914</td><td>   2.826975</td><td>       NA</td><td>          NA</td></tr>\n",
       "</tbody>\n",
       "</table>\n"
      ],
      "text/latex": [
       "A anova: 3 × 5\n",
       "\\begin{tabular}{r|lllll}\n",
       "  & Df & Sum Sq & Mean Sq & F value & Pr(>F)\\\\\n",
       "  & <int> & <dbl> & <dbl> & <dbl> & <dbl>\\\\\n",
       "\\hline\n",
       "\tRadio &   1 & 1798.669 & 1798.669201 &  636.2524 & 1.319743e-63\\\\\n",
       "\tTV &   1 & 3061.566 & 3061.565569 & 1082.9831 & 5.436980e-82\\\\\n",
       "\tResiduals & 197 &  556.914 &    2.826975 &        NA &           NA\\\\\n",
       "\\end{tabular}\n"
      ],
      "text/markdown": [
       "\n",
       "A anova: 3 × 5\n",
       "\n",
       "| <!--/--> | Df &lt;int&gt; | Sum Sq &lt;dbl&gt; | Mean Sq &lt;dbl&gt; | F value &lt;dbl&gt; | Pr(&gt;F) &lt;dbl&gt; |\n",
       "|---|---|---|---|---|---|\n",
       "| Radio |   1 | 1798.669 | 1798.669201 |  636.2524 | 1.319743e-63 |\n",
       "| TV |   1 | 3061.566 | 3061.565569 | 1082.9831 | 5.436980e-82 |\n",
       "| Residuals | 197 |  556.914 |    2.826975 |        NA |           NA |\n",
       "\n"
      ],
      "text/plain": [
       "          Df  Sum Sq   Mean Sq     F value   Pr(>F)      \n",
       "Radio       1 1798.669 1798.669201  636.2524 1.319743e-63\n",
       "TV          1 3061.566 3061.565569 1082.9831 5.436980e-82\n",
       "Residuals 197  556.914    2.826975        NA           NA"
      ]
     },
     "metadata": {},
     "output_type": "display_data"
    }
   ],
   "source": [
    "lm.Advertising.Radio.TV.1<-lm(Sales~Radio+TV,data=Advertising)\n",
    "summary(lm.Advertising.Radio.TV.1)\n",
    "anova(lm.Advertising.Radio.TV.1)"
   ]
  },
  {
   "cell_type": "code",
   "execution_count": 49,
   "metadata": {
    "collapsed": false
   },
   "outputs": [
    {
     "data": {
      "text/plain": [
       "\n",
       "Call:\n",
       "lm(formula = Sales ~ Radio + TV + Radio:TV, data = Advertising)\n",
       "\n",
       "Residuals:\n",
       "    Min      1Q  Median      3Q     Max \n",
       "-6.3366 -0.4028  0.1831  0.5948  1.5246 \n",
       "\n",
       "Coefficients:\n",
       "             Estimate Std. Error t value Pr(>|t|)    \n",
       "(Intercept) 6.750e+00  2.479e-01  27.233   <2e-16 ***\n",
       "Radio       2.886e-02  8.905e-03   3.241   0.0014 ** \n",
       "TV          1.910e-02  1.504e-03  12.699   <2e-16 ***\n",
       "Radio:TV    1.086e-03  5.242e-05  20.727   <2e-16 ***\n",
       "---\n",
       "Signif. codes:  0 ‘***’ 0.001 ‘**’ 0.01 ‘*’ 0.05 ‘.’ 0.1 ‘ ’ 1\n",
       "\n",
       "Residual standard error: 0.9435 on 196 degrees of freedom\n",
       "Multiple R-squared:  0.9678,\tAdjusted R-squared:  0.9673 \n",
       "F-statistic:  1963 on 3 and 196 DF,  p-value: < 2.2e-16\n"
      ]
     },
     "metadata": {},
     "output_type": "display_data"
    },
    {
     "data": {
      "text/html": [
       "<table>\n",
       "<caption>A anova: 4 × 5</caption>\n",
       "<thead>\n",
       "\t<tr><th></th><th scope=col>Df</th><th scope=col>Sum Sq</th><th scope=col>Mean Sq</th><th scope=col>F value</th><th scope=col>Pr(&gt;F)</th></tr>\n",
       "\t<tr><th></th><th scope=col>&lt;int&gt;</th><th scope=col>&lt;dbl&gt;</th><th scope=col>&lt;dbl&gt;</th><th scope=col>&lt;dbl&gt;</th><th scope=col>&lt;dbl&gt;</th></tr>\n",
       "</thead>\n",
       "<tbody>\n",
       "\t<tr><th scope=row>Radio</th><td>  1</td><td>1798.6692</td><td>1798.6692010</td><td>2020.4741</td><td>3.477792e-105</td></tr>\n",
       "\t<tr><th scope=row>TV</th><td>  1</td><td>3061.5656</td><td>3061.5655690</td><td>3439.1060</td><td>3.003239e-126</td></tr>\n",
       "\t<tr><th scope=row>Radio:TV</th><td>  1</td><td> 382.4306</td><td> 382.4305974</td><td> 429.5905</td><td> 2.757681e-51</td></tr>\n",
       "\t<tr><th scope=row>Residuals</th><td>196</td><td> 174.4834</td><td>   0.8902213</td><td>       NA</td><td>           NA</td></tr>\n",
       "</tbody>\n",
       "</table>\n"
      ],
      "text/latex": [
       "A anova: 4 × 5\n",
       "\\begin{tabular}{r|lllll}\n",
       "  & Df & Sum Sq & Mean Sq & F value & Pr(>F)\\\\\n",
       "  & <int> & <dbl> & <dbl> & <dbl> & <dbl>\\\\\n",
       "\\hline\n",
       "\tRadio &   1 & 1798.6692 & 1798.6692010 & 2020.4741 & 3.477792e-105\\\\\n",
       "\tTV &   1 & 3061.5656 & 3061.5655690 & 3439.1060 & 3.003239e-126\\\\\n",
       "\tRadio:TV &   1 &  382.4306 &  382.4305974 &  429.5905 &  2.757681e-51\\\\\n",
       "\tResiduals & 196 &  174.4834 &    0.8902213 &        NA &            NA\\\\\n",
       "\\end{tabular}\n"
      ],
      "text/markdown": [
       "\n",
       "A anova: 4 × 5\n",
       "\n",
       "| <!--/--> | Df &lt;int&gt; | Sum Sq &lt;dbl&gt; | Mean Sq &lt;dbl&gt; | F value &lt;dbl&gt; | Pr(&gt;F) &lt;dbl&gt; |\n",
       "|---|---|---|---|---|---|\n",
       "| Radio |   1 | 1798.6692 | 1798.6692010 | 2020.4741 | 3.477792e-105 |\n",
       "| TV |   1 | 3061.5656 | 3061.5655690 | 3439.1060 | 3.003239e-126 |\n",
       "| Radio:TV |   1 |  382.4306 |  382.4305974 |  429.5905 |  2.757681e-51 |\n",
       "| Residuals | 196 |  174.4834 |    0.8902213 |        NA |            NA |\n",
       "\n"
      ],
      "text/plain": [
       "          Df  Sum Sq    Mean Sq      F value   Pr(>F)       \n",
       "Radio       1 1798.6692 1798.6692010 2020.4741 3.477792e-105\n",
       "TV          1 3061.5656 3061.5655690 3439.1060 3.003239e-126\n",
       "Radio:TV    1  382.4306  382.4305974  429.5905  2.757681e-51\n",
       "Residuals 196  174.4834    0.8902213        NA            NA"
      ]
     },
     "metadata": {},
     "output_type": "display_data"
    }
   ],
   "source": [
    "lm.Advertising.Radio.TV.2<-lm(Sales~Radio+TV+Radio:TV,,data=Advertising)\n",
    "summary(lm.Advertising.Radio.TV.2)\n",
    "anova(lm.Advertising.Radio.TV.2)"
   ]
  },
  {
   "cell_type": "code",
   "execution_count": 50,
   "metadata": {
    "collapsed": false
   },
   "outputs": [
    {
     "data": {
      "text/plain": [
       "\n",
       "Call:\n",
       "lm(formula = Sales ~ Radio * TV, data = Advertising)\n",
       "\n",
       "Residuals:\n",
       "    Min      1Q  Median      3Q     Max \n",
       "-6.3366 -0.4028  0.1831  0.5948  1.5246 \n",
       "\n",
       "Coefficients:\n",
       "             Estimate Std. Error t value Pr(>|t|)    \n",
       "(Intercept) 6.750e+00  2.479e-01  27.233   <2e-16 ***\n",
       "Radio       2.886e-02  8.905e-03   3.241   0.0014 ** \n",
       "TV          1.910e-02  1.504e-03  12.699   <2e-16 ***\n",
       "Radio:TV    1.086e-03  5.242e-05  20.727   <2e-16 ***\n",
       "---\n",
       "Signif. codes:  0 ‘***’ 0.001 ‘**’ 0.01 ‘*’ 0.05 ‘.’ 0.1 ‘ ’ 1\n",
       "\n",
       "Residual standard error: 0.9435 on 196 degrees of freedom\n",
       "Multiple R-squared:  0.9678,\tAdjusted R-squared:  0.9673 \n",
       "F-statistic:  1963 on 3 and 196 DF,  p-value: < 2.2e-16\n"
      ]
     },
     "metadata": {},
     "output_type": "display_data"
    },
    {
     "data": {
      "text/html": [
       "<table>\n",
       "<caption>A anova: 4 × 5</caption>\n",
       "<thead>\n",
       "\t<tr><th></th><th scope=col>Df</th><th scope=col>Sum Sq</th><th scope=col>Mean Sq</th><th scope=col>F value</th><th scope=col>Pr(&gt;F)</th></tr>\n",
       "\t<tr><th></th><th scope=col>&lt;int&gt;</th><th scope=col>&lt;dbl&gt;</th><th scope=col>&lt;dbl&gt;</th><th scope=col>&lt;dbl&gt;</th><th scope=col>&lt;dbl&gt;</th></tr>\n",
       "</thead>\n",
       "<tbody>\n",
       "\t<tr><th scope=row>Radio</th><td>  1</td><td>1798.6692</td><td>1798.6692010</td><td>2020.4741</td><td>3.477792e-105</td></tr>\n",
       "\t<tr><th scope=row>TV</th><td>  1</td><td>3061.5656</td><td>3061.5655690</td><td>3439.1060</td><td>3.003239e-126</td></tr>\n",
       "\t<tr><th scope=row>Radio:TV</th><td>  1</td><td> 382.4306</td><td> 382.4305974</td><td> 429.5905</td><td> 2.757681e-51</td></tr>\n",
       "\t<tr><th scope=row>Residuals</th><td>196</td><td> 174.4834</td><td>   0.8902213</td><td>       NA</td><td>           NA</td></tr>\n",
       "</tbody>\n",
       "</table>\n"
      ],
      "text/latex": [
       "A anova: 4 × 5\n",
       "\\begin{tabular}{r|lllll}\n",
       "  & Df & Sum Sq & Mean Sq & F value & Pr(>F)\\\\\n",
       "  & <int> & <dbl> & <dbl> & <dbl> & <dbl>\\\\\n",
       "\\hline\n",
       "\tRadio &   1 & 1798.6692 & 1798.6692010 & 2020.4741 & 3.477792e-105\\\\\n",
       "\tTV &   1 & 3061.5656 & 3061.5655690 & 3439.1060 & 3.003239e-126\\\\\n",
       "\tRadio:TV &   1 &  382.4306 &  382.4305974 &  429.5905 &  2.757681e-51\\\\\n",
       "\tResiduals & 196 &  174.4834 &    0.8902213 &        NA &            NA\\\\\n",
       "\\end{tabular}\n"
      ],
      "text/markdown": [
       "\n",
       "A anova: 4 × 5\n",
       "\n",
       "| <!--/--> | Df &lt;int&gt; | Sum Sq &lt;dbl&gt; | Mean Sq &lt;dbl&gt; | F value &lt;dbl&gt; | Pr(&gt;F) &lt;dbl&gt; |\n",
       "|---|---|---|---|---|---|\n",
       "| Radio |   1 | 1798.6692 | 1798.6692010 | 2020.4741 | 3.477792e-105 |\n",
       "| TV |   1 | 3061.5656 | 3061.5655690 | 3439.1060 | 3.003239e-126 |\n",
       "| Radio:TV |   1 |  382.4306 |  382.4305974 |  429.5905 |  2.757681e-51 |\n",
       "| Residuals | 196 |  174.4834 |    0.8902213 |        NA |            NA |\n",
       "\n"
      ],
      "text/plain": [
       "          Df  Sum Sq    Mean Sq      F value   Pr(>F)       \n",
       "Radio       1 1798.6692 1798.6692010 2020.4741 3.477792e-105\n",
       "TV          1 3061.5656 3061.5655690 3439.1060 3.003239e-126\n",
       "Radio:TV    1  382.4306  382.4305974  429.5905  2.757681e-51\n",
       "Residuals 196  174.4834    0.8902213        NA            NA"
      ]
     },
     "metadata": {},
     "output_type": "display_data"
    }
   ],
   "source": [
    "# Alternative syntax\n",
    "lm.Advertising.Radio.TV.3<-lm(Sales~Radio*TV,data=Advertising)\n",
    "summary(lm.Advertising.Radio.TV.3)\n",
    "anova(lm.Advertising.Radio.TV.3)"
   ]
  },
  {
   "cell_type": "markdown",
   "metadata": {},
   "source": [
    "Interaction of a quantitative predictor and a qualitative predictor in the `Credit` dataset"
   ]
  },
  {
   "cell_type": "code",
   "execution_count": 51,
   "metadata": {
    "collapsed": false
   },
   "outputs": [
    {
     "data": {
      "text/plain": [
       "\n",
       "Call:\n",
       "lm(formula = Balance ~ Income + Student, data = Credit)\n",
       "\n",
       "Residuals:\n",
       "    Min      1Q  Median      3Q     Max \n",
       "-762.37 -331.38  -45.04  323.60  818.28 \n",
       "\n",
       "Coefficients:\n",
       "            Estimate Std. Error t value Pr(>|t|)    \n",
       "(Intercept) 211.1430    32.4572   6.505 2.34e-10 ***\n",
       "Income        5.9843     0.5566  10.751  < 2e-16 ***\n",
       "StudentYes  382.6705    65.3108   5.859 9.78e-09 ***\n",
       "---\n",
       "Signif. codes:  0 ‘***’ 0.001 ‘**’ 0.01 ‘*’ 0.05 ‘.’ 0.1 ‘ ’ 1\n",
       "\n",
       "Residual standard error: 391.8 on 397 degrees of freedom\n",
       "Multiple R-squared:  0.2775,\tAdjusted R-squared:  0.2738 \n",
       "F-statistic: 76.22 on 2 and 397 DF,  p-value: < 2.2e-16\n"
      ]
     },
     "metadata": {},
     "output_type": "display_data"
    },
    {
     "data": {
      "text/html": [
       "<table>\n",
       "<caption>A anova: 3 × 5</caption>\n",
       "<thead>\n",
       "\t<tr><th></th><th scope=col>Df</th><th scope=col>Sum Sq</th><th scope=col>Mean Sq</th><th scope=col>F value</th><th scope=col>Pr(&gt;F)</th></tr>\n",
       "\t<tr><th></th><th scope=col>&lt;int&gt;</th><th scope=col>&lt;dbl&gt;</th><th scope=col>&lt;dbl&gt;</th><th scope=col>&lt;dbl&gt;</th><th scope=col>&lt;dbl&gt;</th></tr>\n",
       "</thead>\n",
       "<tbody>\n",
       "\t<tr><th scope=row>Income</th><td>  1</td><td>18131167</td><td>18131167.4</td><td>118.11922</td><td>2.915457e-24</td></tr>\n",
       "\t<tr><th scope=row>Student</th><td>  1</td><td> 5269691</td><td> 5269690.9</td><td> 34.33049</td><td>9.775720e-09</td></tr>\n",
       "\t<tr><th scope=row>Residuals</th><td>397</td><td>60939054</td><td>  153498.9</td><td>       NA</td><td>          NA</td></tr>\n",
       "</tbody>\n",
       "</table>\n"
      ],
      "text/latex": [
       "A anova: 3 × 5\n",
       "\\begin{tabular}{r|lllll}\n",
       "  & Df & Sum Sq & Mean Sq & F value & Pr(>F)\\\\\n",
       "  & <int> & <dbl> & <dbl> & <dbl> & <dbl>\\\\\n",
       "\\hline\n",
       "\tIncome &   1 & 18131167 & 18131167.4 & 118.11922 & 2.915457e-24\\\\\n",
       "\tStudent &   1 &  5269691 &  5269690.9 &  34.33049 & 9.775720e-09\\\\\n",
       "\tResiduals & 397 & 60939054 &   153498.9 &        NA &           NA\\\\\n",
       "\\end{tabular}\n"
      ],
      "text/markdown": [
       "\n",
       "A anova: 3 × 5\n",
       "\n",
       "| <!--/--> | Df &lt;int&gt; | Sum Sq &lt;dbl&gt; | Mean Sq &lt;dbl&gt; | F value &lt;dbl&gt; | Pr(&gt;F) &lt;dbl&gt; |\n",
       "|---|---|---|---|---|---|\n",
       "| Income |   1 | 18131167 | 18131167.4 | 118.11922 | 2.915457e-24 |\n",
       "| Student |   1 |  5269691 |  5269690.9 |  34.33049 | 9.775720e-09 |\n",
       "| Residuals | 397 | 60939054 |   153498.9 |        NA |           NA |\n",
       "\n"
      ],
      "text/plain": [
       "          Df  Sum Sq   Mean Sq    F value   Pr(>F)      \n",
       "Income      1 18131167 18131167.4 118.11922 2.915457e-24\n",
       "Student     1  5269691  5269690.9  34.33049 9.775720e-09\n",
       "Residuals 397 60939054   153498.9        NA           NA"
      ]
     },
     "metadata": {},
     "output_type": "display_data"
    }
   ],
   "source": [
    "lm.Credit.Income.Student.1<-lm(Balance~Income+Student,data=Credit)\n",
    "summary(lm.Credit.Income.Student.1)\n",
    "anova(lm.Credit.Income.Student.1)"
   ]
  },
  {
   "cell_type": "code",
   "execution_count": 52,
   "metadata": {
    "collapsed": false
   },
   "outputs": [
    {
     "data": {
      "text/plain": [
       "\n",
       "Call:\n",
       "lm(formula = Balance ~ Income * Student, data = Credit)\n",
       "\n",
       "Residuals:\n",
       "    Min      1Q  Median      3Q     Max \n",
       "-773.39 -325.70  -41.13  321.65  814.04 \n",
       "\n",
       "Coefficients:\n",
       "                  Estimate Std. Error t value Pr(>|t|)    \n",
       "(Intercept)       200.6232    33.6984   5.953 5.79e-09 ***\n",
       "Income              6.2182     0.5921  10.502  < 2e-16 ***\n",
       "StudentYes        476.6758   104.3512   4.568 6.59e-06 ***\n",
       "Income:StudentYes  -1.9992     1.7313  -1.155    0.249    \n",
       "---\n",
       "Signif. codes:  0 ‘***’ 0.001 ‘**’ 0.01 ‘*’ 0.05 ‘.’ 0.1 ‘ ’ 1\n",
       "\n",
       "Residual standard error: 391.6 on 396 degrees of freedom\n",
       "Multiple R-squared:  0.2799,\tAdjusted R-squared:  0.2744 \n",
       "F-statistic:  51.3 on 3 and 396 DF,  p-value: < 2.2e-16\n"
      ]
     },
     "metadata": {},
     "output_type": "display_data"
    },
    {
     "data": {
      "text/html": [
       "<table>\n",
       "<caption>A anova: 4 × 5</caption>\n",
       "<thead>\n",
       "\t<tr><th></th><th scope=col>Df</th><th scope=col>Sum Sq</th><th scope=col>Mean Sq</th><th scope=col>F value</th><th scope=col>Pr(&gt;F)</th></tr>\n",
       "\t<tr><th></th><th scope=col>&lt;int&gt;</th><th scope=col>&lt;dbl&gt;</th><th scope=col>&lt;dbl&gt;</th><th scope=col>&lt;dbl&gt;</th><th scope=col>&lt;dbl&gt;</th></tr>\n",
       "</thead>\n",
       "<tbody>\n",
       "\t<tr><th scope=row>Income</th><td>  1</td><td>18131167.4</td><td>18131167.4</td><td>118.218426</td><td>2.850251e-24</td></tr>\n",
       "\t<tr><th scope=row>Student</th><td>  1</td><td> 5269690.9</td><td> 5269690.9</td><td> 34.359319</td><td>9.660516e-09</td></tr>\n",
       "\t<tr><th scope=row>Income:Student</th><td>  1</td><td>  204508.6</td><td>  204508.6</td><td>  1.333432</td><td>2.488919e-01</td></tr>\n",
       "\t<tr><th scope=row>Residuals</th><td>396</td><td>60734545.0</td><td>  153370.1</td><td>        NA</td><td>          NA</td></tr>\n",
       "</tbody>\n",
       "</table>\n"
      ],
      "text/latex": [
       "A anova: 4 × 5\n",
       "\\begin{tabular}{r|lllll}\n",
       "  & Df & Sum Sq & Mean Sq & F value & Pr(>F)\\\\\n",
       "  & <int> & <dbl> & <dbl> & <dbl> & <dbl>\\\\\n",
       "\\hline\n",
       "\tIncome &   1 & 18131167.4 & 18131167.4 & 118.218426 & 2.850251e-24\\\\\n",
       "\tStudent &   1 &  5269690.9 &  5269690.9 &  34.359319 & 9.660516e-09\\\\\n",
       "\tIncome:Student &   1 &   204508.6 &   204508.6 &   1.333432 & 2.488919e-01\\\\\n",
       "\tResiduals & 396 & 60734545.0 &   153370.1 &         NA &           NA\\\\\n",
       "\\end{tabular}\n"
      ],
      "text/markdown": [
       "\n",
       "A anova: 4 × 5\n",
       "\n",
       "| <!--/--> | Df &lt;int&gt; | Sum Sq &lt;dbl&gt; | Mean Sq &lt;dbl&gt; | F value &lt;dbl&gt; | Pr(&gt;F) &lt;dbl&gt; |\n",
       "|---|---|---|---|---|---|\n",
       "| Income |   1 | 18131167.4 | 18131167.4 | 118.218426 | 2.850251e-24 |\n",
       "| Student |   1 |  5269690.9 |  5269690.9 |  34.359319 | 9.660516e-09 |\n",
       "| Income:Student |   1 |   204508.6 |   204508.6 |   1.333432 | 2.488919e-01 |\n",
       "| Residuals | 396 | 60734545.0 |   153370.1 |         NA |           NA |\n",
       "\n"
      ],
      "text/plain": [
       "               Df  Sum Sq     Mean Sq    F value    Pr(>F)      \n",
       "Income           1 18131167.4 18131167.4 118.218426 2.850251e-24\n",
       "Student          1  5269690.9  5269690.9  34.359319 9.660516e-09\n",
       "Income:Student   1   204508.6   204508.6   1.333432 2.488919e-01\n",
       "Residuals      396 60734545.0   153370.1         NA           NA"
      ]
     },
     "metadata": {},
     "output_type": "display_data"
    }
   ],
   "source": [
    "lm.Credit.Income.Student.2<-lm(Balance~Income*Student,data=Credit)\n",
    "summary(lm.Credit.Income.Student.2)\n",
    "anova(lm.Credit.Income.Student.2)"
   ]
  },
  {
   "cell_type": "markdown",
   "metadata": {},
   "source": [
    "## 7. The _House prices_ dataset"
   ]
  },
  {
   "cell_type": "markdown",
   "metadata": {},
   "source": [
    "From Kaggle [House Prices: Advanced Regression Techniques](https://www.kaggle.com/c/house-prices-advanced-regression-techniques/discussion)"
   ]
  },
  {
   "cell_type": "code",
   "execution_count": null,
   "metadata": {
    "collapsed": true
   },
   "outputs": [],
   "source": []
  }
 ],
 "metadata": {
  "kernelspec": {
   "display_name": "R",
   "language": "R",
   "name": "ir"
  },
  "language_info": {
   "codemirror_mode": "r",
   "file_extension": ".r",
   "mimetype": "text/x-r-source",
   "name": "R",
   "pygments_lexer": "r",
   "version": "3.3.3"
  }
 },
 "nbformat": 4,
 "nbformat_minor": 2
}
