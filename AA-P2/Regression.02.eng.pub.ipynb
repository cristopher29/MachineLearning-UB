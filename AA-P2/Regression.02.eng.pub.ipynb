{
 "cells": [
  {
   "cell_type": "markdown",
   "metadata": {},
   "source": [
    "# Linear regression 02"
   ]
  },
  {
   "cell_type": "markdown",
   "metadata": {},
   "source": [
    "##### Josep Fortiana 2019-10-08"
   ]
  },
  {
   "cell_type": "markdown",
   "metadata": {},
   "source": [
    "## 1. Multicollinearity and condition number"
   ]
  },
  {
   "cell_type": "markdown",
   "metadata": {},
   "source": [
    "### Acetylene data"
   ]
  },
  {
   "cell_type": "markdown",
   "metadata": {},
   "source": [
    "Download the files: `Acetylene.dat.txt` (data description), `Acetylene.txt` (actual data). We will use these data for multiple linear regression."
   ]
  },
  {
   "cell_type": "code",
   "execution_count": 1,
   "metadata": {
    "collapsed": false
   },
   "outputs": [
    {
     "name": "stdout",
     "output_type": "stream",
     "text": [
      "'data.frame':\t16 obs. of  4 variables:\n",
      " $ X1: int  1300 1300 1300 1300 1300 1300 1200 1200 1200 1200 ...\n",
      " $ X2: num  7.5 9 11 13.5 17 23 5.3 7.5 11 13.5 ...\n",
      " $ X3: num  0.012 0.012 0.0115 0.013 0.0135 0.012 0.04 0.038 0.032 0.026 ...\n",
      " $ Y : num  49 50.2 50.5 48.5 47.5 44.5 28 31.5 34.5 35 ...\n"
     ]
    }
   ],
   "source": [
    "Acetylene<-read.table(\"Acetylene.txt\",header=TRUE)\n",
    "str(Acetylene)"
   ]
  },
  {
   "cell_type": "markdown",
   "metadata": {},
   "source": [
    "#### A description of data"
   ]
  },
  {
   "cell_type": "code",
   "execution_count": 2,
   "metadata": {
    "collapsed": false
   },
   "outputs": [
    {
     "data": {
      "text/plain": [
       "       X1             X2              X3                Y        \n",
       " Min.   :1100   Min.   : 5.30   Min.   :0.01150   Min.   :15.00  \n",
       " 1st Qu.:1175   1st Qu.: 7.50   1st Qu.:0.01275   1st Qu.:29.12  \n",
       " Median :1200   Median :11.00   Median :0.03300   Median :36.50  \n",
       " Mean   :1212   Mean   :12.44   Mean   :0.04031   Mean   :36.11  \n",
       " 3rd Qu.:1300   3rd Qu.:17.00   3rd Qu.:0.05175   3rd Qu.:47.75  \n",
       " Max.   :1300   Max.   :23.00   Max.   :0.09800   Max.   :50.50  "
      ]
     },
     "metadata": {},
     "output_type": "display_data"
    }
   ],
   "source": [
    "summary(Acetylene)"
   ]
  },
  {
   "cell_type": "code",
   "execution_count": 3,
   "metadata": {
    "collapsed": false
   },
   "outputs": [
    {
     "data": {
      "text/html": [
       "<table>\n",
       "<caption>A matrix: 4 × 4 of type dbl</caption>\n",
       "<thead>\n",
       "\t<tr><th></th><th scope=col>X1</th><th scope=col>X2</th><th scope=col>X3</th><th scope=col>Y</th></tr>\n",
       "</thead>\n",
       "<tbody>\n",
       "\t<tr><th scope=row>X1</th><td> 1.00</td><td> 0.22</td><td>-0.96</td><td> 0.95</td></tr>\n",
       "\t<tr><th scope=row>X2</th><td> 0.22</td><td> 1.00</td><td>-0.24</td><td> 0.37</td></tr>\n",
       "\t<tr><th scope=row>X3</th><td>-0.96</td><td>-0.24</td><td> 1.00</td><td>-0.91</td></tr>\n",
       "\t<tr><th scope=row>Y</th><td> 0.95</td><td> 0.37</td><td>-0.91</td><td> 1.00</td></tr>\n",
       "</tbody>\n",
       "</table>\n"
      ],
      "text/latex": [
       "A matrix: 4 × 4 of type dbl\n",
       "\\begin{tabular}{r|llll}\n",
       "  & X1 & X2 & X3 & Y\\\\\n",
       "\\hline\n",
       "\tX1 &  1.00 &  0.22 & -0.96 &  0.95\\\\\n",
       "\tX2 &  0.22 &  1.00 & -0.24 &  0.37\\\\\n",
       "\tX3 & -0.96 & -0.24 &  1.00 & -0.91\\\\\n",
       "\tY &  0.95 &  0.37 & -0.91 &  1.00\\\\\n",
       "\\end{tabular}\n"
      ],
      "text/markdown": [
       "\n",
       "A matrix: 4 × 4 of type dbl\n",
       "\n",
       "| <!--/--> | X1 | X2 | X3 | Y |\n",
       "|---|---|---|---|---|\n",
       "| X1 |  1.00 |  0.22 | -0.96 |  0.95 |\n",
       "| X2 |  0.22 |  1.00 | -0.24 |  0.37 |\n",
       "| X3 | -0.96 | -0.24 |  1.00 | -0.91 |\n",
       "| Y |  0.95 |  0.37 | -0.91 |  1.00 |\n",
       "\n"
      ],
      "text/plain": [
       "   X1    X2    X3    Y    \n",
       "X1  1.00  0.22 -0.96  0.95\n",
       "X2  0.22  1.00 -0.24  0.37\n",
       "X3 -0.96 -0.24  1.00 -0.91\n",
       "Y   0.95  0.37 -0.91  1.00"
      ]
     },
     "metadata": {},
     "output_type": "display_data"
    }
   ],
   "source": [
    "round(cor(Acetylene),2)"
   ]
  },
  {
   "cell_type": "markdown",
   "metadata": {},
   "source": [
    "#### Linear model with a linear influence of each of the  three available predictors _(main effects)_ "
   ]
  },
  {
   "cell_type": "code",
   "execution_count": 4,
   "metadata": {
    "collapsed": false
   },
   "outputs": [
    {
     "data": {
      "text/plain": [
       "\n",
       "Call:\n",
       "lm(formula = Y ~ X1 + X2 + X3, data = Acetylene)\n",
       "\n",
       "Residuals:\n",
       "   Min     1Q Median     3Q    Max \n",
       "-6.920 -1.856  0.234  2.074  6.948 \n",
       "\n",
       "Coefficients:\n",
       "              Estimate Std. Error t value Pr(>|t|)  \n",
       "(Intercept) -121.26962   55.43571  -2.188   0.0492 *\n",
       "X1             0.12685    0.04218   3.007   0.0109 *\n",
       "X2             0.34816    0.17702   1.967   0.0728 .\n",
       "X3           -19.02170  107.92824  -0.176   0.8630  \n",
       "---\n",
       "Signif. codes:  0 ‘***’ 0.001 ‘**’ 0.01 ‘*’ 0.05 ‘.’ 0.1 ‘ ’ 1\n",
       "\n",
       "Residual standard error: 3.767 on 12 degrees of freedom\n",
       "Multiple R-squared:  0.9198,\tAdjusted R-squared:  0.8998 \n",
       "F-statistic: 45.88 on 3 and 12 DF,  p-value: 7.522e-07\n"
      ]
     },
     "metadata": {},
     "output_type": "display_data"
    }
   ],
   "source": [
    "Acetylene.lm.1<-lm(Y~X1+X2+X3,data=Acetylene)\n",
    "summary(Acetylene.lm.1)"
   ]
  },
  {
   "cell_type": "markdown",
   "metadata": {},
   "source": [
    "#### Syntax for prediction\n",
    "\n",
    "Assume we have a (or several) new observation(s) of $X1$, $X2$, $X3$. What does the model `Acetylene.lm.1` predict for the corresponding value(s) of $Y$?\n",
    "\n",
    "$X1=1200$, $X2=11.0$, $X3=0.033$ \n",
    "\n",
    "Here I have chosen the median values, just as an example. Any value within the predictor ranges will do. Prediction for values outside this range (extrapolation) is possible but one should be wary of large errors. \n",
    "\n",
    "Procedure is to build a `data.frame` with the new values (including variable names) and use the predict function:"
   ]
  },
  {
   "cell_type": "code",
   "execution_count": 5,
   "metadata": {
    "collapsed": true
   },
   "outputs": [],
   "source": [
    "new.observation<-data.frame(X1=1200,X2=11.0,X3=0.033)\n",
    "Acetylene.prediction.1<-predict(Acetylene.lm.1,newdata=new.observation,type=\"response\")\n",
    "Acetylene.prediction.2<-predict(Acetylene.lm.1,newdata=new.observation,type=\"response\", interval=\"confidence\")\n",
    "Acetylene.prediction.3<-predict(Acetylene.lm.1,newdata=new.observation,type=\"response\", interval=\"prediction\")"
   ]
  },
  {
   "cell_type": "code",
   "execution_count": 8,
   "metadata": {
    "collapsed": false
   },
   "outputs": [
    {
     "data": {
      "text/html": [
       "<strong>1:</strong> 34.1570204810194"
      ],
      "text/latex": [
       "\\textbf{1:} 34.1570204810194"
      ],
      "text/markdown": [
       "**1:** 34.1570204810194"
      ],
      "text/plain": [
       "       1 \n",
       "34.15702 "
      ]
     },
     "metadata": {},
     "output_type": "display_data"
    },
    {
     "data": {
      "text/html": [
       "<table>\n",
       "<caption>A matrix: 1 × 3 of type dbl</caption>\n",
       "<thead>\n",
       "\t<tr><th scope=col>fit</th><th scope=col>lwr</th><th scope=col>upr</th></tr>\n",
       "</thead>\n",
       "<tbody>\n",
       "\t<tr><td>34.15702</td><td>30.58172</td><td>37.73232</td></tr>\n",
       "</tbody>\n",
       "</table>\n"
      ],
      "text/latex": [
       "A matrix: 1 × 3 of type dbl\n",
       "\\begin{tabular}{r|lll}\n",
       " fit & lwr & upr\\\\\n",
       "\\hline\n",
       "\t 34.15702 & 30.58172 & 37.73232\\\\\n",
       "\\end{tabular}\n"
      ],
      "text/markdown": [
       "\n",
       "A matrix: 1 × 3 of type dbl\n",
       "\n",
       "| fit | lwr | upr |\n",
       "|---|---|---|\n",
       "| 34.15702 | 30.58172 | 37.73232 |\n",
       "\n"
      ],
      "text/plain": [
       "  fit      lwr      upr     \n",
       "1 34.15702 30.58172 37.73232"
      ]
     },
     "metadata": {},
     "output_type": "display_data"
    },
    {
     "data": {
      "text/html": [
       "<table>\n",
       "<caption>A matrix: 1 × 3 of type dbl</caption>\n",
       "<thead>\n",
       "\t<tr><th scope=col>fit</th><th scope=col>lwr</th><th scope=col>upr</th></tr>\n",
       "</thead>\n",
       "<tbody>\n",
       "\t<tr><td>34.15702</td><td>25.20437</td><td>43.10967</td></tr>\n",
       "</tbody>\n",
       "</table>\n"
      ],
      "text/latex": [
       "A matrix: 1 × 3 of type dbl\n",
       "\\begin{tabular}{r|lll}\n",
       " fit & lwr & upr\\\\\n",
       "\\hline\n",
       "\t 34.15702 & 25.20437 & 43.10967\\\\\n",
       "\\end{tabular}\n"
      ],
      "text/markdown": [
       "\n",
       "A matrix: 1 × 3 of type dbl\n",
       "\n",
       "| fit | lwr | upr |\n",
       "|---|---|---|\n",
       "| 34.15702 | 25.20437 | 43.10967 |\n",
       "\n"
      ],
      "text/plain": [
       "  fit      lwr      upr     \n",
       "1 34.15702 25.20437 43.10967"
      ]
     },
     "metadata": {},
     "output_type": "display_data"
    }
   ],
   "source": [
    "#str(Acetylene.prediction.1)\n",
    "Acetylene.prediction.1\n",
    "#str(Acetylene.prediction.2)\n",
    "Acetylene.prediction.2\n",
    "#str(Acetylene.prediction.3)\n",
    "Acetylene.prediction.3"
   ]
  },
  {
   "cell_type": "markdown",
   "metadata": {},
   "source": [
    "#### Investigate multicollinearity"
   ]
  },
  {
   "cell_type": "markdown",
   "metadata": {},
   "source": [
    "Extract the _regression (or model) matrix,_ i.e., the result of pasting a column of ones to the matrix containing the values of  `X1`, `X2`, `X3`. The new column will correspond to the `(Intercept)` regression term."
   ]
  },
  {
   "cell_type": "code",
   "execution_count": 9,
   "metadata": {
    "collapsed": false
   },
   "outputs": [
    {
     "data": {
      "text/html": [
       "<table>\n",
       "<caption>A matrix: 16 × 4 of type dbl</caption>\n",
       "<thead>\n",
       "\t<tr><th scope=col>(Intercept)</th><th scope=col>X1</th><th scope=col>X2</th><th scope=col>X3</th></tr>\n",
       "</thead>\n",
       "<tbody>\n",
       "\t<tr><td>1</td><td>1300</td><td> 7.5</td><td>0.0120</td></tr>\n",
       "\t<tr><td>1</td><td>1300</td><td> 9.0</td><td>0.0120</td></tr>\n",
       "\t<tr><td>1</td><td>1300</td><td>11.0</td><td>0.0115</td></tr>\n",
       "\t<tr><td>1</td><td>1300</td><td>13.5</td><td>0.0130</td></tr>\n",
       "\t<tr><td>1</td><td>1300</td><td>17.0</td><td>0.0135</td></tr>\n",
       "\t<tr><td>1</td><td>1300</td><td>23.0</td><td>0.0120</td></tr>\n",
       "\t<tr><td>1</td><td>1200</td><td> 5.3</td><td>0.0400</td></tr>\n",
       "\t<tr><td>1</td><td>1200</td><td> 7.5</td><td>0.0380</td></tr>\n",
       "\t<tr><td>1</td><td>1200</td><td>11.0</td><td>0.0320</td></tr>\n",
       "\t<tr><td>1</td><td>1200</td><td>13.5</td><td>0.0260</td></tr>\n",
       "\t<tr><td>1</td><td>1200</td><td>17.0</td><td>0.0340</td></tr>\n",
       "\t<tr><td>1</td><td>1200</td><td>23.0</td><td>0.0410</td></tr>\n",
       "\t<tr><td>1</td><td>1100</td><td> 5.3</td><td>0.0840</td></tr>\n",
       "\t<tr><td>1</td><td>1100</td><td> 7.5</td><td>0.0980</td></tr>\n",
       "\t<tr><td>1</td><td>1100</td><td>11.0</td><td>0.0920</td></tr>\n",
       "\t<tr><td>1</td><td>1100</td><td>17.0</td><td>0.0860</td></tr>\n",
       "</tbody>\n",
       "</table>\n"
      ],
      "text/latex": [
       "A matrix: 16 × 4 of type dbl\n",
       "\\begin{tabular}{r|llll}\n",
       " (Intercept) & X1 & X2 & X3\\\\\n",
       "\\hline\n",
       "\t 1 & 1300 &  7.5 & 0.0120\\\\\n",
       "\t 1 & 1300 &  9.0 & 0.0120\\\\\n",
       "\t 1 & 1300 & 11.0 & 0.0115\\\\\n",
       "\t 1 & 1300 & 13.5 & 0.0130\\\\\n",
       "\t 1 & 1300 & 17.0 & 0.0135\\\\\n",
       "\t 1 & 1300 & 23.0 & 0.0120\\\\\n",
       "\t 1 & 1200 &  5.3 & 0.0400\\\\\n",
       "\t 1 & 1200 &  7.5 & 0.0380\\\\\n",
       "\t 1 & 1200 & 11.0 & 0.0320\\\\\n",
       "\t 1 & 1200 & 13.5 & 0.0260\\\\\n",
       "\t 1 & 1200 & 17.0 & 0.0340\\\\\n",
       "\t 1 & 1200 & 23.0 & 0.0410\\\\\n",
       "\t 1 & 1100 &  5.3 & 0.0840\\\\\n",
       "\t 1 & 1100 &  7.5 & 0.0980\\\\\n",
       "\t 1 & 1100 & 11.0 & 0.0920\\\\\n",
       "\t 1 & 1100 & 17.0 & 0.0860\\\\\n",
       "\\end{tabular}\n"
      ],
      "text/markdown": [
       "\n",
       "A matrix: 16 × 4 of type dbl\n",
       "\n",
       "| (Intercept) | X1 | X2 | X3 |\n",
       "|---|---|---|---|\n",
       "| 1 | 1300 |  7.5 | 0.0120 |\n",
       "| 1 | 1300 |  9.0 | 0.0120 |\n",
       "| 1 | 1300 | 11.0 | 0.0115 |\n",
       "| 1 | 1300 | 13.5 | 0.0130 |\n",
       "| 1 | 1300 | 17.0 | 0.0135 |\n",
       "| 1 | 1300 | 23.0 | 0.0120 |\n",
       "| 1 | 1200 |  5.3 | 0.0400 |\n",
       "| 1 | 1200 |  7.5 | 0.0380 |\n",
       "| 1 | 1200 | 11.0 | 0.0320 |\n",
       "| 1 | 1200 | 13.5 | 0.0260 |\n",
       "| 1 | 1200 | 17.0 | 0.0340 |\n",
       "| 1 | 1200 | 23.0 | 0.0410 |\n",
       "| 1 | 1100 |  5.3 | 0.0840 |\n",
       "| 1 | 1100 |  7.5 | 0.0980 |\n",
       "| 1 | 1100 | 11.0 | 0.0920 |\n",
       "| 1 | 1100 | 17.0 | 0.0860 |\n",
       "\n"
      ],
      "text/plain": [
       "   (Intercept) X1   X2   X3    \n",
       "1  1           1300  7.5 0.0120\n",
       "2  1           1300  9.0 0.0120\n",
       "3  1           1300 11.0 0.0115\n",
       "4  1           1300 13.5 0.0130\n",
       "5  1           1300 17.0 0.0135\n",
       "6  1           1300 23.0 0.0120\n",
       "7  1           1200  5.3 0.0400\n",
       "8  1           1200  7.5 0.0380\n",
       "9  1           1200 11.0 0.0320\n",
       "10 1           1200 13.5 0.0260\n",
       "11 1           1200 17.0 0.0340\n",
       "12 1           1200 23.0 0.0410\n",
       "13 1           1100  5.3 0.0840\n",
       "14 1           1100  7.5 0.0980\n",
       "15 1           1100 11.0 0.0920\n",
       "16 1           1100 17.0 0.0860"
      ]
     },
     "metadata": {},
     "output_type": "display_data"
    },
    {
     "data": {
      "text/html": [
       "<table>\n",
       "<caption>A matrix: 3 × 3 of type dbl</caption>\n",
       "<thead>\n",
       "\t<tr><th></th><th scope=col>X1</th><th scope=col>X2</th><th scope=col>X3</th></tr>\n",
       "</thead>\n",
       "<tbody>\n",
       "\t<tr><th scope=row>X1</th><td> 1.000</td><td> 0.224</td><td>-0.958</td></tr>\n",
       "\t<tr><th scope=row>X2</th><td> 0.224</td><td> 1.000</td><td>-0.240</td></tr>\n",
       "\t<tr><th scope=row>X3</th><td>-0.958</td><td>-0.240</td><td> 1.000</td></tr>\n",
       "</tbody>\n",
       "</table>\n"
      ],
      "text/latex": [
       "A matrix: 3 × 3 of type dbl\n",
       "\\begin{tabular}{r|lll}\n",
       "  & X1 & X2 & X3\\\\\n",
       "\\hline\n",
       "\tX1 &  1.000 &  0.224 & -0.958\\\\\n",
       "\tX2 &  0.224 &  1.000 & -0.240\\\\\n",
       "\tX3 & -0.958 & -0.240 &  1.000\\\\\n",
       "\\end{tabular}\n"
      ],
      "text/markdown": [
       "\n",
       "A matrix: 3 × 3 of type dbl\n",
       "\n",
       "| <!--/--> | X1 | X2 | X3 |\n",
       "|---|---|---|---|\n",
       "| X1 |  1.000 |  0.224 | -0.958 |\n",
       "| X2 |  0.224 |  1.000 | -0.240 |\n",
       "| X3 | -0.958 | -0.240 |  1.000 |\n",
       "\n"
      ],
      "text/plain": [
       "   X1     X2     X3    \n",
       "X1  1.000  0.224 -0.958\n",
       "X2  0.224  1.000 -0.240\n",
       "X3 -0.958 -0.240  1.000"
      ]
     },
     "metadata": {},
     "output_type": "display_data"
    }
   ],
   "source": [
    "X<-model.matrix(Acetylene.lm.1)\n",
    "X\n",
    "round(cor(X[,-1]),3)"
   ]
  },
  {
   "cell_type": "markdown",
   "metadata": {},
   "source": [
    "Matrix $Q=X'\\cdot X$ of cross-products, its determinant and its inverse:"
   ]
  },
  {
   "cell_type": "code",
   "execution_count": 10,
   "metadata": {
    "collapsed": false
   },
   "outputs": [
    {
     "data": {
      "text/html": [
       "<table>\n",
       "<caption>A matrix: 4 × 4 of type dbl</caption>\n",
       "<thead>\n",
       "\t<tr><th></th><th scope=col>(Intercept)</th><th scope=col>X1</th><th scope=col>X2</th><th scope=col>X3</th></tr>\n",
       "</thead>\n",
       "<tbody>\n",
       "\t<tr><th scope=row>(Intercept)</th><td>   16.000</td><td>   19400.0</td><td>   199.100</td><td>  0.645</td></tr>\n",
       "\t<tr><th scope=row>X1</th><td>19400.000</td><td>23620000.0</td><td>242940.000</td><td>745.400</td></tr>\n",
       "\t<tr><th scope=row>X2</th><td>  199.100</td><td>  242940.0</td><td>  2958.430</td><td>  7.381</td></tr>\n",
       "\t<tr><th scope=row>X3</th><td>    0.645</td><td>     745.4</td><td>     7.381</td><td>  0.041</td></tr>\n",
       "</tbody>\n",
       "</table>\n"
      ],
      "text/latex": [
       "A matrix: 4 × 4 of type dbl\n",
       "\\begin{tabular}{r|llll}\n",
       "  & (Intercept) & X1 & X2 & X3\\\\\n",
       "\\hline\n",
       "\t(Intercept) &    16.000 &    19400.0 &    199.100 &   0.645\\\\\n",
       "\tX1 & 19400.000 & 23620000.0 & 242940.000 & 745.400\\\\\n",
       "\tX2 &   199.100 &   242940.0 &   2958.430 &   7.381\\\\\n",
       "\tX3 &     0.645 &      745.4 &      7.381 &   0.041\\\\\n",
       "\\end{tabular}\n"
      ],
      "text/markdown": [
       "\n",
       "A matrix: 4 × 4 of type dbl\n",
       "\n",
       "| <!--/--> | (Intercept) | X1 | X2 | X3 |\n",
       "|---|---|---|---|---|\n",
       "| (Intercept) |    16.000 |    19400.0 |    199.100 |   0.645 |\n",
       "| X1 | 19400.000 | 23620000.0 | 242940.000 | 745.400 |\n",
       "| X2 |   199.100 |   242940.0 |   2958.430 |   7.381 |\n",
       "| X3 |     0.645 |      745.4 |      7.381 |   0.041 |\n",
       "\n"
      ],
      "text/plain": [
       "            (Intercept) X1         X2         X3     \n",
       "(Intercept)    16.000      19400.0    199.100   0.645\n",
       "X1          19400.000   23620000.0 242940.000 745.400\n",
       "X2            199.100     242940.0   2958.430   7.381\n",
       "X3              0.645        745.4      7.381   0.041"
      ]
     },
     "metadata": {},
     "output_type": "display_data"
    },
    {
     "data": {
      "text/html": [
       "868196.343"
      ],
      "text/latex": [
       "868196.343"
      ],
      "text/markdown": [
       "868196.343"
      ],
      "text/plain": [
       "[1] 868196.3"
      ]
     },
     "metadata": {},
     "output_type": "display_data"
    },
    {
     "data": {
      "text/html": [
       "<table>\n",
       "<caption>A matrix: 4 × 4 of type dbl</caption>\n",
       "<thead>\n",
       "\t<tr><th></th><th scope=col>(Intercept)</th><th scope=col>X1</th><th scope=col>X2</th><th scope=col>X3</th></tr>\n",
       "</thead>\n",
       "<tbody>\n",
       "\t<tr><th scope=row>(Intercept)</th><td> 216.556</td><td>-0.165</td><td>-0.048</td><td>-406.513</td></tr>\n",
       "\t<tr><th scope=row>X1</th><td>  -0.165</td><td> 0.000</td><td> 0.000</td><td>   0.307</td></tr>\n",
       "\t<tr><th scope=row>X2</th><td>  -0.048</td><td> 0.000</td><td> 0.002</td><td>   0.125</td></tr>\n",
       "\t<tr><th scope=row>X3</th><td>-406.513</td><td> 0.307</td><td> 0.125</td><td> 820.847</td></tr>\n",
       "</tbody>\n",
       "</table>\n"
      ],
      "text/latex": [
       "A matrix: 4 × 4 of type dbl\n",
       "\\begin{tabular}{r|llll}\n",
       "  & (Intercept) & X1 & X2 & X3\\\\\n",
       "\\hline\n",
       "\t(Intercept) &  216.556 & -0.165 & -0.048 & -406.513\\\\\n",
       "\tX1 &   -0.165 &  0.000 &  0.000 &    0.307\\\\\n",
       "\tX2 &   -0.048 &  0.000 &  0.002 &    0.125\\\\\n",
       "\tX3 & -406.513 &  0.307 &  0.125 &  820.847\\\\\n",
       "\\end{tabular}\n"
      ],
      "text/markdown": [
       "\n",
       "A matrix: 4 × 4 of type dbl\n",
       "\n",
       "| <!--/--> | (Intercept) | X1 | X2 | X3 |\n",
       "|---|---|---|---|---|\n",
       "| (Intercept) |  216.556 | -0.165 | -0.048 | -406.513 |\n",
       "| X1 |   -0.165 |  0.000 |  0.000 |    0.307 |\n",
       "| X2 |   -0.048 |  0.000 |  0.002 |    0.125 |\n",
       "| X3 | -406.513 |  0.307 |  0.125 |  820.847 |\n",
       "\n"
      ],
      "text/plain": [
       "            (Intercept) X1     X2     X3      \n",
       "(Intercept)  216.556    -0.165 -0.048 -406.513\n",
       "X1            -0.165     0.000  0.000    0.307\n",
       "X2            -0.048     0.000  0.002    0.125\n",
       "X3          -406.513     0.307  0.125  820.847"
      ]
     },
     "metadata": {},
     "output_type": "display_data"
    }
   ],
   "source": [
    "Q<- t(X) %*% X\n",
    "round(Q,3)\n",
    "round(det(Q),3)\n",
    "Q1<-solve(Q)\n",
    "round(Q1,3)"
   ]
  },
  {
   "cell_type": "markdown",
   "metadata": {},
   "source": [
    "Regression coefficients estimates $\\hat{\\beta}$:\n",
    "\n",
    "$$\n",
    "    \\hat{\\beta}=(X'\\cdot X)^{-1}\\cdot X' \\cdot y.\n",
    "$$\n",
    "\n",
    "$y$ is the column of responses."
   ]
  },
  {
   "cell_type": "code",
   "execution_count": 11,
   "metadata": {
    "collapsed": false
   },
   "outputs": [
    {
     "data": {
      "text/html": [
       "<table>\n",
       "<caption>A matrix: 4 × 1 of type dbl</caption>\n",
       "<tbody>\n",
       "\t<tr><th scope=row>(Intercept)</th><td>-121.2696214</td></tr>\n",
       "\t<tr><th scope=row>X1</th><td>   0.1268539</td></tr>\n",
       "\t<tr><th scope=row>X2</th><td>   0.3481576</td></tr>\n",
       "\t<tr><th scope=row>X3</th><td> -19.0216969</td></tr>\n",
       "</tbody>\n",
       "</table>\n"
      ],
      "text/latex": [
       "A matrix: 4 × 1 of type dbl\n",
       "\\begin{tabular}{r|l}\n",
       "\t(Intercept) & -121.2696214\\\\\n",
       "\tX1 &    0.1268539\\\\\n",
       "\tX2 &    0.3481576\\\\\n",
       "\tX3 &  -19.0216969\\\\\n",
       "\\end{tabular}\n"
      ],
      "text/markdown": [
       "\n",
       "A matrix: 4 × 1 of type dbl\n",
       "\n",
       "| (Intercept) | -121.2696214 |\n",
       "| X1 |    0.1268539 |\n",
       "| X2 |    0.3481576 |\n",
       "| X3 |  -19.0216969 |\n",
       "\n"
      ],
      "text/plain": [
       "            [,1]        \n",
       "(Intercept) -121.2696214\n",
       "X1             0.1268539\n",
       "X2             0.3481576\n",
       "X3           -19.0216969"
      ]
     },
     "metadata": {},
     "output_type": "display_data"
    }
   ],
   "source": [
    "y<-as.matrix(Acetylene$Y)\n",
    "Q1%*%t(X) %*% y"
   ]
  },
  {
   "cell_type": "markdown",
   "metadata": {},
   "source": [
    "Compute $V$, variances and covariances matrix of the regression coefficients estimators $\\hat{\\beta}$, in two ways:\n",
    "\n",
    "(1) Directly from the above formula, using the fact that $\\operatorname{Var}(y)=\\sigma^{2}\\,I$, substituting the ML estimate $\\hat{\\sigma}^{2}$.\n",
    "\n",
    "(2) With the `vcov()` function in R."
   ]
  },
  {
   "cell_type": "code",
   "execution_count": 12,
   "metadata": {
    "collapsed": false
   },
   "outputs": [
    {
     "data": {
      "text/html": [
       "<table>\n",
       "<caption>A matrix: 4 × 4 of type dbl</caption>\n",
       "<thead>\n",
       "\t<tr><th></th><th scope=col>(Intercept)</th><th scope=col>X1</th><th scope=col>X2</th><th scope=col>X3</th></tr>\n",
       "</thead>\n",
       "<tbody>\n",
       "\t<tr><th scope=row>(Intercept)</th><td> 3073.118</td><td>-2.335</td><td>-0.676</td><td>-5768.763</td></tr>\n",
       "\t<tr><th scope=row>X1</th><td>   -2.335</td><td> 0.002</td><td> 0.000</td><td>    4.352</td></tr>\n",
       "\t<tr><th scope=row>X2</th><td>   -0.676</td><td> 0.000</td><td> 0.031</td><td>    1.778</td></tr>\n",
       "\t<tr><th scope=row>X3</th><td>-5768.763</td><td> 4.352</td><td> 1.778</td><td>11648.504</td></tr>\n",
       "</tbody>\n",
       "</table>\n"
      ],
      "text/latex": [
       "A matrix: 4 × 4 of type dbl\n",
       "\\begin{tabular}{r|llll}\n",
       "  & (Intercept) & X1 & X2 & X3\\\\\n",
       "\\hline\n",
       "\t(Intercept) &  3073.118 & -2.335 & -0.676 & -5768.763\\\\\n",
       "\tX1 &    -2.335 &  0.002 &  0.000 &     4.352\\\\\n",
       "\tX2 &    -0.676 &  0.000 &  0.031 &     1.778\\\\\n",
       "\tX3 & -5768.763 &  4.352 &  1.778 & 11648.504\\\\\n",
       "\\end{tabular}\n"
      ],
      "text/markdown": [
       "\n",
       "A matrix: 4 × 4 of type dbl\n",
       "\n",
       "| <!--/--> | (Intercept) | X1 | X2 | X3 |\n",
       "|---|---|---|---|---|\n",
       "| (Intercept) |  3073.118 | -2.335 | -0.676 | -5768.763 |\n",
       "| X1 |    -2.335 |  0.002 |  0.000 |     4.352 |\n",
       "| X2 |    -0.676 |  0.000 |  0.031 |     1.778 |\n",
       "| X3 | -5768.763 |  4.352 |  1.778 | 11648.504 |\n",
       "\n"
      ],
      "text/plain": [
       "            (Intercept) X1     X2     X3       \n",
       "(Intercept)  3073.118   -2.335 -0.676 -5768.763\n",
       "X1             -2.335    0.002  0.000     4.352\n",
       "X2             -0.676    0.000  0.031     1.778\n",
       "X3          -5768.763    4.352  1.778 11648.504"
      ]
     },
     "metadata": {},
     "output_type": "display_data"
    },
    {
     "data": {
      "text/html": [
       "<table>\n",
       "<caption>A matrix: 4 × 4 of type dbl</caption>\n",
       "<thead>\n",
       "\t<tr><th></th><th scope=col>(Intercept)</th><th scope=col>X1</th><th scope=col>X2</th><th scope=col>X3</th></tr>\n",
       "</thead>\n",
       "<tbody>\n",
       "\t<tr><th scope=row>(Intercept)</th><td> 3073.1176892</td><td>-2.3350689880</td><td>-0.6755487518</td><td>-5768.762894</td></tr>\n",
       "\t<tr><th scope=row>X1</th><td>   -2.3350690</td><td> 0.0017793193</td><td> 0.0001764518</td><td>    4.352212</td></tr>\n",
       "\t<tr><th scope=row>X2</th><td>   -0.6755488</td><td> 0.0001764518</td><td> 0.0313350447</td><td>    1.777998</td></tr>\n",
       "\t<tr><th scope=row>X3</th><td>-5768.7628939</td><td> 4.3522124727</td><td> 1.7779975238</td><td>11648.503915</td></tr>\n",
       "</tbody>\n",
       "</table>\n"
      ],
      "text/latex": [
       "A matrix: 4 × 4 of type dbl\n",
       "\\begin{tabular}{r|llll}\n",
       "  & (Intercept) & X1 & X2 & X3\\\\\n",
       "\\hline\n",
       "\t(Intercept) &  3073.1176892 & -2.3350689880 & -0.6755487518 & -5768.762894\\\\\n",
       "\tX1 &    -2.3350690 &  0.0017793193 &  0.0001764518 &     4.352212\\\\\n",
       "\tX2 &    -0.6755488 &  0.0001764518 &  0.0313350447 &     1.777998\\\\\n",
       "\tX3 & -5768.7628939 &  4.3522124727 &  1.7779975238 & 11648.503915\\\\\n",
       "\\end{tabular}\n"
      ],
      "text/markdown": [
       "\n",
       "A matrix: 4 × 4 of type dbl\n",
       "\n",
       "| <!--/--> | (Intercept) | X1 | X2 | X3 |\n",
       "|---|---|---|---|---|\n",
       "| (Intercept) |  3073.1176892 | -2.3350689880 | -0.6755487518 | -5768.762894 |\n",
       "| X1 |    -2.3350690 |  0.0017793193 |  0.0001764518 |     4.352212 |\n",
       "| X2 |    -0.6755488 |  0.0001764518 |  0.0313350447 |     1.777998 |\n",
       "| X3 | -5768.7628939 |  4.3522124727 |  1.7779975238 | 11648.503915 |\n",
       "\n"
      ],
      "text/plain": [
       "            (Intercept)   X1            X2            X3          \n",
       "(Intercept)  3073.1176892 -2.3350689880 -0.6755487518 -5768.762894\n",
       "X1             -2.3350690  0.0017793193  0.0001764518     4.352212\n",
       "X2             -0.6755488  0.0001764518  0.0313350447     1.777998\n",
       "X3          -5768.7628939  4.3522124727  1.7779975238 11648.503915"
      ]
     },
     "metadata": {},
     "output_type": "display_data"
    }
   ],
   "source": [
    "sigma.hat<-summary(Acetylene.lm.1)$sigma\n",
    "V<-sigma.hat^2*Q1\n",
    "round(V,3)\n",
    "vcov(Acetylene.lm.1)"
   ]
  },
  {
   "cell_type": "markdown",
   "metadata": {},
   "source": [
    "Diagonal entries in $V$ are the variances of the coefficient estimators. We observe two of them are quite large, indicating model instability. \n",
    "\n",
    "This behaviour can be more precisely detected by using the _Variance Inflation Factors (VIF),_ which we compute with the `vif()` function from the `car` package. Intuitively, VIF's quantify _multicollinearity_ in the data, that is, linear dependences in the set of predictors. The VIF of a predictor is the proportion of its actual variance relative to the one it would have if it were linearly independent from the others:"
   ]
  },
  {
   "cell_type": "code",
   "execution_count": 39,
   "metadata": {
    "collapsed": false
   },
   "outputs": [
    {
     "name": "stderr",
     "output_type": "stream",
     "text": [
      "Installing package into ‘/home/crquispq7.alumnes/R/x86_64-pc-linux-gnu-library/3.3’\n",
      "(as ‘lib’ is unspecified)\n",
      "Loading required package: VIF\n"
     ]
    }
   ],
   "source": [
    "#install.packages(\"car\",dependencies=TRUE,repos=\"https://cloud.r-project.org\")\n",
    "#install.packages(\"VIF\")\n",
    "require(VIF)\n",
    "?vif"
   ]
  },
  {
   "cell_type": "code",
   "execution_count": 40,
   "metadata": {
    "collapsed": false
   },
   "outputs": [
    {
     "name": "stderr",
     "output_type": "stream",
     "text": [
      "Warning message in mean.default(y):\n",
      "“argument is not numeric or logical: returning NA”"
     ]
    },
    {
     "ename": "ERROR",
     "evalue": "Error in as.vector(y) - mean(y): argumento no-numérico para operador binario\n",
     "output_type": "error",
     "traceback": [
      "Error in as.vector(y) - mean(y): argumento no-numérico para operador binario\nTraceback:\n",
      "1. vif(Acetylene.lm.1)"
     ]
    }
   ],
   "source": [
    "vif(Acetylene.lm.1)"
   ]
  },
  {
   "cell_type": "markdown",
   "metadata": {},
   "source": [
    "The commonly accepted rule of thumb is that a VIF larger than 10 is too large, indicating multicollinearity. "
   ]
  },
  {
   "cell_type": "markdown",
   "metadata": {},
   "source": [
    "Another quantity used in multicollinearity detection is the _condition number_ of the model matrix $X$. In general, the condition number $\\kappa(A)$ of a matrix $A$ measures the numerical inaccuracy introduced by solving the equation $A\\cdot x = b$ for a given column vector $b$. Technically it is the ratio between the maximum and minimum singular values of $A$. When $\\kappa\\approx1$ there is no significant precision loss. When $\\kappa=10^k$ the precision loss of $k$ significant decimal digits:\n",
    "\n",
    "The `kappa()` function in R gives the condition number of a matrix. We check the condition number of the model matrix $X$ of this regression:"
   ]
  },
  {
   "cell_type": "code",
   "execution_count": 41,
   "metadata": {
    "collapsed": false
   },
   "outputs": [
    {
     "data": {
      "text/html": [
       "201893.288773715"
      ],
      "text/latex": [
       "201893.288773715"
      ],
      "text/markdown": [
       "201893.288773715"
      ],
      "text/plain": [
       "[1] 201893.3"
      ]
     },
     "metadata": {},
     "output_type": "display_data"
    }
   ],
   "source": [
    "kappa(X)"
   ]
  },
  {
   "cell_type": "markdown",
   "metadata": {},
   "source": [
    "We see that these data have bad condition for regression. The practical consequence of this fact is that predictions $\\hat{y}$ obtained from this model are unreliable. \n",
    "\n",
    "The predicted $\\hat{y}$ for a new $x$ can be computed as usual:"
   ]
  },
  {
   "cell_type": "code",
   "execution_count": null,
   "metadata": {
    "collapsed": true,
    "scrolled": true
   },
   "outputs": [],
   "source": [
    "newy<-predict(Acetylene.lm.1,newdata=data.frame(X1=1100,X2=8,X3=0.02), type=\"response\")\n",
    "round(newy,3)"
   ]
  },
  {
   "cell_type": "markdown",
   "metadata": {},
   "source": [
    "However, due to the bad condition of the model it would be unadvisable to rely upon this value, which possibly will have a large error (and we do not know how large)."
   ]
  },
  {
   "cell_type": "code",
   "execution_count": null,
   "metadata": {
    "collapsed": true
   },
   "outputs": [],
   "source": [
    "round(predict(Acetylene.lm.1,newdata=data.frame(X1=1100,X2=8,X3=0.02), type=\"response\",interval=\"confidence\"),3)\n",
    "round(predict(Acetylene.lm.1,newdata=data.frame(X1=1100,X2=8,X3=0.02), type=\"response\",interval=\"prediction\"),3)"
   ]
  },
  {
   "cell_type": "markdown",
   "metadata": {},
   "source": [
    "We should restate the model, either replacing the original predictors with suitable linear combinations, designed to diminish multicollinearity, such as _PCR_ and _PLS,_ or by means of _regularization._ "
   ]
  },
  {
   "cell_type": "markdown",
   "metadata": {},
   "source": [
    "### GPA (Grade Point Average) dataset"
   ]
  },
  {
   "cell_type": "markdown",
   "metadata": {},
   "source": [
    "The GPA dataset has 30 observacions (for 30 students) of 5 variables:\n",
    "\n",
    "`gpa`:   \"graduate grade point average\"\n",
    "\n",
    "`greq`:  \"GRE exam quantitative score\"\n",
    "\n",
    "`grev`:  \"GRE exam verbal score\"\n",
    "\n",
    "`mat`:   \"Miller Analogies Test score\"\n",
    "\n",
    "`ar`:    \"rating by professors\"\n",
    "\n",
    "#### Read the data file into R:"
   ]
  },
  {
   "cell_type": "code",
   "execution_count": 17,
   "metadata": {
    "collapsed": false
   },
   "outputs": [
    {
     "name": "stdout",
     "output_type": "stream",
     "text": [
      "'data.frame':\t30 obs. of  5 variables:\n",
      " $ gpa : num  3.2 4.1 3 2.6 3.7 4 4.3 2.7 3.6 4.1 ...\n",
      " $ greq: int  625 575 520 545 520 655 630 500 605 555 ...\n",
      " $ grev: int  540 680 480 520 490 535 720 500 575 690 ...\n",
      " $ mat : int  65 75 65 55 75 65 75 75 65 75 ...\n",
      " $ ar  : num  2.7 4.5 2.5 3.1 3.6 4.3 4.6 3 4.7 3.4 ...\n"
     ]
    }
   ],
   "source": [
    "gpa<-read.table(\"gpa.txt\",header=TRUE)\n",
    "str(gpa)"
   ]
  },
  {
   "cell_type": "markdown",
   "metadata": {},
   "source": [
    "#### Fit a linear model to predict the response `gpa` from the remaining four variables:"
   ]
  },
  {
   "cell_type": "code",
   "execution_count": null,
   "metadata": {
    "collapsed": true
   },
   "outputs": [],
   "source": [
    "gpa.lm.1<-lm(gpa~.,data=gpa)\n",
    "summary(gpa.lm.1)"
   ]
  },
  {
   "cell_type": "markdown",
   "metadata": {},
   "source": [
    "#### Compute VIF and condition number"
   ]
  },
  {
   "cell_type": "code",
   "execution_count": null,
   "metadata": {
    "collapsed": true
   },
   "outputs": [],
   "source": [
    "vif(gpa.lm.1)\n",
    "X.gpa<-model.matrix(gpa.lm.1)\n",
    "kappa(X.gpa)"
   ]
  },
  {
   "cell_type": "markdown",
   "metadata": {},
   "source": [
    "The condition number $\\kappa$ is not small, but the VIF's are acceptable."
   ]
  },
  {
   "cell_type": "markdown",
   "metadata": {},
   "source": [
    "#### Exploring the effect of adding a new, redundant, variable\n",
    "\n",
    "A _\"new\"_ artificial predictor variable adding no new information. A linear combination plus a random noise:"
   ]
  },
  {
   "cell_type": "code",
   "execution_count": null,
   "metadata": {
    "collapsed": true
   },
   "outputs": [],
   "source": [
    "new<-gpa$greq+gpa$grev+gpa$mat+rnorm(30,0,0.5)\n",
    "gpanew<-data.frame(gpa,new)"
   ]
  },
  {
   "cell_type": "markdown",
   "metadata": {},
   "source": [
    "#### New linear model using the new, enlarged, predictor set"
   ]
  },
  {
   "cell_type": "code",
   "execution_count": null,
   "metadata": {
    "collapsed": true
   },
   "outputs": [],
   "source": [
    "gpa.lm.2<-lm(gpa~.,data=gpanew)\n",
    "summary(gpa.lm.2)"
   ]
  },
  {
   "cell_type": "markdown",
   "metadata": {},
   "source": [
    "#### VIF's and condition number of the new model"
   ]
  },
  {
   "cell_type": "code",
   "execution_count": null,
   "metadata": {
    "collapsed": true
   },
   "outputs": [],
   "source": [
    "vif(gpa.lm.2)\n",
    "X.gpa.2<-model.matrix(gpa.lm.2)\n",
    "kappa(X.gpa.2)"
   ]
  },
  {
   "cell_type": "markdown",
   "metadata": {},
   "source": [
    "### Longley dataset\n",
    "\n",
    "This is a classic infamous dataset, designed to reveal computational weaknesses in statistical software (of its time, fifty years ago). The source is:  Longley, James W. (1967), _\"An Appraisal of Least Squares Programs for the Electronic Computer from the Point of View of the User\",_ Journal of the American Statistical Association, Vol. 62, No. 319, pp. 819-841.  "
   ]
  },
  {
   "cell_type": "code",
   "execution_count": null,
   "metadata": {
    "collapsed": true
   },
   "outputs": [],
   "source": [
    "data(longley)\n",
    "str(longley)\n",
    "# ?longley"
   ]
  },
  {
   "cell_type": "markdown",
   "metadata": {},
   "source": [
    "#### Exercise\n",
    "\n",
    "Prepare a linear model to predict `Employed` from the remaining variables.\n",
    "\n",
    "Obtain VIF's and condition number. Repeat after standardizing the predictors. What happens with VIF and `kappa`?"
   ]
  },
  {
   "cell_type": "code",
   "execution_count": null,
   "metadata": {
    "collapsed": true
   },
   "outputs": [],
   "source": [
    "#\n",
    "# Insert here your code\n",
    "#"
   ]
  },
  {
   "cell_type": "markdown",
   "metadata": {},
   "source": [
    "## 2. Polynomial regression "
   ]
  },
  {
   "cell_type": "markdown",
   "metadata": {},
   "source": [
    "### The  `cars` dataset"
   ]
  },
  {
   "cell_type": "markdown",
   "metadata": {},
   "source": [
    "We take another classic dataset: `cars`, stopping distance of several vehicles as a function of the initial speed. These data were registered in the 1920's. From Physics, stopping distance should be a quadratic function of speed. Firstly we fit a simple linear regression and then we try a linear regression with a quadratic term."
   ]
  },
  {
   "cell_type": "markdown",
   "metadata": {},
   "source": [
    "#### Simple linear model"
   ]
  },
  {
   "cell_type": "code",
   "execution_count": 22,
   "metadata": {
    "collapsed": false
   },
   "outputs": [
    {
     "name": "stdout",
     "output_type": "stream",
     "text": [
      "'data.frame':\t50 obs. of  2 variables:\n",
      " $ speed: num  4 4 7 7 8 9 10 10 10 11 ...\n",
      " $ dist : num  2 10 4 22 16 10 18 26 34 17 ...\n"
     ]
    },
    {
     "data": {
      "text/plain": [
       "\n",
       "Call:\n",
       "lm(formula = dist ~ speed, data = cars)\n",
       "\n",
       "Residuals:\n",
       "    Min      1Q  Median      3Q     Max \n",
       "-29.069  -9.525  -2.272   9.215  43.201 \n",
       "\n",
       "Coefficients:\n",
       "            Estimate Std. Error t value Pr(>|t|)    \n",
       "(Intercept) -17.5791     6.7584  -2.601   0.0123 *  \n",
       "speed         3.9324     0.4155   9.464 1.49e-12 ***\n",
       "---\n",
       "Signif. codes:  0 ‘***’ 0.001 ‘**’ 0.01 ‘*’ 0.05 ‘.’ 0.1 ‘ ’ 1\n",
       "\n",
       "Residual standard error: 15.38 on 48 degrees of freedom\n",
       "Multiple R-squared:  0.6511,\tAdjusted R-squared:  0.6438 \n",
       "F-statistic: 89.57 on 1 and 48 DF,  p-value: 1.49e-12\n"
      ]
     },
     "metadata": {},
     "output_type": "display_data"
    },
    {
     "data": {
      "image/png": "[encoded data removed]",
      "text/plain": [
       "Plot with title “Stopping distance vs. speed”"
      ]
     },
     "metadata": {},
     "output_type": "display_data"
    }
   ],
   "source": [
    "data(cars)\n",
    "# ?cars\n",
    "str(cars)\n",
    "plot(dist~speed,data=cars,pch=19,col=\"red\",cex=0.8,main=\"Stopping distance vs. speed\")\n",
    "cars.lm.1<-lm(dist~speed,data=cars)\n",
    "abline(cars.lm.1,lwd=2.1,col=\"blue\")\n",
    "summary(cars.lm.1)"
   ]
  },
  {
   "cell_type": "markdown",
   "metadata": {},
   "source": [
    "#### Linear regression with a quadratic term\n",
    "\n",
    "Note the model syntax!"
   ]
  },
  {
   "cell_type": "code",
   "execution_count": 31,
   "metadata": {
    "collapsed": false
   },
   "outputs": [
    {
     "data": {
      "text/plain": [
       "\n",
       "Call:\n",
       "lm(formula = dist ~ speed + I(speed^2), data = cars)\n",
       "\n",
       "Residuals:\n",
       "    Min      1Q  Median      3Q     Max \n",
       "-28.720  -9.184  -3.188   4.628  45.152 \n",
       "\n",
       "Coefficients:\n",
       "            Estimate Std. Error t value Pr(>|t|)\n",
       "(Intercept)  2.47014   14.81716   0.167    0.868\n",
       "speed        0.91329    2.03422   0.449    0.656\n",
       "I(speed^2)   0.09996    0.06597   1.515    0.136\n",
       "\n",
       "Residual standard error: 15.18 on 47 degrees of freedom\n",
       "Multiple R-squared:  0.6673,\tAdjusted R-squared:  0.6532 \n",
       "F-statistic: 47.14 on 2 and 47 DF,  p-value: 5.852e-12\n"
      ]
     },
     "metadata": {},
     "output_type": "display_data"
    },
    {
     "data": {
      "image/png": "[encoded data removed]",
      "text/plain": [
       "Plot with title “Stopping distance vs. speed”"
      ]
     },
     "metadata": {},
     "output_type": "display_data"
    }
   ],
   "source": [
    "cars.lm.2<-lm(dist~speed+I(speed^2),data=cars)\n",
    "summary(cars.lm.2)\n",
    "plot(dist~speed,data=cars,pch=19,col=\"red\",cex=0.8,main=\"Stopping distance vs. speed\")\n",
    "s<-seq(min(cars$speed),max(cars$speed),length=400)\n",
    "d<-predict(cars.lm.2,newdata=data.frame(speed=s))\n",
    "lines(s,d,lwd=2.1,col=\"blue\")"
   ]
  },
  {
   "cell_type": "markdown",
   "metadata": {},
   "source": [
    "#### Linear model with the logarithms of both predictor and response\n",
    "\n",
    "This is an expedient device when one expects a power function relationship."
   ]
  },
  {
   "cell_type": "code",
   "execution_count": 32,
   "metadata": {
    "collapsed": false
   },
   "outputs": [
    {
     "data": {
      "text/plain": [
       "\n",
       "Call:\n",
       "lm(formula = log(dist) ~ log(speed), data = cars)\n",
       "\n",
       "Residuals:\n",
       "     Min       1Q   Median       3Q      Max \n",
       "-1.00215 -0.24578 -0.02898  0.20717  0.88289 \n",
       "\n",
       "Coefficients:\n",
       "            Estimate Std. Error t value Pr(>|t|)    \n",
       "(Intercept)  -0.7297     0.3758  -1.941   0.0581 .  \n",
       "log(speed)    1.6024     0.1395  11.484 2.26e-15 ***\n",
       "---\n",
       "Signif. codes:  0 ‘***’ 0.001 ‘**’ 0.01 ‘*’ 0.05 ‘.’ 0.1 ‘ ’ 1\n",
       "\n",
       "Residual standard error: 0.4053 on 48 degrees of freedom\n",
       "Multiple R-squared:  0.7331,\tAdjusted R-squared:  0.7276 \n",
       "F-statistic: 131.9 on 1 and 48 DF,  p-value: 2.259e-15\n"
      ]
     },
     "metadata": {},
     "output_type": "display_data"
    },
    {
     "data": {
      "image/png": "[encoded data removed]",
      "text/plain": [
       "Plot with title “Log(Stopping distance) vs. Log(Speed)”"
      ]
     },
     "metadata": {},
     "output_type": "display_data"
    }
   ],
   "source": [
    "cars.lm.3<- lm(log(dist) ~ log(speed), data = cars)\n",
    "summary(cars.lm.3)\n",
    "plot(log(dist)~log(speed),data=cars,pch=19,col=\"red\",cex=0.8,main=\"Log(Stopping distance) vs. Log(Speed)\")\n",
    "abline(cars.lm.3,lwd=2.1,col=\"blue\")"
   ]
  },
  {
   "cell_type": "markdown",
   "metadata": {},
   "source": [
    "## 3. Comparing regression models"
   ]
  },
  {
   "cell_type": "markdown",
   "metadata": {},
   "source": [
    "### `hills` dataset\n",
    "\n",
    "#### Package DAAG\n",
    "\n",
    "From the book: Maindonald, J., Braun, J. (2003), _Data Analysis and Graphics Using R._ Cambridge University Press."
   ]
  },
  {
   "cell_type": "code",
   "execution_count": 42,
   "metadata": {
    "collapsed": false
   },
   "outputs": [
    {
     "name": "stderr",
     "output_type": "stream",
     "text": [
      "Installing package into ‘/home/crquispq7.alumnes/R/x86_64-pc-linux-gnu-library/3.3’\n",
      "(as ‘lib’ is unspecified)\n",
      "also installing the dependencies ‘SparseM’, ‘MatrixModels’, ‘latticeExtra’, ‘leaps’, ‘oz’, ‘quantreg’\n",
      "\n",
      "Loading required package: DAAG\n",
      "Loading required package: lattice\n",
      "\n",
      "Attaching package: ‘DAAG’\n",
      "\n",
      "The following object is masked from ‘package:VIF’:\n",
      "\n",
      "    vif\n",
      "\n"
     ]
    }
   ],
   "source": [
    "install.packages(\"DAAG\",dependencies=TRUE,repos=\"https://cloud.r-project.org\")\n",
    "require(DAAG)"
   ]
  },
  {
   "cell_type": "markdown",
   "metadata": {},
   "source": [
    "Load the `hills` dataset and read its help:"
   ]
  },
  {
   "cell_type": "code",
   "execution_count": 43,
   "metadata": {
    "collapsed": false
   },
   "outputs": [
    {
     "name": "stdout",
     "output_type": "stream",
     "text": [
      "'data.frame':\t35 obs. of  3 variables:\n",
      " $ dist : num  2.4 6 6 7.5 8 8 16 6 5 6 ...\n",
      " $ climb: num  650 2500 900 800 3070 ...\n",
      " $ time : num  0.268 0.806 0.561 0.76 1.038 ...\n"
     ]
    }
   ],
   "source": [
    "data(hills)\n",
    "str(hills)\n",
    "#?hills"
   ]
  },
  {
   "cell_type": "markdown",
   "metadata": {},
   "source": [
    "Intuition about the physics underlying this problem suggests a power function relationship which, in turn, motivates us to apply a logarithmic transformation. \n",
    "\n",
    "We prepare a new `data.frame` with the logarithms."
   ]
  },
  {
   "cell_type": "code",
   "execution_count": 44,
   "metadata": {
    "collapsed": true
   },
   "outputs": [],
   "source": [
    "loghills<-log(hills)\n",
    "names(loghills)<-c(\"logdist\",\"logclimb\",\"logtime\")"
   ]
  },
  {
   "cell_type": "markdown",
   "metadata": {},
   "source": [
    "Does the transformation improve the linear regression?\n",
    "Compare both settings, scatterplots, correlation matrices."
   ]
  },
  {
   "cell_type": "code",
   "execution_count": 49,
   "metadata": {
    "collapsed": false
   },
   "outputs": [
    {
     "data": {
      "text/plain": [
       "\n",
       "Call:\n",
       "lm(formula = time ~ dist + climb, data = hills)\n",
       "\n",
       "Residuals:\n",
       "     Min       1Q   Median       3Q      Max \n",
       "-0.27038 -0.11922 -0.02022  0.04412  1.08479 \n",
       "\n",
       "Coefficients:\n",
       "              Estimate Std. Error t value Pr(>|t|)    \n",
       "(Intercept) -1.491e-01  7.170e-02  -2.080   0.0456 *  \n",
       "dist         1.036e-01  1.002e-02  10.340 9.94e-12 ***\n",
       "climb        1.841e-04  3.419e-05   5.385 6.49e-06 ***\n",
       "---\n",
       "Signif. codes:  0 ‘***’ 0.001 ‘**’ 0.01 ‘*’ 0.05 ‘.’ 0.1 ‘ ’ 1\n",
       "\n",
       "Residual standard error: 0.2446 on 32 degrees of freedom\n",
       "Multiple R-squared:  0.919,\tAdjusted R-squared:  0.914 \n",
       "F-statistic: 181.6 on 2 and 32 DF,  p-value: < 2.2e-16\n"
      ]
     },
     "metadata": {},
     "output_type": "display_data"
    }
   ],
   "source": [
    "#\n",
    "# Insert here your code\n",
    "#\n",
    "hills.lm1<-lm(time~dist+climb,data=hills)\n",
    "summary(hills.lm1)"
   ]
  },
  {
   "cell_type": "code",
   "execution_count": 50,
   "metadata": {
    "collapsed": false
   },
   "outputs": [
    {
     "data": {
      "text/plain": [
       "\n",
       "Call:\n",
       "lm(formula = logtime ~ logdist + logclimb, data = loghills)\n",
       "\n",
       "Residuals:\n",
       "     Min       1Q   Median       3Q      Max \n",
       "-0.59491 -0.11464 -0.03847  0.04557  1.45532 \n",
       "\n",
       "Coefficients:\n",
       "            Estimate Std. Error t value Pr(>|t|)    \n",
       "(Intercept) -3.17163    0.53501  -5.928 1.34e-06 ***\n",
       "logdist      0.89440    0.12745   7.018 5.92e-08 ***\n",
       "logclimb     0.17146    0.09317   1.840    0.075 .  \n",
       "---\n",
       "Signif. codes:  0 ‘***’ 0.001 ‘**’ 0.01 ‘*’ 0.05 ‘.’ 0.1 ‘ ’ 1\n",
       "\n",
       "Residual standard error: 0.3147 on 32 degrees of freedom\n",
       "Multiple R-squared:  0.8123,\tAdjusted R-squared:  0.8006 \n",
       "F-statistic: 69.25 on 2 and 32 DF,  p-value: 2.369e-12\n"
      ]
     },
     "metadata": {},
     "output_type": "display_data"
    }
   ],
   "source": [
    "hills.lm2<-lm(logtime~logdist+logclimb,data=loghills)\n",
    "summary(hills.lm2)"
   ]
  },
  {
   "cell_type": "markdown",
   "metadata": {},
   "source": [
    "#### Comparing regressions: relevant quantities\n",
    "\n",
    "To this end we have the following available quantities:  \n",
    "\n",
    "1. $\\operatorname{ResSS}$, the Residual Sum of Squares\n",
    "2. The coefficient of determination $R^2$\n",
    "3. The $F$ statistic.\n",
    "4. The $\\operatorname{AIC}$ statistic (Akaike Information Criterion). \n",
    "\n",
    "$\\operatorname{ResSS}$ is a goodness-of-fit measure: smaller values indicate a better fit. However, when a model $L_1$ is obtained by adding predictors to an initial one $L_0$, inevitably $\\operatorname{ResSS}$ decreases ($\\operatorname{ResSS}_1\\leq \\operatorname{ResSS}_0$) by geometry, since in the $L_1$ we are projecting on a subspace larger than in $L_0$. Similarly $R_1^2\\geq R_0^2$.\n",
    "\n",
    "From a statistical perspective we need to decide whether an observed decrease in $\\operatorname{ResSS}$, or\n",
    "increase in $R^2$ is significant. This is the purpose of $F$ and $\\operatorname{AIC}$."
   ]
  },
  {
   "cell_type": "markdown",
   "metadata": {},
   "source": [
    "When we get a new model $L_1$ by adding a single predictor to a model $L_0$, the comparison $F$ statistic is defined as the relative decrease in $\\operatorname{ResSS}$, that is, the ratio:"
   ]
  },
  {
   "cell_type": "code",
   "execution_count": null,
   "metadata": {
    "collapsed": true
   },
   "outputs": [],
   "source": [
    "# F01<-(ResSS0-ResSS1)/(ResSS1/df1)"
   ]
  },
  {
   "cell_type": "markdown",
   "metadata": {},
   "source": [
    "`ResSS0` and `ResSS` are, respectively, the residual sum of squares of $L_0$  and $L_1$, and `df1` is the number of degrees of freedom of $L_1$. `F01` is a test statistic to decide between the null hypothesis:\n",
    "\n",
    "$$\n",
    "    H_{0} = \\mbox{``The new predictor does not improve the model\"}. \n",
    "$$\n",
    "\n",
    "versus the alternative that it does. When the models are Gauss-Markov normal, `F01` follows a Fisher-Snedecor $F$ distribution with 1 and `df1` degrees of freedom."
   ]
  },
  {
   "cell_type": "markdown",
   "metadata": {},
   "source": [
    "$\\operatorname{AIC}$ (Akaike Information Criterion) is an answer to a different problem: adding a predictor to a prediction model means we are adding a parameter to the prediction function (a linear function in this case) and, in general, increasing the number of parameters in a prediction function learned from a given training dataset tends to fit better this particular dataset at the cost of deteriorating the quality of predictions for other samples _from the same statistical population_ from which the training sample was extracted.\n",
    "\n",
    "This is another instance of the bias/variance tradeoff. \n",
    "\n",
    "$\\operatorname{AIC}$ is a _penalized (minus)log-likelihood,_ the difference:\n",
    "\n",
    "$$\n",
    "    -\\log\\cal{L}+\\lambda\\,\\cal{P}, \\mskip30mu \\lambda>0,\n",
    "$$\n",
    "\n",
    "where an increase in log-likelihood gained by adding a new parameter can be cancelled by an increase in the penalization term $\\cal{P}$. In this way we can tell the better from two _nested_ models (a pair of models where the set of predictors in one of them is a subset of that in the other). \n",
    "\n",
    "The better model is the one with a smaller $\\operatorname{AIC}$ (tending to a larger likelihood). In R the $\\operatorname{AIC}$ of a model $L$ can be obtained with:"
   ]
  },
  {
   "cell_type": "code",
   "execution_count": null,
   "metadata": {
    "collapsed": true
   },
   "outputs": [],
   "source": [
    "# extractAIC(L)"
   ]
  },
  {
   "cell_type": "markdown",
   "metadata": {},
   "source": [
    "Which uses the definition:"
   ]
  },
  {
   "cell_type": "code",
   "execution_count": null,
   "metadata": {
    "collapsed": true
   },
   "outputs": [],
   "source": [
    "# AIC = - 2*log L + k * edf,"
   ]
  },
  {
   "cell_type": "markdown",
   "metadata": {},
   "source": [
    "In particular, for a linear model, (DAAG pag. 153):"
   ]
  },
  {
   "cell_type": "code",
   "execution_count": null,
   "metadata": {
    "collapsed": true
   },
   "outputs": [],
   "source": [
    "# AIC= n*log(ResSS/n)+2*Regdf"
   ]
  },
  {
   "cell_type": "markdown",
   "metadata": {},
   "source": [
    "For the `hills` dataset:"
   ]
  },
  {
   "cell_type": "code",
   "execution_count": null,
   "metadata": {
    "collapsed": true
   },
   "outputs": [],
   "source": [
    "loghills.l0<-lm(logtime~logdist,data=loghills)\n",
    "loghills.l1<-lm(logtime~logdist+logclimb,data=loghills)"
   ]
  },
  {
   "cell_type": "markdown",
   "metadata": {},
   "source": [
    "The following function extracts a list of relevant quantities from an object `L` of the `lm` class (the ones from last session, plus $\\operatorname{AIC}$)."
   ]
  },
  {
   "cell_type": "code",
   "execution_count": null,
   "metadata": {
    "collapsed": true
   },
   "outputs": [],
   "source": [
    "Regression.Quantities<-function(L){\n",
    "    y<-L$model[[1]]\n",
    "    y0<-y-mean(y)\n",
    "    TotalSS0<-sum(y0^2)\n",
    "    n<-length(y)\n",
    "    Totaldf<-n\n",
    "    Totaldf0<-Totaldf-1\n",
    "#\n",
    "    yhat<-as.numeric(L$fitted.values)\n",
    "    yhat0<-yhat-mean(yhat)\n",
    "    RegSS0<-sum(yhat0^2)\n",
    "    Regdf<-L$rank\n",
    "    Regdf0<-Regdf-1\n",
    "#\n",
    "    ytilde<-as.numeric(L$residuals)\n",
    "    ResSS<-sum(ytilde^2)\n",
    "    Resdf<-Totaldf0-Regdf0\n",
    "#\n",
    "    TotalMeanS0<-TotalSS0/Totaldf0\n",
    "    RegMeanS0<-RegSS0/Regdf0\n",
    "    ResMeanS<-ResSS/Resdf\n",
    "#\n",
    "    R2<-RegSS0/TotalSS0\n",
    "    RegF<-RegMeanS0/ResMeanS\n",
    "    AIC=n*log(ResSS/n)+2*Regdf\n",
    "#\n",
    "    Q<-list(\n",
    "        y=y,y0=y0,n=n,TotalSS0=TotalSS0,Totaldf=Totaldf,Totaldf0=Totaldf0,\n",
    "        yhat=yhat,yhat0=yhat0,RegSS0=RegSS0,Regdf=Regdf,Regdf0=Regdf0,\n",
    "        ytilde=ytilde,ResSS=ResSS,Resdf=Resdf,\n",
    "        TotalMeanS0=TotalMeanS0,RegMeanS0=RegMeanS0,ResMeanS=ResMeanS,\n",
    "        R2=R2,RegF=RegF,AIC=AIC)\n",
    "    return(Q)\n",
    "    }"
   ]
  },
  {
   "cell_type": "markdown",
   "metadata": {},
   "source": [
    "Using `Regression.Quantities()`:"
   ]
  },
  {
   "cell_type": "code",
   "execution_count": null,
   "metadata": {
    "collapsed": true
   },
   "outputs": [],
   "source": [
    "loghills.Q0<-Regression.Quantities(loghills.l0)\n",
    "loghills.Q1<-Regression.Quantities(loghills.l1)"
   ]
  },
  {
   "cell_type": "markdown",
   "metadata": {},
   "source": [
    "From these results, decide which is the better model, according to the above criteria."
   ]
  },
  {
   "cell_type": "code",
   "execution_count": null,
   "metadata": {
    "collapsed": true
   },
   "outputs": [],
   "source": [
    "#\n",
    "# Insert your code here\n",
    "#"
   ]
  },
  {
   "cell_type": "markdown",
   "metadata": {},
   "source": [
    "The `stats` package has two functions, `add1()` and `drop1`, allowing us to perform this operation in a semi-automatic way. Either we add a predictor to the basic model:"
   ]
  },
  {
   "cell_type": "code",
   "execution_count": null,
   "metadata": {
    "collapsed": true
   },
   "outputs": [],
   "source": [
    "add1(loghills.l0,\"logclimb\")\n",
    "add1(loghills.l0,\"logclimb\",test=\"F\")\n",
    "add1(loghills.l0,\"logclimb\",test=\"Chisq\")"
   ]
  },
  {
   "cell_type": "markdown",
   "metadata": {},
   "source": [
    "Or drop a variable from a larger model:"
   ]
  },
  {
   "cell_type": "code",
   "execution_count": null,
   "metadata": {
    "collapsed": true
   },
   "outputs": [],
   "source": [
    "drop1(loghills.l1,\"logclimb\")\n",
    "drop1(loghills.l1,\"logclimb\",test=\"F\")"
   ]
  },
  {
   "cell_type": "code",
   "execution_count": null,
   "metadata": {
    "collapsed": true
   },
   "outputs": [],
   "source": [
    "drop1(loghills.l1,\"logdist\")\n",
    "drop1(loghills.l1,\"logdist\",test=\"F\")"
   ]
  },
  {
   "cell_type": "markdown",
   "metadata": {},
   "source": [
    "####  `Steam` dataset\n",
    "\n",
    "Files: `Steam.dat.txt` (Data description),  `Steam1.txt` (Actual data)."
   ]
  },
  {
   "cell_type": "code",
   "execution_count": null,
   "metadata": {
    "collapsed": true
   },
   "outputs": [],
   "source": [
    "Steam<-read.table(\"Steam1.txt\",header=TRUE)\n",
    "str(Steam)"
   ]
  },
  {
   "cell_type": "markdown",
   "metadata": {},
   "source": [
    "#### Exercise:\n",
    "\n",
    "With the `Steam` dataset we try to find the best subset of predictors of `y` from `(x1,x2,x3,x4,x5,x6,x7,x8,x9)`:"
   ]
  },
  {
   "cell_type": "markdown",
   "metadata": {},
   "source": [
    "With such data as `Steam`, with $p$ predictors, there is a large number of possible regressions –precisely $2^p$, the number of subsets of the set of all predictors- which, in principle, they can be tested by repeatedly applying the above functions, either starting with the base model with no predictors other than \n",
    "intercept:"
   ]
  },
  {
   "cell_type": "code",
   "execution_count": null,
   "metadata": {
    "collapsed": true
   },
   "outputs": [],
   "source": [
    "ls0<-lm(y~1, data=Steam)\n",
    "summary(ls0)"
   ]
  },
  {
   "cell_type": "markdown",
   "metadata": {},
   "source": [
    "and successively add predictors or, on the contrary, starting with the full model:"
   ]
  },
  {
   "cell_type": "code",
   "execution_count": null,
   "metadata": {
    "collapsed": true
   },
   "outputs": [],
   "source": [
    "ls1<-lm(y~x1+x2+x3+x4+x5+x6+x7+x8+x9, data=Steam)\n",
    "summary(ls1)"
   ]
  },
  {
   "cell_type": "markdown",
   "metadata": {},
   "source": [
    "And then successively remove them.\n",
    "\n",
    "For instance, we start with `ls0`:"
   ]
  },
  {
   "cell_type": "code",
   "execution_count": null,
   "metadata": {
    "collapsed": true
   },
   "outputs": [],
   "source": [
    "add1(ls0,\"x1\",test=\"F\")\n",
    "# ...\n",
    "add1(ls0,\"x9\",test=\"F\")"
   ]
  },
  {
   "cell_type": "markdown",
   "metadata": {},
   "source": [
    "We see that `x7` is the better addition."
   ]
  },
  {
   "cell_type": "markdown",
   "metadata": {},
   "source": [
    "We keep this variable and now we try to add a second one following the same procedure, and successively, until we find a satisfactory subset. \n",
    "\n",
    "This is the _forward_ variables selection method. \n",
    "\n",
    "Symmetrically, the _backward_ method starts with the full model `ls1` and sequentially removes variables.\n",
    "\n",
    "It is worth noting that if, for instance, at a certain stage of a _forward_  procedure the current subset of variables is $A$, we have not tested all subsets of $A$ but only those in the path through which we arrived at $A$. To test them we should apply _backward_  selection from $A$ and so on. \n",
    "\n",
    "The `stats` package has a `step()` function to automate this process:"
   ]
  },
  {
   "cell_type": "code",
   "execution_count": null,
   "metadata": {
    "collapsed": true
   },
   "outputs": [],
   "source": [
    "step(ls0,\"~x1+x2+x3+x4+x5+x6+x7+x8+x9\")"
   ]
  },
  {
   "cell_type": "markdown",
   "metadata": {},
   "source": [
    "Also from the full model:"
   ]
  },
  {
   "cell_type": "code",
   "execution_count": null,
   "metadata": {
    "collapsed": true
   },
   "outputs": [],
   "source": [
    "step(ls1)"
   ]
  },
  {
   "cell_type": "markdown",
   "metadata": {},
   "source": [
    "Reasonably enough, this combined _forward_ and _backward_ procedure is called _stepwise._"
   ]
  },
  {
   "cell_type": "markdown",
   "metadata": {},
   "source": [
    "The `MASS` package has analogous functions, `addterm()`, `dropterm()`, and `stepAIC()`, with the same functionality as the above functions in the basic `stats` package."
   ]
  },
  {
   "cell_type": "markdown",
   "metadata": {},
   "source": [
    "Finally, there is the strategy of computing all the possible $2^p$ regressions, with all the subsets in the set of predictors, from $\\emptyset$ to the total number $p$ of predictors, and then comparing all the resulting $\\operatorname{AIC}$ values, keeping the best one. \n",
    "\n",
    "This is the _All Subsets Regression_ method. Obviously, this computation is unfeasible by a brute force approach, except for models with a very small number of predictors. There are combinatorial _branch and bound_ algorithms allowing us to limit the number of actual regressions we need to evaluate in full. The method depends on imposing a partial ordering on the set of all possible regressions, giving it a tree-like structure, in which we will need to evaluate only a small number of nodes. The `leaps` package implements this procedure (the name originates from the idiom  _leaps and bounds)._"
   ]
  },
  {
   "cell_type": "markdown",
   "metadata": {},
   "source": [
    "# Homework 1 (part 1)\n",
    "\n",
    "This is the first half. The second half will appear at the end of the next laboratory (Regression 03 - Regularization). The aim here is to apply linear regression on the `Home prices` dataset from Kaggle  [House Prices: Advanced Regression Techniques](https://www.kaggle.com/c/house-prices-advanced-regression-techniques/discussion). As explained in the documentation there, this dataset is a test bed for many prediction methods, thus it is not to be expected that linear regression will be particularly succesful. Later on in the course we will try other methods."
   ]
  },
  {
   "cell_type": "markdown",
   "metadata": {},
   "source": [
    "As a warmup, take the similar but smaller `Boston home prices` dataset. This is a very classic example and it is easy to find its study with linear regression in many online resources. Googling \"Boston home prices\" will yield many implementations, both in R and in python."
   ]
  },
  {
   "cell_type": "markdown",
   "metadata": {},
   "source": [
    "You can learn from and even reproduce parts of these sources. This is acceptable provided that you:\n",
    "\n",
    "   1. Give credit where it is due, in particular, including full reference (URL) of any cited work\n",
    "    \n",
    "   2. Do not copy/paste \"in extenso\" large chunks of code\n",
    "    \n",
    "   3. Understand everything you write, explaining with sufficient details the steps you take and the results you obtain.\n",
    "\n",
    "The Boston home prices data are intended for prediction of home values in suburbs of the namesake city. `medv` is the response variable and the other variables are predictors. See their description in the dataset help. Some of these predictors are intrinsic habitational characteristics, such as number of bedrooms; other predictors have a socioeconomic nature and, finally, other predictors are geographical or environmental."
   ]
  },
  {
   "cell_type": "markdown",
   "metadata": {},
   "source": [
    " \n",
    "In R you find this dataset in the MASS package, from the book by  W. N. Venables and   B. D. Ripley (2002), _Modern Applied Statistics with S:_"
   ]
  },
  {
   "cell_type": "code",
   "execution_count": null,
   "metadata": {
    "collapsed": true
   },
   "outputs": [],
   "source": [
    "require(MASS)\n",
    "data(Boston)\n",
    "str(Boston)"
   ]
  },
  {
   "cell_type": "markdown",
   "metadata": {},
   "source": [
    "##### Guidelines\n",
    "\n",
    "Perform a statistical description of the data. In the first place individually, summarizing each variable, both graphically, e.g. with boxplot and histogram, and numerically. Do these variables have a normal appearance? Or, rather, do these variables show an asymmetric shape? Check correlations between pairs of predictors and between individual predictors and response. It will be useful to truncate to 2 or 1 decimal places, to avoid clutter:\n",
    "\n",
    "In this way we can see at a glance which correlations are large or small. Is there a danger of multicollinearity? \n",
    "\n",
    "Fit a linear regression model of `medv` on the remaining variables. From the model summary, can we state the model fits well? which variables appear to be better or worse predictors? \n",
    "\n",
    "Prepare an optimal model with the better predictors. The `ResSS` of this model is much larger than the one from the full model? Note that this model still has a non significant predictor. Discard it. \n",
    "\n",
    "Fit another linear regression model with response `log(medv)` on the remaining predictors or with their logarithms. Which one is better?"
   ]
  },
  {
   "cell_type": "markdown",
   "metadata": {},
   "source": [
    "#### Back to the Kaggle _House prices_ dataset\n",
    "\n",
    "Redo the operations above with the new dataset, replacing the response `medv` with `SalePrice`. "
   ]
  },
  {
   "cell_type": "code",
   "execution_count": null,
   "metadata": {
    "collapsed": true
   },
   "outputs": [],
   "source": [
    "HP.train<-read.csv(\"House.prices.train.csv\")\n",
    "str(HP.train)"
   ]
  },
  {
   "cell_type": "code",
   "execution_count": null,
   "metadata": {
    "collapsed": true
   },
   "outputs": [],
   "source": [
    "HP.test<-read.csv(\"House.prices.test.csv\")\n",
    "str(HP.test)"
   ]
  },
  {
   "cell_type": "markdown",
   "metadata": {},
   "source": [
    "#### Remarks\n",
    "\n",
    "1. This dataset is divided in two halves, `train` and `test`. The first one is to train the prediction algorithm (in the `lm` case, compute the regression coefficients) which then is assessed with the second one. This is a usual procedurein Machine Learning, to avoid the optimistic bias due to using the same data for both functions. Note that here in the testing half the response is missing. We are to predict it!\n",
    "\n",
    "2. The first column in both train and test files is an `Id` case number. Make sure you remove it before any computation. It may be kept aside for post-processing steps, e.g., visualization."
   ]
  },
  {
   "cell_type": "code",
   "execution_count": null,
   "metadata": {
    "collapsed": true
   },
   "outputs": [],
   "source": [
    "HP.train<-HP.train[,-1]\n",
    "str(HP.train)"
   ]
  },
  {
   "cell_type": "code",
   "execution_count": null,
   "metadata": {
    "collapsed": true
   },
   "outputs": [],
   "source": [
    "HP.test<-HP.test[,-1]\n",
    "str(HP.test)"
   ]
  },
  {
   "cell_type": "markdown",
   "metadata": {},
   "source": [
    "3. Missing data are trouble in this dataset, something that, as a matter of fact, often happens with real data. As a first approach one could try to `na.omit()` (look up in help what this function does). Unfortunately it seems that each and every row contains some `NA` hence the result of `na.omit()` is an empty dataset. Better try to select, in a first analysis, those variables (columns) with no `NA`. The following piece of code will count the number of columns with no `NA`. I found $61$ of them. Isolate these columns and perform the analysis with them.: "
   ]
  },
  {
   "cell_type": "code",
   "execution_count": null,
   "metadata": {
    "collapsed": true
   },
   "outputs": [],
   "source": [
    "count.na<-function(x){sum(is.na(x))}\n",
    "HP.train.m<-as.matrix(HP.train)\n",
    "Rows.with.NA<-apply(HP.train.m,1,count.na)\n",
    "table(Rows.with.NA)\n",
    "Cols.with.NA<-apply(HP.train.m,2,count.na)\n",
    "table(Cols.with.NA)"
   ]
  }
 ],
 "metadata": {
  "kernelspec": {
   "display_name": "R",
   "language": "R",
   "name": "ir"
  },
  "language_info": {
   "codemirror_mode": "r",
   "file_extension": ".r",
   "mimetype": "text/x-r-source",
   "name": "R",
   "pygments_lexer": "r",
   "version": "3.3.3"
  }
 },
 "nbformat": 4,
 "nbformat_minor": 2
}
