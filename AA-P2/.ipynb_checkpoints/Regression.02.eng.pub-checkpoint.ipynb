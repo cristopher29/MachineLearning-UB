{
 "cells": [
  {
   "cell_type": "markdown",
   "metadata": {},
   "source": [
    "# Linear regression 02"
   ]
  },
  {
   "cell_type": "markdown",
   "metadata": {},
   "source": [
    "##### Josep Fortiana 2019-10-08"
   ]
  },
  {
   "cell_type": "markdown",
   "metadata": {},
   "source": [
    "## 1. Multicollinearity and condition number"
   ]
  },
  {
   "cell_type": "markdown",
   "metadata": {},
   "source": [
    "### Acetylene data"
   ]
  },
  {
   "cell_type": "markdown",
   "metadata": {},
   "source": [
    "Download the files: `Acetylene.dat.txt` (data description), `Acetylene.txt` (actual data). We will use these data for multiple linear regression."
   ]
  },
  {
   "cell_type": "code",
   "execution_count": 1,
   "metadata": {
    "collapsed": false,
    "jupyter": {
     "outputs_hidden": false
    }
   },
   "outputs": [
    {
     "name": "stdout",
     "output_type": "stream",
     "text": [
      "'data.frame':\t16 obs. of  4 variables:\n",
      " $ X1: int  1300 1300 1300 1300 1300 1300 1200 1200 1200 1200 ...\n",
      " $ X2: num  7.5 9 11 13.5 17 23 5.3 7.5 11 13.5 ...\n",
      " $ X3: num  0.012 0.012 0.0115 0.013 0.0135 0.012 0.04 0.038 0.032 0.026 ...\n",
      " $ Y : num  49 50.2 50.5 48.5 47.5 44.5 28 31.5 34.5 35 ...\n"
     ]
    }
   ],
   "source": [
    "Acetylene<-read.table(\"Acetylene.txt\",header=TRUE)\n",
    "str(Acetylene)"
   ]
  },
  {
   "cell_type": "markdown",
   "metadata": {},
   "source": [
    "#### A description of data"
   ]
  },
  {
   "cell_type": "code",
   "execution_count": 2,
   "metadata": {
    "collapsed": false,
    "jupyter": {
     "outputs_hidden": false
    }
   },
   "outputs": [
    {
     "data": {
      "text/plain": [
       "       X1             X2              X3                Y        \n",
       " Min.   :1100   Min.   : 5.30   Min.   :0.01150   Min.   :15.00  \n",
       " 1st Qu.:1175   1st Qu.: 7.50   1st Qu.:0.01275   1st Qu.:29.12  \n",
       " Median :1200   Median :11.00   Median :0.03300   Median :36.50  \n",
       " Mean   :1212   Mean   :12.44   Mean   :0.04031   Mean   :36.11  \n",
       " 3rd Qu.:1300   3rd Qu.:17.00   3rd Qu.:0.05175   3rd Qu.:47.75  \n",
       " Max.   :1300   Max.   :23.00   Max.   :0.09800   Max.   :50.50  "
      ]
     },
     "metadata": {},
     "output_type": "display_data"
    }
   ],
   "source": [
    "summary(Acetylene)"
   ]
  },
  {
   "cell_type": "code",
   "execution_count": 3,
   "metadata": {
    "collapsed": false,
    "jupyter": {
     "outputs_hidden": false
    }
   },
   "outputs": [
    {
     "data": {
      "text/html": [
       "<table>\n",
       "<caption>A matrix: 4 × 4 of type dbl</caption>\n",
       "<thead>\n",
       "\t<tr><th></th><th scope=col>X1</th><th scope=col>X2</th><th scope=col>X3</th><th scope=col>Y</th></tr>\n",
       "</thead>\n",
       "<tbody>\n",
       "\t<tr><th scope=row>X1</th><td> 1.00</td><td> 0.22</td><td>-0.96</td><td> 0.95</td></tr>\n",
       "\t<tr><th scope=row>X2</th><td> 0.22</td><td> 1.00</td><td>-0.24</td><td> 0.37</td></tr>\n",
       "\t<tr><th scope=row>X3</th><td>-0.96</td><td>-0.24</td><td> 1.00</td><td>-0.91</td></tr>\n",
       "\t<tr><th scope=row>Y</th><td> 0.95</td><td> 0.37</td><td>-0.91</td><td> 1.00</td></tr>\n",
       "</tbody>\n",
       "</table>\n"
      ],
      "text/latex": [
       "A matrix: 4 × 4 of type dbl\n",
       "\\begin{tabular}{r|llll}\n",
       "  & X1 & X2 & X3 & Y\\\\\n",
       "\\hline\n",
       "\tX1 &  1.00 &  0.22 & -0.96 &  0.95\\\\\n",
       "\tX2 &  0.22 &  1.00 & -0.24 &  0.37\\\\\n",
       "\tX3 & -0.96 & -0.24 &  1.00 & -0.91\\\\\n",
       "\tY &  0.95 &  0.37 & -0.91 &  1.00\\\\\n",
       "\\end{tabular}\n"
      ],
      "text/markdown": [
       "\n",
       "A matrix: 4 × 4 of type dbl\n",
       "\n",
       "| <!--/--> | X1 | X2 | X3 | Y |\n",
       "|---|---|---|---|---|\n",
       "| X1 |  1.00 |  0.22 | -0.96 |  0.95 |\n",
       "| X2 |  0.22 |  1.00 | -0.24 |  0.37 |\n",
       "| X3 | -0.96 | -0.24 |  1.00 | -0.91 |\n",
       "| Y |  0.95 |  0.37 | -0.91 |  1.00 |\n",
       "\n"
      ],
      "text/plain": [
       "   X1    X2    X3    Y    \n",
       "X1  1.00  0.22 -0.96  0.95\n",
       "X2  0.22  1.00 -0.24  0.37\n",
       "X3 -0.96 -0.24  1.00 -0.91\n",
       "Y   0.95  0.37 -0.91  1.00"
      ]
     },
     "metadata": {},
     "output_type": "display_data"
    }
   ],
   "source": [
    "round(cor(Acetylene),2)"
   ]
  },
  {
   "cell_type": "markdown",
   "metadata": {},
   "source": [
    "#### Linear model with a linear influence of each of the  three available predictors _(main effects)_ "
   ]
  },
  {
   "cell_type": "code",
   "execution_count": 4,
   "metadata": {
    "collapsed": false,
    "jupyter": {
     "outputs_hidden": false
    }
   },
   "outputs": [
    {
     "data": {
      "text/plain": [
       "\n",
       "Call:\n",
       "lm(formula = Y ~ X1 + X2 + X3, data = Acetylene)\n",
       "\n",
       "Residuals:\n",
       "   Min     1Q Median     3Q    Max \n",
       "-6.920 -1.856  0.234  2.074  6.948 \n",
       "\n",
       "Coefficients:\n",
       "              Estimate Std. Error t value Pr(>|t|)  \n",
       "(Intercept) -121.26962   55.43571  -2.188   0.0492 *\n",
       "X1             0.12685    0.04218   3.007   0.0109 *\n",
       "X2             0.34816    0.17702   1.967   0.0728 .\n",
       "X3           -19.02170  107.92824  -0.176   0.8630  \n",
       "---\n",
       "Signif. codes:  0 '***' 0.001 '**' 0.01 '*' 0.05 '.' 0.1 ' ' 1\n",
       "\n",
       "Residual standard error: 3.767 on 12 degrees of freedom\n",
       "Multiple R-squared:  0.9198,\tAdjusted R-squared:  0.8998 \n",
       "F-statistic: 45.88 on 3 and 12 DF,  p-value: 7.522e-07\n"
      ]
     },
     "metadata": {},
     "output_type": "display_data"
    }
   ],
   "source": [
    "Acetylene.lm.1<-lm(Y~X1+X2+X3,data=Acetylene)\n",
    "summary(Acetylene.lm.1)"
   ]
  },
  {
   "cell_type": "markdown",
   "metadata": {},
   "source": [
    "#### Syntax for prediction\n",
    "\n",
    "Assume we have a (or several) new observation(s) of $X1$, $X2$, $X3$. What does the model `Acetylene.lm.1` predict for the corresponding value(s) of $Y$?\n",
    "\n",
    "$X1=1200$, $X2=11.0$, $X3=0.033$ \n",
    "\n",
    "Here I have chosen the median values, just as an example. Any value within the predictor ranges will do. Prediction for values outside this range (extrapolation) is possible but one should be wary of large errors. \n",
    "\n",
    "Procedure is to build a `data.frame` with the new values (including variable names) and use the predict function:"
   ]
  },
  {
   "cell_type": "code",
   "execution_count": 5,
   "metadata": {},
   "outputs": [],
   "source": [
    "new.observation<-data.frame(X1=1200,X2=11.0,X3=0.033)\n",
    "Acetylene.prediction.1<-predict(Acetylene.lm.1,newdata=new.observation,type=\"response\")\n",
    "Acetylene.prediction.2<-predict(Acetylene.lm.1,newdata=new.observation,type=\"response\", interval=\"confidence\")\n",
    "Acetylene.prediction.3<-predict(Acetylene.lm.1,newdata=new.observation,type=\"response\", interval=\"prediction\")"
   ]
  },
  {
   "cell_type": "code",
   "execution_count": 6,
   "metadata": {
    "collapsed": false,
    "jupyter": {
     "outputs_hidden": false
    }
   },
   "outputs": [
    {
     "data": {
      "text/html": [
       "<strong>1:</strong> 34.1570204810194"
      ],
      "text/latex": [
       "\\textbf{1:} 34.1570204810194"
      ],
      "text/markdown": [
       "**1:** 34.1570204810194"
      ],
      "text/plain": [
       "       1 \n",
       "34.15702 "
      ]
     },
     "metadata": {},
     "output_type": "display_data"
    },
    {
     "data": {
      "text/html": [
       "<table>\n",
       "<caption>A matrix: 1 × 3 of type dbl</caption>\n",
       "<thead>\n",
       "\t<tr><th scope=col>fit</th><th scope=col>lwr</th><th scope=col>upr</th></tr>\n",
       "</thead>\n",
       "<tbody>\n",
       "\t<tr><td>34.15702</td><td>30.58172</td><td>37.73232</td></tr>\n",
       "</tbody>\n",
       "</table>\n"
      ],
      "text/latex": [
       "A matrix: 1 × 3 of type dbl\n",
       "\\begin{tabular}{r|lll}\n",
       " fit & lwr & upr\\\\\n",
       "\\hline\n",
       "\t 34.15702 & 30.58172 & 37.73232\\\\\n",
       "\\end{tabular}\n"
      ],
      "text/markdown": [
       "\n",
       "A matrix: 1 × 3 of type dbl\n",
       "\n",
       "| fit | lwr | upr |\n",
       "|---|---|---|\n",
       "| 34.15702 | 30.58172 | 37.73232 |\n",
       "\n"
      ],
      "text/plain": [
       "  fit      lwr      upr     \n",
       "1 34.15702 30.58172 37.73232"
      ]
     },
     "metadata": {},
     "output_type": "display_data"
    },
    {
     "data": {
      "text/html": [
       "<table>\n",
       "<caption>A matrix: 1 × 3 of type dbl</caption>\n",
       "<thead>\n",
       "\t<tr><th scope=col>fit</th><th scope=col>lwr</th><th scope=col>upr</th></tr>\n",
       "</thead>\n",
       "<tbody>\n",
       "\t<tr><td>34.15702</td><td>25.20437</td><td>43.10967</td></tr>\n",
       "</tbody>\n",
       "</table>\n"
      ],
      "text/latex": [
       "A matrix: 1 × 3 of type dbl\n",
       "\\begin{tabular}{r|lll}\n",
       " fit & lwr & upr\\\\\n",
       "\\hline\n",
       "\t 34.15702 & 25.20437 & 43.10967\\\\\n",
       "\\end{tabular}\n"
      ],
      "text/markdown": [
       "\n",
       "A matrix: 1 × 3 of type dbl\n",
       "\n",
       "| fit | lwr | upr |\n",
       "|---|---|---|\n",
       "| 34.15702 | 25.20437 | 43.10967 |\n",
       "\n"
      ],
      "text/plain": [
       "  fit      lwr      upr     \n",
       "1 34.15702 25.20437 43.10967"
      ]
     },
     "metadata": {},
     "output_type": "display_data"
    }
   ],
   "source": [
    "#str(Acetylene.prediction.1)\n",
    "Acetylene.prediction.1\n",
    "#str(Acetylene.prediction.2)\n",
    "Acetylene.prediction.2\n",
    "#str(Acetylene.prediction.3)\n",
    "Acetylene.prediction.3"
   ]
  },
  {
   "cell_type": "markdown",
   "metadata": {},
   "source": [
    "#### Investigate multicollinearity"
   ]
  },
  {
   "cell_type": "markdown",
   "metadata": {},
   "source": [
    "Extract the _regression (or model) matrix,_ i.e., the result of pasting a column of ones to the matrix containing the values of  `X1`, `X2`, `X3`. The new column will correspond to the `(Intercept)` regression term."
   ]
  },
  {
   "cell_type": "code",
   "execution_count": 7,
   "metadata": {
    "collapsed": false,
    "jupyter": {
     "outputs_hidden": false
    }
   },
   "outputs": [
    {
     "data": {
      "text/html": [
       "<table>\n",
       "<caption>A matrix: 16 × 4 of type dbl</caption>\n",
       "<thead>\n",
       "\t<tr><th scope=col>(Intercept)</th><th scope=col>X1</th><th scope=col>X2</th><th scope=col>X3</th></tr>\n",
       "</thead>\n",
       "<tbody>\n",
       "\t<tr><td>1</td><td>1300</td><td> 7.5</td><td>0.0120</td></tr>\n",
       "\t<tr><td>1</td><td>1300</td><td> 9.0</td><td>0.0120</td></tr>\n",
       "\t<tr><td>1</td><td>1300</td><td>11.0</td><td>0.0115</td></tr>\n",
       "\t<tr><td>1</td><td>1300</td><td>13.5</td><td>0.0130</td></tr>\n",
       "\t<tr><td>1</td><td>1300</td><td>17.0</td><td>0.0135</td></tr>\n",
       "\t<tr><td>1</td><td>1300</td><td>23.0</td><td>0.0120</td></tr>\n",
       "\t<tr><td>1</td><td>1200</td><td> 5.3</td><td>0.0400</td></tr>\n",
       "\t<tr><td>1</td><td>1200</td><td> 7.5</td><td>0.0380</td></tr>\n",
       "\t<tr><td>1</td><td>1200</td><td>11.0</td><td>0.0320</td></tr>\n",
       "\t<tr><td>1</td><td>1200</td><td>13.5</td><td>0.0260</td></tr>\n",
       "\t<tr><td>1</td><td>1200</td><td>17.0</td><td>0.0340</td></tr>\n",
       "\t<tr><td>1</td><td>1200</td><td>23.0</td><td>0.0410</td></tr>\n",
       "\t<tr><td>1</td><td>1100</td><td> 5.3</td><td>0.0840</td></tr>\n",
       "\t<tr><td>1</td><td>1100</td><td> 7.5</td><td>0.0980</td></tr>\n",
       "\t<tr><td>1</td><td>1100</td><td>11.0</td><td>0.0920</td></tr>\n",
       "\t<tr><td>1</td><td>1100</td><td>17.0</td><td>0.0860</td></tr>\n",
       "</tbody>\n",
       "</table>\n"
      ],
      "text/latex": [
       "A matrix: 16 × 4 of type dbl\n",
       "\\begin{tabular}{r|llll}\n",
       " (Intercept) & X1 & X2 & X3\\\\\n",
       "\\hline\n",
       "\t 1 & 1300 &  7.5 & 0.0120\\\\\n",
       "\t 1 & 1300 &  9.0 & 0.0120\\\\\n",
       "\t 1 & 1300 & 11.0 & 0.0115\\\\\n",
       "\t 1 & 1300 & 13.5 & 0.0130\\\\\n",
       "\t 1 & 1300 & 17.0 & 0.0135\\\\\n",
       "\t 1 & 1300 & 23.0 & 0.0120\\\\\n",
       "\t 1 & 1200 &  5.3 & 0.0400\\\\\n",
       "\t 1 & 1200 &  7.5 & 0.0380\\\\\n",
       "\t 1 & 1200 & 11.0 & 0.0320\\\\\n",
       "\t 1 & 1200 & 13.5 & 0.0260\\\\\n",
       "\t 1 & 1200 & 17.0 & 0.0340\\\\\n",
       "\t 1 & 1200 & 23.0 & 0.0410\\\\\n",
       "\t 1 & 1100 &  5.3 & 0.0840\\\\\n",
       "\t 1 & 1100 &  7.5 & 0.0980\\\\\n",
       "\t 1 & 1100 & 11.0 & 0.0920\\\\\n",
       "\t 1 & 1100 & 17.0 & 0.0860\\\\\n",
       "\\end{tabular}\n"
      ],
      "text/markdown": [
       "\n",
       "A matrix: 16 × 4 of type dbl\n",
       "\n",
       "| (Intercept) | X1 | X2 | X3 |\n",
       "|---|---|---|---|\n",
       "| 1 | 1300 |  7.5 | 0.0120 |\n",
       "| 1 | 1300 |  9.0 | 0.0120 |\n",
       "| 1 | 1300 | 11.0 | 0.0115 |\n",
       "| 1 | 1300 | 13.5 | 0.0130 |\n",
       "| 1 | 1300 | 17.0 | 0.0135 |\n",
       "| 1 | 1300 | 23.0 | 0.0120 |\n",
       "| 1 | 1200 |  5.3 | 0.0400 |\n",
       "| 1 | 1200 |  7.5 | 0.0380 |\n",
       "| 1 | 1200 | 11.0 | 0.0320 |\n",
       "| 1 | 1200 | 13.5 | 0.0260 |\n",
       "| 1 | 1200 | 17.0 | 0.0340 |\n",
       "| 1 | 1200 | 23.0 | 0.0410 |\n",
       "| 1 | 1100 |  5.3 | 0.0840 |\n",
       "| 1 | 1100 |  7.5 | 0.0980 |\n",
       "| 1 | 1100 | 11.0 | 0.0920 |\n",
       "| 1 | 1100 | 17.0 | 0.0860 |\n",
       "\n"
      ],
      "text/plain": [
       "   (Intercept) X1   X2   X3    \n",
       "1  1           1300  7.5 0.0120\n",
       "2  1           1300  9.0 0.0120\n",
       "3  1           1300 11.0 0.0115\n",
       "4  1           1300 13.5 0.0130\n",
       "5  1           1300 17.0 0.0135\n",
       "6  1           1300 23.0 0.0120\n",
       "7  1           1200  5.3 0.0400\n",
       "8  1           1200  7.5 0.0380\n",
       "9  1           1200 11.0 0.0320\n",
       "10 1           1200 13.5 0.0260\n",
       "11 1           1200 17.0 0.0340\n",
       "12 1           1200 23.0 0.0410\n",
       "13 1           1100  5.3 0.0840\n",
       "14 1           1100  7.5 0.0980\n",
       "15 1           1100 11.0 0.0920\n",
       "16 1           1100 17.0 0.0860"
      ]
     },
     "metadata": {},
     "output_type": "display_data"
    },
    {
     "data": {
      "text/html": [
       "<table>\n",
       "<caption>A matrix: 3 × 3 of type dbl</caption>\n",
       "<thead>\n",
       "\t<tr><th></th><th scope=col>X1</th><th scope=col>X2</th><th scope=col>X3</th></tr>\n",
       "</thead>\n",
       "<tbody>\n",
       "\t<tr><th scope=row>X1</th><td> 1.000</td><td> 0.224</td><td>-0.958</td></tr>\n",
       "\t<tr><th scope=row>X2</th><td> 0.224</td><td> 1.000</td><td>-0.240</td></tr>\n",
       "\t<tr><th scope=row>X3</th><td>-0.958</td><td>-0.240</td><td> 1.000</td></tr>\n",
       "</tbody>\n",
       "</table>\n"
      ],
      "text/latex": [
       "A matrix: 3 × 3 of type dbl\n",
       "\\begin{tabular}{r|lll}\n",
       "  & X1 & X2 & X3\\\\\n",
       "\\hline\n",
       "\tX1 &  1.000 &  0.224 & -0.958\\\\\n",
       "\tX2 &  0.224 &  1.000 & -0.240\\\\\n",
       "\tX3 & -0.958 & -0.240 &  1.000\\\\\n",
       "\\end{tabular}\n"
      ],
      "text/markdown": [
       "\n",
       "A matrix: 3 × 3 of type dbl\n",
       "\n",
       "| <!--/--> | X1 | X2 | X3 |\n",
       "|---|---|---|---|\n",
       "| X1 |  1.000 |  0.224 | -0.958 |\n",
       "| X2 |  0.224 |  1.000 | -0.240 |\n",
       "| X3 | -0.958 | -0.240 |  1.000 |\n",
       "\n"
      ],
      "text/plain": [
       "   X1     X2     X3    \n",
       "X1  1.000  0.224 -0.958\n",
       "X2  0.224  1.000 -0.240\n",
       "X3 -0.958 -0.240  1.000"
      ]
     },
     "metadata": {},
     "output_type": "display_data"
    }
   ],
   "source": [
    "X<-model.matrix(Acetylene.lm.1)\n",
    "X\n",
    "round(cor(X[,-1]),3)"
   ]
  },
  {
   "cell_type": "markdown",
   "metadata": {},
   "source": [
    "Matrix $Q=X'\\cdot X$ of cross-products, its determinant and its inverse:"
   ]
  },
  {
   "cell_type": "code",
   "execution_count": 8,
   "metadata": {
    "collapsed": false,
    "jupyter": {
     "outputs_hidden": false
    }
   },
   "outputs": [
    {
     "data": {
      "text/html": [
       "<table>\n",
       "<caption>A matrix: 4 × 4 of type dbl</caption>\n",
       "<thead>\n",
       "\t<tr><th></th><th scope=col>(Intercept)</th><th scope=col>X1</th><th scope=col>X2</th><th scope=col>X3</th></tr>\n",
       "</thead>\n",
       "<tbody>\n",
       "\t<tr><th scope=row>(Intercept)</th><td>   16.000</td><td>   19400.0</td><td>   199.100</td><td>  0.645</td></tr>\n",
       "\t<tr><th scope=row>X1</th><td>19400.000</td><td>23620000.0</td><td>242940.000</td><td>745.400</td></tr>\n",
       "\t<tr><th scope=row>X2</th><td>  199.100</td><td>  242940.0</td><td>  2958.430</td><td>  7.381</td></tr>\n",
       "\t<tr><th scope=row>X3</th><td>    0.645</td><td>     745.4</td><td>     7.381</td><td>  0.041</td></tr>\n",
       "</tbody>\n",
       "</table>\n"
      ],
      "text/latex": [
       "A matrix: 4 × 4 of type dbl\n",
       "\\begin{tabular}{r|llll}\n",
       "  & (Intercept) & X1 & X2 & X3\\\\\n",
       "\\hline\n",
       "\t(Intercept) &    16.000 &    19400.0 &    199.100 &   0.645\\\\\n",
       "\tX1 & 19400.000 & 23620000.0 & 242940.000 & 745.400\\\\\n",
       "\tX2 &   199.100 &   242940.0 &   2958.430 &   7.381\\\\\n",
       "\tX3 &     0.645 &      745.4 &      7.381 &   0.041\\\\\n",
       "\\end{tabular}\n"
      ],
      "text/markdown": [
       "\n",
       "A matrix: 4 × 4 of type dbl\n",
       "\n",
       "| <!--/--> | (Intercept) | X1 | X2 | X3 |\n",
       "|---|---|---|---|---|\n",
       "| (Intercept) |    16.000 |    19400.0 |    199.100 |   0.645 |\n",
       "| X1 | 19400.000 | 23620000.0 | 242940.000 | 745.400 |\n",
       "| X2 |   199.100 |   242940.0 |   2958.430 |   7.381 |\n",
       "| X3 |     0.645 |      745.4 |      7.381 |   0.041 |\n",
       "\n"
      ],
      "text/plain": [
       "            (Intercept) X1         X2         X3     \n",
       "(Intercept)    16.000      19400.0    199.100   0.645\n",
       "X1          19400.000   23620000.0 242940.000 745.400\n",
       "X2            199.100     242940.0   2958.430   7.381\n",
       "X3              0.645        745.4      7.381   0.041"
      ]
     },
     "metadata": {},
     "output_type": "display_data"
    },
    {
     "data": {
      "text/html": [
       "868196.343"
      ],
      "text/latex": [
       "868196.343"
      ],
      "text/markdown": [
       "868196.343"
      ],
      "text/plain": [
       "[1] 868196.3"
      ]
     },
     "metadata": {},
     "output_type": "display_data"
    },
    {
     "data": {
      "text/html": [
       "<table>\n",
       "<caption>A matrix: 4 × 4 of type dbl</caption>\n",
       "<thead>\n",
       "\t<tr><th></th><th scope=col>(Intercept)</th><th scope=col>X1</th><th scope=col>X2</th><th scope=col>X3</th></tr>\n",
       "</thead>\n",
       "<tbody>\n",
       "\t<tr><th scope=row>(Intercept)</th><td> 216.556</td><td>-0.165</td><td>-0.048</td><td>-406.513</td></tr>\n",
       "\t<tr><th scope=row>X1</th><td>  -0.165</td><td> 0.000</td><td> 0.000</td><td>   0.307</td></tr>\n",
       "\t<tr><th scope=row>X2</th><td>  -0.048</td><td> 0.000</td><td> 0.002</td><td>   0.125</td></tr>\n",
       "\t<tr><th scope=row>X3</th><td>-406.513</td><td> 0.307</td><td> 0.125</td><td> 820.847</td></tr>\n",
       "</tbody>\n",
       "</table>\n"
      ],
      "text/latex": [
       "A matrix: 4 × 4 of type dbl\n",
       "\\begin{tabular}{r|llll}\n",
       "  & (Intercept) & X1 & X2 & X3\\\\\n",
       "\\hline\n",
       "\t(Intercept) &  216.556 & -0.165 & -0.048 & -406.513\\\\\n",
       "\tX1 &   -0.165 &  0.000 &  0.000 &    0.307\\\\\n",
       "\tX2 &   -0.048 &  0.000 &  0.002 &    0.125\\\\\n",
       "\tX3 & -406.513 &  0.307 &  0.125 &  820.847\\\\\n",
       "\\end{tabular}\n"
      ],
      "text/markdown": [
       "\n",
       "A matrix: 4 × 4 of type dbl\n",
       "\n",
       "| <!--/--> | (Intercept) | X1 | X2 | X3 |\n",
       "|---|---|---|---|---|\n",
       "| (Intercept) |  216.556 | -0.165 | -0.048 | -406.513 |\n",
       "| X1 |   -0.165 |  0.000 |  0.000 |    0.307 |\n",
       "| X2 |   -0.048 |  0.000 |  0.002 |    0.125 |\n",
       "| X3 | -406.513 |  0.307 |  0.125 |  820.847 |\n",
       "\n"
      ],
      "text/plain": [
       "            (Intercept) X1     X2     X3      \n",
       "(Intercept)  216.556    -0.165 -0.048 -406.513\n",
       "X1            -0.165     0.000  0.000    0.307\n",
       "X2            -0.048     0.000  0.002    0.125\n",
       "X3          -406.513     0.307  0.125  820.847"
      ]
     },
     "metadata": {},
     "output_type": "display_data"
    }
   ],
   "source": [
    "Q<- t(X) %*% X\n",
    "round(Q,3)\n",
    "round(det(Q),3)\n",
    "Q1<-solve(Q)\n",
    "round(Q1,3)"
   ]
  },
  {
   "cell_type": "markdown",
   "metadata": {},
   "source": [
    "Regression coefficients estimates $\\hat{\\beta}$:\n",
    "\n",
    "$$\n",
    "    \\hat{\\beta}=(X'\\cdot X)^{-1}\\cdot X' \\cdot y.\n",
    "$$\n",
    "\n",
    "$y$ is the column of responses."
   ]
  },
  {
   "cell_type": "code",
   "execution_count": 9,
   "metadata": {
    "collapsed": false,
    "jupyter": {
     "outputs_hidden": false
    }
   },
   "outputs": [
    {
     "data": {
      "text/html": [
       "<table>\n",
       "<caption>A matrix: 4 × 1 of type dbl</caption>\n",
       "<tbody>\n",
       "\t<tr><th scope=row>(Intercept)</th><td>-121.2696214</td></tr>\n",
       "\t<tr><th scope=row>X1</th><td>   0.1268539</td></tr>\n",
       "\t<tr><th scope=row>X2</th><td>   0.3481576</td></tr>\n",
       "\t<tr><th scope=row>X3</th><td> -19.0216969</td></tr>\n",
       "</tbody>\n",
       "</table>\n"
      ],
      "text/latex": [
       "A matrix: 4 × 1 of type dbl\n",
       "\\begin{tabular}{r|l}\n",
       "\t(Intercept) & -121.2696214\\\\\n",
       "\tX1 &    0.1268539\\\\\n",
       "\tX2 &    0.3481576\\\\\n",
       "\tX3 &  -19.0216969\\\\\n",
       "\\end{tabular}\n"
      ],
      "text/markdown": [
       "\n",
       "A matrix: 4 × 1 of type dbl\n",
       "\n",
       "| (Intercept) | -121.2696214 |\n",
       "| X1 |    0.1268539 |\n",
       "| X2 |    0.3481576 |\n",
       "| X3 |  -19.0216969 |\n",
       "\n"
      ],
      "text/plain": [
       "            [,1]        \n",
       "(Intercept) -121.2696214\n",
       "X1             0.1268539\n",
       "X2             0.3481576\n",
       "X3           -19.0216969"
      ]
     },
     "metadata": {},
     "output_type": "display_data"
    }
   ],
   "source": [
    "y<-as.matrix(Acetylene$Y)\n",
    "Q1%*%t(X) %*% y"
   ]
  },
  {
   "cell_type": "markdown",
   "metadata": {},
   "source": [
    "Compute $V$, variances and covariances matrix of the regression coefficients estimators $\\hat{\\beta}$, in two ways:\n",
    "\n",
    "(1) Directly from the above formula, using the fact that $\\operatorname{Var}(y)=\\sigma^{2}\\,I$, substituting the ML estimate $\\hat{\\sigma}^{2}$.\n",
    "\n",
    "(2) With the `vcov()` function in R."
   ]
  },
  {
   "cell_type": "code",
   "execution_count": 10,
   "metadata": {
    "collapsed": false,
    "jupyter": {
     "outputs_hidden": false
    }
   },
   "outputs": [
    {
     "data": {
      "text/html": [
       "<table>\n",
       "<caption>A matrix: 4 × 4 of type dbl</caption>\n",
       "<thead>\n",
       "\t<tr><th></th><th scope=col>(Intercept)</th><th scope=col>X1</th><th scope=col>X2</th><th scope=col>X3</th></tr>\n",
       "</thead>\n",
       "<tbody>\n",
       "\t<tr><th scope=row>(Intercept)</th><td> 3073.118</td><td>-2.335</td><td>-0.676</td><td>-5768.763</td></tr>\n",
       "\t<tr><th scope=row>X1</th><td>   -2.335</td><td> 0.002</td><td> 0.000</td><td>    4.352</td></tr>\n",
       "\t<tr><th scope=row>X2</th><td>   -0.676</td><td> 0.000</td><td> 0.031</td><td>    1.778</td></tr>\n",
       "\t<tr><th scope=row>X3</th><td>-5768.763</td><td> 4.352</td><td> 1.778</td><td>11648.504</td></tr>\n",
       "</tbody>\n",
       "</table>\n"
      ],
      "text/latex": [
       "A matrix: 4 × 4 of type dbl\n",
       "\\begin{tabular}{r|llll}\n",
       "  & (Intercept) & X1 & X2 & X3\\\\\n",
       "\\hline\n",
       "\t(Intercept) &  3073.118 & -2.335 & -0.676 & -5768.763\\\\\n",
       "\tX1 &    -2.335 &  0.002 &  0.000 &     4.352\\\\\n",
       "\tX2 &    -0.676 &  0.000 &  0.031 &     1.778\\\\\n",
       "\tX3 & -5768.763 &  4.352 &  1.778 & 11648.504\\\\\n",
       "\\end{tabular}\n"
      ],
      "text/markdown": [
       "\n",
       "A matrix: 4 × 4 of type dbl\n",
       "\n",
       "| <!--/--> | (Intercept) | X1 | X2 | X3 |\n",
       "|---|---|---|---|---|\n",
       "| (Intercept) |  3073.118 | -2.335 | -0.676 | -5768.763 |\n",
       "| X1 |    -2.335 |  0.002 |  0.000 |     4.352 |\n",
       "| X2 |    -0.676 |  0.000 |  0.031 |     1.778 |\n",
       "| X3 | -5768.763 |  4.352 |  1.778 | 11648.504 |\n",
       "\n"
      ],
      "text/plain": [
       "            (Intercept) X1     X2     X3       \n",
       "(Intercept)  3073.118   -2.335 -0.676 -5768.763\n",
       "X1             -2.335    0.002  0.000     4.352\n",
       "X2             -0.676    0.000  0.031     1.778\n",
       "X3          -5768.763    4.352  1.778 11648.504"
      ]
     },
     "metadata": {},
     "output_type": "display_data"
    },
    {
     "data": {
      "text/html": [
       "<table>\n",
       "<caption>A matrix: 4 × 4 of type dbl</caption>\n",
       "<thead>\n",
       "\t<tr><th></th><th scope=col>(Intercept)</th><th scope=col>X1</th><th scope=col>X2</th><th scope=col>X3</th></tr>\n",
       "</thead>\n",
       "<tbody>\n",
       "\t<tr><th scope=row>(Intercept)</th><td> 3073.1176892</td><td>-2.3350689880</td><td>-0.6755487518</td><td>-5768.762894</td></tr>\n",
       "\t<tr><th scope=row>X1</th><td>   -2.3350690</td><td> 0.0017793193</td><td> 0.0001764518</td><td>    4.352212</td></tr>\n",
       "\t<tr><th scope=row>X2</th><td>   -0.6755488</td><td> 0.0001764518</td><td> 0.0313350447</td><td>    1.777998</td></tr>\n",
       "\t<tr><th scope=row>X3</th><td>-5768.7628939</td><td> 4.3522124727</td><td> 1.7779975238</td><td>11648.503915</td></tr>\n",
       "</tbody>\n",
       "</table>\n"
      ],
      "text/latex": [
       "A matrix: 4 × 4 of type dbl\n",
       "\\begin{tabular}{r|llll}\n",
       "  & (Intercept) & X1 & X2 & X3\\\\\n",
       "\\hline\n",
       "\t(Intercept) &  3073.1176892 & -2.3350689880 & -0.6755487518 & -5768.762894\\\\\n",
       "\tX1 &    -2.3350690 &  0.0017793193 &  0.0001764518 &     4.352212\\\\\n",
       "\tX2 &    -0.6755488 &  0.0001764518 &  0.0313350447 &     1.777998\\\\\n",
       "\tX3 & -5768.7628939 &  4.3522124727 &  1.7779975238 & 11648.503915\\\\\n",
       "\\end{tabular}\n"
      ],
      "text/markdown": [
       "\n",
       "A matrix: 4 × 4 of type dbl\n",
       "\n",
       "| <!--/--> | (Intercept) | X1 | X2 | X3 |\n",
       "|---|---|---|---|---|\n",
       "| (Intercept) |  3073.1176892 | -2.3350689880 | -0.6755487518 | -5768.762894 |\n",
       "| X1 |    -2.3350690 |  0.0017793193 |  0.0001764518 |     4.352212 |\n",
       "| X2 |    -0.6755488 |  0.0001764518 |  0.0313350447 |     1.777998 |\n",
       "| X3 | -5768.7628939 |  4.3522124727 |  1.7779975238 | 11648.503915 |\n",
       "\n"
      ],
      "text/plain": [
       "            (Intercept)   X1            X2            X3          \n",
       "(Intercept)  3073.1176892 -2.3350689880 -0.6755487518 -5768.762894\n",
       "X1             -2.3350690  0.0017793193  0.0001764518     4.352212\n",
       "X2             -0.6755488  0.0001764518  0.0313350447     1.777998\n",
       "X3          -5768.7628939  4.3522124727  1.7779975238 11648.503915"
      ]
     },
     "metadata": {},
     "output_type": "display_data"
    }
   ],
   "source": [
    "sigma.hat<-summary(Acetylene.lm.1)$sigma\n",
    "V<-sigma.hat^2*Q1\n",
    "round(V,3)\n",
    "vcov(Acetylene.lm.1)"
   ]
  },
  {
   "cell_type": "markdown",
   "metadata": {},
   "source": [
    "Diagonal entries in $V$ are the variances of the coefficient estimators. We observe two of them are quite large, indicating model instability. \n",
    "\n",
    "This behaviour can be more precisely detected by using the _Variance Inflation Factors (VIF),_ which we compute with the `vif()` function from the `car` package. Intuitively, VIF's quantify _multicollinearity_ in the data, that is, linear dependences in the set of predictors. The VIF of a predictor is the proportion of its actual variance relative to the one it would have if it were linearly independent from the others:"
   ]
  },
  {
   "cell_type": "code",
   "execution_count": 11,
   "metadata": {
    "collapsed": false,
    "jupyter": {
     "outputs_hidden": false
    }
   },
   "outputs": [
    {
     "name": "stderr",
     "output_type": "stream",
     "text": [
      "also installing the dependencies 'ps', 'plyr', 'labeling', 'munsell', 'RColorBrewer', 'processx', 'clipr', 'BH', 'rematch', 'prettyunits', 'stringi', 'gtable', 'reshape2', 'scales', 'viridisLite', 'withr', 'callr', 'forcats', 'hms', 'readr', 'cellranger', 'progress', 'zip', 'pkgconfig', 'colorspace', 'estimability', 'yaml', 'highr', 'markdown', 'stringr', 'xfun', 'httpuv', 'mime', 'xtable', 'R6', 'sourcetools', 'later', 'promises', 'fastmap', 'lazyeval', 'ggplot2', 'miniUI', 'webshot', 'DBI', 'sp', 'haven', 'curl', 'data.table', 'readxl', 'openxlsx', 'tibble', 'minqa', 'nloptr', 'RcppEigen', 'effects', 'bdsmatrix', 'zoo', 'htmlwidgets', 'knitr', 'shiny', 'magrittr', 'crosstalk', 'manipulateWidget', 'numDeriv', 'mitools', 'carData', 'abind', 'pbkrtest', 'quantreg', 'maptools', 'rio', 'lme4', 'alr4', 'coxme', 'leaps', 'lmtest', 'MatrixModels', 'rgl', 'sandwich', 'SparseM', 'survey'\n",
      "\n"
     ]
    },
    {
     "name": "stdout",
     "output_type": "stream",
     "text": [
      "package 'ps' successfully unpacked and MD5 sums checked\n",
      "package 'plyr' successfully unpacked and MD5 sums checked\n",
      "package 'labeling' successfully unpacked and MD5 sums checked\n",
      "package 'munsell' successfully unpacked and MD5 sums checked\n",
      "package 'RColorBrewer' successfully unpacked and MD5 sums checked\n",
      "package 'processx' successfully unpacked and MD5 sums checked\n",
      "package 'clipr' successfully unpacked and MD5 sums checked\n",
      "package 'BH' successfully unpacked and MD5 sums checked\n",
      "package 'rematch' successfully unpacked and MD5 sums checked\n",
      "package 'prettyunits' successfully unpacked and MD5 sums checked\n",
      "package 'stringi' successfully unpacked and MD5 sums checked\n",
      "package 'gtable' successfully unpacked and MD5 sums checked\n",
      "package 'reshape2' successfully unpacked and MD5 sums checked\n",
      "package 'scales' successfully unpacked and MD5 sums checked\n",
      "package 'viridisLite' successfully unpacked and MD5 sums checked\n",
      "package 'withr' successfully unpacked and MD5 sums checked\n",
      "package 'callr' successfully unpacked and MD5 sums checked\n",
      "package 'forcats' successfully unpacked and MD5 sums checked\n",
      "package 'hms' successfully unpacked and MD5 sums checked\n",
      "package 'readr' successfully unpacked and MD5 sums checked\n",
      "package 'cellranger' successfully unpacked and MD5 sums checked\n",
      "package 'progress' successfully unpacked and MD5 sums checked\n",
      "package 'zip' successfully unpacked and MD5 sums checked\n",
      "package 'pkgconfig' successfully unpacked and MD5 sums checked\n",
      "package 'colorspace' successfully unpacked and MD5 sums checked\n",
      "package 'estimability' successfully unpacked and MD5 sums checked\n",
      "package 'yaml' successfully unpacked and MD5 sums checked\n",
      "package 'highr' successfully unpacked and MD5 sums checked\n",
      "package 'markdown' successfully unpacked and MD5 sums checked\n",
      "package 'stringr' successfully unpacked and MD5 sums checked\n",
      "package 'xfun' successfully unpacked and MD5 sums checked\n",
      "package 'httpuv' successfully unpacked and MD5 sums checked\n",
      "package 'mime' successfully unpacked and MD5 sums checked\n",
      "package 'xtable' successfully unpacked and MD5 sums checked\n",
      "package 'R6' successfully unpacked and MD5 sums checked\n",
      "package 'sourcetools' successfully unpacked and MD5 sums checked\n",
      "package 'later' successfully unpacked and MD5 sums checked\n",
      "package 'promises' successfully unpacked and MD5 sums checked\n",
      "package 'fastmap' successfully unpacked and MD5 sums checked\n",
      "package 'lazyeval' successfully unpacked and MD5 sums checked\n",
      "package 'ggplot2' successfully unpacked and MD5 sums checked\n",
      "package 'miniUI' successfully unpacked and MD5 sums checked\n",
      "package 'webshot' successfully unpacked and MD5 sums checked\n",
      "package 'DBI' successfully unpacked and MD5 sums checked\n",
      "package 'sp' successfully unpacked and MD5 sums checked\n",
      "package 'haven' successfully unpacked and MD5 sums checked\n",
      "package 'curl' successfully unpacked and MD5 sums checked\n",
      "package 'data.table' successfully unpacked and MD5 sums checked\n",
      "package 'readxl' successfully unpacked and MD5 sums checked\n",
      "package 'openxlsx' successfully unpacked and MD5 sums checked\n",
      "package 'tibble' successfully unpacked and MD5 sums checked\n",
      "package 'minqa' successfully unpacked and MD5 sums checked\n",
      "package 'nloptr' successfully unpacked and MD5 sums checked\n",
      "package 'RcppEigen' successfully unpacked and MD5 sums checked\n",
      "package 'effects' successfully unpacked and MD5 sums checked\n",
      "package 'bdsmatrix' successfully unpacked and MD5 sums checked\n",
      "package 'zoo' successfully unpacked and MD5 sums checked\n",
      "package 'htmlwidgets' successfully unpacked and MD5 sums checked\n",
      "package 'knitr' successfully unpacked and MD5 sums checked\n",
      "package 'shiny' successfully unpacked and MD5 sums checked\n",
      "package 'magrittr' successfully unpacked and MD5 sums checked\n",
      "package 'crosstalk' successfully unpacked and MD5 sums checked\n",
      "package 'manipulateWidget' successfully unpacked and MD5 sums checked\n",
      "package 'numDeriv' successfully unpacked and MD5 sums checked\n",
      "package 'mitools' successfully unpacked and MD5 sums checked\n",
      "package 'carData' successfully unpacked and MD5 sums checked\n",
      "package 'abind' successfully unpacked and MD5 sums checked\n",
      "package 'pbkrtest' successfully unpacked and MD5 sums checked\n",
      "package 'quantreg' successfully unpacked and MD5 sums checked\n",
      "package 'maptools' successfully unpacked and MD5 sums checked\n",
      "package 'rio' successfully unpacked and MD5 sums checked\n",
      "package 'lme4' successfully unpacked and MD5 sums checked\n",
      "package 'alr4' successfully unpacked and MD5 sums checked\n",
      "package 'coxme' successfully unpacked and MD5 sums checked\n",
      "package 'leaps' successfully unpacked and MD5 sums checked\n",
      "package 'lmtest' successfully unpacked and MD5 sums checked\n",
      "package 'MatrixModels' successfully unpacked and MD5 sums checked\n",
      "package 'rgl' successfully unpacked and MD5 sums checked\n",
      "package 'sandwich' successfully unpacked and MD5 sums checked\n",
      "package 'SparseM' successfully unpacked and MD5 sums checked\n",
      "package 'survey' successfully unpacked and MD5 sums checked\n",
      "package 'car' successfully unpacked and MD5 sums checked\n",
      "\n",
      "The downloaded binary packages are in\n",
      "\tC:\\Users\\Krizto\\AppData\\Local\\Temp\\RtmpI3d7zs\\downloaded_packages\n"
     ]
    },
    {
     "name": "stderr",
     "output_type": "stream",
     "text": [
      "Loading required package: car\n",
      "Loading required package: carData\n"
     ]
    },
    {
     "data": {
      "text/html": [
       "\n",
       "<table width=\"100%\" summary=\"page for vif {car}\"><tr><td>vif {car}</td><td style=\"text-align: right;\">R Documentation</td></tr></table>\n",
       "\n",
       "<h2>Variance Inflation Factors</h2>\n",
       "\n",
       "<h3>Description</h3>\n",
       "\n",
       "<p>Calculates variance-inflation and generalized variance-inflation factors\n",
       "for linear, generalized linear, and other models.\n",
       "</p>\n",
       "\n",
       "\n",
       "<h3>Usage</h3>\n",
       "\n",
       "<pre>\n",
       "vif(mod, ...)\n",
       "\n",
       "## Default S3 method:\n",
       "vif(mod, ...)\n",
       "\n",
       "## S3 method for class 'merMod'\n",
       "vif(mod, ...)\n",
       "</pre>\n",
       "\n",
       "\n",
       "<h3>Arguments</h3>\n",
       "\n",
       "<table summary=\"R argblock\">\n",
       "<tr valign=\"top\"><td><code>mod</code></td>\n",
       "<td>\n",
       "<p>for the default method, an object that responds to \n",
       "<code>coef</code>, <code>vcov</code>, and\n",
       "<code>model.matrix</code>, such as an <code>lm</code> or <code>glm</code> object.</p>\n",
       "</td></tr>\n",
       "<tr valign=\"top\"><td><code>...</code></td>\n",
       "<td>\n",
       "<p>not used.</p>\n",
       "</td></tr>\n",
       "</table>\n",
       "\n",
       "\n",
       "<h3>Details</h3>\n",
       "\n",
       "<p>If all terms in an unweighted linear model have 1 df, then the usual variance-inflation\n",
       "factors are calculated.\n",
       "</p>\n",
       "<p>If any terms in an unweighted linear model have more than 1 df, then generalized variance-inflation factors\n",
       "(Fox and Monette, 1992) are calculated. These are interpretable as the inflation\n",
       "in size of the confidence ellipse or ellipsoid for the coefficients of the term in\n",
       "comparison with what would be obtained for orthogonal data. \n",
       "</p>\n",
       "<p>The generalized vifs\n",
       "are invariant with respect to the coding of the terms in the model (as long as\n",
       "the subspace of the columns of the model matrix pertaining to each term is\n",
       "invariant). To adjust for the dimension of the confidence ellipsoid, the function\n",
       "also prints <i>GVIF^[1/(2*df)]</i> where <i>df</i> is the degrees of freedom\n",
       "associated with the term.\n",
       "</p>\n",
       "<p>Through a further generalization, the implementation here is applicable as well to other sorts of models,\n",
       "in particular weighted linear models,  generalized linear models, and mixed-effects models.\n",
       "</p>\n",
       "\n",
       "\n",
       "<h3>Value</h3>\n",
       "\n",
       "<p>A vector of vifs, or a matrix containing one row for each term in the model, and\n",
       "columns for the GVIF, df, and <i>GVIF^[1/(2*df)]</i>.\n",
       "</p>\n",
       "\n",
       "\n",
       "<h3>Author(s)</h3>\n",
       "\n",
       "<p>Henric Nilsson and John Fox <a href=\"mailto:jfox@mcmaster.ca\">jfox@mcmaster.ca</a></p>\n",
       "\n",
       "\n",
       "<h3>References</h3>\n",
       "\n",
       " \n",
       "<p>Fox, J. and Monette, G. (1992)\n",
       "Generalized collinearity diagnostics.\n",
       "<em>JASA</em>, <b>87</b>, 178&ndash;183.\n",
       "</p>\n",
       "<p>Fox, J. (2016)\n",
       "<em>Applied Regression Analysis and Generalized Linear Models</em>,\n",
       "Third Edition. Sage.  \n",
       "</p>\n",
       "<p>Fox, J. and Weisberg, S. (2018) \n",
       "<em>An R Companion to Applied Regression</em>, Third Edition, Sage.\n",
       "</p>\n",
       "\n",
       "\n",
       "<h3>Examples</h3>\n",
       "\n",
       "<pre>\n",
       "vif(lm(prestige ~ income + education, data=Duncan))\n",
       "vif(lm(prestige ~ income + education + type, data=Duncan))\n",
       "\n",
       "</pre>\n",
       "\n",
       "<hr /><div style=\"text-align: center;\">[Package <em>car</em> version 3.0-3 ]</div>"
      ],
      "text/latex": [
       "\\inputencoding{utf8}\n",
       "\\HeaderA{vif}{Variance Inflation Factors}{vif}\n",
       "\\methaliasA{vif.default}{vif}{vif.default}\n",
       "\\methaliasA{vif.merMod}{vif}{vif.merMod}\n",
       "\\keyword{regression}{vif}\n",
       "%\n",
       "\\begin{Description}\\relax\n",
       "Calculates variance-inflation and generalized variance-inflation factors\n",
       "for linear, generalized linear, and other models.\n",
       "\\end{Description}\n",
       "%\n",
       "\\begin{Usage}\n",
       "\\begin{verbatim}\n",
       "vif(mod, ...)\n",
       "\n",
       "## Default S3 method:\n",
       "vif(mod, ...)\n",
       "\n",
       "## S3 method for class 'merMod'\n",
       "vif(mod, ...)\n",
       "\\end{verbatim}\n",
       "\\end{Usage}\n",
       "%\n",
       "\\begin{Arguments}\n",
       "\\begin{ldescription}\n",
       "\\item[\\code{mod}] for the default method, an object that responds to \n",
       "\\code{\\LinkA{coef}{coef}}, \\code{\\LinkA{vcov}{vcov}}, and\n",
       "\\code{\\LinkA{model.matrix}{model.matrix}}, such as an \\code{lm} or \\code{glm} object.\n",
       "\\item[\\code{...}] not used.\n",
       "\\end{ldescription}\n",
       "\\end{Arguments}\n",
       "%\n",
       "\\begin{Details}\\relax\n",
       "If all terms in an unweighted linear model have 1 df, then the usual variance-inflation\n",
       "factors are calculated.\n",
       "\n",
       "If any terms in an unweighted linear model have more than 1 df, then generalized variance-inflation factors\n",
       "(Fox and Monette, 1992) are calculated. These are interpretable as the inflation\n",
       "in size of the confidence ellipse or ellipsoid for the coefficients of the term in\n",
       "comparison with what would be obtained for orthogonal data. \n",
       "\n",
       "The generalized vifs\n",
       "are invariant with respect to the coding of the terms in the model (as long as\n",
       "the subspace of the columns of the model matrix pertaining to each term is\n",
       "invariant). To adjust for the dimension of the confidence ellipsoid, the function\n",
       "also prints \\eqn{GVIF^{1/(2\\times df)}}{} where \\eqn{df}{} is the degrees of freedom\n",
       "associated with the term.\n",
       "\n",
       "Through a further generalization, the implementation here is applicable as well to other sorts of models,\n",
       "in particular weighted linear models,  generalized linear models, and mixed-effects models.\n",
       "\\end{Details}\n",
       "%\n",
       "\\begin{Value}\n",
       "A vector of vifs, or a matrix containing one row for each term in the model, and\n",
       "columns for the GVIF, df, and \\eqn{GVIF^{1/(2\\times df)}}{}.\n",
       "\\end{Value}\n",
       "%\n",
       "\\begin{Author}\\relax\n",
       "Henric Nilsson and John Fox \\email{jfox@mcmaster.ca}\n",
       "\\end{Author}\n",
       "%\n",
       "\\begin{References}\\relax\n",
       " \n",
       "Fox, J. and Monette, G. (1992)\n",
       "Generalized collinearity diagnostics.\n",
       "\\emph{JASA}, \\bold{87}, 178--183.\n",
       "\n",
       "Fox, J. (2016)\n",
       "\\emph{Applied Regression Analysis and Generalized Linear Models},\n",
       "Third Edition. Sage.  \n",
       "\n",
       "Fox, J. and Weisberg, S. (2018) \n",
       "\\emph{An R Companion to Applied Regression}, Third Edition, Sage.\n",
       "\\end{References}\n",
       "%\n",
       "\\begin{Examples}\n",
       "\\begin{ExampleCode}\n",
       "vif(lm(prestige ~ income + education, data=Duncan))\n",
       "vif(lm(prestige ~ income + education + type, data=Duncan))\n",
       "\n",
       "\\end{ExampleCode}\n",
       "\\end{Examples}"
      ],
      "text/plain": [
       "vif                    package:car                     R Documentation\n",
       "\n",
       "_\bV_\ba_\br_\bi_\ba_\bn_\bc_\be _\bI_\bn_\bf_\bl_\ba_\bt_\bi_\bo_\bn _\bF_\ba_\bc_\bt_\bo_\br_\bs\n",
       "\n",
       "_\bD_\be_\bs_\bc_\br_\bi_\bp_\bt_\bi_\bo_\bn:\n",
       "\n",
       "     Calculates variance-inflation and generalized variance-inflation\n",
       "     factors for linear, generalized linear, and other models.\n",
       "\n",
       "_\bU_\bs_\ba_\bg_\be:\n",
       "\n",
       "     vif(mod, ...)\n",
       "     \n",
       "     ## Default S3 method:\n",
       "     vif(mod, ...)\n",
       "     \n",
       "     ## S3 method for class 'merMod'\n",
       "     vif(mod, ...)\n",
       "     \n",
       "_\bA_\br_\bg_\bu_\bm_\be_\bn_\bt_\bs:\n",
       "\n",
       "     mod: for the default method, an object that responds to 'coef',\n",
       "          'vcov', and 'model.matrix', such as an 'lm' or 'glm' object.\n",
       "\n",
       "     ...: not used.\n",
       "\n",
       "_\bD_\be_\bt_\ba_\bi_\bl_\bs:\n",
       "\n",
       "     If all terms in an unweighted linear model have 1 df, then the\n",
       "     usual variance-inflation factors are calculated.\n",
       "\n",
       "     If any terms in an unweighted linear model have more than 1 df,\n",
       "     then generalized variance-inflation factors (Fox and Monette,\n",
       "     1992) are calculated. These are interpretable as the inflation in\n",
       "     size of the confidence ellipse or ellipsoid for the coefficients\n",
       "     of the term in comparison with what would be obtained for\n",
       "     orthogonal data.\n",
       "\n",
       "     The generalized vifs are invariant with respect to the coding of\n",
       "     the terms in the model (as long as the subspace of the columns of\n",
       "     the model matrix pertaining to each term is invariant). To adjust\n",
       "     for the dimension of the confidence ellipsoid, the function also\n",
       "     prints GVIF^[1/(2*df)] where df is the degrees of freedom\n",
       "     associated with the term.\n",
       "\n",
       "     Through a further generalization, the implementation here is\n",
       "     applicable as well to other sorts of models, in particular\n",
       "     weighted linear models, generalized linear models, and\n",
       "     mixed-effects models.\n",
       "\n",
       "_\bV_\ba_\bl_\bu_\be:\n",
       "\n",
       "     A vector of vifs, or a matrix containing one row for each term in\n",
       "     the model, and columns for the GVIF, df, and GVIF^[1/(2*df)].\n",
       "\n",
       "_\bA_\bu_\bt_\bh_\bo_\br(_\bs):\n",
       "\n",
       "     Henric Nilsson and John Fox <email: jfox@mcmaster.ca>\n",
       "\n",
       "_\bR_\be_\bf_\be_\br_\be_\bn_\bc_\be_\bs:\n",
       "\n",
       "     Fox, J. and Monette, G. (1992) Generalized collinearity\n",
       "     diagnostics.  _JASA_, *87*, 178-183.\n",
       "\n",
       "     Fox, J. (2016) _Applied Regression Analysis and Generalized Linear\n",
       "     Models_, Third Edition. Sage.\n",
       "\n",
       "     Fox, J. and Weisberg, S. (2018) _An R Companion to Applied\n",
       "     Regression_, Third Edition, Sage.\n",
       "\n",
       "_\bE_\bx_\ba_\bm_\bp_\bl_\be_\bs:\n",
       "\n",
       "     vif(lm(prestige ~ income + education, data=Duncan))\n",
       "     vif(lm(prestige ~ income + education + type, data=Duncan))\n",
       "     "
      ]
     },
     "metadata": {},
     "output_type": "display_data"
    }
   ],
   "source": [
    "install.packages(\"car\",dependencies=TRUE,repos=\"https://cloud.r-project.org\")\n",
    "#install.packages(\"VIF\")\n",
    "require(car)\n",
    "?vif"
   ]
  },
  {
   "cell_type": "code",
   "execution_count": 13,
   "metadata": {
    "collapsed": false,
    "jupyter": {
     "outputs_hidden": false
    }
   },
   "outputs": [
    {
     "data": {
      "text/html": [
       "<dl class=dl-horizontal>\n",
       "\t<dt>X1</dt>\n",
       "\t\t<dd>12.2250454100393</dd>\n",
       "\t<dt>X2</dt>\n",
       "\t\t<dd>1.06183841935804</dd>\n",
       "\t<dt>X3</dt>\n",
       "\t\t<dd>12.3249635776052</dd>\n",
       "</dl>\n"
      ],
      "text/latex": [
       "\\begin{description*}\n",
       "\\item[X1] 12.2250454100393\n",
       "\\item[X2] 1.06183841935804\n",
       "\\item[X3] 12.3249635776052\n",
       "\\end{description*}\n"
      ],
      "text/markdown": [
       "X1\n",
       ":   12.2250454100393X2\n",
       ":   1.06183841935804X3\n",
       ":   12.3249635776052\n",
       "\n"
      ],
      "text/plain": [
       "       X1        X2        X3 \n",
       "12.225045  1.061838 12.324964 "
      ]
     },
     "metadata": {},
     "output_type": "display_data"
    }
   ],
   "source": [
    "vif(Acetylene.lm.1)"
   ]
  },
  {
   "cell_type": "markdown",
   "metadata": {},
   "source": [
    "The commonly accepted rule of thumb is that a VIF larger than 10 is too large, indicating multicollinearity. "
   ]
  },
  {
   "cell_type": "markdown",
   "metadata": {},
   "source": [
    "Another quantity used in multicollinearity detection is the _condition number_ of the model matrix $X$. In general, the condition number $\\kappa(A)$ of a matrix $A$ measures the numerical inaccuracy introduced by solving the equation $A\\cdot x = b$ for a given column vector $b$. Technically it is the ratio between the maximum and minimum singular values of $A$. When $\\kappa\\approx1$ there is no significant precision loss. When $\\kappa=10^k$ the precision loss of $k$ significant decimal digits:\n",
    "\n",
    "The `kappa()` function in R gives the condition number of a matrix. We check the condition number of the model matrix $X$ of this regression:"
   ]
  },
  {
   "cell_type": "code",
   "execution_count": 14,
   "metadata": {
    "collapsed": false,
    "jupyter": {
     "outputs_hidden": false
    }
   },
   "outputs": [
    {
     "data": {
      "text/html": [
       "201893.288773715"
      ],
      "text/latex": [
       "201893.288773715"
      ],
      "text/markdown": [
       "201893.288773715"
      ],
      "text/plain": [
       "[1] 201893.3"
      ]
     },
     "metadata": {},
     "output_type": "display_data"
    }
   ],
   "source": [
    "kappa(X)"
   ]
  },
  {
   "cell_type": "markdown",
   "metadata": {},
   "source": [
    "We see that these data have bad condition for regression. The practical consequence of this fact is that predictions $\\hat{y}$ obtained from this model are unreliable. \n",
    "\n",
    "The predicted $\\hat{y}$ for a new $x$ can be computed as usual:"
   ]
  },
  {
   "cell_type": "code",
   "execution_count": null,
   "metadata": {
    "collapsed": true,
    "jupyter": {
     "outputs_hidden": true
    },
    "scrolled": true
   },
   "outputs": [],
   "source": [
    "newy<-predict(Acetylene.lm.1,newdata=data.frame(X1=1100,X2=8,X3=0.02), type=\"response\")\n",
    "round(newy,3)"
   ]
  },
  {
   "cell_type": "markdown",
   "metadata": {},
   "source": [
    "However, due to the bad condition of the model it would be unadvisable to rely upon this value, which possibly will have a large error (and we do not know how large)."
   ]
  },
  {
   "cell_type": "code",
   "execution_count": null,
   "metadata": {
    "collapsed": true,
    "jupyter": {
     "outputs_hidden": true
    }
   },
   "outputs": [],
   "source": [
    "round(predict(Acetylene.lm.1,newdata=data.frame(X1=1100,X2=8,X3=0.02), type=\"response\",interval=\"confidence\"),3)\n",
    "round(predict(Acetylene.lm.1,newdata=data.frame(X1=1100,X2=8,X3=0.02), type=\"response\",interval=\"prediction\"),3)"
   ]
  },
  {
   "cell_type": "markdown",
   "metadata": {},
   "source": [
    "We should restate the model, either replacing the original predictors with suitable linear combinations, designed to diminish multicollinearity, such as _PCR_ and _PLS,_ or by means of _regularization._ "
   ]
  },
  {
   "cell_type": "markdown",
   "metadata": {},
   "source": [
    "### GPA (Grade Point Average) dataset"
   ]
  },
  {
   "cell_type": "markdown",
   "metadata": {},
   "source": [
    "The GPA dataset has 30 observacions (for 30 students) of 5 variables:\n",
    "\n",
    "`gpa`:   \"graduate grade point average\"\n",
    "\n",
    "`greq`:  \"GRE exam quantitative score\"\n",
    "\n",
    "`grev`:  \"GRE exam verbal score\"\n",
    "\n",
    "`mat`:   \"Miller Analogies Test score\"\n",
    "\n",
    "`ar`:    \"rating by professors\"\n",
    "\n",
    "#### Read the data file into R:"
   ]
  },
  {
   "cell_type": "code",
   "execution_count": 17,
   "metadata": {
    "collapsed": false,
    "jupyter": {
     "outputs_hidden": false
    }
   },
   "outputs": [
    {
     "name": "stdout",
     "output_type": "stream",
     "text": [
      "'data.frame':\t30 obs. of  5 variables:\n",
      " $ gpa : num  3.2 4.1 3 2.6 3.7 4 4.3 2.7 3.6 4.1 ...\n",
      " $ greq: int  625 575 520 545 520 655 630 500 605 555 ...\n",
      " $ grev: int  540 680 480 520 490 535 720 500 575 690 ...\n",
      " $ mat : int  65 75 65 55 75 65 75 75 65 75 ...\n",
      " $ ar  : num  2.7 4.5 2.5 3.1 3.6 4.3 4.6 3 4.7 3.4 ...\n"
     ]
    }
   ],
   "source": [
    "gpa<-read.table(\"gpa.txt\",header=TRUE)\n",
    "str(gpa)"
   ]
  },
  {
   "cell_type": "markdown",
   "metadata": {},
   "source": [
    "#### Fit a linear model to predict the response `gpa` from the remaining four variables:"
   ]
  },
  {
   "cell_type": "code",
   "execution_count": null,
   "metadata": {
    "collapsed": true,
    "jupyter": {
     "outputs_hidden": true
    }
   },
   "outputs": [],
   "source": [
    "gpa.lm.1<-lm(gpa~.,data=gpa)\n",
    "summary(gpa.lm.1)"
   ]
  },
  {
   "cell_type": "markdown",
   "metadata": {},
   "source": [
    "#### Compute VIF and condition number"
   ]
  },
  {
   "cell_type": "code",
   "execution_count": null,
   "metadata": {
    "collapsed": true,
    "jupyter": {
     "outputs_hidden": true
    }
   },
   "outputs": [],
   "source": [
    "vif(gpa.lm.1)\n",
    "X.gpa<-model.matrix(gpa.lm.1)\n",
    "kappa(X.gpa)"
   ]
  },
  {
   "cell_type": "markdown",
   "metadata": {},
   "source": [
    "The condition number $\\kappa$ is not small, but the VIF's are acceptable."
   ]
  },
  {
   "cell_type": "markdown",
   "metadata": {},
   "source": [
    "#### Exploring the effect of adding a new, redundant, variable\n",
    "\n",
    "A _\"new\"_ artificial predictor variable adding no new information. A linear combination plus a random noise:"
   ]
  },
  {
   "cell_type": "code",
   "execution_count": null,
   "metadata": {
    "collapsed": true,
    "jupyter": {
     "outputs_hidden": true
    }
   },
   "outputs": [],
   "source": [
    "new<-gpa$greq+gpa$grev+gpa$mat+rnorm(30,0,0.5)\n",
    "gpanew<-data.frame(gpa,new)"
   ]
  },
  {
   "cell_type": "markdown",
   "metadata": {},
   "source": [
    "#### New linear model using the new, enlarged, predictor set"
   ]
  },
  {
   "cell_type": "code",
   "execution_count": null,
   "metadata": {
    "collapsed": true,
    "jupyter": {
     "outputs_hidden": true
    }
   },
   "outputs": [],
   "source": [
    "gpa.lm.2<-lm(gpa~.,data=gpanew)\n",
    "summary(gpa.lm.2)"
   ]
  },
  {
   "cell_type": "markdown",
   "metadata": {},
   "source": [
    "#### VIF's and condition number of the new model"
   ]
  },
  {
   "cell_type": "code",
   "execution_count": null,
   "metadata": {
    "collapsed": true,
    "jupyter": {
     "outputs_hidden": true
    }
   },
   "outputs": [],
   "source": [
    "vif(gpa.lm.2)\n",
    "X.gpa.2<-model.matrix(gpa.lm.2)\n",
    "kappa(X.gpa.2)"
   ]
  },
  {
   "cell_type": "markdown",
   "metadata": {},
   "source": [
    "### Longley dataset\n",
    "\n",
    "This is a classic infamous dataset, designed to reveal computational weaknesses in statistical software (of its time, fifty years ago). The source is:  Longley, James W. (1967), _\"An Appraisal of Least Squares Programs for the Electronic Computer from the Point of View of the User\",_ Journal of the American Statistical Association, Vol. 62, No. 319, pp. 819-841.  "
   ]
  },
  {
   "cell_type": "code",
   "execution_count": null,
   "metadata": {
    "collapsed": true,
    "jupyter": {
     "outputs_hidden": true
    }
   },
   "outputs": [],
   "source": [
    "data(longley)\n",
    "str(longley)\n",
    "# ?longley"
   ]
  },
  {
   "cell_type": "markdown",
   "metadata": {},
   "source": [
    "#### Exercise\n",
    "\n",
    "Prepare a linear model to predict `Employed` from the remaining variables.\n",
    "\n",
    "Obtain VIF's and condition number. Repeat after standardizing the predictors. What happens with VIF and `kappa`?"
   ]
  },
  {
   "cell_type": "code",
   "execution_count": null,
   "metadata": {
    "collapsed": true,
    "jupyter": {
     "outputs_hidden": true
    }
   },
   "outputs": [],
   "source": [
    "#\n",
    "# Insert here your code\n",
    "#"
   ]
  },
  {
   "cell_type": "markdown",
   "metadata": {},
   "source": [
    "## 2. Polynomial regression "
   ]
  },
  {
   "cell_type": "markdown",
   "metadata": {},
   "source": [
    "### The  `cars` dataset"
   ]
  },
  {
   "cell_type": "markdown",
   "metadata": {},
   "source": [
    "We take another classic dataset: `cars`, stopping distance of several vehicles as a function of the initial speed. These data were registered in the 1920's. From Physics, stopping distance should be a quadratic function of speed. Firstly we fit a simple linear regression and then we try a linear regression with a quadratic term."
   ]
  },
  {
   "cell_type": "markdown",
   "metadata": {},
   "source": [
    "#### Simple linear model"
   ]
  },
  {
   "cell_type": "code",
   "execution_count": 22,
   "metadata": {
    "collapsed": false,
    "jupyter": {
     "outputs_hidden": false
    }
   },
   "outputs": [
    {
     "name": "stdout",
     "output_type": "stream",
     "text": [
      "'data.frame':\t50 obs. of  2 variables:\n",
      " $ speed: num  4 4 7 7 8 9 10 10 10 11 ...\n",
      " $ dist : num  2 10 4 22 16 10 18 26 34 17 ...\n"
     ]
    },
    {
     "data": {
      "text/plain": [
       "\n",
       "Call:\n",
       "lm(formula = dist ~ speed, data = cars)\n",
       "\n",
       "Residuals:\n",
       "    Min      1Q  Median      3Q     Max \n",
       "-29.069  -9.525  -2.272   9.215  43.201 \n",
       "\n",
       "Coefficients:\n",
       "            Estimate Std. Error t value Pr(>|t|)    \n",
       "(Intercept) -17.5791     6.7584  -2.601   0.0123 *  \n",
       "speed         3.9324     0.4155   9.464 1.49e-12 ***\n",
       "---\n",
       "Signif. codes:  0 ‘***’ 0.001 ‘**’ 0.01 ‘*’ 0.05 ‘.’ 0.1 ‘ ’ 1\n",
       "\n",
       "Residual standard error: 15.38 on 48 degrees of freedom\n",
       "Multiple R-squared:  0.6511,\tAdjusted R-squared:  0.6438 \n",
       "F-statistic: 89.57 on 1 and 48 DF,  p-value: 1.49e-12\n"
      ]
     },
     "metadata": {},
     "output_type": "display_data"
    },
    {
     "data": {
      "image/png": "[encoded data removed]",
      "text/plain": [
       "Plot with title “Stopping distance vs. speed”"
      ]
     },
     "metadata": {},
     "output_type": "display_data"
    }
   ],
   "source": [
    "data(cars)\n",
    "# ?cars\n",
    "str(cars)\n",
    "plot(dist~speed,data=cars,pch=19,col=\"red\",cex=0.8,main=\"Stopping distance vs. speed\")\n",
    "cars.lm.1<-lm(dist~speed,data=cars)\n",
    "abline(cars.lm.1,lwd=2.1,col=\"blue\")\n",
    "summary(cars.lm.1)"
   ]
  },
  {
   "cell_type": "markdown",
   "metadata": {},
   "source": [
    "#### Linear regression with a quadratic term\n",
    "\n",
    "Note the model syntax!"
   ]
  },
  {
   "cell_type": "code",
   "execution_count": 31,
   "metadata": {
    "collapsed": false,
    "jupyter": {
     "outputs_hidden": false
    }
   },
   "outputs": [
    {
     "data": {
      "text/plain": [
       "\n",
       "Call:\n",
       "lm(formula = dist ~ speed + I(speed^2), data = cars)\n",
       "\n",
       "Residuals:\n",
       "    Min      1Q  Median      3Q     Max \n",
       "-28.720  -9.184  -3.188   4.628  45.152 \n",
       "\n",
       "Coefficients:\n",
       "            Estimate Std. Error t value Pr(>|t|)\n",
       "(Intercept)  2.47014   14.81716   0.167    0.868\n",
       "speed        0.91329    2.03422   0.449    0.656\n",
       "I(speed^2)   0.09996    0.06597   1.515    0.136\n",
       "\n",
       "Residual standard error: 15.18 on 47 degrees of freedom\n",
       "Multiple R-squared:  0.6673,\tAdjusted R-squared:  0.6532 \n",
       "F-statistic: 47.14 on 2 and 47 DF,  p-value: 5.852e-12\n"
      ]
     },
     "metadata": {},
     "output_type": "display_data"
    },
    {
     "data": {
      "image/png": "[encoded data removed]",
      "text/plain": [
       "Plot with title “Stopping distance vs. speed”"
      ]
     },
     "metadata": {},
     "output_type": "display_data"
    }
   ],
   "source": [
    "cars.lm.2<-lm(dist~speed+I(speed^2),data=cars)\n",
    "summary(cars.lm.2)\n",
    "plot(dist~speed,data=cars,pch=19,col=\"red\",cex=0.8,main=\"Stopping distance vs. speed\")\n",
    "s<-seq(min(cars$speed),max(cars$speed),length=400)\n",
    "d<-predict(cars.lm.2,newdata=data.frame(speed=s))\n",
    "lines(s,d,lwd=2.1,col=\"blue\")"
   ]
  },
  {
   "cell_type": "markdown",
   "metadata": {},
   "source": [
    "#### Linear model with the logarithms of both predictor and response\n",
    "\n",
    "This is an expedient device when one expects a power function relationship."
   ]
  },
  {
   "cell_type": "code",
   "execution_count": 32,
   "metadata": {
    "collapsed": false,
    "jupyter": {
     "outputs_hidden": false
    }
   },
   "outputs": [
    {
     "data": {
      "text/plain": [
       "\n",
       "Call:\n",
       "lm(formula = log(dist) ~ log(speed), data = cars)\n",
       "\n",
       "Residuals:\n",
       "     Min       1Q   Median       3Q      Max \n",
       "-1.00215 -0.24578 -0.02898  0.20717  0.88289 \n",
       "\n",
       "Coefficients:\n",
       "            Estimate Std. Error t value Pr(>|t|)    \n",
       "(Intercept)  -0.7297     0.3758  -1.941   0.0581 .  \n",
       "log(speed)    1.6024     0.1395  11.484 2.26e-15 ***\n",
       "---\n",
       "Signif. codes:  0 ‘***’ 0.001 ‘**’ 0.01 ‘*’ 0.05 ‘.’ 0.1 ‘ ’ 1\n",
       "\n",
       "Residual standard error: 0.4053 on 48 degrees of freedom\n",
       "Multiple R-squared:  0.7331,\tAdjusted R-squared:  0.7276 \n",
       "F-statistic: 131.9 on 1 and 48 DF,  p-value: 2.259e-15\n"
      ]
     },
     "metadata": {},
     "output_type": "display_data"
    },
    {
     "data": {
      "image/png": "[encoded data removed]",
      "text/plain": [
       "Plot with title “Log(Stopping distance) vs. Log(Speed)”"
      ]
     },
     "metadata": {},
     "output_type": "display_data"
    }
   ],
   "source": [
    "cars.lm.3<- lm(log(dist) ~ log(speed), data = cars)\n",
    "summary(cars.lm.3)\n",
    "plot(log(dist)~log(speed),data=cars,pch=19,col=\"red\",cex=0.8,main=\"Log(Stopping distance) vs. Log(Speed)\")\n",
    "abline(cars.lm.3,lwd=2.1,col=\"blue\")"
   ]
  },
  {
   "cell_type": "markdown",
   "metadata": {},
   "source": [
    "## 3. Comparing regression models"
   ]
  },
  {
   "cell_type": "markdown",
   "metadata": {},
   "source": [
    "### `hills` dataset\n",
    "\n",
    "#### Package DAAG\n",
    "\n",
    "From the book: Maindonald, J., Braun, J. (2003), _Data Analysis and Graphics Using R._ Cambridge University Press."
   ]
  },
  {
   "cell_type": "code",
   "execution_count": 42,
   "metadata": {
    "collapsed": false,
    "jupyter": {
     "outputs_hidden": false
    }
   },
   "outputs": [
    {
     "name": "stderr",
     "output_type": "stream",
     "text": [
      "Installing package into ‘/home/crquispq7.alumnes/R/x86_64-pc-linux-gnu-library/3.3’\n",
      "(as ‘lib’ is unspecified)\n",
      "also installing the dependencies ‘SparseM’, ‘MatrixModels’, ‘latticeExtra’, ‘leaps’, ‘oz’, ‘quantreg’\n",
      "\n",
      "Loading required package: DAAG\n",
      "Loading required package: lattice\n",
      "\n",
      "Attaching package: ‘DAAG’\n",
      "\n",
      "The following object is masked from ‘package:VIF’:\n",
      "\n",
      "    vif\n",
      "\n"
     ]
    }
   ],
   "source": [
    "install.packages(\"DAAG\",dependencies=TRUE,repos=\"https://cloud.r-project.org\")\n",
    "require(DAAG)"
   ]
  },
  {
   "cell_type": "markdown",
   "metadata": {},
   "source": [
    "Load the `hills` dataset and read its help:"
   ]
  },
  {
   "cell_type": "code",
   "execution_count": 43,
   "metadata": {
    "collapsed": false,
    "jupyter": {
     "outputs_hidden": false
    }
   },
   "outputs": [
    {
     "name": "stdout",
     "output_type": "stream",
     "text": [
      "'data.frame':\t35 obs. of  3 variables:\n",
      " $ dist : num  2.4 6 6 7.5 8 8 16 6 5 6 ...\n",
      " $ climb: num  650 2500 900 800 3070 ...\n",
      " $ time : num  0.268 0.806 0.561 0.76 1.038 ...\n"
     ]
    }
   ],
   "source": [
    "data(hills)\n",
    "str(hills)\n",
    "#?hills"
   ]
  },
  {
   "cell_type": "markdown",
   "metadata": {},
   "source": [
    "Intuition about the physics underlying this problem suggests a power function relationship which, in turn, motivates us to apply a logarithmic transformation. \n",
    "\n",
    "We prepare a new `data.frame` with the logarithms."
   ]
  },
  {
   "cell_type": "code",
   "execution_count": 44,
   "metadata": {
    "collapsed": true,
    "jupyter": {
     "outputs_hidden": true
    }
   },
   "outputs": [],
   "source": [
    "loghills<-log(hills)\n",
    "names(loghills)<-c(\"logdist\",\"logclimb\",\"logtime\")"
   ]
  },
  {
   "cell_type": "markdown",
   "metadata": {},
   "source": [
    "Does the transformation improve the linear regression?\n",
    "Compare both settings, scatterplots, correlation matrices."
   ]
  },
  {
   "cell_type": "code",
   "execution_count": 49,
   "metadata": {
    "collapsed": false,
    "jupyter": {
     "outputs_hidden": false
    }
   },
   "outputs": [
    {
     "data": {
      "text/plain": [
       "\n",
       "Call:\n",
       "lm(formula = time ~ dist + climb, data = hills)\n",
       "\n",
       "Residuals:\n",
       "     Min       1Q   Median       3Q      Max \n",
       "-0.27038 -0.11922 -0.02022  0.04412  1.08479 \n",
       "\n",
       "Coefficients:\n",
       "              Estimate Std. Error t value Pr(>|t|)    \n",
       "(Intercept) -1.491e-01  7.170e-02  -2.080   0.0456 *  \n",
       "dist         1.036e-01  1.002e-02  10.340 9.94e-12 ***\n",
       "climb        1.841e-04  3.419e-05   5.385 6.49e-06 ***\n",
       "---\n",
       "Signif. codes:  0 ‘***’ 0.001 ‘**’ 0.01 ‘*’ 0.05 ‘.’ 0.1 ‘ ’ 1\n",
       "\n",
       "Residual standard error: 0.2446 on 32 degrees of freedom\n",
       "Multiple R-squared:  0.919,\tAdjusted R-squared:  0.914 \n",
       "F-statistic: 181.6 on 2 and 32 DF,  p-value: < 2.2e-16\n"
      ]
     },
     "metadata": {},
     "output_type": "display_data"
    }
   ],
   "source": [
    "#\n",
    "# Insert here your code\n",
    "#\n",
    "hills.lm1<-lm(time~dist+climb,data=hills)\n",
    "summary(hills.lm1)"
   ]
  },
  {
   "cell_type": "code",
   "execution_count": 50,
   "metadata": {
    "collapsed": false,
    "jupyter": {
     "outputs_hidden": false
    }
   },
   "outputs": [
    {
     "data": {
      "text/plain": [
       "\n",
       "Call:\n",
       "lm(formula = logtime ~ logdist + logclimb, data = loghills)\n",
       "\n",
       "Residuals:\n",
       "     Min       1Q   Median       3Q      Max \n",
       "-0.59491 -0.11464 -0.03847  0.04557  1.45532 \n",
       "\n",
       "Coefficients:\n",
       "            Estimate Std. Error t value Pr(>|t|)    \n",
       "(Intercept) -3.17163    0.53501  -5.928 1.34e-06 ***\n",
       "logdist      0.89440    0.12745   7.018 5.92e-08 ***\n",
       "logclimb     0.17146    0.09317   1.840    0.075 .  \n",
       "---\n",
       "Signif. codes:  0 ‘***’ 0.001 ‘**’ 0.01 ‘*’ 0.05 ‘.’ 0.1 ‘ ’ 1\n",
       "\n",
       "Residual standard error: 0.3147 on 32 degrees of freedom\n",
       "Multiple R-squared:  0.8123,\tAdjusted R-squared:  0.8006 \n",
       "F-statistic: 69.25 on 2 and 32 DF,  p-value: 2.369e-12\n"
      ]
     },
     "metadata": {},
     "output_type": "display_data"
    }
   ],
   "source": [
    "hills.lm2<-lm(logtime~logdist+logclimb,data=loghills)\n",
    "summary(hills.lm2)"
   ]
  },
  {
   "cell_type": "markdown",
   "metadata": {},
   "source": [
    "#### Comparing regressions: relevant quantities\n",
    "\n",
    "To this end we have the following available quantities:  \n",
    "\n",
    "1. $\\operatorname{ResSS}$, the Residual Sum of Squares\n",
    "2. The coefficient of determination $R^2$\n",
    "3. The $F$ statistic.\n",
    "4. The $\\operatorname{AIC}$ statistic (Akaike Information Criterion). \n",
    "\n",
    "$\\operatorname{ResSS}$ is a goodness-of-fit measure: smaller values indicate a better fit. However, when a model $L_1$ is obtained by adding predictors to an initial one $L_0$, inevitably $\\operatorname{ResSS}$ decreases ($\\operatorname{ResSS}_1\\leq \\operatorname{ResSS}_0$) by geometry, since in the $L_1$ we are projecting on a subspace larger than in $L_0$. Similarly $R_1^2\\geq R_0^2$.\n",
    "\n",
    "From a statistical perspective we need to decide whether an observed decrease in $\\operatorname{ResSS}$, or\n",
    "increase in $R^2$ is significant. This is the purpose of $F$ and $\\operatorname{AIC}$."
   ]
  },
  {
   "cell_type": "markdown",
   "metadata": {},
   "source": [
    "When we get a new model $L_1$ by adding a single predictor to a model $L_0$, the comparison $F$ statistic is defined as the relative decrease in $\\operatorname{ResSS}$, that is, the ratio:"
   ]
  },
  {
   "cell_type": "code",
   "execution_count": null,
   "metadata": {
    "collapsed": true,
    "jupyter": {
     "outputs_hidden": true
    }
   },
   "outputs": [],
   "source": [
    "# F01<-(ResSS0-ResSS1)/(ResSS1/df1)"
   ]
  },
  {
   "cell_type": "markdown",
   "metadata": {},
   "source": [
    "`ResSS0` and `ResSS` are, respectively, the residual sum of squares of $L_0$  and $L_1$, and `df1` is the number of degrees of freedom of $L_1$. `F01` is a test statistic to decide between the null hypothesis:\n",
    "\n",
    "$$\n",
    "    H_{0} = \\mbox{``The new predictor does not improve the model\"}. \n",
    "$$\n",
    "\n",
    "versus the alternative that it does. When the models are Gauss-Markov normal, `F01` follows a Fisher-Snedecor $F$ distribution with 1 and `df1` degrees of freedom."
   ]
  },
  {
   "cell_type": "markdown",
   "metadata": {},
   "source": [
    "$\\operatorname{AIC}$ (Akaike Information Criterion) is an answer to a different problem: adding a predictor to a prediction model means we are adding a parameter to the prediction function (a linear function in this case) and, in general, increasing the number of parameters in a prediction function learned from a given training dataset tends to fit better this particular dataset at the cost of deteriorating the quality of predictions for other samples _from the same statistical population_ from which the training sample was extracted.\n",
    "\n",
    "This is another instance of the bias/variance tradeoff. \n",
    "\n",
    "$\\operatorname{AIC}$ is a _penalized (minus)log-likelihood,_ the difference:\n",
    "\n",
    "$$\n",
    "    -\\log\\cal{L}+\\lambda\\,\\cal{P}, \\mskip30mu \\lambda>0,\n",
    "$$\n",
    "\n",
    "where an increase in log-likelihood gained by adding a new parameter can be cancelled by an increase in the penalization term $\\cal{P}$. In this way we can tell the better from two _nested_ models (a pair of models where the set of predictors in one of them is a subset of that in the other). \n",
    "\n",
    "The better model is the one with a smaller $\\operatorname{AIC}$ (tending to a larger likelihood). In R the $\\operatorname{AIC}$ of a model $L$ can be obtained with:"
   ]
  },
  {
   "cell_type": "code",
   "execution_count": null,
   "metadata": {
    "collapsed": true,
    "jupyter": {
     "outputs_hidden": true
    }
   },
   "outputs": [],
   "source": [
    "# extractAIC(L)"
   ]
  },
  {
   "cell_type": "markdown",
   "metadata": {},
   "source": [
    "Which uses the definition:"
   ]
  },
  {
   "cell_type": "code",
   "execution_count": null,
   "metadata": {
    "collapsed": true,
    "jupyter": {
     "outputs_hidden": true
    }
   },
   "outputs": [],
   "source": [
    "# AIC = - 2*log L + k * edf,"
   ]
  },
  {
   "cell_type": "markdown",
   "metadata": {},
   "source": [
    "In particular, for a linear model, (DAAG pag. 153):"
   ]
  },
  {
   "cell_type": "code",
   "execution_count": null,
   "metadata": {
    "collapsed": true,
    "jupyter": {
     "outputs_hidden": true
    }
   },
   "outputs": [],
   "source": [
    "# AIC= n*log(ResSS/n)+2*Regdf"
   ]
  },
  {
   "cell_type": "markdown",
   "metadata": {},
   "source": [
    "For the `hills` dataset:"
   ]
  },
  {
   "cell_type": "code",
   "execution_count": null,
   "metadata": {
    "collapsed": true,
    "jupyter": {
     "outputs_hidden": true
    }
   },
   "outputs": [],
   "source": [
    "loghills.l0<-lm(logtime~logdist,data=loghills)\n",
    "loghills.l1<-lm(logtime~logdist+logclimb,data=loghills)"
   ]
  },
  {
   "cell_type": "markdown",
   "metadata": {},
   "source": [
    "The following function extracts a list of relevant quantities from an object `L` of the `lm` class (the ones from last session, plus $\\operatorname{AIC}$)."
   ]
  },
  {
   "cell_type": "code",
   "execution_count": null,
   "metadata": {
    "collapsed": true,
    "jupyter": {
     "outputs_hidden": true
    }
   },
   "outputs": [],
   "source": [
    "Regression.Quantities<-function(L){\n",
    "    y<-L$model[[1]]\n",
    "    y0<-y-mean(y)\n",
    "    TotalSS0<-sum(y0^2)\n",
    "    n<-length(y)\n",
    "    Totaldf<-n\n",
    "    Totaldf0<-Totaldf-1\n",
    "#\n",
    "    yhat<-as.numeric(L$fitted.values)\n",
    "    yhat0<-yhat-mean(yhat)\n",
    "    RegSS0<-sum(yhat0^2)\n",
    "    Regdf<-L$rank\n",
    "    Regdf0<-Regdf-1\n",
    "#\n",
    "    ytilde<-as.numeric(L$residuals)\n",
    "    ResSS<-sum(ytilde^2)\n",
    "    Resdf<-Totaldf0-Regdf0\n",
    "#\n",
    "    TotalMeanS0<-TotalSS0/Totaldf0\n",
    "    RegMeanS0<-RegSS0/Regdf0\n",
    "    ResMeanS<-ResSS/Resdf\n",
    "#\n",
    "    R2<-RegSS0/TotalSS0\n",
    "    RegF<-RegMeanS0/ResMeanS\n",
    "    AIC=n*log(ResSS/n)+2*Regdf\n",
    "#\n",
    "    Q<-list(\n",
    "        y=y,y0=y0,n=n,TotalSS0=TotalSS0,Totaldf=Totaldf,Totaldf0=Totaldf0,\n",
    "        yhat=yhat,yhat0=yhat0,RegSS0=RegSS0,Regdf=Regdf,Regdf0=Regdf0,\n",
    "        ytilde=ytilde,ResSS=ResSS,Resdf=Resdf,\n",
    "        TotalMeanS0=TotalMeanS0,RegMeanS0=RegMeanS0,ResMeanS=ResMeanS,\n",
    "        R2=R2,RegF=RegF,AIC=AIC)\n",
    "    return(Q)\n",
    "    }"
   ]
  },
  {
   "cell_type": "markdown",
   "metadata": {},
   "source": [
    "Using `Regression.Quantities()`:"
   ]
  },
  {
   "cell_type": "code",
   "execution_count": null,
   "metadata": {
    "collapsed": true,
    "jupyter": {
     "outputs_hidden": true
    }
   },
   "outputs": [],
   "source": [
    "loghills.Q0<-Regression.Quantities(loghills.l0)\n",
    "loghills.Q1<-Regression.Quantities(loghills.l1)"
   ]
  },
  {
   "cell_type": "markdown",
   "metadata": {},
   "source": [
    "From these results, decide which is the better model, according to the above criteria."
   ]
  },
  {
   "cell_type": "code",
   "execution_count": null,
   "metadata": {
    "collapsed": true,
    "jupyter": {
     "outputs_hidden": true
    }
   },
   "outputs": [],
   "source": [
    "#\n",
    "# Insert your code here\n",
    "#"
   ]
  },
  {
   "cell_type": "markdown",
   "metadata": {},
   "source": [
    "The `stats` package has two functions, `add1()` and `drop1`, allowing us to perform this operation in a semi-automatic way. Either we add a predictor to the basic model:"
   ]
  },
  {
   "cell_type": "code",
   "execution_count": null,
   "metadata": {
    "collapsed": true,
    "jupyter": {
     "outputs_hidden": true
    }
   },
   "outputs": [],
   "source": [
    "add1(loghills.l0,\"logclimb\")\n",
    "add1(loghills.l0,\"logclimb\",test=\"F\")\n",
    "add1(loghills.l0,\"logclimb\",test=\"Chisq\")"
   ]
  },
  {
   "cell_type": "markdown",
   "metadata": {},
   "source": [
    "Or drop a variable from a larger model:"
   ]
  },
  {
   "cell_type": "code",
   "execution_count": null,
   "metadata": {
    "collapsed": true,
    "jupyter": {
     "outputs_hidden": true
    }
   },
   "outputs": [],
   "source": [
    "drop1(loghills.l1,\"logclimb\")\n",
    "drop1(loghills.l1,\"logclimb\",test=\"F\")"
   ]
  },
  {
   "cell_type": "code",
   "execution_count": null,
   "metadata": {
    "collapsed": true,
    "jupyter": {
     "outputs_hidden": true
    }
   },
   "outputs": [],
   "source": [
    "drop1(loghills.l1,\"logdist\")\n",
    "drop1(loghills.l1,\"logdist\",test=\"F\")"
   ]
  },
  {
   "cell_type": "markdown",
   "metadata": {},
   "source": [
    "####  `Steam` dataset\n",
    "\n",
    "Files: `Steam.dat.txt` (Data description),  `Steam1.txt` (Actual data)."
   ]
  },
  {
   "cell_type": "code",
   "execution_count": null,
   "metadata": {
    "collapsed": true,
    "jupyter": {
     "outputs_hidden": true
    }
   },
   "outputs": [],
   "source": [
    "Steam<-read.table(\"Steam1.txt\",header=TRUE)\n",
    "str(Steam)"
   ]
  },
  {
   "cell_type": "markdown",
   "metadata": {},
   "source": [
    "#### Exercise:\n",
    "\n",
    "With the `Steam` dataset we try to find the best subset of predictors of `y` from `(x1,x2,x3,x4,x5,x6,x7,x8,x9)`:"
   ]
  },
  {
   "cell_type": "markdown",
   "metadata": {},
   "source": [
    "With such data as `Steam`, with $p$ predictors, there is a large number of possible regressions –precisely $2^p$, the number of subsets of the set of all predictors- which, in principle, they can be tested by repeatedly applying the above functions, either starting with the base model with no predictors other than \n",
    "intercept:"
   ]
  },
  {
   "cell_type": "code",
   "execution_count": null,
   "metadata": {
    "collapsed": true,
    "jupyter": {
     "outputs_hidden": true
    }
   },
   "outputs": [],
   "source": [
    "ls0<-lm(y~1, data=Steam)\n",
    "summary(ls0)"
   ]
  },
  {
   "cell_type": "markdown",
   "metadata": {},
   "source": [
    "and successively add predictors or, on the contrary, starting with the full model:"
   ]
  },
  {
   "cell_type": "code",
   "execution_count": null,
   "metadata": {
    "collapsed": true,
    "jupyter": {
     "outputs_hidden": true
    }
   },
   "outputs": [],
   "source": [
    "ls1<-lm(y~x1+x2+x3+x4+x5+x6+x7+x8+x9, data=Steam)\n",
    "summary(ls1)"
   ]
  },
  {
   "cell_type": "markdown",
   "metadata": {},
   "source": [
    "And then successively remove them.\n",
    "\n",
    "For instance, we start with `ls0`:"
   ]
  },
  {
   "cell_type": "code",
   "execution_count": null,
   "metadata": {
    "collapsed": true,
    "jupyter": {
     "outputs_hidden": true
    }
   },
   "outputs": [],
   "source": [
    "add1(ls0,\"x1\",test=\"F\")\n",
    "# ...\n",
    "add1(ls0,\"x9\",test=\"F\")"
   ]
  },
  {
   "cell_type": "markdown",
   "metadata": {},
   "source": [
    "We see that `x7` is the better addition."
   ]
  },
  {
   "cell_type": "markdown",
   "metadata": {},
   "source": [
    "We keep this variable and now we try to add a second one following the same procedure, and successively, until we find a satisfactory subset. \n",
    "\n",
    "This is the _forward_ variables selection method. \n",
    "\n",
    "Symmetrically, the _backward_ method starts with the full model `ls1` and sequentially removes variables.\n",
    "\n",
    "It is worth noting that if, for instance, at a certain stage of a _forward_  procedure the current subset of variables is $A$, we have not tested all subsets of $A$ but only those in the path through which we arrived at $A$. To test them we should apply _backward_  selection from $A$ and so on. \n",
    "\n",
    "The `stats` package has a `step()` function to automate this process:"
   ]
  },
  {
   "cell_type": "code",
   "execution_count": null,
   "metadata": {
    "collapsed": true,
    "jupyter": {
     "outputs_hidden": true
    }
   },
   "outputs": [],
   "source": [
    "step(ls0,\"~x1+x2+x3+x4+x5+x6+x7+x8+x9\")"
   ]
  },
  {
   "cell_type": "markdown",
   "metadata": {},
   "source": [
    "Also from the full model:"
   ]
  },
  {
   "cell_type": "code",
   "execution_count": null,
   "metadata": {
    "collapsed": true,
    "jupyter": {
     "outputs_hidden": true
    }
   },
   "outputs": [],
   "source": [
    "step(ls1)"
   ]
  },
  {
   "cell_type": "markdown",
   "metadata": {},
   "source": [
    "Reasonably enough, this combined _forward_ and _backward_ procedure is called _stepwise._"
   ]
  },
  {
   "cell_type": "markdown",
   "metadata": {},
   "source": [
    "The `MASS` package has analogous functions, `addterm()`, `dropterm()`, and `stepAIC()`, with the same functionality as the above functions in the basic `stats` package."
   ]
  },
  {
   "cell_type": "markdown",
   "metadata": {},
   "source": [
    "Finally, there is the strategy of computing all the possible $2^p$ regressions, with all the subsets in the set of predictors, from $\\emptyset$ to the total number $p$ of predictors, and then comparing all the resulting $\\operatorname{AIC}$ values, keeping the best one. \n",
    "\n",
    "This is the _All Subsets Regression_ method. Obviously, this computation is unfeasible by a brute force approach, except for models with a very small number of predictors. There are combinatorial _branch and bound_ algorithms allowing us to limit the number of actual regressions we need to evaluate in full. The method depends on imposing a partial ordering on the set of all possible regressions, giving it a tree-like structure, in which we will need to evaluate only a small number of nodes. The `leaps` package implements this procedure (the name originates from the idiom  _leaps and bounds)._"
   ]
  },
  {
   "cell_type": "markdown",
   "metadata": {},
   "source": [
    "# Homework 1 (part 1)\n",
    "\n",
    "This is the first half. The second half will appear at the end of the next laboratory (Regression 03 - Regularization). The aim here is to apply linear regression on the `Home prices` dataset from Kaggle  [House Prices: Advanced Regression Techniques](https://www.kaggle.com/c/house-prices-advanced-regression-techniques/discussion). As explained in the documentation there, this dataset is a test bed for many prediction methods, thus it is not to be expected that linear regression will be particularly succesful. Later on in the course we will try other methods."
   ]
  },
  {
   "cell_type": "markdown",
   "metadata": {},
   "source": [
    "As a warmup, take the similar but smaller `Boston home prices` dataset. This is a very classic example and it is easy to find its study with linear regression in many online resources. Googling \"Boston home prices\" will yield many implementations, both in R and in python."
   ]
  },
  {
   "cell_type": "markdown",
   "metadata": {},
   "source": [
    "You can learn from and even reproduce parts of these sources. This is acceptable provided that you:\n",
    "\n",
    "   1. Give credit where it is due, in particular, including full reference (URL) of any cited work\n",
    "    \n",
    "   2. Do not copy/paste \"in extenso\" large chunks of code\n",
    "    \n",
    "   3. Understand everything you write, explaining with sufficient details the steps you take and the results you obtain.\n",
    "\n",
    "The Boston home prices data are intended for prediction of home values in suburbs of the namesake city. `medv` is the response variable and the other variables are predictors. See their description in the dataset help. Some of these predictors are intrinsic habitational characteristics, such as number of bedrooms; other predictors have a socioeconomic nature and, finally, other predictors are geographical or environmental."
   ]
  },
  {
   "cell_type": "markdown",
   "metadata": {},
   "source": [
    " \n",
    "In R you find this dataset in the MASS package, from the book by  W. N. Venables and   B. D. Ripley (2002), _Modern Applied Statistics with S:_"
   ]
  },
  {
   "cell_type": "code",
   "execution_count": 1,
   "metadata": {},
   "outputs": [
    {
     "name": "stderr",
     "output_type": "stream",
     "text": [
      "Loading required package: MASS\n"
     ]
    },
    {
     "data": {
      "text/html": [
       "<table>\n",
       "<caption>A data.frame: 506 × 14</caption>\n",
       "<thead>\n",
       "\t<tr><th scope=col>crim</th><th scope=col>zn</th><th scope=col>indus</th><th scope=col>chas</th><th scope=col>nox</th><th scope=col>rm</th><th scope=col>age</th><th scope=col>dis</th><th scope=col>rad</th><th scope=col>tax</th><th scope=col>ptratio</th><th scope=col>black</th><th scope=col>lstat</th><th scope=col>medv</th></tr>\n",
       "\t<tr><th scope=col>&lt;dbl&gt;</th><th scope=col>&lt;dbl&gt;</th><th scope=col>&lt;dbl&gt;</th><th scope=col>&lt;int&gt;</th><th scope=col>&lt;dbl&gt;</th><th scope=col>&lt;dbl&gt;</th><th scope=col>&lt;dbl&gt;</th><th scope=col>&lt;dbl&gt;</th><th scope=col>&lt;int&gt;</th><th scope=col>&lt;dbl&gt;</th><th scope=col>&lt;dbl&gt;</th><th scope=col>&lt;dbl&gt;</th><th scope=col>&lt;dbl&gt;</th><th scope=col>&lt;dbl&gt;</th></tr>\n",
       "</thead>\n",
       "<tbody>\n",
       "\t<tr><td>0.00632</td><td>18.0</td><td>2.31</td><td>0</td><td>0.538</td><td>6.575</td><td> 65.2</td><td>4.0900</td><td>1</td><td>296</td><td>15.3</td><td>396.90</td><td> 4.98</td><td>24.0</td></tr>\n",
       "\t<tr><td>0.02731</td><td> 0.0</td><td>7.07</td><td>0</td><td>0.469</td><td>6.421</td><td> 78.9</td><td>4.9671</td><td>2</td><td>242</td><td>17.8</td><td>396.90</td><td> 9.14</td><td>21.6</td></tr>\n",
       "\t<tr><td>0.02729</td><td> 0.0</td><td>7.07</td><td>0</td><td>0.469</td><td>7.185</td><td> 61.1</td><td>4.9671</td><td>2</td><td>242</td><td>17.8</td><td>392.83</td><td> 4.03</td><td>34.7</td></tr>\n",
       "\t<tr><td>0.03237</td><td> 0.0</td><td>2.18</td><td>0</td><td>0.458</td><td>6.998</td><td> 45.8</td><td>6.0622</td><td>3</td><td>222</td><td>18.7</td><td>394.63</td><td> 2.94</td><td>33.4</td></tr>\n",
       "\t<tr><td>0.06905</td><td> 0.0</td><td>2.18</td><td>0</td><td>0.458</td><td>7.147</td><td> 54.2</td><td>6.0622</td><td>3</td><td>222</td><td>18.7</td><td>396.90</td><td> 5.33</td><td>36.2</td></tr>\n",
       "\t<tr><td>0.02985</td><td> 0.0</td><td>2.18</td><td>0</td><td>0.458</td><td>6.430</td><td> 58.7</td><td>6.0622</td><td>3</td><td>222</td><td>18.7</td><td>394.12</td><td> 5.21</td><td>28.7</td></tr>\n",
       "\t<tr><td>0.08829</td><td>12.5</td><td>7.87</td><td>0</td><td>0.524</td><td>6.012</td><td> 66.6</td><td>5.5605</td><td>5</td><td>311</td><td>15.2</td><td>395.60</td><td>12.43</td><td>22.9</td></tr>\n",
       "\t<tr><td>0.14455</td><td>12.5</td><td>7.87</td><td>0</td><td>0.524</td><td>6.172</td><td> 96.1</td><td>5.9505</td><td>5</td><td>311</td><td>15.2</td><td>396.90</td><td>19.15</td><td>27.1</td></tr>\n",
       "\t<tr><td>0.21124</td><td>12.5</td><td>7.87</td><td>0</td><td>0.524</td><td>5.631</td><td>100.0</td><td>6.0821</td><td>5</td><td>311</td><td>15.2</td><td>386.63</td><td>29.93</td><td>16.5</td></tr>\n",
       "\t<tr><td>0.17004</td><td>12.5</td><td>7.87</td><td>0</td><td>0.524</td><td>6.004</td><td> 85.9</td><td>6.5921</td><td>5</td><td>311</td><td>15.2</td><td>386.71</td><td>17.10</td><td>18.9</td></tr>\n",
       "\t<tr><td>0.22489</td><td>12.5</td><td>7.87</td><td>0</td><td>0.524</td><td>6.377</td><td> 94.3</td><td>6.3467</td><td>5</td><td>311</td><td>15.2</td><td>392.52</td><td>20.45</td><td>15.0</td></tr>\n",
       "\t<tr><td>0.11747</td><td>12.5</td><td>7.87</td><td>0</td><td>0.524</td><td>6.009</td><td> 82.9</td><td>6.2267</td><td>5</td><td>311</td><td>15.2</td><td>396.90</td><td>13.27</td><td>18.9</td></tr>\n",
       "\t<tr><td>0.09378</td><td>12.5</td><td>7.87</td><td>0</td><td>0.524</td><td>5.889</td><td> 39.0</td><td>5.4509</td><td>5</td><td>311</td><td>15.2</td><td>390.50</td><td>15.71</td><td>21.7</td></tr>\n",
       "\t<tr><td>0.62976</td><td> 0.0</td><td>8.14</td><td>0</td><td>0.538</td><td>5.949</td><td> 61.8</td><td>4.7075</td><td>4</td><td>307</td><td>21.0</td><td>396.90</td><td> 8.26</td><td>20.4</td></tr>\n",
       "\t<tr><td>0.63796</td><td> 0.0</td><td>8.14</td><td>0</td><td>0.538</td><td>6.096</td><td> 84.5</td><td>4.4619</td><td>4</td><td>307</td><td>21.0</td><td>380.02</td><td>10.26</td><td>18.2</td></tr>\n",
       "\t<tr><td>0.62739</td><td> 0.0</td><td>8.14</td><td>0</td><td>0.538</td><td>5.834</td><td> 56.5</td><td>4.4986</td><td>4</td><td>307</td><td>21.0</td><td>395.62</td><td> 8.47</td><td>19.9</td></tr>\n",
       "\t<tr><td>1.05393</td><td> 0.0</td><td>8.14</td><td>0</td><td>0.538</td><td>5.935</td><td> 29.3</td><td>4.4986</td><td>4</td><td>307</td><td>21.0</td><td>386.85</td><td> 6.58</td><td>23.1</td></tr>\n",
       "\t<tr><td>0.78420</td><td> 0.0</td><td>8.14</td><td>0</td><td>0.538</td><td>5.990</td><td> 81.7</td><td>4.2579</td><td>4</td><td>307</td><td>21.0</td><td>386.75</td><td>14.67</td><td>17.5</td></tr>\n",
       "\t<tr><td>0.80271</td><td> 0.0</td><td>8.14</td><td>0</td><td>0.538</td><td>5.456</td><td> 36.6</td><td>3.7965</td><td>4</td><td>307</td><td>21.0</td><td>288.99</td><td>11.69</td><td>20.2</td></tr>\n",
       "\t<tr><td>0.72580</td><td> 0.0</td><td>8.14</td><td>0</td><td>0.538</td><td>5.727</td><td> 69.5</td><td>3.7965</td><td>4</td><td>307</td><td>21.0</td><td>390.95</td><td>11.28</td><td>18.2</td></tr>\n",
       "\t<tr><td>1.25179</td><td> 0.0</td><td>8.14</td><td>0</td><td>0.538</td><td>5.570</td><td> 98.1</td><td>3.7979</td><td>4</td><td>307</td><td>21.0</td><td>376.57</td><td>21.02</td><td>13.6</td></tr>\n",
       "\t<tr><td>0.85204</td><td> 0.0</td><td>8.14</td><td>0</td><td>0.538</td><td>5.965</td><td> 89.2</td><td>4.0123</td><td>4</td><td>307</td><td>21.0</td><td>392.53</td><td>13.83</td><td>19.6</td></tr>\n",
       "\t<tr><td>1.23247</td><td> 0.0</td><td>8.14</td><td>0</td><td>0.538</td><td>6.142</td><td> 91.7</td><td>3.9769</td><td>4</td><td>307</td><td>21.0</td><td>396.90</td><td>18.72</td><td>15.2</td></tr>\n",
       "\t<tr><td>0.98843</td><td> 0.0</td><td>8.14</td><td>0</td><td>0.538</td><td>5.813</td><td>100.0</td><td>4.0952</td><td>4</td><td>307</td><td>21.0</td><td>394.54</td><td>19.88</td><td>14.5</td></tr>\n",
       "\t<tr><td>0.75026</td><td> 0.0</td><td>8.14</td><td>0</td><td>0.538</td><td>5.924</td><td> 94.1</td><td>4.3996</td><td>4</td><td>307</td><td>21.0</td><td>394.33</td><td>16.30</td><td>15.6</td></tr>\n",
       "\t<tr><td>0.84054</td><td> 0.0</td><td>8.14</td><td>0</td><td>0.538</td><td>5.599</td><td> 85.7</td><td>4.4546</td><td>4</td><td>307</td><td>21.0</td><td>303.42</td><td>16.51</td><td>13.9</td></tr>\n",
       "\t<tr><td>0.67191</td><td> 0.0</td><td>8.14</td><td>0</td><td>0.538</td><td>5.813</td><td> 90.3</td><td>4.6820</td><td>4</td><td>307</td><td>21.0</td><td>376.88</td><td>14.81</td><td>16.6</td></tr>\n",
       "\t<tr><td>0.95577</td><td> 0.0</td><td>8.14</td><td>0</td><td>0.538</td><td>6.047</td><td> 88.8</td><td>4.4534</td><td>4</td><td>307</td><td>21.0</td><td>306.38</td><td>17.28</td><td>14.8</td></tr>\n",
       "\t<tr><td>0.77299</td><td> 0.0</td><td>8.14</td><td>0</td><td>0.538</td><td>6.495</td><td> 94.4</td><td>4.4547</td><td>4</td><td>307</td><td>21.0</td><td>387.94</td><td>12.80</td><td>18.4</td></tr>\n",
       "\t<tr><td>1.00245</td><td> 0.0</td><td>8.14</td><td>0</td><td>0.538</td><td>6.674</td><td> 87.3</td><td>4.2390</td><td>4</td><td>307</td><td>21.0</td><td>380.23</td><td>11.98</td><td>21.0</td></tr>\n",
       "\t<tr><td>...</td><td>...</td><td>...</td><td>...</td><td>...</td><td>...</td><td>...</td><td>...</td><td>...</td><td>...</td><td>...</td><td>...</td><td>...</td><td>...</td></tr>\n",
       "\t<tr><td> 4.87141</td><td>0</td><td>18.10</td><td>0</td><td>0.614</td><td>6.484</td><td>93.6</td><td>2.3053</td><td>24</td><td>666</td><td>20.2</td><td>396.21</td><td>18.68</td><td>16.7</td></tr>\n",
       "\t<tr><td>15.02340</td><td>0</td><td>18.10</td><td>0</td><td>0.614</td><td>5.304</td><td>97.3</td><td>2.1007</td><td>24</td><td>666</td><td>20.2</td><td>349.48</td><td>24.91</td><td>12.0</td></tr>\n",
       "\t<tr><td>10.23300</td><td>0</td><td>18.10</td><td>0</td><td>0.614</td><td>6.185</td><td>96.7</td><td>2.1705</td><td>24</td><td>666</td><td>20.2</td><td>379.70</td><td>18.03</td><td>14.6</td></tr>\n",
       "\t<tr><td>14.33370</td><td>0</td><td>18.10</td><td>0</td><td>0.614</td><td>6.229</td><td>88.0</td><td>1.9512</td><td>24</td><td>666</td><td>20.2</td><td>383.32</td><td>13.11</td><td>21.4</td></tr>\n",
       "\t<tr><td> 5.82401</td><td>0</td><td>18.10</td><td>0</td><td>0.532</td><td>6.242</td><td>64.7</td><td>3.4242</td><td>24</td><td>666</td><td>20.2</td><td>396.90</td><td>10.74</td><td>23.0</td></tr>\n",
       "\t<tr><td> 5.70818</td><td>0</td><td>18.10</td><td>0</td><td>0.532</td><td>6.750</td><td>74.9</td><td>3.3317</td><td>24</td><td>666</td><td>20.2</td><td>393.07</td><td> 7.74</td><td>23.7</td></tr>\n",
       "\t<tr><td> 5.73116</td><td>0</td><td>18.10</td><td>0</td><td>0.532</td><td>7.061</td><td>77.0</td><td>3.4106</td><td>24</td><td>666</td><td>20.2</td><td>395.28</td><td> 7.01</td><td>25.0</td></tr>\n",
       "\t<tr><td> 2.81838</td><td>0</td><td>18.10</td><td>0</td><td>0.532</td><td>5.762</td><td>40.3</td><td>4.0983</td><td>24</td><td>666</td><td>20.2</td><td>392.92</td><td>10.42</td><td>21.8</td></tr>\n",
       "\t<tr><td> 2.37857</td><td>0</td><td>18.10</td><td>0</td><td>0.583</td><td>5.871</td><td>41.9</td><td>3.7240</td><td>24</td><td>666</td><td>20.2</td><td>370.73</td><td>13.34</td><td>20.6</td></tr>\n",
       "\t<tr><td> 3.67367</td><td>0</td><td>18.10</td><td>0</td><td>0.583</td><td>6.312</td><td>51.9</td><td>3.9917</td><td>24</td><td>666</td><td>20.2</td><td>388.62</td><td>10.58</td><td>21.2</td></tr>\n",
       "\t<tr><td> 5.69175</td><td>0</td><td>18.10</td><td>0</td><td>0.583</td><td>6.114</td><td>79.8</td><td>3.5459</td><td>24</td><td>666</td><td>20.2</td><td>392.68</td><td>14.98</td><td>19.1</td></tr>\n",
       "\t<tr><td> 4.83567</td><td>0</td><td>18.10</td><td>0</td><td>0.583</td><td>5.905</td><td>53.2</td><td>3.1523</td><td>24</td><td>666</td><td>20.2</td><td>388.22</td><td>11.45</td><td>20.6</td></tr>\n",
       "\t<tr><td> 0.15086</td><td>0</td><td>27.74</td><td>0</td><td>0.609</td><td>5.454</td><td>92.7</td><td>1.8209</td><td> 4</td><td>711</td><td>20.1</td><td>395.09</td><td>18.06</td><td>15.2</td></tr>\n",
       "\t<tr><td> 0.18337</td><td>0</td><td>27.74</td><td>0</td><td>0.609</td><td>5.414</td><td>98.3</td><td>1.7554</td><td> 4</td><td>711</td><td>20.1</td><td>344.05</td><td>23.97</td><td> 7.0</td></tr>\n",
       "\t<tr><td> 0.20746</td><td>0</td><td>27.74</td><td>0</td><td>0.609</td><td>5.093</td><td>98.0</td><td>1.8226</td><td> 4</td><td>711</td><td>20.1</td><td>318.43</td><td>29.68</td><td> 8.1</td></tr>\n",
       "\t<tr><td> 0.10574</td><td>0</td><td>27.74</td><td>0</td><td>0.609</td><td>5.983</td><td>98.8</td><td>1.8681</td><td> 4</td><td>711</td><td>20.1</td><td>390.11</td><td>18.07</td><td>13.6</td></tr>\n",
       "\t<tr><td> 0.11132</td><td>0</td><td>27.74</td><td>0</td><td>0.609</td><td>5.983</td><td>83.5</td><td>2.1099</td><td> 4</td><td>711</td><td>20.1</td><td>396.90</td><td>13.35</td><td>20.1</td></tr>\n",
       "\t<tr><td> 0.17331</td><td>0</td><td> 9.69</td><td>0</td><td>0.585</td><td>5.707</td><td>54.0</td><td>2.3817</td><td> 6</td><td>391</td><td>19.2</td><td>396.90</td><td>12.01</td><td>21.8</td></tr>\n",
       "\t<tr><td> 0.27957</td><td>0</td><td> 9.69</td><td>0</td><td>0.585</td><td>5.926</td><td>42.6</td><td>2.3817</td><td> 6</td><td>391</td><td>19.2</td><td>396.90</td><td>13.59</td><td>24.5</td></tr>\n",
       "\t<tr><td> 0.17899</td><td>0</td><td> 9.69</td><td>0</td><td>0.585</td><td>5.670</td><td>28.8</td><td>2.7986</td><td> 6</td><td>391</td><td>19.2</td><td>393.29</td><td>17.60</td><td>23.1</td></tr>\n",
       "\t<tr><td> 0.28960</td><td>0</td><td> 9.69</td><td>0</td><td>0.585</td><td>5.390</td><td>72.9</td><td>2.7986</td><td> 6</td><td>391</td><td>19.2</td><td>396.90</td><td>21.14</td><td>19.7</td></tr>\n",
       "\t<tr><td> 0.26838</td><td>0</td><td> 9.69</td><td>0</td><td>0.585</td><td>5.794</td><td>70.6</td><td>2.8927</td><td> 6</td><td>391</td><td>19.2</td><td>396.90</td><td>14.10</td><td>18.3</td></tr>\n",
       "\t<tr><td> 0.23912</td><td>0</td><td> 9.69</td><td>0</td><td>0.585</td><td>6.019</td><td>65.3</td><td>2.4091</td><td> 6</td><td>391</td><td>19.2</td><td>396.90</td><td>12.92</td><td>21.2</td></tr>\n",
       "\t<tr><td> 0.17783</td><td>0</td><td> 9.69</td><td>0</td><td>0.585</td><td>5.569</td><td>73.5</td><td>2.3999</td><td> 6</td><td>391</td><td>19.2</td><td>395.77</td><td>15.10</td><td>17.5</td></tr>\n",
       "\t<tr><td> 0.22438</td><td>0</td><td> 9.69</td><td>0</td><td>0.585</td><td>6.027</td><td>79.7</td><td>2.4982</td><td> 6</td><td>391</td><td>19.2</td><td>396.90</td><td>14.33</td><td>16.8</td></tr>\n",
       "\t<tr><td> 0.06263</td><td>0</td><td>11.93</td><td>0</td><td>0.573</td><td>6.593</td><td>69.1</td><td>2.4786</td><td> 1</td><td>273</td><td>21.0</td><td>391.99</td><td> 9.67</td><td>22.4</td></tr>\n",
       "\t<tr><td> 0.04527</td><td>0</td><td>11.93</td><td>0</td><td>0.573</td><td>6.120</td><td>76.7</td><td>2.2875</td><td> 1</td><td>273</td><td>21.0</td><td>396.90</td><td> 9.08</td><td>20.6</td></tr>\n",
       "\t<tr><td> 0.06076</td><td>0</td><td>11.93</td><td>0</td><td>0.573</td><td>6.976</td><td>91.0</td><td>2.1675</td><td> 1</td><td>273</td><td>21.0</td><td>396.90</td><td> 5.64</td><td>23.9</td></tr>\n",
       "\t<tr><td> 0.10959</td><td>0</td><td>11.93</td><td>0</td><td>0.573</td><td>6.794</td><td>89.3</td><td>2.3889</td><td> 1</td><td>273</td><td>21.0</td><td>393.45</td><td> 6.48</td><td>22.0</td></tr>\n",
       "\t<tr><td> 0.04741</td><td>0</td><td>11.93</td><td>0</td><td>0.573</td><td>6.030</td><td>80.8</td><td>2.5050</td><td> 1</td><td>273</td><td>21.0</td><td>396.90</td><td> 7.88</td><td>11.9</td></tr>\n",
       "</tbody>\n",
       "</table>\n"
      ],
      "text/latex": [
       "A data.frame: 506 × 14\n",
       "\\begin{tabular}{r|llllllllllllll}\n",
       " crim & zn & indus & chas & nox & rm & age & dis & rad & tax & ptratio & black & lstat & medv\\\\\n",
       " <dbl> & <dbl> & <dbl> & <int> & <dbl> & <dbl> & <dbl> & <dbl> & <int> & <dbl> & <dbl> & <dbl> & <dbl> & <dbl>\\\\\n",
       "\\hline\n",
       "\t 0.00632 & 18.0 & 2.31 & 0 & 0.538 & 6.575 &  65.2 & 4.0900 & 1 & 296 & 15.3 & 396.90 &  4.98 & 24.0\\\\\n",
       "\t 0.02731 &  0.0 & 7.07 & 0 & 0.469 & 6.421 &  78.9 & 4.9671 & 2 & 242 & 17.8 & 396.90 &  9.14 & 21.6\\\\\n",
       "\t 0.02729 &  0.0 & 7.07 & 0 & 0.469 & 7.185 &  61.1 & 4.9671 & 2 & 242 & 17.8 & 392.83 &  4.03 & 34.7\\\\\n",
       "\t 0.03237 &  0.0 & 2.18 & 0 & 0.458 & 6.998 &  45.8 & 6.0622 & 3 & 222 & 18.7 & 394.63 &  2.94 & 33.4\\\\\n",
       "\t 0.06905 &  0.0 & 2.18 & 0 & 0.458 & 7.147 &  54.2 & 6.0622 & 3 & 222 & 18.7 & 396.90 &  5.33 & 36.2\\\\\n",
       "\t 0.02985 &  0.0 & 2.18 & 0 & 0.458 & 6.430 &  58.7 & 6.0622 & 3 & 222 & 18.7 & 394.12 &  5.21 & 28.7\\\\\n",
       "\t 0.08829 & 12.5 & 7.87 & 0 & 0.524 & 6.012 &  66.6 & 5.5605 & 5 & 311 & 15.2 & 395.60 & 12.43 & 22.9\\\\\n",
       "\t 0.14455 & 12.5 & 7.87 & 0 & 0.524 & 6.172 &  96.1 & 5.9505 & 5 & 311 & 15.2 & 396.90 & 19.15 & 27.1\\\\\n",
       "\t 0.21124 & 12.5 & 7.87 & 0 & 0.524 & 5.631 & 100.0 & 6.0821 & 5 & 311 & 15.2 & 386.63 & 29.93 & 16.5\\\\\n",
       "\t 0.17004 & 12.5 & 7.87 & 0 & 0.524 & 6.004 &  85.9 & 6.5921 & 5 & 311 & 15.2 & 386.71 & 17.10 & 18.9\\\\\n",
       "\t 0.22489 & 12.5 & 7.87 & 0 & 0.524 & 6.377 &  94.3 & 6.3467 & 5 & 311 & 15.2 & 392.52 & 20.45 & 15.0\\\\\n",
       "\t 0.11747 & 12.5 & 7.87 & 0 & 0.524 & 6.009 &  82.9 & 6.2267 & 5 & 311 & 15.2 & 396.90 & 13.27 & 18.9\\\\\n",
       "\t 0.09378 & 12.5 & 7.87 & 0 & 0.524 & 5.889 &  39.0 & 5.4509 & 5 & 311 & 15.2 & 390.50 & 15.71 & 21.7\\\\\n",
       "\t 0.62976 &  0.0 & 8.14 & 0 & 0.538 & 5.949 &  61.8 & 4.7075 & 4 & 307 & 21.0 & 396.90 &  8.26 & 20.4\\\\\n",
       "\t 0.63796 &  0.0 & 8.14 & 0 & 0.538 & 6.096 &  84.5 & 4.4619 & 4 & 307 & 21.0 & 380.02 & 10.26 & 18.2\\\\\n",
       "\t 0.62739 &  0.0 & 8.14 & 0 & 0.538 & 5.834 &  56.5 & 4.4986 & 4 & 307 & 21.0 & 395.62 &  8.47 & 19.9\\\\\n",
       "\t 1.05393 &  0.0 & 8.14 & 0 & 0.538 & 5.935 &  29.3 & 4.4986 & 4 & 307 & 21.0 & 386.85 &  6.58 & 23.1\\\\\n",
       "\t 0.78420 &  0.0 & 8.14 & 0 & 0.538 & 5.990 &  81.7 & 4.2579 & 4 & 307 & 21.0 & 386.75 & 14.67 & 17.5\\\\\n",
       "\t 0.80271 &  0.0 & 8.14 & 0 & 0.538 & 5.456 &  36.6 & 3.7965 & 4 & 307 & 21.0 & 288.99 & 11.69 & 20.2\\\\\n",
       "\t 0.72580 &  0.0 & 8.14 & 0 & 0.538 & 5.727 &  69.5 & 3.7965 & 4 & 307 & 21.0 & 390.95 & 11.28 & 18.2\\\\\n",
       "\t 1.25179 &  0.0 & 8.14 & 0 & 0.538 & 5.570 &  98.1 & 3.7979 & 4 & 307 & 21.0 & 376.57 & 21.02 & 13.6\\\\\n",
       "\t 0.85204 &  0.0 & 8.14 & 0 & 0.538 & 5.965 &  89.2 & 4.0123 & 4 & 307 & 21.0 & 392.53 & 13.83 & 19.6\\\\\n",
       "\t 1.23247 &  0.0 & 8.14 & 0 & 0.538 & 6.142 &  91.7 & 3.9769 & 4 & 307 & 21.0 & 396.90 & 18.72 & 15.2\\\\\n",
       "\t 0.98843 &  0.0 & 8.14 & 0 & 0.538 & 5.813 & 100.0 & 4.0952 & 4 & 307 & 21.0 & 394.54 & 19.88 & 14.5\\\\\n",
       "\t 0.75026 &  0.0 & 8.14 & 0 & 0.538 & 5.924 &  94.1 & 4.3996 & 4 & 307 & 21.0 & 394.33 & 16.30 & 15.6\\\\\n",
       "\t 0.84054 &  0.0 & 8.14 & 0 & 0.538 & 5.599 &  85.7 & 4.4546 & 4 & 307 & 21.0 & 303.42 & 16.51 & 13.9\\\\\n",
       "\t 0.67191 &  0.0 & 8.14 & 0 & 0.538 & 5.813 &  90.3 & 4.6820 & 4 & 307 & 21.0 & 376.88 & 14.81 & 16.6\\\\\n",
       "\t 0.95577 &  0.0 & 8.14 & 0 & 0.538 & 6.047 &  88.8 & 4.4534 & 4 & 307 & 21.0 & 306.38 & 17.28 & 14.8\\\\\n",
       "\t 0.77299 &  0.0 & 8.14 & 0 & 0.538 & 6.495 &  94.4 & 4.4547 & 4 & 307 & 21.0 & 387.94 & 12.80 & 18.4\\\\\n",
       "\t 1.00245 &  0.0 & 8.14 & 0 & 0.538 & 6.674 &  87.3 & 4.2390 & 4 & 307 & 21.0 & 380.23 & 11.98 & 21.0\\\\\n",
       "\t ... & ... & ... & ... & ... & ... & ... & ... & ... & ... & ... & ... & ... & ...\\\\\n",
       "\t  4.87141 & 0 & 18.10 & 0 & 0.614 & 6.484 & 93.6 & 2.3053 & 24 & 666 & 20.2 & 396.21 & 18.68 & 16.7\\\\\n",
       "\t 15.02340 & 0 & 18.10 & 0 & 0.614 & 5.304 & 97.3 & 2.1007 & 24 & 666 & 20.2 & 349.48 & 24.91 & 12.0\\\\\n",
       "\t 10.23300 & 0 & 18.10 & 0 & 0.614 & 6.185 & 96.7 & 2.1705 & 24 & 666 & 20.2 & 379.70 & 18.03 & 14.6\\\\\n",
       "\t 14.33370 & 0 & 18.10 & 0 & 0.614 & 6.229 & 88.0 & 1.9512 & 24 & 666 & 20.2 & 383.32 & 13.11 & 21.4\\\\\n",
       "\t  5.82401 & 0 & 18.10 & 0 & 0.532 & 6.242 & 64.7 & 3.4242 & 24 & 666 & 20.2 & 396.90 & 10.74 & 23.0\\\\\n",
       "\t  5.70818 & 0 & 18.10 & 0 & 0.532 & 6.750 & 74.9 & 3.3317 & 24 & 666 & 20.2 & 393.07 &  7.74 & 23.7\\\\\n",
       "\t  5.73116 & 0 & 18.10 & 0 & 0.532 & 7.061 & 77.0 & 3.4106 & 24 & 666 & 20.2 & 395.28 &  7.01 & 25.0\\\\\n",
       "\t  2.81838 & 0 & 18.10 & 0 & 0.532 & 5.762 & 40.3 & 4.0983 & 24 & 666 & 20.2 & 392.92 & 10.42 & 21.8\\\\\n",
       "\t  2.37857 & 0 & 18.10 & 0 & 0.583 & 5.871 & 41.9 & 3.7240 & 24 & 666 & 20.2 & 370.73 & 13.34 & 20.6\\\\\n",
       "\t  3.67367 & 0 & 18.10 & 0 & 0.583 & 6.312 & 51.9 & 3.9917 & 24 & 666 & 20.2 & 388.62 & 10.58 & 21.2\\\\\n",
       "\t  5.69175 & 0 & 18.10 & 0 & 0.583 & 6.114 & 79.8 & 3.5459 & 24 & 666 & 20.2 & 392.68 & 14.98 & 19.1\\\\\n",
       "\t  4.83567 & 0 & 18.10 & 0 & 0.583 & 5.905 & 53.2 & 3.1523 & 24 & 666 & 20.2 & 388.22 & 11.45 & 20.6\\\\\n",
       "\t  0.15086 & 0 & 27.74 & 0 & 0.609 & 5.454 & 92.7 & 1.8209 &  4 & 711 & 20.1 & 395.09 & 18.06 & 15.2\\\\\n",
       "\t  0.18337 & 0 & 27.74 & 0 & 0.609 & 5.414 & 98.3 & 1.7554 &  4 & 711 & 20.1 & 344.05 & 23.97 &  7.0\\\\\n",
       "\t  0.20746 & 0 & 27.74 & 0 & 0.609 & 5.093 & 98.0 & 1.8226 &  4 & 711 & 20.1 & 318.43 & 29.68 &  8.1\\\\\n",
       "\t  0.10574 & 0 & 27.74 & 0 & 0.609 & 5.983 & 98.8 & 1.8681 &  4 & 711 & 20.1 & 390.11 & 18.07 & 13.6\\\\\n",
       "\t  0.11132 & 0 & 27.74 & 0 & 0.609 & 5.983 & 83.5 & 2.1099 &  4 & 711 & 20.1 & 396.90 & 13.35 & 20.1\\\\\n",
       "\t  0.17331 & 0 &  9.69 & 0 & 0.585 & 5.707 & 54.0 & 2.3817 &  6 & 391 & 19.2 & 396.90 & 12.01 & 21.8\\\\\n",
       "\t  0.27957 & 0 &  9.69 & 0 & 0.585 & 5.926 & 42.6 & 2.3817 &  6 & 391 & 19.2 & 396.90 & 13.59 & 24.5\\\\\n",
       "\t  0.17899 & 0 &  9.69 & 0 & 0.585 & 5.670 & 28.8 & 2.7986 &  6 & 391 & 19.2 & 393.29 & 17.60 & 23.1\\\\\n",
       "\t  0.28960 & 0 &  9.69 & 0 & 0.585 & 5.390 & 72.9 & 2.7986 &  6 & 391 & 19.2 & 396.90 & 21.14 & 19.7\\\\\n",
       "\t  0.26838 & 0 &  9.69 & 0 & 0.585 & 5.794 & 70.6 & 2.8927 &  6 & 391 & 19.2 & 396.90 & 14.10 & 18.3\\\\\n",
       "\t  0.23912 & 0 &  9.69 & 0 & 0.585 & 6.019 & 65.3 & 2.4091 &  6 & 391 & 19.2 & 396.90 & 12.92 & 21.2\\\\\n",
       "\t  0.17783 & 0 &  9.69 & 0 & 0.585 & 5.569 & 73.5 & 2.3999 &  6 & 391 & 19.2 & 395.77 & 15.10 & 17.5\\\\\n",
       "\t  0.22438 & 0 &  9.69 & 0 & 0.585 & 6.027 & 79.7 & 2.4982 &  6 & 391 & 19.2 & 396.90 & 14.33 & 16.8\\\\\n",
       "\t  0.06263 & 0 & 11.93 & 0 & 0.573 & 6.593 & 69.1 & 2.4786 &  1 & 273 & 21.0 & 391.99 &  9.67 & 22.4\\\\\n",
       "\t  0.04527 & 0 & 11.93 & 0 & 0.573 & 6.120 & 76.7 & 2.2875 &  1 & 273 & 21.0 & 396.90 &  9.08 & 20.6\\\\\n",
       "\t  0.06076 & 0 & 11.93 & 0 & 0.573 & 6.976 & 91.0 & 2.1675 &  1 & 273 & 21.0 & 396.90 &  5.64 & 23.9\\\\\n",
       "\t  0.10959 & 0 & 11.93 & 0 & 0.573 & 6.794 & 89.3 & 2.3889 &  1 & 273 & 21.0 & 393.45 &  6.48 & 22.0\\\\\n",
       "\t  0.04741 & 0 & 11.93 & 0 & 0.573 & 6.030 & 80.8 & 2.5050 &  1 & 273 & 21.0 & 396.90 &  7.88 & 11.9\\\\\n",
       "\\end{tabular}\n"
      ],
      "text/markdown": [
       "\n",
       "A data.frame: 506 × 14\n",
       "\n",
       "| crim &lt;dbl&gt; | zn &lt;dbl&gt; | indus &lt;dbl&gt; | chas &lt;int&gt; | nox &lt;dbl&gt; | rm &lt;dbl&gt; | age &lt;dbl&gt; | dis &lt;dbl&gt; | rad &lt;int&gt; | tax &lt;dbl&gt; | ptratio &lt;dbl&gt; | black &lt;dbl&gt; | lstat &lt;dbl&gt; | medv &lt;dbl&gt; |\n",
       "|---|---|---|---|---|---|---|---|---|---|---|---|---|---|\n",
       "| 0.00632 | 18.0 | 2.31 | 0 | 0.538 | 6.575 |  65.2 | 4.0900 | 1 | 296 | 15.3 | 396.90 |  4.98 | 24.0 |\n",
       "| 0.02731 |  0.0 | 7.07 | 0 | 0.469 | 6.421 |  78.9 | 4.9671 | 2 | 242 | 17.8 | 396.90 |  9.14 | 21.6 |\n",
       "| 0.02729 |  0.0 | 7.07 | 0 | 0.469 | 7.185 |  61.1 | 4.9671 | 2 | 242 | 17.8 | 392.83 |  4.03 | 34.7 |\n",
       "| 0.03237 |  0.0 | 2.18 | 0 | 0.458 | 6.998 |  45.8 | 6.0622 | 3 | 222 | 18.7 | 394.63 |  2.94 | 33.4 |\n",
       "| 0.06905 |  0.0 | 2.18 | 0 | 0.458 | 7.147 |  54.2 | 6.0622 | 3 | 222 | 18.7 | 396.90 |  5.33 | 36.2 |\n",
       "| 0.02985 |  0.0 | 2.18 | 0 | 0.458 | 6.430 |  58.7 | 6.0622 | 3 | 222 | 18.7 | 394.12 |  5.21 | 28.7 |\n",
       "| 0.08829 | 12.5 | 7.87 | 0 | 0.524 | 6.012 |  66.6 | 5.5605 | 5 | 311 | 15.2 | 395.60 | 12.43 | 22.9 |\n",
       "| 0.14455 | 12.5 | 7.87 | 0 | 0.524 | 6.172 |  96.1 | 5.9505 | 5 | 311 | 15.2 | 396.90 | 19.15 | 27.1 |\n",
       "| 0.21124 | 12.5 | 7.87 | 0 | 0.524 | 5.631 | 100.0 | 6.0821 | 5 | 311 | 15.2 | 386.63 | 29.93 | 16.5 |\n",
       "| 0.17004 | 12.5 | 7.87 | 0 | 0.524 | 6.004 |  85.9 | 6.5921 | 5 | 311 | 15.2 | 386.71 | 17.10 | 18.9 |\n",
       "| 0.22489 | 12.5 | 7.87 | 0 | 0.524 | 6.377 |  94.3 | 6.3467 | 5 | 311 | 15.2 | 392.52 | 20.45 | 15.0 |\n",
       "| 0.11747 | 12.5 | 7.87 | 0 | 0.524 | 6.009 |  82.9 | 6.2267 | 5 | 311 | 15.2 | 396.90 | 13.27 | 18.9 |\n",
       "| 0.09378 | 12.5 | 7.87 | 0 | 0.524 | 5.889 |  39.0 | 5.4509 | 5 | 311 | 15.2 | 390.50 | 15.71 | 21.7 |\n",
       "| 0.62976 |  0.0 | 8.14 | 0 | 0.538 | 5.949 |  61.8 | 4.7075 | 4 | 307 | 21.0 | 396.90 |  8.26 | 20.4 |\n",
       "| 0.63796 |  0.0 | 8.14 | 0 | 0.538 | 6.096 |  84.5 | 4.4619 | 4 | 307 | 21.0 | 380.02 | 10.26 | 18.2 |\n",
       "| 0.62739 |  0.0 | 8.14 | 0 | 0.538 | 5.834 |  56.5 | 4.4986 | 4 | 307 | 21.0 | 395.62 |  8.47 | 19.9 |\n",
       "| 1.05393 |  0.0 | 8.14 | 0 | 0.538 | 5.935 |  29.3 | 4.4986 | 4 | 307 | 21.0 | 386.85 |  6.58 | 23.1 |\n",
       "| 0.78420 |  0.0 | 8.14 | 0 | 0.538 | 5.990 |  81.7 | 4.2579 | 4 | 307 | 21.0 | 386.75 | 14.67 | 17.5 |\n",
       "| 0.80271 |  0.0 | 8.14 | 0 | 0.538 | 5.456 |  36.6 | 3.7965 | 4 | 307 | 21.0 | 288.99 | 11.69 | 20.2 |\n",
       "| 0.72580 |  0.0 | 8.14 | 0 | 0.538 | 5.727 |  69.5 | 3.7965 | 4 | 307 | 21.0 | 390.95 | 11.28 | 18.2 |\n",
       "| 1.25179 |  0.0 | 8.14 | 0 | 0.538 | 5.570 |  98.1 | 3.7979 | 4 | 307 | 21.0 | 376.57 | 21.02 | 13.6 |\n",
       "| 0.85204 |  0.0 | 8.14 | 0 | 0.538 | 5.965 |  89.2 | 4.0123 | 4 | 307 | 21.0 | 392.53 | 13.83 | 19.6 |\n",
       "| 1.23247 |  0.0 | 8.14 | 0 | 0.538 | 6.142 |  91.7 | 3.9769 | 4 | 307 | 21.0 | 396.90 | 18.72 | 15.2 |\n",
       "| 0.98843 |  0.0 | 8.14 | 0 | 0.538 | 5.813 | 100.0 | 4.0952 | 4 | 307 | 21.0 | 394.54 | 19.88 | 14.5 |\n",
       "| 0.75026 |  0.0 | 8.14 | 0 | 0.538 | 5.924 |  94.1 | 4.3996 | 4 | 307 | 21.0 | 394.33 | 16.30 | 15.6 |\n",
       "| 0.84054 |  0.0 | 8.14 | 0 | 0.538 | 5.599 |  85.7 | 4.4546 | 4 | 307 | 21.0 | 303.42 | 16.51 | 13.9 |\n",
       "| 0.67191 |  0.0 | 8.14 | 0 | 0.538 | 5.813 |  90.3 | 4.6820 | 4 | 307 | 21.0 | 376.88 | 14.81 | 16.6 |\n",
       "| 0.95577 |  0.0 | 8.14 | 0 | 0.538 | 6.047 |  88.8 | 4.4534 | 4 | 307 | 21.0 | 306.38 | 17.28 | 14.8 |\n",
       "| 0.77299 |  0.0 | 8.14 | 0 | 0.538 | 6.495 |  94.4 | 4.4547 | 4 | 307 | 21.0 | 387.94 | 12.80 | 18.4 |\n",
       "| 1.00245 |  0.0 | 8.14 | 0 | 0.538 | 6.674 |  87.3 | 4.2390 | 4 | 307 | 21.0 | 380.23 | 11.98 | 21.0 |\n",
       "| ... | ... | ... | ... | ... | ... | ... | ... | ... | ... | ... | ... | ... | ... |\n",
       "|  4.87141 | 0 | 18.10 | 0 | 0.614 | 6.484 | 93.6 | 2.3053 | 24 | 666 | 20.2 | 396.21 | 18.68 | 16.7 |\n",
       "| 15.02340 | 0 | 18.10 | 0 | 0.614 | 5.304 | 97.3 | 2.1007 | 24 | 666 | 20.2 | 349.48 | 24.91 | 12.0 |\n",
       "| 10.23300 | 0 | 18.10 | 0 | 0.614 | 6.185 | 96.7 | 2.1705 | 24 | 666 | 20.2 | 379.70 | 18.03 | 14.6 |\n",
       "| 14.33370 | 0 | 18.10 | 0 | 0.614 | 6.229 | 88.0 | 1.9512 | 24 | 666 | 20.2 | 383.32 | 13.11 | 21.4 |\n",
       "|  5.82401 | 0 | 18.10 | 0 | 0.532 | 6.242 | 64.7 | 3.4242 | 24 | 666 | 20.2 | 396.90 | 10.74 | 23.0 |\n",
       "|  5.70818 | 0 | 18.10 | 0 | 0.532 | 6.750 | 74.9 | 3.3317 | 24 | 666 | 20.2 | 393.07 |  7.74 | 23.7 |\n",
       "|  5.73116 | 0 | 18.10 | 0 | 0.532 | 7.061 | 77.0 | 3.4106 | 24 | 666 | 20.2 | 395.28 |  7.01 | 25.0 |\n",
       "|  2.81838 | 0 | 18.10 | 0 | 0.532 | 5.762 | 40.3 | 4.0983 | 24 | 666 | 20.2 | 392.92 | 10.42 | 21.8 |\n",
       "|  2.37857 | 0 | 18.10 | 0 | 0.583 | 5.871 | 41.9 | 3.7240 | 24 | 666 | 20.2 | 370.73 | 13.34 | 20.6 |\n",
       "|  3.67367 | 0 | 18.10 | 0 | 0.583 | 6.312 | 51.9 | 3.9917 | 24 | 666 | 20.2 | 388.62 | 10.58 | 21.2 |\n",
       "|  5.69175 | 0 | 18.10 | 0 | 0.583 | 6.114 | 79.8 | 3.5459 | 24 | 666 | 20.2 | 392.68 | 14.98 | 19.1 |\n",
       "|  4.83567 | 0 | 18.10 | 0 | 0.583 | 5.905 | 53.2 | 3.1523 | 24 | 666 | 20.2 | 388.22 | 11.45 | 20.6 |\n",
       "|  0.15086 | 0 | 27.74 | 0 | 0.609 | 5.454 | 92.7 | 1.8209 |  4 | 711 | 20.1 | 395.09 | 18.06 | 15.2 |\n",
       "|  0.18337 | 0 | 27.74 | 0 | 0.609 | 5.414 | 98.3 | 1.7554 |  4 | 711 | 20.1 | 344.05 | 23.97 |  7.0 |\n",
       "|  0.20746 | 0 | 27.74 | 0 | 0.609 | 5.093 | 98.0 | 1.8226 |  4 | 711 | 20.1 | 318.43 | 29.68 |  8.1 |\n",
       "|  0.10574 | 0 | 27.74 | 0 | 0.609 | 5.983 | 98.8 | 1.8681 |  4 | 711 | 20.1 | 390.11 | 18.07 | 13.6 |\n",
       "|  0.11132 | 0 | 27.74 | 0 | 0.609 | 5.983 | 83.5 | 2.1099 |  4 | 711 | 20.1 | 396.90 | 13.35 | 20.1 |\n",
       "|  0.17331 | 0 |  9.69 | 0 | 0.585 | 5.707 | 54.0 | 2.3817 |  6 | 391 | 19.2 | 396.90 | 12.01 | 21.8 |\n",
       "|  0.27957 | 0 |  9.69 | 0 | 0.585 | 5.926 | 42.6 | 2.3817 |  6 | 391 | 19.2 | 396.90 | 13.59 | 24.5 |\n",
       "|  0.17899 | 0 |  9.69 | 0 | 0.585 | 5.670 | 28.8 | 2.7986 |  6 | 391 | 19.2 | 393.29 | 17.60 | 23.1 |\n",
       "|  0.28960 | 0 |  9.69 | 0 | 0.585 | 5.390 | 72.9 | 2.7986 |  6 | 391 | 19.2 | 396.90 | 21.14 | 19.7 |\n",
       "|  0.26838 | 0 |  9.69 | 0 | 0.585 | 5.794 | 70.6 | 2.8927 |  6 | 391 | 19.2 | 396.90 | 14.10 | 18.3 |\n",
       "|  0.23912 | 0 |  9.69 | 0 | 0.585 | 6.019 | 65.3 | 2.4091 |  6 | 391 | 19.2 | 396.90 | 12.92 | 21.2 |\n",
       "|  0.17783 | 0 |  9.69 | 0 | 0.585 | 5.569 | 73.5 | 2.3999 |  6 | 391 | 19.2 | 395.77 | 15.10 | 17.5 |\n",
       "|  0.22438 | 0 |  9.69 | 0 | 0.585 | 6.027 | 79.7 | 2.4982 |  6 | 391 | 19.2 | 396.90 | 14.33 | 16.8 |\n",
       "|  0.06263 | 0 | 11.93 | 0 | 0.573 | 6.593 | 69.1 | 2.4786 |  1 | 273 | 21.0 | 391.99 |  9.67 | 22.4 |\n",
       "|  0.04527 | 0 | 11.93 | 0 | 0.573 | 6.120 | 76.7 | 2.2875 |  1 | 273 | 21.0 | 396.90 |  9.08 | 20.6 |\n",
       "|  0.06076 | 0 | 11.93 | 0 | 0.573 | 6.976 | 91.0 | 2.1675 |  1 | 273 | 21.0 | 396.90 |  5.64 | 23.9 |\n",
       "|  0.10959 | 0 | 11.93 | 0 | 0.573 | 6.794 | 89.3 | 2.3889 |  1 | 273 | 21.0 | 393.45 |  6.48 | 22.0 |\n",
       "|  0.04741 | 0 | 11.93 | 0 | 0.573 | 6.030 | 80.8 | 2.5050 |  1 | 273 | 21.0 | 396.90 |  7.88 | 11.9 |\n",
       "\n"
      ],
      "text/plain": [
       "    crim     zn   indus chas nox   rm    age   dis    rad tax ptratio black \n",
       "1   0.00632  18.0 2.31  0    0.538 6.575  65.2 4.0900 1   296 15.3    396.90\n",
       "2   0.02731   0.0 7.07  0    0.469 6.421  78.9 4.9671 2   242 17.8    396.90\n",
       "3   0.02729   0.0 7.07  0    0.469 7.185  61.1 4.9671 2   242 17.8    392.83\n",
       "4   0.03237   0.0 2.18  0    0.458 6.998  45.8 6.0622 3   222 18.7    394.63\n",
       "5   0.06905   0.0 2.18  0    0.458 7.147  54.2 6.0622 3   222 18.7    396.90\n",
       "6   0.02985   0.0 2.18  0    0.458 6.430  58.7 6.0622 3   222 18.7    394.12\n",
       "7   0.08829  12.5 7.87  0    0.524 6.012  66.6 5.5605 5   311 15.2    395.60\n",
       "8   0.14455  12.5 7.87  0    0.524 6.172  96.1 5.9505 5   311 15.2    396.90\n",
       "9   0.21124  12.5 7.87  0    0.524 5.631 100.0 6.0821 5   311 15.2    386.63\n",
       "10  0.17004  12.5 7.87  0    0.524 6.004  85.9 6.5921 5   311 15.2    386.71\n",
       "11  0.22489  12.5 7.87  0    0.524 6.377  94.3 6.3467 5   311 15.2    392.52\n",
       "12  0.11747  12.5 7.87  0    0.524 6.009  82.9 6.2267 5   311 15.2    396.90\n",
       "13  0.09378  12.5 7.87  0    0.524 5.889  39.0 5.4509 5   311 15.2    390.50\n",
       "14  0.62976   0.0 8.14  0    0.538 5.949  61.8 4.7075 4   307 21.0    396.90\n",
       "15  0.63796   0.0 8.14  0    0.538 6.096  84.5 4.4619 4   307 21.0    380.02\n",
       "16  0.62739   0.0 8.14  0    0.538 5.834  56.5 4.4986 4   307 21.0    395.62\n",
       "17  1.05393   0.0 8.14  0    0.538 5.935  29.3 4.4986 4   307 21.0    386.85\n",
       "18  0.78420   0.0 8.14  0    0.538 5.990  81.7 4.2579 4   307 21.0    386.75\n",
       "19  0.80271   0.0 8.14  0    0.538 5.456  36.6 3.7965 4   307 21.0    288.99\n",
       "20  0.72580   0.0 8.14  0    0.538 5.727  69.5 3.7965 4   307 21.0    390.95\n",
       "21  1.25179   0.0 8.14  0    0.538 5.570  98.1 3.7979 4   307 21.0    376.57\n",
       "22  0.85204   0.0 8.14  0    0.538 5.965  89.2 4.0123 4   307 21.0    392.53\n",
       "23  1.23247   0.0 8.14  0    0.538 6.142  91.7 3.9769 4   307 21.0    396.90\n",
       "24  0.98843   0.0 8.14  0    0.538 5.813 100.0 4.0952 4   307 21.0    394.54\n",
       "25  0.75026   0.0 8.14  0    0.538 5.924  94.1 4.3996 4   307 21.0    394.33\n",
       "26  0.84054   0.0 8.14  0    0.538 5.599  85.7 4.4546 4   307 21.0    303.42\n",
       "27  0.67191   0.0 8.14  0    0.538 5.813  90.3 4.6820 4   307 21.0    376.88\n",
       "28  0.95577   0.0 8.14  0    0.538 6.047  88.8 4.4534 4   307 21.0    306.38\n",
       "29  0.77299   0.0 8.14  0    0.538 6.495  94.4 4.4547 4   307 21.0    387.94\n",
       "30  1.00245   0.0 8.14  0    0.538 6.674  87.3 4.2390 4   307 21.0    380.23\n",
       "... ...      ...  ...   ...  ...   ...   ...   ...    ... ... ...     ...   \n",
       "477  4.87141 0    18.10 0    0.614 6.484 93.6  2.3053 24  666 20.2    396.21\n",
       "478 15.02340 0    18.10 0    0.614 5.304 97.3  2.1007 24  666 20.2    349.48\n",
       "479 10.23300 0    18.10 0    0.614 6.185 96.7  2.1705 24  666 20.2    379.70\n",
       "480 14.33370 0    18.10 0    0.614 6.229 88.0  1.9512 24  666 20.2    383.32\n",
       "481  5.82401 0    18.10 0    0.532 6.242 64.7  3.4242 24  666 20.2    396.90\n",
       "482  5.70818 0    18.10 0    0.532 6.750 74.9  3.3317 24  666 20.2    393.07\n",
       "483  5.73116 0    18.10 0    0.532 7.061 77.0  3.4106 24  666 20.2    395.28\n",
       "484  2.81838 0    18.10 0    0.532 5.762 40.3  4.0983 24  666 20.2    392.92\n",
       "485  2.37857 0    18.10 0    0.583 5.871 41.9  3.7240 24  666 20.2    370.73\n",
       "486  3.67367 0    18.10 0    0.583 6.312 51.9  3.9917 24  666 20.2    388.62\n",
       "487  5.69175 0    18.10 0    0.583 6.114 79.8  3.5459 24  666 20.2    392.68\n",
       "488  4.83567 0    18.10 0    0.583 5.905 53.2  3.1523 24  666 20.2    388.22\n",
       "489  0.15086 0    27.74 0    0.609 5.454 92.7  1.8209  4  711 20.1    395.09\n",
       "490  0.18337 0    27.74 0    0.609 5.414 98.3  1.7554  4  711 20.1    344.05\n",
       "491  0.20746 0    27.74 0    0.609 5.093 98.0  1.8226  4  711 20.1    318.43\n",
       "492  0.10574 0    27.74 0    0.609 5.983 98.8  1.8681  4  711 20.1    390.11\n",
       "493  0.11132 0    27.74 0    0.609 5.983 83.5  2.1099  4  711 20.1    396.90\n",
       "494  0.17331 0     9.69 0    0.585 5.707 54.0  2.3817  6  391 19.2    396.90\n",
       "495  0.27957 0     9.69 0    0.585 5.926 42.6  2.3817  6  391 19.2    396.90\n",
       "496  0.17899 0     9.69 0    0.585 5.670 28.8  2.7986  6  391 19.2    393.29\n",
       "497  0.28960 0     9.69 0    0.585 5.390 72.9  2.7986  6  391 19.2    396.90\n",
       "498  0.26838 0     9.69 0    0.585 5.794 70.6  2.8927  6  391 19.2    396.90\n",
       "499  0.23912 0     9.69 0    0.585 6.019 65.3  2.4091  6  391 19.2    396.90\n",
       "500  0.17783 0     9.69 0    0.585 5.569 73.5  2.3999  6  391 19.2    395.77\n",
       "501  0.22438 0     9.69 0    0.585 6.027 79.7  2.4982  6  391 19.2    396.90\n",
       "502  0.06263 0    11.93 0    0.573 6.593 69.1  2.4786  1  273 21.0    391.99\n",
       "503  0.04527 0    11.93 0    0.573 6.120 76.7  2.2875  1  273 21.0    396.90\n",
       "504  0.06076 0    11.93 0    0.573 6.976 91.0  2.1675  1  273 21.0    396.90\n",
       "505  0.10959 0    11.93 0    0.573 6.794 89.3  2.3889  1  273 21.0    393.45\n",
       "506  0.04741 0    11.93 0    0.573 6.030 80.8  2.5050  1  273 21.0    396.90\n",
       "    lstat medv\n",
       "1    4.98 24.0\n",
       "2    9.14 21.6\n",
       "3    4.03 34.7\n",
       "4    2.94 33.4\n",
       "5    5.33 36.2\n",
       "6    5.21 28.7\n",
       "7   12.43 22.9\n",
       "8   19.15 27.1\n",
       "9   29.93 16.5\n",
       "10  17.10 18.9\n",
       "11  20.45 15.0\n",
       "12  13.27 18.9\n",
       "13  15.71 21.7\n",
       "14   8.26 20.4\n",
       "15  10.26 18.2\n",
       "16   8.47 19.9\n",
       "17   6.58 23.1\n",
       "18  14.67 17.5\n",
       "19  11.69 20.2\n",
       "20  11.28 18.2\n",
       "21  21.02 13.6\n",
       "22  13.83 19.6\n",
       "23  18.72 15.2\n",
       "24  19.88 14.5\n",
       "25  16.30 15.6\n",
       "26  16.51 13.9\n",
       "27  14.81 16.6\n",
       "28  17.28 14.8\n",
       "29  12.80 18.4\n",
       "30  11.98 21.0\n",
       "... ...   ... \n",
       "477 18.68 16.7\n",
       "478 24.91 12.0\n",
       "479 18.03 14.6\n",
       "480 13.11 21.4\n",
       "481 10.74 23.0\n",
       "482  7.74 23.7\n",
       "483  7.01 25.0\n",
       "484 10.42 21.8\n",
       "485 13.34 20.6\n",
       "486 10.58 21.2\n",
       "487 14.98 19.1\n",
       "488 11.45 20.6\n",
       "489 18.06 15.2\n",
       "490 23.97  7.0\n",
       "491 29.68  8.1\n",
       "492 18.07 13.6\n",
       "493 13.35 20.1\n",
       "494 12.01 21.8\n",
       "495 13.59 24.5\n",
       "496 17.60 23.1\n",
       "497 21.14 19.7\n",
       "498 14.10 18.3\n",
       "499 12.92 21.2\n",
       "500 15.10 17.5\n",
       "501 14.33 16.8\n",
       "502  9.67 22.4\n",
       "503  9.08 20.6\n",
       "504  5.64 23.9\n",
       "505  6.48 22.0\n",
       "506  7.88 11.9"
      ]
     },
     "metadata": {},
     "output_type": "display_data"
    }
   ],
   "source": [
    "require(MASS)\n",
    "data(Boston)\n",
    "Boston"
   ]
  },
  {
   "cell_type": "markdown",
   "metadata": {},
   "source": [
    "##### Guidelines\n",
    "\n",
    "Perform a statistical description of the data. In the first place individually, summarizing each variable, both graphically, e.g. with boxplot and histogram, and numerically. Do these variables have a normal appearance? Or, rather, do these variables show an asymmetric shape? Check correlations between pairs of predictors and between individual predictors and response. It will be useful to truncate to 2 or 1 decimal places, to avoid clutter:\n",
    "\n",
    "In this way we can see at a glance which correlations are large or small. Is there a danger of multicollinearity? \n",
    "\n",
    "Fit a linear regression model of `medv` on the remaining variables. From the model summary, can we state the model fits well? which variables appear to be better or worse predictors? \n",
    "\n",
    "Prepare an optimal model with the better predictors. The `ResSS` of this model is much larger than the one from the full model? Note that this model still has a non significant predictor. Discard it. \n",
    "\n",
    "Fit another linear regression model with response `log(medv)` on the remaining predictors or with their logarithms. Which one is better?"
   ]
  },
  {
   "cell_type": "code",
   "execution_count": 3,
   "metadata": {},
   "outputs": [
    {
     "data": {
      "text/plain": [
       "      crim                zn             indus            chas        \n",
       " Min.   : 0.00632   Min.   :  0.00   Min.   : 0.46   Min.   :0.00000  \n",
       " 1st Qu.: 0.08204   1st Qu.:  0.00   1st Qu.: 5.19   1st Qu.:0.00000  \n",
       " Median : 0.25651   Median :  0.00   Median : 9.69   Median :0.00000  \n",
       " Mean   : 3.61352   Mean   : 11.36   Mean   :11.14   Mean   :0.06917  \n",
       " 3rd Qu.: 3.67708   3rd Qu.: 12.50   3rd Qu.:18.10   3rd Qu.:0.00000  \n",
       " Max.   :88.97620   Max.   :100.00   Max.   :27.74   Max.   :1.00000  \n",
       "      nox               rm             age              dis        \n",
       " Min.   :0.3850   Min.   :3.561   Min.   :  2.90   Min.   : 1.130  \n",
       " 1st Qu.:0.4490   1st Qu.:5.886   1st Qu.: 45.02   1st Qu.: 2.100  \n",
       " Median :0.5380   Median :6.208   Median : 77.50   Median : 3.207  \n",
       " Mean   :0.5547   Mean   :6.285   Mean   : 68.57   Mean   : 3.795  \n",
       " 3rd Qu.:0.6240   3rd Qu.:6.623   3rd Qu.: 94.08   3rd Qu.: 5.188  \n",
       " Max.   :0.8710   Max.   :8.780   Max.   :100.00   Max.   :12.127  \n",
       "      rad              tax           ptratio          black       \n",
       " Min.   : 1.000   Min.   :187.0   Min.   :12.60   Min.   :  0.32  \n",
       " 1st Qu.: 4.000   1st Qu.:279.0   1st Qu.:17.40   1st Qu.:375.38  \n",
       " Median : 5.000   Median :330.0   Median :19.05   Median :391.44  \n",
       " Mean   : 9.549   Mean   :408.2   Mean   :18.46   Mean   :356.67  \n",
       " 3rd Qu.:24.000   3rd Qu.:666.0   3rd Qu.:20.20   3rd Qu.:396.23  \n",
       " Max.   :24.000   Max.   :711.0   Max.   :22.00   Max.   :396.90  \n",
       "     lstat            medv      \n",
       " Min.   : 1.73   Min.   : 5.00  \n",
       " 1st Qu.: 6.95   1st Qu.:17.02  \n",
       " Median :11.36   Median :21.20  \n",
       " Mean   :12.65   Mean   :22.53  \n",
       " 3rd Qu.:16.95   3rd Qu.:25.00  \n",
       " Max.   :37.97   Max.   :50.00  "
      ]
     },
     "metadata": {},
     "output_type": "display_data"
    }
   ],
   "source": [
    "summary(Boston)"
   ]
  },
  {
   "cell_type": "code",
   "execution_count": 5,
   "metadata": {},
   "outputs": [
    {
     "name": "stderr",
     "output_type": "stream",
     "text": [
      "Warning message:\n",
      "\"dependencies 'graph', 'Rgraphviz' are not available\"also installing the dependencies 'coda', 'arm', 'pbivnorm', 'matrixcalc', 'mi', 'mnormt', 'GPArotation', 'lavaan', 'sem', 'Rcsdp'\n",
      "\n"
     ]
    },
    {
     "name": "stdout",
     "output_type": "stream",
     "text": [
      "package 'coda' successfully unpacked and MD5 sums checked\n",
      "package 'arm' successfully unpacked and MD5 sums checked\n",
      "package 'pbivnorm' successfully unpacked and MD5 sums checked\n",
      "package 'matrixcalc' successfully unpacked and MD5 sums checked\n",
      "package 'mi' successfully unpacked and MD5 sums checked\n",
      "package 'mnormt' successfully unpacked and MD5 sums checked\n",
      "package 'GPArotation' successfully unpacked and MD5 sums checked\n",
      "package 'lavaan' successfully unpacked and MD5 sums checked\n",
      "package 'sem' successfully unpacked and MD5 sums checked\n",
      "package 'Rcsdp' successfully unpacked and MD5 sums checked\n",
      "package 'psych' successfully unpacked and MD5 sums checked\n",
      "\n",
      "The downloaded binary packages are in\n",
      "\tC:\\Users\\Krizto\\AppData\\Local\\Temp\\RtmpE3wrcO\\downloaded_packages\n"
     ]
    },
    {
     "data": {
      "text/html": [
       "<table>\n",
       "<caption>A psych: 14 × 13</caption>\n",
       "<thead>\n",
       "\t<tr><th></th><th scope=col>vars</th><th scope=col>n</th><th scope=col>mean</th><th scope=col>sd</th><th scope=col>median</th><th scope=col>trimmed</th><th scope=col>mad</th><th scope=col>min</th><th scope=col>max</th><th scope=col>range</th><th scope=col>skew</th><th scope=col>kurtosis</th><th scope=col>se</th></tr>\n",
       "\t<tr><th></th><th scope=col>&lt;int&gt;</th><th scope=col>&lt;dbl&gt;</th><th scope=col>&lt;dbl&gt;</th><th scope=col>&lt;dbl&gt;</th><th scope=col>&lt;dbl&gt;</th><th scope=col>&lt;dbl&gt;</th><th scope=col>&lt;dbl&gt;</th><th scope=col>&lt;dbl&gt;</th><th scope=col>&lt;dbl&gt;</th><th scope=col>&lt;dbl&gt;</th><th scope=col>&lt;dbl&gt;</th><th scope=col>&lt;dbl&gt;</th><th scope=col>&lt;dbl&gt;</th></tr>\n",
       "</thead>\n",
       "<tbody>\n",
       "\t<tr><th scope=row>crim</th><td> 1</td><td>506</td><td>  3.61352356</td><td>  8.6015451</td><td>  0.25651</td><td>  1.6816300</td><td>  0.3283218</td><td>  0.00632</td><td> 88.9762</td><td> 88.96988</td><td> 5.1922223</td><td>36.59581589</td><td>0.382385321</td></tr>\n",
       "\t<tr><th scope=row>zn</th><td> 2</td><td>506</td><td> 11.36363636</td><td> 23.3224530</td><td>  0.00000</td><td>  5.0800493</td><td>  0.0000000</td><td>  0.00000</td><td>100.0000</td><td>100.00000</td><td> 2.2124881</td><td> 3.95238731</td><td>1.036809500</td></tr>\n",
       "\t<tr><th scope=row>indus</th><td> 3</td><td>506</td><td> 11.13677866</td><td>  6.8603529</td><td>  9.69000</td><td> 10.9318719</td><td>  9.3700320</td><td>  0.46000</td><td> 27.7400</td><td> 27.28000</td><td> 0.2932747</td><td>-1.24019490</td><td>0.304979888</td></tr>\n",
       "\t<tr><th scope=row>chas</th><td> 4</td><td>506</td><td>  0.06916996</td><td>  0.2539940</td><td>  0.00000</td><td>  0.0000000</td><td>  0.0000000</td><td>  0.00000</td><td>  1.0000</td><td>  1.00000</td><td> 3.3857377</td><td> 9.48197035</td><td>0.011291412</td></tr>\n",
       "\t<tr><th scope=row>nox</th><td> 5</td><td>506</td><td>  0.55469506</td><td>  0.1158777</td><td>  0.53800</td><td>  0.5450601</td><td>  0.1297275</td><td>  0.38500</td><td>  0.8710</td><td>  0.48600</td><td> 0.7249897</td><td>-0.08741064</td><td>0.005151391</td></tr>\n",
       "\t<tr><th scope=row>rm</th><td> 6</td><td>506</td><td>  6.28463439</td><td>  0.7026171</td><td>  6.20850</td><td>  6.2528744</td><td>  0.5122383</td><td>  3.56100</td><td>  8.7800</td><td>  5.21900</td><td> 0.4012223</td><td> 1.84183241</td><td>0.031235142</td></tr>\n",
       "\t<tr><th scope=row>age</th><td> 7</td><td>506</td><td> 68.57490119</td><td> 28.1488614</td><td> 77.50000</td><td> 71.1960591</td><td> 28.9848300</td><td>  2.90000</td><td>100.0000</td><td> 97.10000</td><td>-0.5954162</td><td>-0.97802966</td><td>1.251369525</td></tr>\n",
       "\t<tr><th scope=row>dis</th><td> 8</td><td>506</td><td>  3.79504269</td><td>  2.1057101</td><td>  3.20745</td><td>  3.5393786</td><td>  1.9142590</td><td>  1.12960</td><td> 12.1265</td><td> 10.99690</td><td> 1.0057898</td><td> 0.45759158</td><td>0.093610233</td></tr>\n",
       "\t<tr><th scope=row>rad</th><td> 9</td><td>506</td><td>  9.54940711</td><td>  8.7072594</td><td>  5.00000</td><td>  8.7339901</td><td>  2.9652000</td><td>  1.00000</td><td> 24.0000</td><td> 23.00000</td><td> 0.9988651</td><td>-0.87892910</td><td>0.387084894</td></tr>\n",
       "\t<tr><th scope=row>tax</th><td>10</td><td>506</td><td>408.23715415</td><td>168.5371161</td><td>330.00000</td><td>400.0443350</td><td>108.2298000</td><td>187.00000</td><td>711.0000</td><td>524.00000</td><td> 0.6659891</td><td>-1.15031761</td><td>7.492388692</td></tr>\n",
       "\t<tr><th scope=row>ptratio</th><td>11</td><td>506</td><td> 18.45553360</td><td>  2.1649455</td><td> 19.05000</td><td> 18.6625616</td><td>  1.7049900</td><td> 12.60000</td><td> 22.0000</td><td>  9.40000</td><td>-0.7975743</td><td>-0.30480100</td><td>0.096243568</td></tr>\n",
       "\t<tr><th scope=row>black</th><td>12</td><td>506</td><td>356.67403162</td><td> 91.2948644</td><td>391.44000</td><td>383.1695074</td><td>  8.0949960</td><td>  0.32000</td><td>396.9000</td><td>396.58000</td><td>-2.8732597</td><td> 7.10371496</td><td>4.058551763</td></tr>\n",
       "\t<tr><th scope=row>lstat</th><td>13</td><td>506</td><td> 12.65306324</td><td>  7.1410615</td><td> 11.36000</td><td> 11.8990394</td><td>  7.1090670</td><td>  1.73000</td><td> 37.9700</td><td> 36.24000</td><td> 0.9010929</td><td> 0.46281705</td><td>0.317458906</td></tr>\n",
       "\t<tr><th scope=row>medv</th><td>14</td><td>506</td><td> 22.53280632</td><td>  9.1971041</td><td> 21.20000</td><td> 21.5623153</td><td>  5.9304000</td><td>  5.00000</td><td> 50.0000</td><td> 45.00000</td><td> 1.1015373</td><td> 1.45098366</td><td>0.408861147</td></tr>\n",
       "</tbody>\n",
       "</table>\n"
      ],
      "text/latex": [
       "A psych: 14 × 13\n",
       "\\begin{tabular}{r|lllllllllllll}\n",
       "  & vars & n & mean & sd & median & trimmed & mad & min & max & range & skew & kurtosis & se\\\\\n",
       "  & <int> & <dbl> & <dbl> & <dbl> & <dbl> & <dbl> & <dbl> & <dbl> & <dbl> & <dbl> & <dbl> & <dbl> & <dbl>\\\\\n",
       "\\hline\n",
       "\tcrim &  1 & 506 &   3.61352356 &   8.6015451 &   0.25651 &   1.6816300 &   0.3283218 &   0.00632 &  88.9762 &  88.96988 &  5.1922223 & 36.59581589 & 0.382385321\\\\\n",
       "\tzn &  2 & 506 &  11.36363636 &  23.3224530 &   0.00000 &   5.0800493 &   0.0000000 &   0.00000 & 100.0000 & 100.00000 &  2.2124881 &  3.95238731 & 1.036809500\\\\\n",
       "\tindus &  3 & 506 &  11.13677866 &   6.8603529 &   9.69000 &  10.9318719 &   9.3700320 &   0.46000 &  27.7400 &  27.28000 &  0.2932747 & -1.24019490 & 0.304979888\\\\\n",
       "\tchas &  4 & 506 &   0.06916996 &   0.2539940 &   0.00000 &   0.0000000 &   0.0000000 &   0.00000 &   1.0000 &   1.00000 &  3.3857377 &  9.48197035 & 0.011291412\\\\\n",
       "\tnox &  5 & 506 &   0.55469506 &   0.1158777 &   0.53800 &   0.5450601 &   0.1297275 &   0.38500 &   0.8710 &   0.48600 &  0.7249897 & -0.08741064 & 0.005151391\\\\\n",
       "\trm &  6 & 506 &   6.28463439 &   0.7026171 &   6.20850 &   6.2528744 &   0.5122383 &   3.56100 &   8.7800 &   5.21900 &  0.4012223 &  1.84183241 & 0.031235142\\\\\n",
       "\tage &  7 & 506 &  68.57490119 &  28.1488614 &  77.50000 &  71.1960591 &  28.9848300 &   2.90000 & 100.0000 &  97.10000 & -0.5954162 & -0.97802966 & 1.251369525\\\\\n",
       "\tdis &  8 & 506 &   3.79504269 &   2.1057101 &   3.20745 &   3.5393786 &   1.9142590 &   1.12960 &  12.1265 &  10.99690 &  1.0057898 &  0.45759158 & 0.093610233\\\\\n",
       "\trad &  9 & 506 &   9.54940711 &   8.7072594 &   5.00000 &   8.7339901 &   2.9652000 &   1.00000 &  24.0000 &  23.00000 &  0.9988651 & -0.87892910 & 0.387084894\\\\\n",
       "\ttax & 10 & 506 & 408.23715415 & 168.5371161 & 330.00000 & 400.0443350 & 108.2298000 & 187.00000 & 711.0000 & 524.00000 &  0.6659891 & -1.15031761 & 7.492388692\\\\\n",
       "\tptratio & 11 & 506 &  18.45553360 &   2.1649455 &  19.05000 &  18.6625616 &   1.7049900 &  12.60000 &  22.0000 &   9.40000 & -0.7975743 & -0.30480100 & 0.096243568\\\\\n",
       "\tblack & 12 & 506 & 356.67403162 &  91.2948644 & 391.44000 & 383.1695074 &   8.0949960 &   0.32000 & 396.9000 & 396.58000 & -2.8732597 &  7.10371496 & 4.058551763\\\\\n",
       "\tlstat & 13 & 506 &  12.65306324 &   7.1410615 &  11.36000 &  11.8990394 &   7.1090670 &   1.73000 &  37.9700 &  36.24000 &  0.9010929 &  0.46281705 & 0.317458906\\\\\n",
       "\tmedv & 14 & 506 &  22.53280632 &   9.1971041 &  21.20000 &  21.5623153 &   5.9304000 &   5.00000 &  50.0000 &  45.00000 &  1.1015373 &  1.45098366 & 0.408861147\\\\\n",
       "\\end{tabular}\n"
      ],
      "text/markdown": [
       "\n",
       "A psych: 14 × 13\n",
       "\n",
       "| <!--/--> | vars &lt;int&gt; | n &lt;dbl&gt; | mean &lt;dbl&gt; | sd &lt;dbl&gt; | median &lt;dbl&gt; | trimmed &lt;dbl&gt; | mad &lt;dbl&gt; | min &lt;dbl&gt; | max &lt;dbl&gt; | range &lt;dbl&gt; | skew &lt;dbl&gt; | kurtosis &lt;dbl&gt; | se &lt;dbl&gt; |\n",
       "|---|---|---|---|---|---|---|---|---|---|---|---|---|---|\n",
       "| crim |  1 | 506 |   3.61352356 |   8.6015451 |   0.25651 |   1.6816300 |   0.3283218 |   0.00632 |  88.9762 |  88.96988 |  5.1922223 | 36.59581589 | 0.382385321 |\n",
       "| zn |  2 | 506 |  11.36363636 |  23.3224530 |   0.00000 |   5.0800493 |   0.0000000 |   0.00000 | 100.0000 | 100.00000 |  2.2124881 |  3.95238731 | 1.036809500 |\n",
       "| indus |  3 | 506 |  11.13677866 |   6.8603529 |   9.69000 |  10.9318719 |   9.3700320 |   0.46000 |  27.7400 |  27.28000 |  0.2932747 | -1.24019490 | 0.304979888 |\n",
       "| chas |  4 | 506 |   0.06916996 |   0.2539940 |   0.00000 |   0.0000000 |   0.0000000 |   0.00000 |   1.0000 |   1.00000 |  3.3857377 |  9.48197035 | 0.011291412 |\n",
       "| nox |  5 | 506 |   0.55469506 |   0.1158777 |   0.53800 |   0.5450601 |   0.1297275 |   0.38500 |   0.8710 |   0.48600 |  0.7249897 | -0.08741064 | 0.005151391 |\n",
       "| rm |  6 | 506 |   6.28463439 |   0.7026171 |   6.20850 |   6.2528744 |   0.5122383 |   3.56100 |   8.7800 |   5.21900 |  0.4012223 |  1.84183241 | 0.031235142 |\n",
       "| age |  7 | 506 |  68.57490119 |  28.1488614 |  77.50000 |  71.1960591 |  28.9848300 |   2.90000 | 100.0000 |  97.10000 | -0.5954162 | -0.97802966 | 1.251369525 |\n",
       "| dis |  8 | 506 |   3.79504269 |   2.1057101 |   3.20745 |   3.5393786 |   1.9142590 |   1.12960 |  12.1265 |  10.99690 |  1.0057898 |  0.45759158 | 0.093610233 |\n",
       "| rad |  9 | 506 |   9.54940711 |   8.7072594 |   5.00000 |   8.7339901 |   2.9652000 |   1.00000 |  24.0000 |  23.00000 |  0.9988651 | -0.87892910 | 0.387084894 |\n",
       "| tax | 10 | 506 | 408.23715415 | 168.5371161 | 330.00000 | 400.0443350 | 108.2298000 | 187.00000 | 711.0000 | 524.00000 |  0.6659891 | -1.15031761 | 7.492388692 |\n",
       "| ptratio | 11 | 506 |  18.45553360 |   2.1649455 |  19.05000 |  18.6625616 |   1.7049900 |  12.60000 |  22.0000 |   9.40000 | -0.7975743 | -0.30480100 | 0.096243568 |\n",
       "| black | 12 | 506 | 356.67403162 |  91.2948644 | 391.44000 | 383.1695074 |   8.0949960 |   0.32000 | 396.9000 | 396.58000 | -2.8732597 |  7.10371496 | 4.058551763 |\n",
       "| lstat | 13 | 506 |  12.65306324 |   7.1410615 |  11.36000 |  11.8990394 |   7.1090670 |   1.73000 |  37.9700 |  36.24000 |  0.9010929 |  0.46281705 | 0.317458906 |\n",
       "| medv | 14 | 506 |  22.53280632 |   9.1971041 |  21.20000 |  21.5623153 |   5.9304000 |   5.00000 |  50.0000 |  45.00000 |  1.1015373 |  1.45098366 | 0.408861147 |\n",
       "\n"
      ],
      "text/plain": [
       "        vars n   mean         sd          median    trimmed     mad        \n",
       "crim     1   506   3.61352356   8.6015451   0.25651   1.6816300   0.3283218\n",
       "zn       2   506  11.36363636  23.3224530   0.00000   5.0800493   0.0000000\n",
       "indus    3   506  11.13677866   6.8603529   9.69000  10.9318719   9.3700320\n",
       "chas     4   506   0.06916996   0.2539940   0.00000   0.0000000   0.0000000\n",
       "nox      5   506   0.55469506   0.1158777   0.53800   0.5450601   0.1297275\n",
       "rm       6   506   6.28463439   0.7026171   6.20850   6.2528744   0.5122383\n",
       "age      7   506  68.57490119  28.1488614  77.50000  71.1960591  28.9848300\n",
       "dis      8   506   3.79504269   2.1057101   3.20745   3.5393786   1.9142590\n",
       "rad      9   506   9.54940711   8.7072594   5.00000   8.7339901   2.9652000\n",
       "tax     10   506 408.23715415 168.5371161 330.00000 400.0443350 108.2298000\n",
       "ptratio 11   506  18.45553360   2.1649455  19.05000  18.6625616   1.7049900\n",
       "black   12   506 356.67403162  91.2948644 391.44000 383.1695074   8.0949960\n",
       "lstat   13   506  12.65306324   7.1410615  11.36000  11.8990394   7.1090670\n",
       "medv    14   506  22.53280632   9.1971041  21.20000  21.5623153   5.9304000\n",
       "        min       max      range     skew       kurtosis    se         \n",
       "crim      0.00632  88.9762  88.96988  5.1922223 36.59581589 0.382385321\n",
       "zn        0.00000 100.0000 100.00000  2.2124881  3.95238731 1.036809500\n",
       "indus     0.46000  27.7400  27.28000  0.2932747 -1.24019490 0.304979888\n",
       "chas      0.00000   1.0000   1.00000  3.3857377  9.48197035 0.011291412\n",
       "nox       0.38500   0.8710   0.48600  0.7249897 -0.08741064 0.005151391\n",
       "rm        3.56100   8.7800   5.21900  0.4012223  1.84183241 0.031235142\n",
       "age       2.90000 100.0000  97.10000 -0.5954162 -0.97802966 1.251369525\n",
       "dis       1.12960  12.1265  10.99690  1.0057898  0.45759158 0.093610233\n",
       "rad       1.00000  24.0000  23.00000  0.9988651 -0.87892910 0.387084894\n",
       "tax     187.00000 711.0000 524.00000  0.6659891 -1.15031761 7.492388692\n",
       "ptratio  12.60000  22.0000   9.40000 -0.7975743 -0.30480100 0.096243568\n",
       "black     0.32000 396.9000 396.58000 -2.8732597  7.10371496 4.058551763\n",
       "lstat     1.73000  37.9700  36.24000  0.9010929  0.46281705 0.317458906\n",
       "medv      5.00000  50.0000  45.00000  1.1015373  1.45098366 0.408861147"
      ]
     },
     "metadata": {},
     "output_type": "display_data"
    }
   ],
   "source": [
    "install.packages(\"psych\",dependencies=TRUE,repos=\"https://cloud.r-project.org\")\n",
    "library(psych)\n",
    "describe(Boston)"
   ]
  },
  {
   "cell_type": "code",
   "execution_count": 6,
   "metadata": {},
   "outputs": [
    {
     "data": {
      "image/png": "[encoded data removed]",
      "text/plain": [
       "plot without title"
      ]
     },
     "metadata": {},
     "output_type": "display_data"
    }
   ],
   "source": [
    "plot(Boston[,c(3,5,6,11,13,14)],pch=3)"
   ]
  },
  {
   "cell_type": "code",
   "execution_count": 7,
   "metadata": {},
   "outputs": [
    {
     "data": {
      "text/html": [
       "<table>\n",
       "<caption>A matrix: 14 × 1 of type dbl</caption>\n",
       "<tbody>\n",
       "\t<tr><th scope=row>crim</th><td>-0.3883046</td></tr>\n",
       "\t<tr><th scope=row>zn</th><td> 0.3604453</td></tr>\n",
       "\t<tr><th scope=row>indus</th><td>-0.4837252</td></tr>\n",
       "\t<tr><th scope=row>chas</th><td> 0.1752602</td></tr>\n",
       "\t<tr><th scope=row>nox</th><td>-0.4273208</td></tr>\n",
       "\t<tr><th scope=row>rm</th><td> 0.6953599</td></tr>\n",
       "\t<tr><th scope=row>age</th><td>-0.3769546</td></tr>\n",
       "\t<tr><th scope=row>dis</th><td> 0.2499287</td></tr>\n",
       "\t<tr><th scope=row>rad</th><td>-0.3816262</td></tr>\n",
       "\t<tr><th scope=row>tax</th><td>-0.4685359</td></tr>\n",
       "\t<tr><th scope=row>ptratio</th><td>-0.5077867</td></tr>\n",
       "\t<tr><th scope=row>black</th><td> 0.3334608</td></tr>\n",
       "\t<tr><th scope=row>lstat</th><td>-0.7376627</td></tr>\n",
       "\t<tr><th scope=row>medv</th><td> 1.0000000</td></tr>\n",
       "</tbody>\n",
       "</table>\n"
      ],
      "text/latex": [
       "A matrix: 14 × 1 of type dbl\n",
       "\\begin{tabular}{r|l}\n",
       "\tcrim & -0.3883046\\\\\n",
       "\tzn &  0.3604453\\\\\n",
       "\tindus & -0.4837252\\\\\n",
       "\tchas &  0.1752602\\\\\n",
       "\tnox & -0.4273208\\\\\n",
       "\trm &  0.6953599\\\\\n",
       "\tage & -0.3769546\\\\\n",
       "\tdis &  0.2499287\\\\\n",
       "\trad & -0.3816262\\\\\n",
       "\ttax & -0.4685359\\\\\n",
       "\tptratio & -0.5077867\\\\\n",
       "\tblack &  0.3334608\\\\\n",
       "\tlstat & -0.7376627\\\\\n",
       "\tmedv &  1.0000000\\\\\n",
       "\\end{tabular}\n"
      ],
      "text/markdown": [
       "\n",
       "A matrix: 14 × 1 of type dbl\n",
       "\n",
       "| crim | -0.3883046 |\n",
       "| zn |  0.3604453 |\n",
       "| indus | -0.4837252 |\n",
       "| chas |  0.1752602 |\n",
       "| nox | -0.4273208 |\n",
       "| rm |  0.6953599 |\n",
       "| age | -0.3769546 |\n",
       "| dis |  0.2499287 |\n",
       "| rad | -0.3816262 |\n",
       "| tax | -0.4685359 |\n",
       "| ptratio | -0.5077867 |\n",
       "| black |  0.3334608 |\n",
       "| lstat | -0.7376627 |\n",
       "| medv |  1.0000000 |\n",
       "\n"
      ],
      "text/plain": [
       "        [,1]      \n",
       "crim    -0.3883046\n",
       "zn       0.3604453\n",
       "indus   -0.4837252\n",
       "chas     0.1752602\n",
       "nox     -0.4273208\n",
       "rm       0.6953599\n",
       "age     -0.3769546\n",
       "dis      0.2499287\n",
       "rad     -0.3816262\n",
       "tax     -0.4685359\n",
       "ptratio -0.5077867\n",
       "black    0.3334608\n",
       "lstat   -0.7376627\n",
       "medv     1.0000000"
      ]
     },
     "metadata": {},
     "output_type": "display_data"
    }
   ],
   "source": [
    "cor(Boston,Boston$medv)"
   ]
  },
  {
   "cell_type": "code",
   "execution_count": 8,
   "metadata": {},
   "outputs": [
    {
     "data": {
      "image/png": "[encoded data removed]",
      "text/plain": [
       "Plot with title \"House Pricing\""
      ]
     },
     "metadata": {},
     "output_type": "display_data"
    }
   ],
   "source": [
    "hist(Boston$medv,xlab=\"Median Value\", main=\"House Pricing\", col=\"grey\")"
   ]
  },
  {
   "cell_type": "markdown",
   "metadata": {},
   "source": [
    "#### Back to the Kaggle _House prices_ dataset\n",
    "\n",
    "Redo the operations above with the new dataset, replacing the response `medv` with `SalePrice`. "
   ]
  },
  {
   "cell_type": "code",
   "execution_count": null,
   "metadata": {
    "collapsed": true,
    "jupyter": {
     "outputs_hidden": true
    }
   },
   "outputs": [],
   "source": [
    "HP.train<-read.csv(\"House.prices.train.csv\")\n",
    "str(HP.train)"
   ]
  },
  {
   "cell_type": "code",
   "execution_count": null,
   "metadata": {
    "collapsed": true,
    "jupyter": {
     "outputs_hidden": true
    }
   },
   "outputs": [],
   "source": [
    "HP.test<-read.csv(\"House.prices.test.csv\")\n",
    "str(HP.test)"
   ]
  },
  {
   "cell_type": "markdown",
   "metadata": {},
   "source": [
    "#### Remarks\n",
    "\n",
    "1. This dataset is divided in two halves, `train` and `test`. The first one is to train the prediction algorithm (in the `lm` case, compute the regression coefficients) which then is assessed with the second one. This is a usual procedurein Machine Learning, to avoid the optimistic bias due to using the same data for both functions. Note that here in the testing half the response is missing. We are to predict it!\n",
    "\n",
    "2. The first column in both train and test files is an `Id` case number. Make sure you remove it before any computation. It may be kept aside for post-processing steps, e.g., visualization."
   ]
  },
  {
   "cell_type": "code",
   "execution_count": null,
   "metadata": {
    "collapsed": true,
    "jupyter": {
     "outputs_hidden": true
    }
   },
   "outputs": [],
   "source": [
    "HP.train<-HP.train[,-1]\n",
    "str(HP.train)"
   ]
  },
  {
   "cell_type": "code",
   "execution_count": null,
   "metadata": {
    "collapsed": true,
    "jupyter": {
     "outputs_hidden": true
    }
   },
   "outputs": [],
   "source": [
    "HP.test<-HP.test[,-1]\n",
    "str(HP.test)"
   ]
  },
  {
   "cell_type": "markdown",
   "metadata": {},
   "source": [
    "3. Missing data are trouble in this dataset, something that, as a matter of fact, often happens with real data. As a first approach one could try to `na.omit()` (look up in help what this function does). Unfortunately it seems that each and every row contains some `NA` hence the result of `na.omit()` is an empty dataset. Better try to select, in a first analysis, those variables (columns) with no `NA`. The following piece of code will count the number of columns with no `NA`. I found $61$ of them. Isolate these columns and perform the analysis with them.: "
   ]
  },
  {
   "cell_type": "code",
   "execution_count": null,
   "metadata": {
    "collapsed": true,
    "jupyter": {
     "outputs_hidden": true
    }
   },
   "outputs": [],
   "source": [
    "count.na<-function(x){sum(is.na(x))}\n",
    "HP.train.m<-as.matrix(HP.train)\n",
    "Rows.with.NA<-apply(HP.train.m,1,count.na)\n",
    "table(Rows.with.NA)\n",
    "Cols.with.NA<-apply(HP.train.m,2,count.na)\n",
    "table(Cols.with.NA)"
   ]
  }
 ],
 "metadata": {
  "kernelspec": {
   "display_name": "R",
   "language": "R",
   "name": "ir"
  },
  "language_info": {
   "codemirror_mode": "r",
   "file_extension": ".r",
   "mimetype": "text/x-r-source",
   "name": "R",
   "pygments_lexer": "r",
   "version": "3.6.1"
  }
 },
 "nbformat": 4,
 "nbformat_minor": 4
}
