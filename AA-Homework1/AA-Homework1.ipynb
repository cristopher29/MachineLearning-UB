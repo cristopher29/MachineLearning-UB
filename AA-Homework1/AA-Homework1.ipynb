{
 "cells": [
  {
   "cell_type": "markdown",
   "metadata": {},
   "source": [
    "### Homework 1 (parte 1)"
   ]
  },
  {
   "cell_type": "code",
   "execution_count": 39,
   "metadata": {},
   "outputs": [],
   "source": [
    "#install.packages(\"ggplot2\")\n",
    "#install.packages(\"GGally\")\n",
    "#install.packages(\"MASS\")\n",
    "#install.packages(\"caret\")\n",
    "library(ggplot2)\n",
    "library(GGally)\n",
    "library(MASS)"
   ]
  },
  {
   "cell_type": "code",
   "execution_count": 60,
   "metadata": {},
   "outputs": [
    {
     "name": "stdout",
     "output_type": "stream",
     "text": [
      "'data.frame':\t506 obs. of  14 variables:\n",
      " $ crim   : num  0.00632 0.02731 0.02729 0.03237 0.06905 ...\n",
      " $ zn     : num  18 0 0 0 0 0 12.5 12.5 12.5 12.5 ...\n",
      " $ indus  : num  2.31 7.07 7.07 2.18 2.18 2.18 7.87 7.87 7.87 7.87 ...\n",
      " $ chas   : int  0 0 0 0 0 0 0 0 0 0 ...\n",
      " $ nox    : num  0.538 0.469 0.469 0.458 0.458 0.458 0.524 0.524 0.524 0.524 ...\n",
      " $ rm     : num  6.58 6.42 7.18 7 7.15 ...\n",
      " $ age    : num  65.2 78.9 61.1 45.8 54.2 58.7 66.6 96.1 100 85.9 ...\n",
      " $ dis    : num  4.09 4.97 4.97 6.06 6.06 ...\n",
      " $ rad    : int  1 2 2 3 3 3 5 5 5 5 ...\n",
      " $ tax    : num  296 242 242 222 222 222 311 311 311 311 ...\n",
      " $ ptratio: num  15.3 17.8 17.8 18.7 18.7 18.7 15.2 15.2 15.2 15.2 ...\n",
      " $ black  : num  397 397 393 395 397 ...\n",
      " $ lstat  : num  4.98 9.14 4.03 2.94 5.33 ...\n",
      " $ medv   : num  24 21.6 34.7 33.4 36.2 28.7 22.9 27.1 16.5 18.9 ...\n"
     ]
    },
    {
     "data": {
      "text/html": [
       "\n",
       "<table width=\"100%\" summary=\"page for Boston {MASS}\"><tr><td>Boston {MASS}</td><td style=\"text-align: right;\">R Documentation</td></tr></table>\n",
       "\n",
       "<h2>\n",
       "Housing Values in Suburbs of Boston\n",
       "</h2>\n",
       "\n",
       "<h3>Description</h3>\n",
       "\n",
       "<p>The <code>Boston</code> data frame has 506 rows and 14 columns.\n",
       "</p>\n",
       "\n",
       "\n",
       "<h3>Usage</h3>\n",
       "\n",
       "<pre>\n",
       "Boston\n",
       "</pre>\n",
       "\n",
       "\n",
       "<h3>Format</h3>\n",
       "\n",
       "<p>This data frame contains the following columns:\n",
       "</p>\n",
       "\n",
       "<dl>\n",
       "<dt><code>crim</code></dt><dd>\n",
       "<p>per capita crime rate by town.\n",
       "</p>\n",
       "</dd>\n",
       "<dt><code>zn</code></dt><dd>\n",
       "<p>proportion of residential land zoned for lots over 25,000 sq.ft.\n",
       "</p>\n",
       "</dd>\n",
       "<dt><code>indus</code></dt><dd>\n",
       "<p>proportion of non-retail business acres per town.\n",
       "</p>\n",
       "</dd>\n",
       "<dt><code>chas</code></dt><dd>\n",
       "<p>Charles River dummy variable (= 1 if tract bounds river; 0 otherwise).\n",
       "</p>\n",
       "</dd>\n",
       "<dt><code>nox</code></dt><dd>\n",
       "<p>nitrogen oxides concentration (parts per 10 million).\n",
       "</p>\n",
       "</dd>\n",
       "<dt><code>rm</code></dt><dd>\n",
       "<p>average number of rooms per dwelling.\n",
       "</p>\n",
       "</dd>\n",
       "<dt><code>age</code></dt><dd>\n",
       "<p>proportion of owner-occupied units built prior to 1940.\n",
       "</p>\n",
       "</dd>\n",
       "<dt><code>dis</code></dt><dd>\n",
       "<p>weighted mean of distances to five Boston employment centres.\n",
       "</p>\n",
       "</dd>\n",
       "<dt><code>rad</code></dt><dd>\n",
       "<p>index of accessibility to radial highways.\n",
       "</p>\n",
       "</dd>\n",
       "<dt><code>tax</code></dt><dd>\n",
       "<p>full-value property-tax rate per \\$10,000.\n",
       "</p>\n",
       "</dd>\n",
       "<dt><code>ptratio</code></dt><dd>\n",
       "<p>pupil-teacher ratio by town.\n",
       "</p>\n",
       "</dd>\n",
       "<dt><code>black</code></dt><dd>\n",
       "<p><i>1000(Bk - 0.63)^2</i> where <i>Bk</i> is the proportion of blacks\n",
       "by town.\n",
       "</p>\n",
       "</dd>\n",
       "<dt><code>lstat</code></dt><dd>\n",
       "<p>lower status of the population (percent).\n",
       "</p>\n",
       "</dd>\n",
       "<dt><code>medv</code></dt><dd>\n",
       "<p>median value of owner-occupied homes in \\$1000s.\n",
       "</p>\n",
       "</dd>\n",
       "</dl>\n",
       "\n",
       "\n",
       "\n",
       "<h3>Source</h3>\n",
       "\n",
       "<p>Harrison, D. and Rubinfeld, D.L. (1978)\n",
       "Hedonic prices and the demand for clean air.\n",
       "<em>J. Environ. Economics and Management</em>\n",
       "<b>5</b>, 81&ndash;102.\n",
       "</p>\n",
       "<p>Belsley D.A., Kuh, E.  and Welsch, R.E. (1980)\n",
       "<em>Regression Diagnostics. Identifying Influential Data and Sources\n",
       "of Collinearity.</em>\n",
       "New York: Wiley.\n",
       "</p>\n",
       "\n",
       "<hr /><div style=\"text-align: center;\">[Package <em>MASS</em> version 7.3-51.4 ]</div>"
      ],
      "text/latex": [
       "\\inputencoding{utf8}\n",
       "\\HeaderA{Boston}{Housing Values in Suburbs of Boston}{Boston}\n",
       "\\keyword{datasets}{Boston}\n",
       "%\n",
       "\\begin{Description}\\relax\n",
       "The \\code{Boston} data frame has 506 rows and 14 columns.\n",
       "\\end{Description}\n",
       "%\n",
       "\\begin{Usage}\n",
       "\\begin{verbatim}\n",
       "Boston\n",
       "\\end{verbatim}\n",
       "\\end{Usage}\n",
       "%\n",
       "\\begin{Format}\n",
       "This data frame contains the following columns:\n",
       "\\begin{description}\n",
       "\n",
       "\\item[\\code{crim}] \n",
       "per capita crime rate by town.\n",
       "\n",
       "\\item[\\code{zn}] \n",
       "proportion of residential land zoned for lots over 25,000 sq.ft.\n",
       "\n",
       "\\item[\\code{indus}] \n",
       "proportion of non-retail business acres per town.\n",
       "\n",
       "\\item[\\code{chas}] \n",
       "Charles River dummy variable (= 1 if tract bounds river; 0 otherwise).\n",
       "\n",
       "\\item[\\code{nox}] \n",
       "nitrogen oxides concentration (parts per 10 million).\n",
       "\n",
       "\\item[\\code{rm}] \n",
       "average number of rooms per dwelling.\n",
       "\n",
       "\\item[\\code{age}] \n",
       "proportion of owner-occupied units built prior to 1940.\n",
       "\n",
       "\\item[\\code{dis}] \n",
       "weighted mean of distances to five Boston employment centres.\n",
       "\n",
       "\\item[\\code{rad}] \n",
       "index of accessibility to radial highways.\n",
       "\n",
       "\\item[\\code{tax}] \n",
       "full-value property-tax rate per \\bsl{}\\$10,000.\n",
       "\n",
       "\\item[\\code{ptratio}] \n",
       "pupil-teacher ratio by town.\n",
       "\n",
       "\\item[\\code{black}] \n",
       "\\eqn{1000(Bk - 0.63)^2}{} where \\eqn{Bk}{} is the proportion of blacks\n",
       "by town.\n",
       "\n",
       "\\item[\\code{lstat}] \n",
       "lower status of the population (percent).\n",
       "\n",
       "\\item[\\code{medv}] \n",
       "median value of owner-occupied homes in \\bsl{}\\$1000s.\n",
       "\n",
       "\n",
       "\\end{description}\n",
       "\n",
       "\\end{Format}\n",
       "%\n",
       "\\begin{Source}\\relax\n",
       "Harrison, D. and Rubinfeld, D.L. (1978)\n",
       "Hedonic prices and the demand for clean air.\n",
       "\\emph{J. Environ. Economics and Management}\n",
       "\\bold{5}, 81--102.\n",
       "\n",
       "Belsley D.A., Kuh, E.  and Welsch, R.E. (1980)\n",
       "\\emph{Regression Diagnostics. Identifying Influential Data and Sources\n",
       "of Collinearity.}\n",
       "New York: Wiley.\n",
       "\\end{Source}"
      ],
      "text/plain": [
       "Boston                  package:MASS                   R Documentation\n",
       "\n",
       "_\bH_\bo_\bu_\bs_\bi_\bn_\bg _\bV_\ba_\bl_\bu_\be_\bs _\bi_\bn _\bS_\bu_\bb_\bu_\br_\bb_\bs _\bo_\bf _\bB_\bo_\bs_\bt_\bo_\bn\n",
       "\n",
       "_\bD_\be_\bs_\bc_\br_\bi_\bp_\bt_\bi_\bo_\bn:\n",
       "\n",
       "     The 'Boston' data frame has 506 rows and 14 columns.\n",
       "\n",
       "_\bU_\bs_\ba_\bg_\be:\n",
       "\n",
       "     Boston\n",
       "     \n",
       "_\bF_\bo_\br_\bm_\ba_\bt:\n",
       "\n",
       "     This data frame contains the following columns:\n",
       "\n",
       "     'crim' per capita crime rate by town.\n",
       "\n",
       "     'zn' proportion of residential land zoned for lots over 25,000\n",
       "          sq.ft.\n",
       "\n",
       "     'indus' proportion of non-retail business acres per town.\n",
       "\n",
       "     'chas' Charles River dummy variable (= 1 if tract bounds river; 0\n",
       "          otherwise).\n",
       "\n",
       "     'nox' nitrogen oxides concentration (parts per 10 million).\n",
       "\n",
       "     'rm' average number of rooms per dwelling.\n",
       "\n",
       "     'age' proportion of owner-occupied units built prior to 1940.\n",
       "\n",
       "     'dis' weighted mean of distances to five Boston employment\n",
       "          centres.\n",
       "\n",
       "     'rad' index of accessibility to radial highways.\n",
       "\n",
       "     'tax' full-value property-tax rate per \\$10,000.\n",
       "\n",
       "     'ptratio' pupil-teacher ratio by town.\n",
       "\n",
       "     'black' 1000(Bk - 0.63)^2 where Bk is the proportion of blacks by\n",
       "          town.\n",
       "\n",
       "     'lstat' lower status of the population (percent).\n",
       "\n",
       "     'medv' median value of owner-occupied homes in \\$1000s.\n",
       "\n",
       "_\bS_\bo_\bu_\br_\bc_\be:\n",
       "\n",
       "     Harrison, D. and Rubinfeld, D.L. (1978) Hedonic prices and the\n",
       "     demand for clean air.  _J. Environ. Economics and Management_ *5*,\n",
       "     81-102.\n",
       "\n",
       "     Belsley D.A., Kuh, E.  and Welsch, R.E. (1980) _Regression\n",
       "     Diagnostics. Identifying Influential Data and Sources of\n",
       "     Collinearity._ New York: Wiley.\n"
      ]
     },
     "metadata": {},
     "output_type": "display_data"
    }
   ],
   "source": [
    "data(Boston)\n",
    "str(Boston)\n",
    "?Boston"
   ]
  },
  {
   "cell_type": "markdown",
   "metadata": {},
   "source": [
    "Vemos que los valores de MEDV se distribuyen de manera normal, pero esta sesgada hacia la derecha. (Outlier)"
   ]
  },
  {
   "cell_type": "code",
   "execution_count": 41,
   "metadata": {},
   "outputs": [
    {
     "data": {
      "image/png": "[encoded data removed]",
      "text/plain": [
       "plot without title"
      ]
     },
     "metadata": {},
     "output_type": "display_data"
    },
    {
     "data": {
      "image/png": "[encoded data removed]",
      "text/plain": [
       "plot without title"
      ]
     },
     "metadata": {},
     "output_type": "display_data"
    }
   ],
   "source": [
    "ggplot(Boston, aes(x=medv)) + \n",
    "    geom_histogram(aes(y=..density..), binwidth=1, colour=\"black\", fill=\"white\") +\n",
    "    geom_density(alpha=.2, fill=\"#FF6666\")\n",
    "\n",
    "ggplot(Boston, aes(x=factor(1), y=medv)) +\n",
    "    geom_boxplot(width = 0.4, fill = \"white\")"
   ]
  },
  {
   "cell_type": "markdown",
   "metadata": {},
   "source": [
    "Ahora vamos a tratar de analizar los datos de cada variable y como afectan a la variable objetivo MEDV."
   ]
  },
  {
   "cell_type": "code",
   "execution_count": 42,
   "metadata": {},
   "outputs": [
    {
     "data": {
      "image/png": "[encoded data removed]",
      "text/plain": [
       "plot without title"
      ]
     },
     "metadata": {},
     "output_type": "display_data"
    }
   ],
   "source": [
    "lowerFn <- function(data, mapping, ...) {\n",
    "  p <- ggplot(data = data, mapping = mapping) +\n",
    "    geom_point(color = 'blue', alpha=0.3, size=0.2)\n",
    "  p\n",
    "}\n",
    "\n",
    "ggpairs( \n",
    "  data = Boston,\n",
    "  lower = list(\n",
    "    continuous =  wrap(lowerFn)\n",
    "  )\n",
    ")"
   ]
  },
  {
   "cell_type": "markdown",
   "metadata": {},
   "source": [
    "Podemos ver que tenemos variables que más o menos consiguen tener una distribucion simetrica (normal), como por ejemplo, RM, LSTAT, PTRATIO y NOX. Tambien vemos variables con distribucion bimodal, como es el caso de RAD, TAX e INDUS entre las más destacadas."
   ]
  },
  {
   "cell_type": "markdown",
   "metadata": {},
   "source": [
    "Ahora vamos a ver la correlación de estas variables con la variable objectivo y también nos podemos ayudar de los graficos en azul."
   ]
  },
  {
   "cell_type": "code",
   "execution_count": 43,
   "metadata": {},
   "outputs": [
    {
     "data": {
      "text/html": [
       "<table>\n",
       "<caption>A matrix: 14 × 1 of type dbl</caption>\n",
       "<tbody>\n",
       "\t<tr><th scope=row>crim</th><td>-0.39</td></tr>\n",
       "\t<tr><th scope=row>zn</th><td> 0.36</td></tr>\n",
       "\t<tr><th scope=row>indus</th><td>-0.48</td></tr>\n",
       "\t<tr><th scope=row>chas</th><td> 0.18</td></tr>\n",
       "\t<tr><th scope=row>nox</th><td>-0.43</td></tr>\n",
       "\t<tr><th scope=row>rm</th><td> 0.70</td></tr>\n",
       "\t<tr><th scope=row>age</th><td>-0.38</td></tr>\n",
       "\t<tr><th scope=row>dis</th><td> 0.25</td></tr>\n",
       "\t<tr><th scope=row>rad</th><td>-0.38</td></tr>\n",
       "\t<tr><th scope=row>tax</th><td>-0.47</td></tr>\n",
       "\t<tr><th scope=row>ptratio</th><td>-0.51</td></tr>\n",
       "\t<tr><th scope=row>black</th><td> 0.33</td></tr>\n",
       "\t<tr><th scope=row>lstat</th><td>-0.74</td></tr>\n",
       "\t<tr><th scope=row>medv</th><td> 1.00</td></tr>\n",
       "</tbody>\n",
       "</table>\n"
      ],
      "text/latex": [
       "A matrix: 14 × 1 of type dbl\n",
       "\\begin{tabular}{r|l}\n",
       "\tcrim & -0.39\\\\\n",
       "\tzn &  0.36\\\\\n",
       "\tindus & -0.48\\\\\n",
       "\tchas &  0.18\\\\\n",
       "\tnox & -0.43\\\\\n",
       "\trm &  0.70\\\\\n",
       "\tage & -0.38\\\\\n",
       "\tdis &  0.25\\\\\n",
       "\trad & -0.38\\\\\n",
       "\ttax & -0.47\\\\\n",
       "\tptratio & -0.51\\\\\n",
       "\tblack &  0.33\\\\\n",
       "\tlstat & -0.74\\\\\n",
       "\tmedv &  1.00\\\\\n",
       "\\end{tabular}\n"
      ],
      "text/markdown": [
       "\n",
       "A matrix: 14 × 1 of type dbl\n",
       "\n",
       "| crim | -0.39 |\n",
       "| zn |  0.36 |\n",
       "| indus | -0.48 |\n",
       "| chas |  0.18 |\n",
       "| nox | -0.43 |\n",
       "| rm |  0.70 |\n",
       "| age | -0.38 |\n",
       "| dis |  0.25 |\n",
       "| rad | -0.38 |\n",
       "| tax | -0.47 |\n",
       "| ptratio | -0.51 |\n",
       "| black |  0.33 |\n",
       "| lstat | -0.74 |\n",
       "| medv |  1.00 |\n",
       "\n"
      ],
      "text/plain": [
       "        [,1] \n",
       "crim    -0.39\n",
       "zn       0.36\n",
       "indus   -0.48\n",
       "chas     0.18\n",
       "nox     -0.43\n",
       "rm       0.70\n",
       "age     -0.38\n",
       "dis      0.25\n",
       "rad     -0.38\n",
       "tax     -0.47\n",
       "ptratio -0.51\n",
       "black    0.33\n",
       "lstat   -0.74\n",
       "medv     1.00"
      ]
     },
     "metadata": {},
     "output_type": "display_data"
    }
   ],
   "source": [
    "round(cor(Boston, Boston$medv),2)"
   ]
  },
  {
   "cell_type": "markdown",
   "metadata": {},
   "source": [
    "Analizando los datos podemos hacer suposiciones sobre las variables y su relación con la variable objetivo."
   ]
  },
  {
   "cell_type": "markdown",
   "metadata": {},
   "source": [
    "Para ajustar un modelo de regresión lineal, seleccionamos aquellas características que tienen una alta correlación con nuestra variable objetivo MEDV. Al observar la matriz de correlación podemos ver que RM tiene una fuerte correlación positiva con MEDV (0.7), mientras que LSTAT tiene una alta correlación negativa con MEDV (-0.74). El PTRATIO tambien es una variable a tener en cuenta con una correlación negativa (-0.5)."
   ]
  },
  {
   "cell_type": "markdown",
   "metadata": {},
   "source": [
    "Las casas con más habitaciones (valor RM más alto) valdrán más. Normalmente las casas con más habitaciones son más grandes y pueden caber más personas, por lo que es razonable que cuesten más dinero. Son variables directamente proporcionales."
   ]
  },
  {
   "cell_type": "markdown",
   "metadata": {},
   "source": [
    "Los vecindarios con más trabajadores de clase baja (valor LSTAT más alto) valdrán menos. Si el porcentaje de la clase obrera es más alto, es probable que tengan un bajo poder adquisitivo y, por lo tanto, las viviendas cuesten menos. Son variables inversamente proporcionales."
   ]
  },
  {
   "cell_type": "markdown",
   "metadata": {},
   "source": [
    "Otra variable que podemos tener en cuenta es PTRATIO. Los vecindarios con una mayor proporción de estudiantes por maestro (valor PTRATIO más alto) valdrán menos. Si el porcentaje de estudiantes por maestro es más alto, es probable que en el vecindario haya menos escuelas, esto podría deberse a que hay menos ingresos fiscales, lo que podría deberse a que en ese vecindario la gente gana menos dinero. Si la gente gana menos dinero, es probable que sus casas valgan menos. Son variables inversamente proporcionales."
   ]
  },
  {
   "cell_type": "markdown",
   "metadata": {},
   "source": [
    "Generamos un modelo con todas las variables para ver que mas podemos deducir."
   ]
  },
  {
   "cell_type": "code",
   "execution_count": 44,
   "metadata": {},
   "outputs": [
    {
     "data": {
      "text/plain": [
       "\n",
       "Call:\n",
       "lm(formula = medv ~ ., data = Boston)\n",
       "\n",
       "Residuals:\n",
       "    Min      1Q  Median      3Q     Max \n",
       "-15.595  -2.730  -0.518   1.777  26.199 \n",
       "\n",
       "Coefficients:\n",
       "              Estimate Std. Error t value Pr(>|t|)    \n",
       "(Intercept)  3.646e+01  5.103e+00   7.144 3.28e-12 ***\n",
       "crim        -1.080e-01  3.286e-02  -3.287 0.001087 ** \n",
       "zn           4.642e-02  1.373e-02   3.382 0.000778 ***\n",
       "indus        2.056e-02  6.150e-02   0.334 0.738288    \n",
       "chas         2.687e+00  8.616e-01   3.118 0.001925 ** \n",
       "nox         -1.777e+01  3.820e+00  -4.651 4.25e-06 ***\n",
       "rm           3.810e+00  4.179e-01   9.116  < 2e-16 ***\n",
       "age          6.922e-04  1.321e-02   0.052 0.958229    \n",
       "dis         -1.476e+00  1.995e-01  -7.398 6.01e-13 ***\n",
       "rad          3.060e-01  6.635e-02   4.613 5.07e-06 ***\n",
       "tax         -1.233e-02  3.760e-03  -3.280 0.001112 ** \n",
       "ptratio     -9.527e-01  1.308e-01  -7.283 1.31e-12 ***\n",
       "black        9.312e-03  2.686e-03   3.467 0.000573 ***\n",
       "lstat       -5.248e-01  5.072e-02 -10.347  < 2e-16 ***\n",
       "---\n",
       "Signif. codes:  0 '***' 0.001 '**' 0.01 '*' 0.05 '.' 0.1 ' ' 1\n",
       "\n",
       "Residual standard error: 4.745 on 492 degrees of freedom\n",
       "Multiple R-squared:  0.7406,\tAdjusted R-squared:  0.7338 \n",
       "F-statistic: 108.1 on 13 and 492 DF,  p-value: < 2.2e-16\n"
      ]
     },
     "metadata": {},
     "output_type": "display_data"
    }
   ],
   "source": [
    "fit.lm1 <- lm(medv~.,data = Boston)\n",
    "summary(fit.lm1)"
   ]
  },
  {
   "cell_type": "markdown",
   "metadata": {},
   "source": [
    "Existe una situación extrema, llamada multicolinealidad, en la que existe colinealidad entre tres o más variables aunque ningún par de variables tenga una correlación particularmente alta. Esto significa que hay redundancia entre las variables predictoras.\n",
    "\n",
    "En presencia de multicolinealidad, la solución del modelo de regresión se vuelve inestable.\n",
    "\n",
    "Para un predictor dado (p), la multicolinealidad puede evaluarse calculando una puntuación llamada factor de inflación de varianza (o VIF), que mide en qué medida se infla la varianza de un coeficiente de regresión debido a la multicolinealidad en el modelo."
   ]
  },
  {
   "cell_type": "code",
   "execution_count": 45,
   "metadata": {},
   "outputs": [
    {
     "data": {
      "text/html": [
       "<dl class=dl-horizontal>\n",
       "\t<dt>crim</dt>\n",
       "\t\t<dd>1.79219154743324</dd>\n",
       "\t<dt>zn</dt>\n",
       "\t\t<dd>2.29875817874944</dd>\n",
       "\t<dt>indus</dt>\n",
       "\t\t<dd>3.99159641834602</dd>\n",
       "\t<dt>chas</dt>\n",
       "\t\t<dd>1.07399532755379</dd>\n",
       "\t<dt>nox</dt>\n",
       "\t\t<dd>4.39371984757748</dd>\n",
       "\t<dt>rm</dt>\n",
       "\t\t<dd>1.93374443578326</dd>\n",
       "\t<dt>age</dt>\n",
       "\t\t<dd>3.10082551281533</dd>\n",
       "\t<dt>dis</dt>\n",
       "\t\t<dd>3.95594490637272</dd>\n",
       "\t<dt>rad</dt>\n",
       "\t\t<dd>7.48449633527445</dd>\n",
       "\t<dt>tax</dt>\n",
       "\t\t<dd>9.00855394759706</dd>\n",
       "\t<dt>ptratio</dt>\n",
       "\t\t<dd>1.79908404924889</dd>\n",
       "\t<dt>black</dt>\n",
       "\t\t<dd>1.34852107640637</dd>\n",
       "\t<dt>lstat</dt>\n",
       "\t\t<dd>2.94149107809193</dd>\n",
       "</dl>\n"
      ],
      "text/latex": [
       "\\begin{description*}\n",
       "\\item[crim] 1.79219154743324\n",
       "\\item[zn] 2.29875817874944\n",
       "\\item[indus] 3.99159641834602\n",
       "\\item[chas] 1.07399532755379\n",
       "\\item[nox] 4.39371984757748\n",
       "\\item[rm] 1.93374443578326\n",
       "\\item[age] 3.10082551281533\n",
       "\\item[dis] 3.95594490637272\n",
       "\\item[rad] 7.48449633527445\n",
       "\\item[tax] 9.00855394759706\n",
       "\\item[ptratio] 1.79908404924889\n",
       "\\item[black] 1.34852107640637\n",
       "\\item[lstat] 2.94149107809193\n",
       "\\end{description*}\n"
      ],
      "text/markdown": [
       "crim\n",
       ":   1.79219154743324zn\n",
       ":   2.29875817874944indus\n",
       ":   3.99159641834602chas\n",
       ":   1.07399532755379nox\n",
       ":   4.39371984757748rm\n",
       ":   1.93374443578326age\n",
       ":   3.10082551281533dis\n",
       ":   3.95594490637272rad\n",
       ":   7.48449633527445tax\n",
       ":   9.00855394759706ptratio\n",
       ":   1.79908404924889black\n",
       ":   1.34852107640637lstat\n",
       ":   2.94149107809193\n",
       "\n"
      ],
      "text/plain": [
       "    crim       zn    indus     chas      nox       rm      age      dis \n",
       "1.792192 2.298758 3.991596 1.073995 4.393720 1.933744 3.100826 3.955945 \n",
       "     rad      tax  ptratio    black    lstat \n",
       "7.484496 9.008554 1.799084 1.348521 2.941491 "
      ]
     },
     "metadata": {},
     "output_type": "display_data"
    }
   ],
   "source": [
    "library(car)\n",
    "vif(fit.lm1)"
   ]
  },
  {
   "cell_type": "markdown",
   "metadata": {},
   "source": [
    "Vemos que TAX y RAD tienen un problema de multicolinealidad, pero podriamos agregar RAD ya que el valor VIF no es tan alto como TAX"
   ]
  },
  {
   "cell_type": "code",
   "execution_count": 46,
   "metadata": {},
   "outputs": [
    {
     "data": {
      "text/plain": [
       "\n",
       "Call:\n",
       "lm(formula = medv ~ crim + zn + chas + nox + rm + rad + dis + \n",
       "    ptratio + black + lstat, data = Boston)\n",
       "\n",
       "Residuals:\n",
       "     Min       1Q   Median       3Q      Max \n",
       "-16.2609  -2.9888  -0.5083   1.8041  26.2482 \n",
       "\n",
       "Coefficients:\n",
       "              Estimate Std. Error t value Pr(>|t|)    \n",
       "(Intercept)  34.712342   5.102742   6.803 2.97e-11 ***\n",
       "crim         -0.104843   0.033132  -3.164 0.001650 ** \n",
       "zn            0.036634   0.013412   2.731 0.006532 ** \n",
       "chas          2.967868   0.860830   3.448 0.000614 ***\n",
       "nox         -20.314416   3.472292  -5.850 8.92e-09 ***\n",
       "rm            3.977104   0.407731   9.754  < 2e-16 ***\n",
       "rad           0.128761   0.040788   3.157 0.001692 ** \n",
       "dis          -1.429370   0.186922  -7.647 1.08e-13 ***\n",
       "ptratio      -1.014914   0.129006  -7.867 2.30e-14 ***\n",
       "black         0.009700   0.002701   3.591 0.000363 ***\n",
       "lstat        -0.528147   0.047930 -11.019  < 2e-16 ***\n",
       "---\n",
       "Signif. codes:  0 '***' 0.001 '**' 0.01 '*' 0.05 '.' 0.1 ' ' 1\n",
       "\n",
       "Residual standard error: 4.79 on 495 degrees of freedom\n",
       "Multiple R-squared:  0.7342,\tAdjusted R-squared:  0.7288 \n",
       "F-statistic: 136.7 on 10 and 495 DF,  p-value: < 2.2e-16\n"
      ]
     },
     "metadata": {},
     "output_type": "display_data"
    }
   ],
   "source": [
    "fit.lm2 <- lm(formula = medv ~ crim + zn + chas + nox + rm + rad + dis + ptratio + black + lstat, data = Boston)\n",
    "summary(fit.lm2)"
   ]
  },
  {
   "cell_type": "markdown",
   "metadata": {},
   "source": [
    "También vimos que la variable de salida MEDV estaba inclinada hacia la derecha. Si aplicamos un log a la variable normalizaría la distribución de MEDV. Vamos a realizar lm con log(MEDV) como resultado y todas las características anteriores como entrada."
   ]
  },
  {
   "cell_type": "code",
   "execution_count": 47,
   "metadata": {},
   "outputs": [
    {
     "data": {
      "image/png": "[encoded data removed]",
      "text/plain": [
       "plot without title"
      ]
     },
     "metadata": {},
     "output_type": "display_data"
    }
   ],
   "source": [
    "ggplot(Boston, aes(x=log(medv))) + \n",
    "    geom_histogram(aes(y=..density..), binwidth=1, colour=\"black\", fill=\"white\") +\n",
    "    geom_density(alpha=.2, fill=\"#FF6666\")"
   ]
  },
  {
   "cell_type": "code",
   "execution_count": 48,
   "metadata": {},
   "outputs": [
    {
     "data": {
      "text/plain": [
       "\n",
       "Call:\n",
       "lm(formula = log(medv) ~ crim + zn + chas + nox + rm + rad + \n",
       "    dis + ptratio + black + lstat, data = Boston)\n",
       "\n",
       "Residuals:\n",
       "     Min       1Q   Median       3Q      Max \n",
       "-0.73447 -0.10493 -0.01084  0.09297  0.87348 \n",
       "\n",
       "Coefficients:\n",
       "              Estimate Std. Error t value Pr(>|t|)    \n",
       "(Intercept)  4.0065321  0.2054382  19.502  < 2e-16 ***\n",
       "crim        -0.0101496  0.0013339  -7.609 1.41e-13 ***\n",
       "zn           0.0006511  0.0005400   1.206 0.228470    \n",
       "chas         0.1169498  0.0346573   3.374 0.000798 ***\n",
       "nox         -0.8609244  0.1397957  -6.158 1.52e-09 ***\n",
       "rm           0.0989867  0.0164154   6.030 3.21e-09 ***\n",
       "rad          0.0053533  0.0016421   3.260 0.001191 ** \n",
       "dis         -0.0487057  0.0075256  -6.472 2.33e-10 ***\n",
       "ptratio     -0.0406652  0.0051938  -7.830 3.00e-14 ***\n",
       "black        0.0004321  0.0001088   3.973 8.15e-05 ***\n",
       "lstat       -0.0288688  0.0019297 -14.960  < 2e-16 ***\n",
       "---\n",
       "Signif. codes:  0 '***' 0.001 '**' 0.01 '*' 0.05 '.' 0.1 ' ' 1\n",
       "\n",
       "Residual standard error: 0.1928 on 495 degrees of freedom\n",
       "Multiple R-squared:  0.7819,\tAdjusted R-squared:  0.7775 \n",
       "F-statistic: 177.4 on 10 and 495 DF,  p-value: < 2.2e-16\n"
      ]
     },
     "metadata": {},
     "output_type": "display_data"
    }
   ],
   "source": [
    "fit.lm3 <- lm(formula = log(medv) ~ crim + zn + chas + nox + rm + rad + dis + ptratio + black + lstat, data = Boston)\n",
    "summary(fit.lm3)"
   ]
  },
  {
   "cell_type": "markdown",
   "metadata": {},
   "source": [
    "Vemos una mejoria significativa en R^2"
   ]
  },
  {
   "cell_type": "markdown",
   "metadata": {},
   "source": [
    "Ahora aplicaremos una estrategia stepwise para ver cuales son las mejoras variables predictoras, y comparar con el analisis hecho previamente."
   ]
  },
  {
   "cell_type": "code",
   "execution_count": 49,
   "metadata": {},
   "outputs": [
    {
     "name": "stdout",
     "output_type": "stream",
     "text": [
      "Start:  AIC=1589.64\n",
      "medv ~ crim + zn + indus + chas + nox + rm + age + dis + rad + \n",
      "    tax + ptratio + black + lstat\n",
      "\n",
      "          Df Sum of Sq   RSS    AIC\n",
      "- age      1      0.06 11079 1587.7\n",
      "- indus    1      2.52 11081 1587.8\n",
      "<none>                 11079 1589.6\n",
      "- chas     1    218.97 11298 1597.5\n",
      "- tax      1    242.26 11321 1598.6\n",
      "- crim     1    243.22 11322 1598.6\n",
      "- zn       1    257.49 11336 1599.3\n",
      "- black    1    270.63 11349 1599.8\n",
      "- rad      1    479.15 11558 1609.1\n",
      "- nox      1    487.16 11566 1609.4\n",
      "- ptratio  1   1194.23 12273 1639.4\n",
      "- dis      1   1232.41 12311 1641.0\n",
      "- rm       1   1871.32 12950 1666.6\n",
      "- lstat    1   2410.84 13490 1687.3\n",
      "\n",
      "Step:  AIC=1587.65\n",
      "medv ~ crim + zn + indus + chas + nox + rm + dis + rad + tax + \n",
      "    ptratio + black + lstat\n",
      "\n",
      "          Df Sum of Sq   RSS    AIC\n",
      "- indus    1      2.52 11081 1585.8\n",
      "<none>                 11079 1587.7\n",
      "+ age      1      0.06 11079 1589.6\n",
      "- chas     1    219.91 11299 1595.6\n",
      "- tax      1    242.24 11321 1596.6\n",
      "- crim     1    243.20 11322 1596.6\n",
      "- zn       1    260.32 11339 1597.4\n",
      "- black    1    272.26 11351 1597.9\n",
      "- rad      1    481.09 11560 1607.2\n",
      "- nox      1    520.87 11600 1608.9\n",
      "- ptratio  1   1200.23 12279 1637.7\n",
      "- dis      1   1352.26 12431 1643.9\n",
      "- rm       1   1959.55 13038 1668.0\n",
      "- lstat    1   2718.88 13798 1696.7\n",
      "\n",
      "Step:  AIC=1585.76\n",
      "medv ~ crim + zn + chas + nox + rm + dis + rad + tax + ptratio + \n",
      "    black + lstat\n",
      "\n",
      "          Df Sum of Sq   RSS    AIC\n",
      "<none>                 11081 1585.8\n",
      "+ indus    1      2.52 11079 1587.7\n",
      "+ age      1      0.06 11081 1587.8\n",
      "- chas     1    227.21 11309 1594.0\n",
      "- crim     1    245.37 11327 1594.8\n",
      "- zn       1    257.82 11339 1595.4\n",
      "- black    1    270.82 11352 1596.0\n",
      "- tax      1    273.62 11355 1596.1\n",
      "- rad      1    500.92 11582 1606.1\n",
      "- nox      1    541.91 11623 1607.9\n",
      "- ptratio  1   1206.45 12288 1636.0\n",
      "- dis      1   1448.94 12530 1645.9\n",
      "- rm       1   1963.66 13045 1666.3\n",
      "- lstat    1   2723.48 13805 1695.0\n"
     ]
    },
    {
     "data": {
      "text/plain": [
       "\n",
       "Call:\n",
       "lm(formula = medv ~ crim + zn + chas + nox + rm + dis + rad + \n",
       "    tax + ptratio + black + lstat, data = Boston)\n",
       "\n",
       "Residuals:\n",
       "     Min       1Q   Median       3Q      Max \n",
       "-15.5984  -2.7386  -0.5046   1.7273  26.2373 \n",
       "\n",
       "Coefficients:\n",
       "              Estimate Std. Error t value Pr(>|t|)    \n",
       "(Intercept)  36.341145   5.067492   7.171 2.73e-12 ***\n",
       "crim         -0.108413   0.032779  -3.307 0.001010 ** \n",
       "zn            0.045845   0.013523   3.390 0.000754 ***\n",
       "chas          2.718716   0.854240   3.183 0.001551 ** \n",
       "nox         -17.376023   3.535243  -4.915 1.21e-06 ***\n",
       "rm            3.801579   0.406316   9.356  < 2e-16 ***\n",
       "dis          -1.492711   0.185731  -8.037 6.84e-15 ***\n",
       "rad           0.299608   0.063402   4.726 3.00e-06 ***\n",
       "tax          -0.011778   0.003372  -3.493 0.000521 ***\n",
       "ptratio      -0.946525   0.129066  -7.334 9.24e-13 ***\n",
       "black         0.009291   0.002674   3.475 0.000557 ***\n",
       "lstat        -0.522553   0.047424 -11.019  < 2e-16 ***\n",
       "---\n",
       "Signif. codes:  0 '***' 0.001 '**' 0.01 '*' 0.05 '.' 0.1 ' ' 1\n",
       "\n",
       "Residual standard error: 4.736 on 494 degrees of freedom\n",
       "Multiple R-squared:  0.7406,\tAdjusted R-squared:  0.7348 \n",
       "F-statistic: 128.2 on 11 and 494 DF,  p-value: < 2.2e-16\n"
      ]
     },
     "metadata": {},
     "output_type": "display_data"
    }
   ],
   "source": [
    "full.model <- lm(medv ~., data = Boston)\n",
    "step.model <- stepAIC(full.model, direction = \"both\")\n",
    "summary(step.model)"
   ]
  },
  {
   "cell_type": "markdown",
   "metadata": {},
   "source": [
    "Analizando la suma de cuadrados residual (RSS), el modelo fit.lm3 es el que mejor resultado nos ha dado. Un RSS más pequeño significa que el modelo se ajusta bien a los datos. Pero tambien podriamos ajustarlos demasiado y estariamos en el caso de un overfitting. También podemos ver que tenemos un kappa relativamente más para este último en comparación con los otros modelos pero igual al fit.lm2, pero en este caso este último gana por tener un RSS más bajo."
   ]
  },
  {
   "cell_type": "code",
   "execution_count": 50,
   "metadata": {},
   "outputs": [
    {
     "data": {
      "text/html": [
       "<table>\n",
       "<caption>A anova: 2 × 6</caption>\n",
       "<thead>\n",
       "\t<tr><th scope=col>Res.Df</th><th scope=col>RSS</th><th scope=col>Df</th><th scope=col>Sum of Sq</th><th scope=col>F</th><th scope=col>Pr(&gt;F)</th></tr>\n",
       "\t<tr><th scope=col>&lt;dbl&gt;</th><th scope=col>&lt;dbl&gt;</th><th scope=col>&lt;dbl&gt;</th><th scope=col>&lt;dbl&gt;</th><th scope=col>&lt;dbl&gt;</th><th scope=col>&lt;dbl&gt;</th></tr>\n",
       "</thead>\n",
       "<tbody>\n",
       "\t<tr><td>492</td><td>11078.78</td><td>NA</td><td>       NA</td><td>      NA</td><td>         NA</td></tr>\n",
       "\t<tr><td>495</td><td>11354.98</td><td>-3</td><td>-276.1987</td><td>4.088587</td><td>0.006958473</td></tr>\n",
       "</tbody>\n",
       "</table>\n"
      ],
      "text/latex": [
       "A anova: 2 × 6\n",
       "\\begin{tabular}{r|llllll}\n",
       " Res.Df & RSS & Df & Sum of Sq & F & Pr(>F)\\\\\n",
       " <dbl> & <dbl> & <dbl> & <dbl> & <dbl> & <dbl>\\\\\n",
       "\\hline\n",
       "\t 492 & 11078.78 & NA &        NA &       NA &          NA\\\\\n",
       "\t 495 & 11354.98 & -3 & -276.1987 & 4.088587 & 0.006958473\\\\\n",
       "\\end{tabular}\n"
      ],
      "text/markdown": [
       "\n",
       "A anova: 2 × 6\n",
       "\n",
       "| Res.Df &lt;dbl&gt; | RSS &lt;dbl&gt; | Df &lt;dbl&gt; | Sum of Sq &lt;dbl&gt; | F &lt;dbl&gt; | Pr(&gt;F) &lt;dbl&gt; |\n",
       "|---|---|---|---|---|---|\n",
       "| 492 | 11078.78 | NA |        NA |       NA |          NA |\n",
       "| 495 | 11354.98 | -3 | -276.1987 | 4.088587 | 0.006958473 |\n",
       "\n"
      ],
      "text/plain": [
       "  Res.Df RSS      Df Sum of Sq F        Pr(>F)     \n",
       "1 492    11078.78 NA        NA       NA          NA\n",
       "2 495    11354.98 -3 -276.1987 4.088587 0.006958473"
      ]
     },
     "metadata": {},
     "output_type": "display_data"
    },
    {
     "data": {
      "text/html": [
       "11177.6358642345"
      ],
      "text/latex": [
       "11177.6358642345"
      ],
      "text/markdown": [
       "11177.6358642345"
      ],
      "text/plain": [
       "[1] 11177.64"
      ]
     },
     "metadata": {},
     "output_type": "display_data"
    },
    {
     "data": {
      "text/html": [
       "7862.93602505153"
      ],
      "text/latex": [
       "7862.93602505153"
      ],
      "text/markdown": [
       "7862.93602505153"
      ],
      "text/plain": [
       "[1] 7862.936"
      ]
     },
     "metadata": {},
     "output_type": "display_data"
    }
   ],
   "source": [
    "anova(fit.lm1, fit.lm2)\n",
    "lm1.medv<-model.matrix(fit.lm1)\n",
    "lm2.medv<-model.matrix(fit.lm2)\n",
    "kappa(lm1.medv)\n",
    "kappa(lm2.medv)"
   ]
  },
  {
   "cell_type": "code",
   "execution_count": 51,
   "metadata": {},
   "outputs": [
    {
     "data": {
      "text/html": [
       "<table>\n",
       "<caption>A anova: 12 × 5</caption>\n",
       "<thead>\n",
       "\t<tr><th></th><th scope=col>Df</th><th scope=col>Sum Sq</th><th scope=col>Mean Sq</th><th scope=col>F value</th><th scope=col>Pr(&gt;F)</th></tr>\n",
       "\t<tr><th></th><th scope=col>&lt;int&gt;</th><th scope=col>&lt;dbl&gt;</th><th scope=col>&lt;dbl&gt;</th><th scope=col>&lt;dbl&gt;</th><th scope=col>&lt;dbl&gt;</th></tr>\n",
       "</thead>\n",
       "<tbody>\n",
       "\t<tr><th scope=row>crim</th><td>  1</td><td> 6440.78306</td><td> 6440.78306</td><td>287.12592</td><td>4.160491e-51</td></tr>\n",
       "\t<tr><th scope=row>zn</th><td>  1</td><td> 3554.33620</td><td> 3554.33620</td><td>158.45000</td><td>1.039646e-31</td></tr>\n",
       "\t<tr><th scope=row>chas</th><td>  1</td><td> 1233.79102</td><td> 1233.79102</td><td> 55.00160</td><td>5.281929e-13</td></tr>\n",
       "\t<tr><th scope=row>nox</th><td>  1</td><td> 1592.39211</td><td> 1592.39211</td><td> 70.98780</td><td>3.947261e-16</td></tr>\n",
       "\t<tr><th scope=row>rm</th><td>  1</td><td>12090.95685</td><td>12090.95685</td><td>539.00699</td><td>3.650590e-81</td></tr>\n",
       "\t<tr><th scope=row>dis</th><td>  1</td><td> 1122.01388</td><td> 1122.01388</td><td> 50.01865</td><td>5.233504e-12</td></tr>\n",
       "\t<tr><th scope=row>rad</th><td>  1</td><td>   97.53014</td><td>   97.53014</td><td>  4.34783</td><td>3.756894e-02</td></tr>\n",
       "\t<tr><th scope=row>tax</th><td>  1</td><td>  669.32437</td><td>  669.32437</td><td> 29.83805</td><td>7.455990e-08</td></tr>\n",
       "\t<tr><th scope=row>ptratio</th><td>  1</td><td> 1519.74762</td><td> 1519.74762</td><td> 67.74936</td><td>1.665508e-15</td></tr>\n",
       "\t<tr><th scope=row>black</th><td>  1</td><td>  590.57250</td><td>  590.57250</td><td> 26.32734</td><td>4.148636e-07</td></tr>\n",
       "\t<tr><th scope=row>lstat</th><td>  1</td><td> 2723.48373</td><td> 2723.48373</td><td>121.41113</td><td>2.140586e-25</td></tr>\n",
       "\t<tr><th scope=row>Residuals</th><td>494</td><td>11081.36395</td><td>   22.43191</td><td>       NA</td><td>          NA</td></tr>\n",
       "</tbody>\n",
       "</table>\n"
      ],
      "text/latex": [
       "A anova: 12 × 5\n",
       "\\begin{tabular}{r|lllll}\n",
       "  & Df & Sum Sq & Mean Sq & F value & Pr(>F)\\\\\n",
       "  & <int> & <dbl> & <dbl> & <dbl> & <dbl>\\\\\n",
       "\\hline\n",
       "\tcrim &   1 &  6440.78306 &  6440.78306 & 287.12592 & 4.160491e-51\\\\\n",
       "\tzn &   1 &  3554.33620 &  3554.33620 & 158.45000 & 1.039646e-31\\\\\n",
       "\tchas &   1 &  1233.79102 &  1233.79102 &  55.00160 & 5.281929e-13\\\\\n",
       "\tnox &   1 &  1592.39211 &  1592.39211 &  70.98780 & 3.947261e-16\\\\\n",
       "\trm &   1 & 12090.95685 & 12090.95685 & 539.00699 & 3.650590e-81\\\\\n",
       "\tdis &   1 &  1122.01388 &  1122.01388 &  50.01865 & 5.233504e-12\\\\\n",
       "\trad &   1 &    97.53014 &    97.53014 &   4.34783 & 3.756894e-02\\\\\n",
       "\ttax &   1 &   669.32437 &   669.32437 &  29.83805 & 7.455990e-08\\\\\n",
       "\tptratio &   1 &  1519.74762 &  1519.74762 &  67.74936 & 1.665508e-15\\\\\n",
       "\tblack &   1 &   590.57250 &   590.57250 &  26.32734 & 4.148636e-07\\\\\n",
       "\tlstat &   1 &  2723.48373 &  2723.48373 & 121.41113 & 2.140586e-25\\\\\n",
       "\tResiduals & 494 & 11081.36395 &    22.43191 &        NA &           NA\\\\\n",
       "\\end{tabular}\n"
      ],
      "text/markdown": [
       "\n",
       "A anova: 12 × 5\n",
       "\n",
       "| <!--/--> | Df &lt;int&gt; | Sum Sq &lt;dbl&gt; | Mean Sq &lt;dbl&gt; | F value &lt;dbl&gt; | Pr(&gt;F) &lt;dbl&gt; |\n",
       "|---|---|---|---|---|---|\n",
       "| crim |   1 |  6440.78306 |  6440.78306 | 287.12592 | 4.160491e-51 |\n",
       "| zn |   1 |  3554.33620 |  3554.33620 | 158.45000 | 1.039646e-31 |\n",
       "| chas |   1 |  1233.79102 |  1233.79102 |  55.00160 | 5.281929e-13 |\n",
       "| nox |   1 |  1592.39211 |  1592.39211 |  70.98780 | 3.947261e-16 |\n",
       "| rm |   1 | 12090.95685 | 12090.95685 | 539.00699 | 3.650590e-81 |\n",
       "| dis |   1 |  1122.01388 |  1122.01388 |  50.01865 | 5.233504e-12 |\n",
       "| rad |   1 |    97.53014 |    97.53014 |   4.34783 | 3.756894e-02 |\n",
       "| tax |   1 |   669.32437 |   669.32437 |  29.83805 | 7.455990e-08 |\n",
       "| ptratio |   1 |  1519.74762 |  1519.74762 |  67.74936 | 1.665508e-15 |\n",
       "| black |   1 |   590.57250 |   590.57250 |  26.32734 | 4.148636e-07 |\n",
       "| lstat |   1 |  2723.48373 |  2723.48373 | 121.41113 | 2.140586e-25 |\n",
       "| Residuals | 494 | 11081.36395 |    22.43191 |        NA |           NA |\n",
       "\n"
      ],
      "text/plain": [
       "          Df  Sum Sq      Mean Sq     F value   Pr(>F)      \n",
       "crim        1  6440.78306  6440.78306 287.12592 4.160491e-51\n",
       "zn          1  3554.33620  3554.33620 158.45000 1.039646e-31\n",
       "chas        1  1233.79102  1233.79102  55.00160 5.281929e-13\n",
       "nox         1  1592.39211  1592.39211  70.98780 3.947261e-16\n",
       "rm          1 12090.95685 12090.95685 539.00699 3.650590e-81\n",
       "dis         1  1122.01388  1122.01388  50.01865 5.233504e-12\n",
       "rad         1    97.53014    97.53014   4.34783 3.756894e-02\n",
       "tax         1   669.32437   669.32437  29.83805 7.455990e-08\n",
       "ptratio     1  1519.74762  1519.74762  67.74936 1.665508e-15\n",
       "black       1   590.57250   590.57250  26.32734 4.148636e-07\n",
       "lstat       1  2723.48373  2723.48373 121.41113 2.140586e-25\n",
       "Residuals 494 11081.36395    22.43191        NA           NA"
      ]
     },
     "metadata": {},
     "output_type": "display_data"
    },
    {
     "data": {
      "text/html": [
       "11806.7650221269"
      ],
      "text/latex": [
       "11806.7650221269"
      ],
      "text/markdown": [
       "11806.7650221269"
      ],
      "text/plain": [
       "[1] 11806.77"
      ]
     },
     "metadata": {},
     "output_type": "display_data"
    }
   ],
   "source": [
    "anova(step.model)\n",
    "step.model.medv<-model.matrix(step.model)\n",
    "kappa(step.model.medv)"
   ]
  },
  {
   "cell_type": "code",
   "execution_count": 52,
   "metadata": {},
   "outputs": [
    {
     "data": {
      "text/html": [
       "<table>\n",
       "<caption>A anova: 11 × 5</caption>\n",
       "<thead>\n",
       "\t<tr><th></th><th scope=col>Df</th><th scope=col>Sum Sq</th><th scope=col>Mean Sq</th><th scope=col>F value</th><th scope=col>Pr(&gt;F)</th></tr>\n",
       "\t<tr><th></th><th scope=col>&lt;int&gt;</th><th scope=col>&lt;dbl&gt;</th><th scope=col>&lt;dbl&gt;</th><th scope=col>&lt;dbl&gt;</th><th scope=col>&lt;dbl&gt;</th></tr>\n",
       "</thead>\n",
       "<tbody>\n",
       "\t<tr><th scope=row>crim</th><td>  1</td><td>23.5180380</td><td>23.51803797</td><td>632.50604</td><td>1.565413e-90</td></tr>\n",
       "\t<tr><th scope=row>zn</th><td>  1</td><td> 5.8292814</td><td> 5.82928139</td><td>156.77565</td><td>1.934686e-31</td></tr>\n",
       "\t<tr><th scope=row>chas</th><td>  1</td><td> 1.7449751</td><td> 1.74497512</td><td> 46.93025</td><td>2.191224e-11</td></tr>\n",
       "\t<tr><th scope=row>nox</th><td>  1</td><td> 4.6805467</td><td> 4.68054671</td><td>125.88100</td><td>3.489692e-26</td></tr>\n",
       "\t<tr><th scope=row>rm</th><td>  1</td><td>15.9541430</td><td>15.95414305</td><td>429.07881</td><td>4.186083e-69</td></tr>\n",
       "\t<tr><th scope=row>rad</th><td>  1</td><td> 0.2198802</td><td> 0.21988020</td><td>  5.91357</td><td>1.537836e-02</td></tr>\n",
       "\t<tr><th scope=row>dis</th><td>  1</td><td> 1.1070782</td><td> 1.10707821</td><td> 29.77432</td><td>7.683825e-08</td></tr>\n",
       "\t<tr><th scope=row>ptratio</th><td>  1</td><td> 3.1470927</td><td> 3.14709274</td><td> 84.63951</td><td>1.000988e-18</td></tr>\n",
       "\t<tr><th scope=row>black</th><td>  1</td><td> 1.4484160</td><td> 1.44841598</td><td> 38.95443</td><td>9.330757e-10</td></tr>\n",
       "\t<tr><th scope=row>lstat</th><td>  1</td><td> 8.3217955</td><td> 8.32179549</td><td>223.81059</td><td>5.111872e-42</td></tr>\n",
       "\t<tr><th scope=row>Residuals</th><td>495</td><td>18.4052453</td><td> 0.03718231</td><td>       NA</td><td>          NA</td></tr>\n",
       "</tbody>\n",
       "</table>\n"
      ],
      "text/latex": [
       "A anova: 11 × 5\n",
       "\\begin{tabular}{r|lllll}\n",
       "  & Df & Sum Sq & Mean Sq & F value & Pr(>F)\\\\\n",
       "  & <int> & <dbl> & <dbl> & <dbl> & <dbl>\\\\\n",
       "\\hline\n",
       "\tcrim &   1 & 23.5180380 & 23.51803797 & 632.50604 & 1.565413e-90\\\\\n",
       "\tzn &   1 &  5.8292814 &  5.82928139 & 156.77565 & 1.934686e-31\\\\\n",
       "\tchas &   1 &  1.7449751 &  1.74497512 &  46.93025 & 2.191224e-11\\\\\n",
       "\tnox &   1 &  4.6805467 &  4.68054671 & 125.88100 & 3.489692e-26\\\\\n",
       "\trm &   1 & 15.9541430 & 15.95414305 & 429.07881 & 4.186083e-69\\\\\n",
       "\trad &   1 &  0.2198802 &  0.21988020 &   5.91357 & 1.537836e-02\\\\\n",
       "\tdis &   1 &  1.1070782 &  1.10707821 &  29.77432 & 7.683825e-08\\\\\n",
       "\tptratio &   1 &  3.1470927 &  3.14709274 &  84.63951 & 1.000988e-18\\\\\n",
       "\tblack &   1 &  1.4484160 &  1.44841598 &  38.95443 & 9.330757e-10\\\\\n",
       "\tlstat &   1 &  8.3217955 &  8.32179549 & 223.81059 & 5.111872e-42\\\\\n",
       "\tResiduals & 495 & 18.4052453 &  0.03718231 &        NA &           NA\\\\\n",
       "\\end{tabular}\n"
      ],
      "text/markdown": [
       "\n",
       "A anova: 11 × 5\n",
       "\n",
       "| <!--/--> | Df &lt;int&gt; | Sum Sq &lt;dbl&gt; | Mean Sq &lt;dbl&gt; | F value &lt;dbl&gt; | Pr(&gt;F) &lt;dbl&gt; |\n",
       "|---|---|---|---|---|---|\n",
       "| crim |   1 | 23.5180380 | 23.51803797 | 632.50604 | 1.565413e-90 |\n",
       "| zn |   1 |  5.8292814 |  5.82928139 | 156.77565 | 1.934686e-31 |\n",
       "| chas |   1 |  1.7449751 |  1.74497512 |  46.93025 | 2.191224e-11 |\n",
       "| nox |   1 |  4.6805467 |  4.68054671 | 125.88100 | 3.489692e-26 |\n",
       "| rm |   1 | 15.9541430 | 15.95414305 | 429.07881 | 4.186083e-69 |\n",
       "| rad |   1 |  0.2198802 |  0.21988020 |   5.91357 | 1.537836e-02 |\n",
       "| dis |   1 |  1.1070782 |  1.10707821 |  29.77432 | 7.683825e-08 |\n",
       "| ptratio |   1 |  3.1470927 |  3.14709274 |  84.63951 | 1.000988e-18 |\n",
       "| black |   1 |  1.4484160 |  1.44841598 |  38.95443 | 9.330757e-10 |\n",
       "| lstat |   1 |  8.3217955 |  8.32179549 | 223.81059 | 5.111872e-42 |\n",
       "| Residuals | 495 | 18.4052453 |  0.03718231 |        NA |           NA |\n",
       "\n"
      ],
      "text/plain": [
       "          Df  Sum Sq     Mean Sq     F value   Pr(>F)      \n",
       "crim        1 23.5180380 23.51803797 632.50604 1.565413e-90\n",
       "zn          1  5.8292814  5.82928139 156.77565 1.934686e-31\n",
       "chas        1  1.7449751  1.74497512  46.93025 2.191224e-11\n",
       "nox         1  4.6805467  4.68054671 125.88100 3.489692e-26\n",
       "rm          1 15.9541430 15.95414305 429.07881 4.186083e-69\n",
       "rad         1  0.2198802  0.21988020   5.91357 1.537836e-02\n",
       "dis         1  1.1070782  1.10707821  29.77432 7.683825e-08\n",
       "ptratio     1  3.1470927  3.14709274  84.63951 1.000988e-18\n",
       "black       1  1.4484160  1.44841598  38.95443 9.330757e-10\n",
       "lstat       1  8.3217955  8.32179549 223.81059 5.111872e-42\n",
       "Residuals 495 18.4052453  0.03718231        NA           NA"
      ]
     },
     "metadata": {},
     "output_type": "display_data"
    },
    {
     "data": {
      "text/html": [
       "7862.93602505153"
      ],
      "text/latex": [
       "7862.93602505153"
      ],
      "text/markdown": [
       "7862.93602505153"
      ],
      "text/plain": [
       "[1] 7862.936"
      ]
     },
     "metadata": {},
     "output_type": "display_data"
    }
   ],
   "source": [
    "anova(fit.lm3)\n",
    "lm3.medv<-model.matrix(fit.lm3)\n",
    "kappa(lm3.medv)"
   ]
  },
  {
   "cell_type": "markdown",
   "metadata": {},
   "source": [
    "### Homework 1 (parte 2)"
   ]
  },
  {
   "cell_type": "code",
   "execution_count": 58,
   "metadata": {},
   "outputs": [
    {
     "data": {
      "text/html": [
       "<table>\n",
       "<caption>A data.frame: 24 × 7</caption>\n",
       "<thead>\n",
       "\t<tr><th scope=col>y</th><th scope=col>x1</th><th scope=col>x2</th><th scope=col>x3</th><th scope=col>x4</th><th scope=col>x5</th><th scope=col>x6</th></tr>\n",
       "\t<tr><th scope=col>&lt;dbl&gt;</th><th scope=col>&lt;int&gt;</th><th scope=col>&lt;int&gt;</th><th scope=col>&lt;int&gt;</th><th scope=col>&lt;int&gt;</th><th scope=col>&lt;int&gt;</th><th scope=col>&lt;int&gt;</th></tr>\n",
       "</thead>\n",
       "<tbody>\n",
       "\t<tr><td> 9.23</td><td>468</td><td>123</td><td>246</td><td>374</td><td>386</td><td>-11</td></tr>\n",
       "\t<tr><td> 8.01</td><td>458</td><td>112</td><td>236</td><td>368</td><td>383</td><td>-15</td></tr>\n",
       "\t<tr><td>10.95</td><td>457</td><td>118</td><td>240</td><td>359</td><td>353</td><td>-16</td></tr>\n",
       "\t<tr><td>11.67</td><td>450</td><td>115</td><td>236</td><td>352</td><td>340</td><td>-15</td></tr>\n",
       "\t<tr><td>10.41</td><td>464</td><td>119</td><td>243</td><td>366</td><td>371</td><td>-16</td></tr>\n",
       "\t<tr><td> 9.51</td><td>499</td><td>147</td><td>273</td><td>404</td><td>433</td><td>  5</td></tr>\n",
       "\t<tr><td> 8.67</td><td>463</td><td>119</td><td>242</td><td>370</td><td>377</td><td>-12</td></tr>\n",
       "\t<tr><td> 7.75</td><td>462</td><td>115</td><td>238</td><td>370</td><td>353</td><td>-13</td></tr>\n",
       "\t<tr><td> 8.05</td><td>488</td><td>134</td><td>258</td><td>393</td><td>377</td><td> -5</td></tr>\n",
       "\t<tr><td>11.39</td><td>483</td><td>141</td><td>264</td><td>384</td><td>398</td><td> -2</td></tr>\n",
       "\t<tr><td> 9.95</td><td>463</td><td>120</td><td>243</td><td>367</td><td>378</td><td>-13</td></tr>\n",
       "\t<tr><td> 8.25</td><td>456</td><td>111</td><td>233</td><td>365</td><td>365</td><td>-15</td></tr>\n",
       "\t<tr><td>10.57</td><td>512</td><td>161</td><td>288</td><td>415</td><td>443</td><td> 12</td></tr>\n",
       "\t<tr><td>10.23</td><td>518</td><td>167</td><td>293</td><td>421</td><td>450</td><td> 19</td></tr>\n",
       "\t<tr><td>11.87</td><td>552</td><td>197</td><td>324</td><td>448</td><td>467</td><td> 32</td></tr>\n",
       "\t<tr><td> 8.09</td><td>497</td><td>146</td><td>271</td><td>407</td><td>451</td><td> 11</td></tr>\n",
       "\t<tr><td>12.55</td><td>592</td><td>229</td><td>360</td><td>484</td><td>524</td><td> 51</td></tr>\n",
       "\t<tr><td> 8.38</td><td>501</td><td>150</td><td>274</td><td>406</td><td>407</td><td> 11</td></tr>\n",
       "\t<tr><td> 9.64</td><td>483</td><td>137</td><td>260</td><td>385</td><td>374</td><td> -3</td></tr>\n",
       "\t<tr><td>11.35</td><td>491</td><td>147</td><td>269</td><td>389</td><td>391</td><td>  1</td></tr>\n",
       "\t<tr><td> 9.70</td><td>463</td><td>121</td><td>242</td><td>366</td><td>353</td><td>-13</td></tr>\n",
       "\t<tr><td>10.75</td><td>507</td><td>159</td><td>285</td><td>410</td><td>445</td><td> 13</td></tr>\n",
       "\t<tr><td>10.75</td><td>474</td><td>132</td><td>255</td><td>376</td><td>383</td><td> -7</td></tr>\n",
       "\t<tr><td>11.47</td><td>496</td><td>152</td><td>276</td><td>396</td><td>404</td><td>  6</td></tr>\n",
       "</tbody>\n",
       "</table>\n"
      ],
      "text/latex": [
       "A data.frame: 24 × 7\n",
       "\\begin{tabular}{r|lllllll}\n",
       " y & x1 & x2 & x3 & x4 & x5 & x6\\\\\n",
       " <dbl> & <int> & <int> & <int> & <int> & <int> & <int>\\\\\n",
       "\\hline\n",
       "\t  9.23 & 468 & 123 & 246 & 374 & 386 & -11\\\\\n",
       "\t  8.01 & 458 & 112 & 236 & 368 & 383 & -15\\\\\n",
       "\t 10.95 & 457 & 118 & 240 & 359 & 353 & -16\\\\\n",
       "\t 11.67 & 450 & 115 & 236 & 352 & 340 & -15\\\\\n",
       "\t 10.41 & 464 & 119 & 243 & 366 & 371 & -16\\\\\n",
       "\t  9.51 & 499 & 147 & 273 & 404 & 433 &   5\\\\\n",
       "\t  8.67 & 463 & 119 & 242 & 370 & 377 & -12\\\\\n",
       "\t  7.75 & 462 & 115 & 238 & 370 & 353 & -13\\\\\n",
       "\t  8.05 & 488 & 134 & 258 & 393 & 377 &  -5\\\\\n",
       "\t 11.39 & 483 & 141 & 264 & 384 & 398 &  -2\\\\\n",
       "\t  9.95 & 463 & 120 & 243 & 367 & 378 & -13\\\\\n",
       "\t  8.25 & 456 & 111 & 233 & 365 & 365 & -15\\\\\n",
       "\t 10.57 & 512 & 161 & 288 & 415 & 443 &  12\\\\\n",
       "\t 10.23 & 518 & 167 & 293 & 421 & 450 &  19\\\\\n",
       "\t 11.87 & 552 & 197 & 324 & 448 & 467 &  32\\\\\n",
       "\t  8.09 & 497 & 146 & 271 & 407 & 451 &  11\\\\\n",
       "\t 12.55 & 592 & 229 & 360 & 484 & 524 &  51\\\\\n",
       "\t  8.38 & 501 & 150 & 274 & 406 & 407 &  11\\\\\n",
       "\t  9.64 & 483 & 137 & 260 & 385 & 374 &  -3\\\\\n",
       "\t 11.35 & 491 & 147 & 269 & 389 & 391 &   1\\\\\n",
       "\t  9.70 & 463 & 121 & 242 & 366 & 353 & -13\\\\\n",
       "\t 10.75 & 507 & 159 & 285 & 410 & 445 &  13\\\\\n",
       "\t 10.75 & 474 & 132 & 255 & 376 & 383 &  -7\\\\\n",
       "\t 11.47 & 496 & 152 & 276 & 396 & 404 &   6\\\\\n",
       "\\end{tabular}\n"
      ],
      "text/markdown": [
       "\n",
       "A data.frame: 24 × 7\n",
       "\n",
       "| y &lt;dbl&gt; | x1 &lt;int&gt; | x2 &lt;int&gt; | x3 &lt;int&gt; | x4 &lt;int&gt; | x5 &lt;int&gt; | x6 &lt;int&gt; |\n",
       "|---|---|---|---|---|---|---|\n",
       "|  9.23 | 468 | 123 | 246 | 374 | 386 | -11 |\n",
       "|  8.01 | 458 | 112 | 236 | 368 | 383 | -15 |\n",
       "| 10.95 | 457 | 118 | 240 | 359 | 353 | -16 |\n",
       "| 11.67 | 450 | 115 | 236 | 352 | 340 | -15 |\n",
       "| 10.41 | 464 | 119 | 243 | 366 | 371 | -16 |\n",
       "|  9.51 | 499 | 147 | 273 | 404 | 433 |   5 |\n",
       "|  8.67 | 463 | 119 | 242 | 370 | 377 | -12 |\n",
       "|  7.75 | 462 | 115 | 238 | 370 | 353 | -13 |\n",
       "|  8.05 | 488 | 134 | 258 | 393 | 377 |  -5 |\n",
       "| 11.39 | 483 | 141 | 264 | 384 | 398 |  -2 |\n",
       "|  9.95 | 463 | 120 | 243 | 367 | 378 | -13 |\n",
       "|  8.25 | 456 | 111 | 233 | 365 | 365 | -15 |\n",
       "| 10.57 | 512 | 161 | 288 | 415 | 443 |  12 |\n",
       "| 10.23 | 518 | 167 | 293 | 421 | 450 |  19 |\n",
       "| 11.87 | 552 | 197 | 324 | 448 | 467 |  32 |\n",
       "|  8.09 | 497 | 146 | 271 | 407 | 451 |  11 |\n",
       "| 12.55 | 592 | 229 | 360 | 484 | 524 |  51 |\n",
       "|  8.38 | 501 | 150 | 274 | 406 | 407 |  11 |\n",
       "|  9.64 | 483 | 137 | 260 | 385 | 374 |  -3 |\n",
       "| 11.35 | 491 | 147 | 269 | 389 | 391 |   1 |\n",
       "|  9.70 | 463 | 121 | 242 | 366 | 353 | -13 |\n",
       "| 10.75 | 507 | 159 | 285 | 410 | 445 |  13 |\n",
       "| 10.75 | 474 | 132 | 255 | 376 | 383 |  -7 |\n",
       "| 11.47 | 496 | 152 | 276 | 396 | 404 |   6 |\n",
       "\n"
      ],
      "text/plain": [
       "   y     x1  x2  x3  x4  x5  x6 \n",
       "1   9.23 468 123 246 374 386 -11\n",
       "2   8.01 458 112 236 368 383 -15\n",
       "3  10.95 457 118 240 359 353 -16\n",
       "4  11.67 450 115 236 352 340 -15\n",
       "5  10.41 464 119 243 366 371 -16\n",
       "6   9.51 499 147 273 404 433   5\n",
       "7   8.67 463 119 242 370 377 -12\n",
       "8   7.75 462 115 238 370 353 -13\n",
       "9   8.05 488 134 258 393 377  -5\n",
       "10 11.39 483 141 264 384 398  -2\n",
       "11  9.95 463 120 243 367 378 -13\n",
       "12  8.25 456 111 233 365 365 -15\n",
       "13 10.57 512 161 288 415 443  12\n",
       "14 10.23 518 167 293 421 450  19\n",
       "15 11.87 552 197 324 448 467  32\n",
       "16  8.09 497 146 271 407 451  11\n",
       "17 12.55 592 229 360 484 524  51\n",
       "18  8.38 501 150 274 406 407  11\n",
       "19  9.64 483 137 260 385 374  -3\n",
       "20 11.35 491 147 269 389 391   1\n",
       "21  9.70 463 121 242 366 353 -13\n",
       "22 10.75 507 159 285 410 445  13\n",
       "23 10.75 474 132 255 376 383  -7\n",
       "24 11.47 496 152 276 396 404   6"
      ]
     },
     "metadata": {},
     "output_type": "display_data"
    }
   ],
   "source": [
    "fearn.train <- read.table(\"Fearn.data.1.txt\", header = TRUE, sep = \"\", dec = \".\")\n",
    "fearn.train"
   ]
  },
  {
   "cell_type": "code",
   "execution_count": 59,
   "metadata": {},
   "outputs": [
    {
     "data": {
      "text/html": [
       "<table>\n",
       "<caption>A data.frame: 26 × 7</caption>\n",
       "<thead>\n",
       "\t<tr><th scope=col>y</th><th scope=col>x1</th><th scope=col>x2</th><th scope=col>x3</th><th scope=col>x4</th><th scope=col>x5</th><th scope=col>x6</th></tr>\n",
       "\t<tr><th scope=col>&lt;dbl&gt;</th><th scope=col>&lt;int&gt;</th><th scope=col>&lt;int&gt;</th><th scope=col>&lt;int&gt;</th><th scope=col>&lt;int&gt;</th><th scope=col>&lt;int&gt;</th><th scope=col>&lt;int&gt;</th></tr>\n",
       "</thead>\n",
       "<tbody>\n",
       "\t<tr><td> 8.66</td><td>486</td><td>144</td><td>266</td><td>393</td><td>373</td><td> 26</td></tr>\n",
       "\t<tr><td> 7.90</td><td>485</td><td>136</td><td>260</td><td>393</td><td>395</td><td>  6</td></tr>\n",
       "\t<tr><td> 9.27</td><td>482</td><td>136</td><td>260</td><td>388</td><td>423</td><td> -2</td></tr>\n",
       "\t<tr><td>11.77</td><td>443</td><td>112</td><td>232</td><td>346</td><td>355</td><td>-18</td></tr>\n",
       "\t<tr><td> 9.70</td><td>478</td><td>134</td><td>257</td><td>382</td><td>390</td><td> -5</td></tr>\n",
       "\t<tr><td>10.46</td><td>449</td><td>113</td><td>233</td><td>351</td><td>343</td><td>-18</td></tr>\n",
       "\t<tr><td>10.17</td><td>461</td><td>121</td><td>243</td><td>366</td><td>378</td><td>-14</td></tr>\n",
       "\t<tr><td>11.10</td><td>503</td><td>155</td><td>280</td><td>403</td><td>414</td><td>  6</td></tr>\n",
       "\t<tr><td>12.03</td><td>493</td><td>146</td><td>271</td><td>390</td><td>378</td><td> -3</td></tr>\n",
       "\t<tr><td> 9.43</td><td>368</td><td> 40</td><td>158</td><td>275</td><td>250</td><td>-63</td></tr>\n",
       "\t<tr><td> 8.66</td><td>462</td><td>114</td><td>237</td><td>367</td><td>331</td><td>-19</td></tr>\n",
       "\t<tr><td>14.44</td><td>438</td><td>109</td><td>229</td><td>333</td><td>326</td><td>-28</td></tr>\n",
       "\t<tr><td> 8.50</td><td>478</td><td>127</td><td>252</td><td>384</td><td>378</td><td>-11</td></tr>\n",
       "\t<tr><td>10.41</td><td>405</td><td> 73</td><td>193</td><td>311</td><td>305</td><td>-44</td></tr>\n",
       "\t<tr><td> 9.72</td><td>498</td><td>146</td><td>273</td><td>403</td><td>415</td><td>  0</td></tr>\n",
       "\t<tr><td>11.69</td><td>442</td><td>106</td><td>226</td><td>341</td><td>303</td><td>-28</td></tr>\n",
       "\t<tr><td>12.19</td><td>457</td><td>118</td><td>240</td><td>354</td><td>327</td><td>-23</td></tr>\n",
       "\t<tr><td>11.59</td><td>439</td><td>103</td><td>224</td><td>339</td><td>325</td><td>-29</td></tr>\n",
       "\t<tr><td> 8.76</td><td>500</td><td>146</td><td>272</td><td>404</td><td>398</td><td>  5</td></tr>\n",
       "\t<tr><td> 8.60</td><td>427</td><td> 85</td><td>207</td><td>334</td><td>319</td><td>-36</td></tr>\n",
       "\t<tr><td> 8.54</td><td>479</td><td>128</td><td>253</td><td>384</td><td>382</td><td>-10</td></tr>\n",
       "\t<tr><td> 9.34</td><td>444</td><td>102</td><td>224</td><td>350</td><td>333</td><td>-27</td></tr>\n",
       "\t<tr><td>10.09</td><td>458</td><td>118</td><td>239</td><td>362</td><td>355</td><td>-16</td></tr>\n",
       "\t<tr><td> 8.72</td><td>518</td><td>162</td><td>290</td><td>426</td><td>464</td><td> 16</td></tr>\n",
       "\t<tr><td>10.87</td><td>465</td><td>124</td><td>247</td><td>369</td><td>386</td><td>-13</td></tr>\n",
       "\t<tr><td>10.89</td><td>457</td><td>120</td><td>242</td><td>363</td><td>411</td><td>-15</td></tr>\n",
       "</tbody>\n",
       "</table>\n"
      ],
      "text/latex": [
       "A data.frame: 26 × 7\n",
       "\\begin{tabular}{r|lllllll}\n",
       " y & x1 & x2 & x3 & x4 & x5 & x6\\\\\n",
       " <dbl> & <int> & <int> & <int> & <int> & <int> & <int>\\\\\n",
       "\\hline\n",
       "\t  8.66 & 486 & 144 & 266 & 393 & 373 &  26\\\\\n",
       "\t  7.90 & 485 & 136 & 260 & 393 & 395 &   6\\\\\n",
       "\t  9.27 & 482 & 136 & 260 & 388 & 423 &  -2\\\\\n",
       "\t 11.77 & 443 & 112 & 232 & 346 & 355 & -18\\\\\n",
       "\t  9.70 & 478 & 134 & 257 & 382 & 390 &  -5\\\\\n",
       "\t 10.46 & 449 & 113 & 233 & 351 & 343 & -18\\\\\n",
       "\t 10.17 & 461 & 121 & 243 & 366 & 378 & -14\\\\\n",
       "\t 11.10 & 503 & 155 & 280 & 403 & 414 &   6\\\\\n",
       "\t 12.03 & 493 & 146 & 271 & 390 & 378 &  -3\\\\\n",
       "\t  9.43 & 368 &  40 & 158 & 275 & 250 & -63\\\\\n",
       "\t  8.66 & 462 & 114 & 237 & 367 & 331 & -19\\\\\n",
       "\t 14.44 & 438 & 109 & 229 & 333 & 326 & -28\\\\\n",
       "\t  8.50 & 478 & 127 & 252 & 384 & 378 & -11\\\\\n",
       "\t 10.41 & 405 &  73 & 193 & 311 & 305 & -44\\\\\n",
       "\t  9.72 & 498 & 146 & 273 & 403 & 415 &   0\\\\\n",
       "\t 11.69 & 442 & 106 & 226 & 341 & 303 & -28\\\\\n",
       "\t 12.19 & 457 & 118 & 240 & 354 & 327 & -23\\\\\n",
       "\t 11.59 & 439 & 103 & 224 & 339 & 325 & -29\\\\\n",
       "\t  8.76 & 500 & 146 & 272 & 404 & 398 &   5\\\\\n",
       "\t  8.60 & 427 &  85 & 207 & 334 & 319 & -36\\\\\n",
       "\t  8.54 & 479 & 128 & 253 & 384 & 382 & -10\\\\\n",
       "\t  9.34 & 444 & 102 & 224 & 350 & 333 & -27\\\\\n",
       "\t 10.09 & 458 & 118 & 239 & 362 & 355 & -16\\\\\n",
       "\t  8.72 & 518 & 162 & 290 & 426 & 464 &  16\\\\\n",
       "\t 10.87 & 465 & 124 & 247 & 369 & 386 & -13\\\\\n",
       "\t 10.89 & 457 & 120 & 242 & 363 & 411 & -15\\\\\n",
       "\\end{tabular}\n"
      ],
      "text/markdown": [
       "\n",
       "A data.frame: 26 × 7\n",
       "\n",
       "| y &lt;dbl&gt; | x1 &lt;int&gt; | x2 &lt;int&gt; | x3 &lt;int&gt; | x4 &lt;int&gt; | x5 &lt;int&gt; | x6 &lt;int&gt; |\n",
       "|---|---|---|---|---|---|---|\n",
       "|  8.66 | 486 | 144 | 266 | 393 | 373 |  26 |\n",
       "|  7.90 | 485 | 136 | 260 | 393 | 395 |   6 |\n",
       "|  9.27 | 482 | 136 | 260 | 388 | 423 |  -2 |\n",
       "| 11.77 | 443 | 112 | 232 | 346 | 355 | -18 |\n",
       "|  9.70 | 478 | 134 | 257 | 382 | 390 |  -5 |\n",
       "| 10.46 | 449 | 113 | 233 | 351 | 343 | -18 |\n",
       "| 10.17 | 461 | 121 | 243 | 366 | 378 | -14 |\n",
       "| 11.10 | 503 | 155 | 280 | 403 | 414 |   6 |\n",
       "| 12.03 | 493 | 146 | 271 | 390 | 378 |  -3 |\n",
       "|  9.43 | 368 |  40 | 158 | 275 | 250 | -63 |\n",
       "|  8.66 | 462 | 114 | 237 | 367 | 331 | -19 |\n",
       "| 14.44 | 438 | 109 | 229 | 333 | 326 | -28 |\n",
       "|  8.50 | 478 | 127 | 252 | 384 | 378 | -11 |\n",
       "| 10.41 | 405 |  73 | 193 | 311 | 305 | -44 |\n",
       "|  9.72 | 498 | 146 | 273 | 403 | 415 |   0 |\n",
       "| 11.69 | 442 | 106 | 226 | 341 | 303 | -28 |\n",
       "| 12.19 | 457 | 118 | 240 | 354 | 327 | -23 |\n",
       "| 11.59 | 439 | 103 | 224 | 339 | 325 | -29 |\n",
       "|  8.76 | 500 | 146 | 272 | 404 | 398 |   5 |\n",
       "|  8.60 | 427 |  85 | 207 | 334 | 319 | -36 |\n",
       "|  8.54 | 479 | 128 | 253 | 384 | 382 | -10 |\n",
       "|  9.34 | 444 | 102 | 224 | 350 | 333 | -27 |\n",
       "| 10.09 | 458 | 118 | 239 | 362 | 355 | -16 |\n",
       "|  8.72 | 518 | 162 | 290 | 426 | 464 |  16 |\n",
       "| 10.87 | 465 | 124 | 247 | 369 | 386 | -13 |\n",
       "| 10.89 | 457 | 120 | 242 | 363 | 411 | -15 |\n",
       "\n"
      ],
      "text/plain": [
       "   y     x1  x2  x3  x4  x5  x6 \n",
       "1   8.66 486 144 266 393 373  26\n",
       "2   7.90 485 136 260 393 395   6\n",
       "3   9.27 482 136 260 388 423  -2\n",
       "4  11.77 443 112 232 346 355 -18\n",
       "5   9.70 478 134 257 382 390  -5\n",
       "6  10.46 449 113 233 351 343 -18\n",
       "7  10.17 461 121 243 366 378 -14\n",
       "8  11.10 503 155 280 403 414   6\n",
       "9  12.03 493 146 271 390 378  -3\n",
       "10  9.43 368  40 158 275 250 -63\n",
       "11  8.66 462 114 237 367 331 -19\n",
       "12 14.44 438 109 229 333 326 -28\n",
       "13  8.50 478 127 252 384 378 -11\n",
       "14 10.41 405  73 193 311 305 -44\n",
       "15  9.72 498 146 273 403 415   0\n",
       "16 11.69 442 106 226 341 303 -28\n",
       "17 12.19 457 118 240 354 327 -23\n",
       "18 11.59 439 103 224 339 325 -29\n",
       "19  8.76 500 146 272 404 398   5\n",
       "20  8.60 427  85 207 334 319 -36\n",
       "21  8.54 479 128 253 384 382 -10\n",
       "22  9.34 444 102 224 350 333 -27\n",
       "23 10.09 458 118 239 362 355 -16\n",
       "24  8.72 518 162 290 426 464  16\n",
       "25 10.87 465 124 247 369 386 -13\n",
       "26 10.89 457 120 242 363 411 -15"
      ]
     },
     "metadata": {},
     "output_type": "display_data"
    }
   ],
   "source": [
    "fearn.test <- read.table(\"Fearn.data.2.txt\", header = TRUE, sep = \"\", dec = \".\")\n",
    "fearn.test"
   ]
  },
  {
   "cell_type": "code",
   "execution_count": 64,
   "metadata": {},
   "outputs": [
    {
     "data": {
      "image/png": "[encoded data removed]",
      "text/plain": [
       "plot without title"
      ]
     },
     "metadata": {},
     "output_type": "display_data"
    }
   ],
   "source": [
    "ggplot(fearn.train, aes(x=y)) + \n",
    "    geom_histogram(aes(y=..density..), binwidth=0.2, colour=\"black\", fill=\"white\") +\n",
    "    geom_density(alpha=.2, fill=\"#FF6666\")"
   ]
  },
  {
   "cell_type": "code",
   "execution_count": 67,
   "metadata": {},
   "outputs": [
    {
     "data": {
      "image/png": "[encoded data removed]",
      "text/plain": [
       "plot without title"
      ]
     },
     "metadata": {},
     "output_type": "display_data"
    }
   ],
   "source": [
    "lowerFn <- function(data, mapping, ...) {\n",
    "  p <- ggplot(data = data, mapping = mapping) +\n",
    "    geom_point(color = 'blue', alpha=0.3, size=0.5)\n",
    "  p\n",
    "}\n",
    "\n",
    "ggpairs( \n",
    "  data = fearn.train,\n",
    "  lower = list(\n",
    "    continuous =  wrap(lowerFn)\n",
    "  )\n",
    ")"
   ]
  },
  {
   "cell_type": "code",
   "execution_count": 208,
   "metadata": {},
   "outputs": [
    {
     "data": {
      "text/plain": [
       "\n",
       "Call:\n",
       "lm(formula = y ~ ., data = fearn.train)\n",
       "\n",
       "Residuals:\n",
       "     Min       1Q   Median       3Q      Max \n",
       "-0.39798 -0.12660 -0.00822  0.07745  0.38705 \n",
       "\n",
       "Coefficients:\n",
       "             Estimate Std. Error t value Pr(>|t|)   \n",
       "(Intercept) 23.074230   9.899022   2.331  0.03232 * \n",
       "x1           0.028124   0.082118   0.342  0.73618   \n",
       "x2           0.001667   0.087162   0.019  0.98497   \n",
       "x3           0.234909   0.077400   3.035  0.00748 **\n",
       "x4          -0.240445   0.063218  -3.803  0.00142 **\n",
       "x5           0.011839   0.006126   1.932  0.07014 . \n",
       "x6          -0.035584   0.045530  -0.782  0.44522   \n",
       "---\n",
       "Signif. codes:  0 '***' 0.001 '**' 0.01 '*' 0.05 '.' 0.1 ' ' 1\n",
       "\n",
       "Residual standard error: 0.2203 on 17 degrees of freedom\n",
       "Multiple R-squared:  0.9821,\tAdjusted R-squared:  0.9758 \n",
       "F-statistic: 155.9 on 6 and 17 DF,  p-value: 6.654e-14\n"
      ]
     },
     "metadata": {},
     "output_type": "display_data"
    },
    {
     "name": "stderr",
     "output_type": "stream",
     "text": [
      "Warning message in mean.default(se(actual, predicted)):\n",
      "\"argument is not numeric or logical: returning NA\""
     ]
    },
    {
     "data": {
      "text/html": [
       "&lt;NA&gt;"
      ],
      "text/latex": [
       "<NA>"
      ],
      "text/markdown": [
       "&lt;NA&gt;"
      ],
      "text/plain": [
       "[1] NA"
      ]
     },
     "metadata": {},
     "output_type": "display_data"
    },
    {
     "data": {
      "text/html": [
       "<strong>RMSE:</strong> 282675.857901647"
      ],
      "text/latex": [
       "\\textbf{RMSE:} 282675.857901647"
      ],
      "text/markdown": [
       "**RMSE:** 282675.857901647"
      ],
      "text/plain": [
       "    RMSE \n",
       "282675.9 "
      ]
     },
     "metadata": {},
     "output_type": "display_data"
    }
   ],
   "source": [
    "#install.packages(\"Metrics\")\n",
    "require(Metrics)\n",
    "\n",
    "fearn.lm1 <- lm(y ~ ., data = fearn.train)\n",
    "summary(fearn.lm1)\n",
    "predictions <- predict(fearn.lm1, newdata=fearn.test,  type='response')\n",
    "\n",
    "#confMat <- table(round(predictions, digits=3), as.factor(fearn.test$y))\n",
    "#accuracy <- sum(diag(confMat))/sum(confMat)\n",
    "rmse <- sqrt(sum((exp(predictions) - fearn.test$y)^2)/length(fearn.test$y))\n",
    "rmse(predictions,fearn.test)\n",
    "c(RMSE = rmse)"
   ]
  },
  {
   "cell_type": "code",
   "execution_count": 200,
   "metadata": {},
   "outputs": [
    {
     "data": {
      "text/plain": [
       "\n",
       "Call:\n",
       "lm(formula = y ~ x3 + x4 + x5, data = fearn.train)\n",
       "\n",
       "Residuals:\n",
       "     Min       1Q   Median       3Q      Max \n",
       "-0.39419 -0.09315 -0.04917  0.16961  0.41330 \n",
       "\n",
       "Coefficients:\n",
       "             Estimate Std. Error t value Pr(>|t|)    \n",
       "(Intercept) 32.619074   1.338621  24.368 2.41e-16 ***\n",
       "x3           0.242654   0.008803  27.564  < 2e-16 ***\n",
       "x4          -0.230867   0.010488 -22.012 1.72e-15 ***\n",
       "x5           0.008339   0.003561   2.342   0.0297 *  \n",
       "---\n",
       "Signif. codes:  0 '***' 0.001 '**' 0.01 '*' 0.05 '.' 0.1 ' ' 1\n",
       "\n",
       "Residual standard error: 0.2249 on 20 degrees of freedom\n",
       "Multiple R-squared:  0.9781,\tAdjusted R-squared:  0.9748 \n",
       "F-statistic: 298.1 on 3 and 20 DF,  p-value: < 2.2e-16\n"
      ]
     },
     "metadata": {},
     "output_type": "display_data"
    },
    {
     "data": {
      "text/html": [
       "<strong>RMSE:</strong> 248853.009063511"
      ],
      "text/latex": [
       "\\textbf{RMSE:} 248853.009063511"
      ],
      "text/markdown": [
       "**RMSE:** 248853.009063511"
      ],
      "text/plain": [
       "  RMSE \n",
       "248853 "
      ]
     },
     "metadata": {},
     "output_type": "display_data"
    }
   ],
   "source": [
    "fearn.lm2 <- lm(y ~ x3 + x4 + x5, data = fearn.train)\n",
    "summary(fearn.lm2)\n",
    "predictions <- predict(fearn.lm2, newdata=fearn.test)\n",
    "#confMat <- table(predictions, as.factor(fearn.test$y))\n",
    "#confMat\n",
    "#accuracy <- sum(diag(confMat))/sum(confMat)\n",
    "rmse <- sqrt(sum((exp(predictions) - fearn.test$y)^2)/length(fearn.test$y))\n",
    "c(RMSE = rmse)"
   ]
  },
  {
   "cell_type": "code",
   "execution_count": 203,
   "metadata": {},
   "outputs": [
    {
     "name": "stdout",
     "output_type": "stream",
     "text": [
      "Start:  AIC=-66.88\n",
      "y ~ x1 + x2 + x3 + x4 + x5 + x6\n",
      "\n",
      "       Df Sum of Sq     RSS     AIC\n",
      "- x2    1   0.00002 0.82535 -68.880\n",
      "- x1    1   0.00569 0.83103 -68.715\n",
      "- x6    1   0.02966 0.85499 -68.033\n",
      "<none>              0.82534 -66.880\n",
      "- x5    1   0.18130 1.00664 -64.114\n",
      "- x3    1   0.44719 1.27253 -58.489\n",
      "- x4    1   0.70231 1.52765 -54.104\n",
      "\n",
      "Step:  AIC=-68.88\n",
      "y ~ x1 + x3 + x4 + x5 + x6\n",
      "\n",
      "       Df Sum of Sq     RSS     AIC\n",
      "- x1    1   0.00754 0.83290 -70.662\n",
      "- x6    1   0.05565 0.88101 -69.314\n",
      "<none>              0.82535 -68.880\n",
      "+ x2    1   0.00002 0.82534 -66.880\n",
      "- x5    1   0.18642 1.01177 -65.992\n",
      "- x4    1   1.02169 1.84704 -51.547\n",
      "- x3    1   1.10504 1.93039 -50.488\n",
      "\n",
      "Step:  AIC=-70.66\n",
      "y ~ x3 + x4 + x5 + x6\n",
      "\n",
      "       Df Sum of Sq     RSS     AIC\n",
      "<none>               0.8329 -70.662\n",
      "+ x1    1    0.0075  0.8254 -68.880\n",
      "+ x2    1    0.0019  0.8310 -68.715\n",
      "- x6    1    0.1786  1.0115 -67.999\n",
      "- x5    1    0.3710  1.2039 -63.819\n",
      "- x4    1   17.8673 18.7002   2.012\n",
      "- x3    1   27.1447 27.9776  11.680\n"
     ]
    },
    {
     "data": {
      "text/plain": [
       "\n",
       "Call:\n",
       "lm(formula = y ~ x3 + x4 + x5 + x6, data = fearn.train)\n",
       "\n",
       "Residuals:\n",
       "     Min       1Q   Median       3Q      Max \n",
       "-0.41074 -0.11859 -0.00127  0.08045  0.37768 \n",
       "\n",
       "Coefficients:\n",
       "             Estimate Std. Error t value Pr(>|t|)    \n",
       "(Intercept) 24.820827   4.059503   6.114 7.05e-06 ***\n",
       "x3           0.255080   0.010251  24.884 5.80e-16 ***\n",
       "x4          -0.220902   0.010942 -20.189 2.68e-14 ***\n",
       "x5           0.009906   0.003405   2.909  0.00899 ** \n",
       "x6          -0.044121   0.021859  -2.018  0.05789 .  \n",
       "---\n",
       "Signif. codes:  0 '***' 0.001 '**' 0.01 '*' 0.05 '.' 0.1 ' ' 1\n",
       "\n",
       "Residual standard error: 0.2094 on 19 degrees of freedom\n",
       "Multiple R-squared:  0.982,\tAdjusted R-squared:  0.9782 \n",
       "F-statistic: 258.9 on 4 and 19 DF,  p-value: 2.77e-16\n"
      ]
     },
     "metadata": {},
     "output_type": "display_data"
    },
    {
     "data": {
      "text/html": [
       "<strong>RMSE:</strong> 278153.893660527"
      ],
      "text/latex": [
       "\\textbf{RMSE:} 278153.893660527"
      ],
      "text/markdown": [
       "**RMSE:** 278153.893660527"
      ],
      "text/plain": [
       "    RMSE \n",
       "278153.9 "
      ]
     },
     "metadata": {},
     "output_type": "display_data"
    }
   ],
   "source": [
    "fearn.full.model <- lm(y ~., data = fearn.train)\n",
    "fearn.step.model <- stepAIC(fearn.full.model, direction = \"both\")\n",
    "summary(fearn.step.model)\n",
    "predictions <- predict(fearn.step.model, newdata=fearn.test)\n",
    "rmse <- sqrt(sum((exp(predictions) - fearn.test$y)^2)/length(fearn.test$y))\n",
    "c(RMSE = rmse)"
   ]
  }
 ],
 "metadata": {
  "kernelspec": {
   "display_name": "R",
   "language": "R",
   "name": "ir"
  },
  "language_info": {
   "codemirror_mode": "r",
   "file_extension": ".r",
   "mimetype": "text/x-r-source",
   "name": "R",
   "pygments_lexer": "r",
   "version": "3.6.1"
  }
 },
 "nbformat": 4,
 "nbformat_minor": 4
}
