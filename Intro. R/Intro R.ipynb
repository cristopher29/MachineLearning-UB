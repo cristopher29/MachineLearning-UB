{
 "cells": [
  {
   "cell_type": "markdown",
   "metadata": {},
   "source": [
    "### Intro. R - AA"
   ]
  },
  {
   "cell_type": "code",
   "execution_count": 1,
   "metadata": {
    "collapsed": false
   },
   "outputs": [
    {
     "data": {
      "text/html": [
       "<ol class=list-inline>\n",
       "\t<li>1</li>\n",
       "\t<li>2</li>\n",
       "\t<li>3</li>\n",
       "\t<li>4</li>\n",
       "\t<li>5</li>\n",
       "\t<li>6</li>\n",
       "\t<li>7</li>\n",
       "\t<li>8</li>\n",
       "\t<li>9</li>\n",
       "\t<li>10</li>\n",
       "\t<li>11</li>\n",
       "\t<li>12</li>\n",
       "</ol>\n"
      ],
      "text/latex": [
       "\\begin{enumerate*}\n",
       "\\item 1\n",
       "\\item 2\n",
       "\\item 3\n",
       "\\item 4\n",
       "\\item 5\n",
       "\\item 6\n",
       "\\item 7\n",
       "\\item 8\n",
       "\\item 9\n",
       "\\item 10\n",
       "\\item 11\n",
       "\\item 12\n",
       "\\end{enumerate*}\n"
      ],
      "text/markdown": [
       "1. 1\n",
       "2. 2\n",
       "3. 3\n",
       "4. 4\n",
       "5. 5\n",
       "6. 6\n",
       "7. 7\n",
       "8. 8\n",
       "9. 9\n",
       "10. 10\n",
       "11. 11\n",
       "12. 12\n",
       "\n",
       "\n"
      ],
      "text/plain": [
       " [1]  1  2  3  4  5  6  7  8  9 10 11 12"
      ]
     },
     "metadata": {},
     "output_type": "display_data"
    },
    {
     "data": {
      "text/html": [
       "<table>\n",
       "<caption>A matrix: 3 × 4 of type int</caption>\n",
       "<tbody>\n",
       "\t<tr><td>1</td><td>4</td><td>7</td><td>10</td></tr>\n",
       "\t<tr><td>2</td><td>5</td><td>8</td><td>11</td></tr>\n",
       "\t<tr><td>3</td><td>6</td><td>9</td><td>12</td></tr>\n",
       "</tbody>\n",
       "</table>\n"
      ],
      "text/latex": [
       "A matrix: 3 × 4 of type int\n",
       "\\begin{tabular}{llll}\n",
       "\t 1 & 4 & 7 & 10\\\\\n",
       "\t 2 & 5 & 8 & 11\\\\\n",
       "\t 3 & 6 & 9 & 12\\\\\n",
       "\\end{tabular}\n"
      ],
      "text/markdown": [
       "\n",
       "A matrix: 3 × 4 of type int\n",
       "\n",
       "| 1 | 4 | 7 | 10 |\n",
       "| 2 | 5 | 8 | 11 |\n",
       "| 3 | 6 | 9 | 12 |\n",
       "\n"
      ],
      "text/plain": [
       "     [,1] [,2] [,3] [,4]\n",
       "[1,] 1    4    7    10  \n",
       "[2,] 2    5    8    11  \n",
       "[3,] 3    6    9    12  "
      ]
     },
     "metadata": {},
     "output_type": "display_data"
    },
    {
     "data": {
      "text/html": [
       "<table>\n",
       "<caption>A matrix: 3 × 4 of type int</caption>\n",
       "<tbody>\n",
       "\t<tr><td>1</td><td>2</td><td>3</td><td>4</td></tr>\n",
       "\t<tr><td>1</td><td>2</td><td>3</td><td>4</td></tr>\n",
       "\t<tr><td>1</td><td>2</td><td>3</td><td>4</td></tr>\n",
       "</tbody>\n",
       "</table>\n"
      ],
      "text/latex": [
       "A matrix: 3 × 4 of type int\n",
       "\\begin{tabular}{llll}\n",
       "\t 1 & 2 & 3 & 4\\\\\n",
       "\t 1 & 2 & 3 & 4\\\\\n",
       "\t 1 & 2 & 3 & 4\\\\\n",
       "\\end{tabular}\n"
      ],
      "text/markdown": [
       "\n",
       "A matrix: 3 × 4 of type int\n",
       "\n",
       "| 1 | 2 | 3 | 4 |\n",
       "| 1 | 2 | 3 | 4 |\n",
       "| 1 | 2 | 3 | 4 |\n",
       "\n"
      ],
      "text/plain": [
       "     [,1] [,2] [,3] [,4]\n",
       "[1,] 1    2    3    4   \n",
       "[2,] 1    2    3    4   \n",
       "[3,] 1    2    3    4   "
      ]
     },
     "metadata": {},
     "output_type": "display_data"
    }
   ],
   "source": [
    "library(repr)\n",
    "options(repr.plot.width=5, repr.plot.height=5)\n",
    "options(scipen=999)\n",
    "\n",
    "x <- 1:12\n",
    "x\n",
    "X <- matrix(x,nrow=3)\n",
    "X\n",
    "col(X)"
   ]
  },
  {
   "cell_type": "code",
   "execution_count": 2,
   "metadata": {
    "collapsed": false
   },
   "outputs": [
    {
     "data": {
      "text/html": [
       "<ol class=list-inline>\n",
       "\t<li>22</li>\n",
       "\t<li>26</li>\n",
       "\t<li>30</li>\n",
       "</ol>\n"
      ],
      "text/latex": [
       "\\begin{enumerate*}\n",
       "\\item 22\n",
       "\\item 26\n",
       "\\item 30\n",
       "\\end{enumerate*}\n"
      ],
      "text/markdown": [
       "1. 22\n",
       "2. 26\n",
       "3. 30\n",
       "\n",
       "\n"
      ],
      "text/plain": [
       "[1] 22 26 30"
      ]
     },
     "metadata": {},
     "output_type": "display_data"
    }
   ],
   "source": [
    "xr <- apply(X,1,sum)\n",
    "xr"
   ]
  },
  {
   "cell_type": "code",
   "execution_count": 3,
   "metadata": {
    "collapsed": false
   },
   "outputs": [
    {
     "data": {
      "text/html": [
       "<ol class=list-inline>\n",
       "\t<li>6</li>\n",
       "\t<li>15</li>\n",
       "\t<li>24</li>\n",
       "\t<li>33</li>\n",
       "</ol>\n"
      ],
      "text/latex": [
       "\\begin{enumerate*}\n",
       "\\item 6\n",
       "\\item 15\n",
       "\\item 24\n",
       "\\item 33\n",
       "\\end{enumerate*}\n"
      ],
      "text/markdown": [
       "1. 6\n",
       "2. 15\n",
       "3. 24\n",
       "4. 33\n",
       "\n",
       "\n"
      ],
      "text/plain": [
       "[1]  6 15 24 33"
      ]
     },
     "metadata": {},
     "output_type": "display_data"
    }
   ],
   "source": [
    "xc <- apply(X,2,sum)\n",
    "xc"
   ]
  },
  {
   "cell_type": "code",
   "execution_count": 4,
   "metadata": {
    "collapsed": false
   },
   "outputs": [
    {
     "data": {
      "text/html": [
       "<table>\n",
       "<caption>A matrix: 3 × 4 of type dbl</caption>\n",
       "<tbody>\n",
       "\t<tr><td>0.1666667</td><td>0.2666667</td><td>0.2916667</td><td>0.3030303</td></tr>\n",
       "\t<tr><td>0.3333333</td><td>0.3333333</td><td>0.3333333</td><td>0.3333333</td></tr>\n",
       "\t<tr><td>0.5000000</td><td>0.4000000</td><td>0.3750000</td><td>0.3636364</td></tr>\n",
       "</tbody>\n",
       "</table>\n"
      ],
      "text/latex": [
       "A matrix: 3 × 4 of type dbl\n",
       "\\begin{tabular}{llll}\n",
       "\t 0.1666667 & 0.2666667 & 0.2916667 & 0.3030303\\\\\n",
       "\t 0.3333333 & 0.3333333 & 0.3333333 & 0.3333333\\\\\n",
       "\t 0.5000000 & 0.4000000 & 0.3750000 & 0.3636364\\\\\n",
       "\\end{tabular}\n"
      ],
      "text/markdown": [
       "\n",
       "A matrix: 3 × 4 of type dbl\n",
       "\n",
       "| 0.1666667 | 0.2666667 | 0.2916667 | 0.3030303 |\n",
       "| 0.3333333 | 0.3333333 | 0.3333333 | 0.3333333 |\n",
       "| 0.5000000 | 0.4000000 | 0.3750000 | 0.3636364 |\n",
       "\n"
      ],
      "text/plain": [
       "     [,1]      [,2]      [,3]      [,4]     \n",
       "[1,] 0.1666667 0.2666667 0.2916667 0.3030303\n",
       "[2,] 0.3333333 0.3333333 0.3333333 0.3333333\n",
       "[3,] 0.5000000 0.4000000 0.3750000 0.3636364"
      ]
     },
     "metadata": {},
     "output_type": "display_data"
    }
   ],
   "source": [
    "Xn <- X/xc[col(X)]\n",
    "Xn"
   ]
  },
  {
   "cell_type": "code",
   "execution_count": 5,
   "metadata": {
    "collapsed": false
   },
   "outputs": [
    {
     "data": {
      "text/html": [
       "<ol class=list-inline>\n",
       "\t<li>1</li>\n",
       "\t<li>1</li>\n",
       "\t<li>1</li>\n",
       "\t<li>1</li>\n",
       "</ol>\n"
      ],
      "text/latex": [
       "\\begin{enumerate*}\n",
       "\\item 1\n",
       "\\item 1\n",
       "\\item 1\n",
       "\\item 1\n",
       "\\end{enumerate*}\n"
      ],
      "text/markdown": [
       "1. 1\n",
       "2. 1\n",
       "3. 1\n",
       "4. 1\n",
       "\n",
       "\n"
      ],
      "text/plain": [
       "[1] 1 1 1 1"
      ]
     },
     "metadata": {},
     "output_type": "display_data"
    }
   ],
   "source": [
    "apply(Xn,2,sum)"
   ]
  },
  {
   "cell_type": "code",
   "execution_count": 6,
   "metadata": {
    "collapsed": false
   },
   "outputs": [
    {
     "data": {
      "text/html": [
       "<table>\n",
       "<caption>A data.frame: 11 × 2</caption>\n",
       "<thead>\n",
       "\t<tr><th scope=col>Square.meters</th><th scope=col>Price.EUR.</th></tr>\n",
       "\t<tr><th scope=col>&lt;int&gt;</th><th scope=col>&lt;int&gt;</th></tr>\n",
       "</thead>\n",
       "<tbody>\n",
       "\t<tr><td> 50</td><td>250000</td></tr>\n",
       "\t<tr><td> 75</td><td>389000</td></tr>\n",
       "\t<tr><td> 72</td><td>340000</td></tr>\n",
       "\t<tr><td> 60</td><td>295000</td></tr>\n",
       "\t<tr><td> 95</td><td>440000</td></tr>\n",
       "\t<tr><td> 55</td><td>240000</td></tr>\n",
       "\t<tr><td>120</td><td>800000</td></tr>\n",
       "\t<tr><td> 87</td><td>570000</td></tr>\n",
       "\t<tr><td> 74</td><td>560000</td></tr>\n",
       "\t<tr><td> 99</td><td>500000</td></tr>\n",
       "\t<tr><td>101</td><td>650000</td></tr>\n",
       "</tbody>\n",
       "</table>\n"
      ],
      "text/latex": [
       "A data.frame: 11 × 2\n",
       "\\begin{tabular}{r|ll}\n",
       " Square.meters & Price.EUR.\\\\\n",
       " <int> & <int>\\\\\n",
       "\\hline\n",
       "\t  50 & 250000\\\\\n",
       "\t  75 & 389000\\\\\n",
       "\t  72 & 340000\\\\\n",
       "\t  60 & 295000\\\\\n",
       "\t  95 & 440000\\\\\n",
       "\t  55 & 240000\\\\\n",
       "\t 120 & 800000\\\\\n",
       "\t  87 & 570000\\\\\n",
       "\t  74 & 560000\\\\\n",
       "\t  99 & 500000\\\\\n",
       "\t 101 & 650000\\\\\n",
       "\\end{tabular}\n"
      ],
      "text/markdown": [
       "\n",
       "A data.frame: 11 × 2\n",
       "\n",
       "| Square.meters &lt;int&gt; | Price.EUR. &lt;int&gt; |\n",
       "|---|---|\n",
       "|  50 | 250000 |\n",
       "|  75 | 389000 |\n",
       "|  72 | 340000 |\n",
       "|  60 | 295000 |\n",
       "|  95 | 440000 |\n",
       "|  55 | 240000 |\n",
       "| 120 | 800000 |\n",
       "|  87 | 570000 |\n",
       "|  74 | 560000 |\n",
       "|  99 | 500000 |\n",
       "| 101 | 650000 |\n",
       "\n"
      ],
      "text/plain": [
       "   Square.meters Price.EUR.\n",
       "1   50           250000    \n",
       "2   75           389000    \n",
       "3   72           340000    \n",
       "4   60           295000    \n",
       "5   95           440000    \n",
       "6   55           240000    \n",
       "7  120           800000    \n",
       "8   87           570000    \n",
       "9   74           560000    \n",
       "10  99           500000    \n",
       "11 101           650000    "
      ]
     },
     "metadata": {},
     "output_type": "display_data"
    }
   ],
   "source": [
    "Toy.data <- read.table(\"Toy.sales.data.txt\", header = TRUE)\n",
    "Toy.data\n",
    "#plot(Toy.data)"
   ]
  },
  {
   "cell_type": "code",
   "execution_count": 12,
   "metadata": {
    "collapsed": false
   },
   "outputs": [
    {
     "data": {
      "image/png": "[encoded data removed]",
      "text/plain": [
       "plot without title"
      ]
     },
     "metadata": {},
     "output_type": "display_data"
    }
   ],
   "source": [
    "Toy.data.lmi <- lm(Price.EUR./10000~Square.meters, data=Toy.data)\n",
    "plot(Price.EUR./10000~Square.meters, data=Toy.data, pch=19, cex=1.2, col=\"red\")\n",
    "abline(Toy.data.lmi, lwd=1.5, col=\"DarkCyan\")\n",
    "\n",
    "\n",
    "x <- Toy.data$Square.meters\n",
    "y <- Toy.data$Price.EUR./10000\n",
    "yhat <- Toy.data.lmi$fitted.values\n",
    "points(x,yhat,pch=19, cex=1.2, col=\"Cyan\")\n",
    "for(i in 1:length(x)){\n",
    "    lines(c(x[i], x[i]), c(yhat[i],y[i]),lw=1.1)\n",
    "}"
   ]
  },
  {
   "cell_type": "code",
   "execution_count": 13,
   "metadata": {
    "collapsed": false
   },
   "outputs": [
    {
     "data": {
      "text/html": [
       "<table>\n",
       "<caption>A matrix: 1 × 11 of type dbl</caption>\n",
       "<thead>\n",
       "\t<tr><th scope=col>1</th><th scope=col>2</th><th scope=col>3</th><th scope=col>4</th><th scope=col>5</th><th scope=col>6</th><th scope=col>7</th><th scope=col>8</th><th scope=col>9</th><th scope=col>10</th><th scope=col>11</th></tr>\n",
       "</thead>\n",
       "<tbody>\n",
       "\t<tr><td>1.8</td><td>-2.66</td><td>-5.36</td><td>-1.05</td><td>-12.24</td><td>-2.88</td><td>5.4</td><td>6.63</td><td>15.18</td><td>-9.18</td><td>4.35</td></tr>\n",
       "</tbody>\n",
       "</table>\n"
      ],
      "text/latex": [
       "A matrix: 1 × 11 of type dbl\n",
       "\\begin{tabular}{lllllllllll}\n",
       " 1 & 2 & 3 & 4 & 5 & 6 & 7 & 8 & 9 & 10 & 11\\\\\n",
       "\\hline\n",
       "\t 1.8 & -2.66 & -5.36 & -1.05 & -12.24 & -2.88 & 5.4 & 6.63 & 15.18 & -9.18 & 4.35\\\\\n",
       "\\end{tabular}\n"
      ],
      "text/markdown": [
       "\n",
       "A matrix: 1 × 11 of type dbl\n",
       "\n",
       "| 1 | 2 | 3 | 4 | 5 | 6 | 7 | 8 | 9 | 10 | 11 |\n",
       "|---|---|---|---|---|---|---|---|---|---|---|\n",
       "| 1.8 | -2.66 | -5.36 | -1.05 | -12.24 | -2.88 | 5.4 | 6.63 | 15.18 | -9.18 | 4.35 |\n",
       "\n"
      ],
      "text/plain": [
       "     1   2     3     4     5      6     7   8    9     10    11  \n",
       "[1,] 1.8 -2.66 -5.36 -1.05 -12.24 -2.88 5.4 6.63 15.18 -9.18 4.35"
      ]
     },
     "metadata": {},
     "output_type": "display_data"
    },
    {
     "data": {
      "text/html": [
       "<table>\n",
       "<caption>A matrix: 1 × 11 of type dbl</caption>\n",
       "<thead>\n",
       "\t<tr><th scope=col>1</th><th scope=col>2</th><th scope=col>3</th><th scope=col>4</th><th scope=col>5</th><th scope=col>6</th><th scope=col>7</th><th scope=col>8</th><th scope=col>9</th><th scope=col>10</th><th scope=col>11</th></tr>\n",
       "</thead>\n",
       "<tbody>\n",
       "\t<tr><td>1.8</td><td>-2.66</td><td>-5.36</td><td>-1.05</td><td>-12.24</td><td>-2.88</td><td>5.4</td><td>6.63</td><td>15.18</td><td>-9.18</td><td>4.35</td></tr>\n",
       "</tbody>\n",
       "</table>\n"
      ],
      "text/latex": [
       "A matrix: 1 × 11 of type dbl\n",
       "\\begin{tabular}{lllllllllll}\n",
       " 1 & 2 & 3 & 4 & 5 & 6 & 7 & 8 & 9 & 10 & 11\\\\\n",
       "\\hline\n",
       "\t 1.8 & -2.66 & -5.36 & -1.05 & -12.24 & -2.88 & 5.4 & 6.63 & 15.18 & -9.18 & 4.35\\\\\n",
       "\\end{tabular}\n"
      ],
      "text/markdown": [
       "\n",
       "A matrix: 1 × 11 of type dbl\n",
       "\n",
       "| 1 | 2 | 3 | 4 | 5 | 6 | 7 | 8 | 9 | 10 | 11 |\n",
       "|---|---|---|---|---|---|---|---|---|---|---|\n",
       "| 1.8 | -2.66 | -5.36 | -1.05 | -12.24 | -2.88 | 5.4 | 6.63 | 15.18 | -9.18 | 4.35 |\n",
       "\n"
      ],
      "text/plain": [
       "     1   2     3     4     5      6     7   8    9     10    11  \n",
       "[1,] 1.8 -2.66 -5.36 -1.05 -12.24 -2.88 5.4 6.63 15.18 -9.18 4.35"
      ]
     },
     "metadata": {},
     "output_type": "display_data"
    },
    {
     "data": {
      "text/html": [
       "0.00000000000000222044604925031"
      ],
      "text/latex": [
       "0.00000000000000222044604925031"
      ],
      "text/markdown": [
       "0.00000000000000222044604925031"
      ],
      "text/plain": [
       "[1] 0.000000000000002220446"
      ]
     },
     "metadata": {},
     "output_type": "display_data"
    }
   ],
   "source": [
    "ytilde <- Toy.data.lmi$residuals\n",
    "round(t(ytilde),2)\n",
    "round(t(y-yhat),2)\n",
    "sum(ytilde)"
   ]
  }
 ],
 "metadata": {
  "kernelspec": {
   "display_name": "R",
   "language": "R",
   "name": "ir"
  },
  "language_info": {
   "codemirror_mode": "r",
   "file_extension": ".r",
   "mimetype": "text/x-r-source",
   "name": "R",
   "pygments_lexer": "r",
   "version": "3.3.3"
  }
 },
 "nbformat": 4,
 "nbformat_minor": 2
}
