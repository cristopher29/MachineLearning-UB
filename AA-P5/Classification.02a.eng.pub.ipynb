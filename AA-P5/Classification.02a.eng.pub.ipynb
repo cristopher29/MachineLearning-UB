{
 "cells": [
  {
   "cell_type": "markdown",
   "metadata": {},
   "source": [
    "# Classification 02\n",
    "\n",
    "# Resampling and evaluation of prediction methods"
   ]
  },
  {
   "cell_type": "markdown",
   "metadata": {},
   "source": [
    "#### Josep Fortiana 2019-10-29"
   ]
  },
  {
   "cell_type": "markdown",
   "metadata": {},
   "source": [
    "The goal of this laboratory is to attain a practical knowledge of some of the available procedures to assess the quality of prediction methods, classification (categorical response) and regression (numerical response), with a particular emphasis on detecting and avoiding overfitting.\n",
    "\n",
    "We consider four procedures or families of procedures: \n",
    "    \n",
    "1. Hold-out: Split the dataset in two parts, a training subset and a 'test' subset. The first one is used to train (estimate or learn parameters of) the prediction method. Meanwhile, the 'test' subset is held out, keeping it apart to rule out the optimistic bias inherent in using the same samples for learning to predict and for evaluating goodness of prediction.\n",
    "\n",
    "2. $k$-fold cross-validation,  \n",
    "\n",
    "3. Leave-one-out (LOO), \n",
    "\n",
    "4. Bootstrap.\n",
    "\n",
    "We already know the first procedure. The second one is a systematic repetition of hold-out in such a way that consecutively each individual is in a training subset and in a test subset. The third procedure is an extreme $k$-fold cross-validation, where $k=n$, the number of individuals in the sample, in which the test subset is a single individual and the training subset  the remaining $(n-1)$ restantes. \n",
    "\n",
    "The fourth procedure is an application of a much more general statistical concept, the _bootstrap,_ which we review in Section A, before going to its application with the other procedures."
   ]
  },
  {
   "cell_type": "markdown",
   "metadata": {},
   "source": [
    "# Datasets and prediction methods"
   ]
  },
  {
   "cell_type": "markdown",
   "metadata": {},
   "source": [
    "# A. `wine` dataset"
   ]
  },
  {
   "cell_type": "markdown",
   "metadata": {},
   "source": [
    "`wine` data are the results of a chemical analysis of wines grown in the same region in Italy but derived from three different cultivars. The analysis determined the quantities of 13 constituents found in each of the three types of wines.\n",
    "\n",
    "They can be found in the [UCI Machine Learning Repository](http://archive.ics.uci.edu/ml/), which hosts many documented data sets to be used as benchmarks in evaluating Machine Learning methods and algorithms. Alternatively, should the link be broken, you can find the `.csv` file in the Virtual Campus. The following description is taken from the UCI website:\n",
    "\n",
    "I think that the initial data set had around 30 variables, but for some reason I only have the 13 dimensional version. I had a list of what the 30 or so variables were, but a.) I lost it, and b.), I would not know which 13 variables are included in the set.\n",
    "\n",
    "The attributes are:\n",
    "\n",
    "01. Alcohol\n",
    "\n",
    "02. Malic acid\n",
    "\n",
    "03. Ash\n",
    "\n",
    "04. Alcalinity of ash\n",
    "\n",
    "05. Magnesium\n",
    "\n",
    "06. Total phenols\n",
    "\n",
    "07. Flavonoids\n",
    "\n",
    "08. Nonflavonoid phenols\n",
    "\n",
    "09. Proanthocyanins\n",
    "\n",
    "10. Color intensity\n",
    "\n",
    "11. Hue\n",
    "\n",
    "12. OD280/OD315 of diluted wines\n",
    "\n",
    "13. Proline\n",
    "\n",
    "\n",
    "In a classification context, this is a well posed problem with \"well behaved\" class structures. A good data set for first testing of a new classifier, but not very challenging.\n",
    "\n",
    "Since the `.csv` file has no first row with variable names we must set `header=FALSE` in the `read.csv` call (see default values for the optional parameters in the help). \n",
    "\n",
    "The casting `as.factor()` command has the purpose of conveying the fact that this variable is qualitative, so the R interpreter can use it as such.\n"
   ]
  },
  {
   "cell_type": "code",
   "execution_count": null,
   "metadata": {},
   "outputs": [],
   "source": [
    "wine.url<-\"http://archive.ics.uci.edu/ml/machine-learning-databases/wine/wine.data\"\n",
    "#wine<-read.csv(wine.url,header=FALSE)\n",
    "wine<-read.csv(\"wine.csv\",header=FALSE)\n",
    "colnames(wine)<-c(\"Type\",\"Alcohol\",\"Malic\",\"Ash\", \"Alcalinity\",\"Magnesium\",\"Phenols\",\"Flavonoids\", \n",
    "                  \"Nonflavonoids\",\"Proanthocyanins\",\"Color\",\"Hue\", \"Dilution\",\"Proline\")\n",
    "wine$Type <- as.factor(wine$Type)"
   ]
  },
  {
   "cell_type": "markdown",
   "metadata": {},
   "source": [
    "## Aa. `wine` dataset and $k$-NN"
   ]
  },
  {
   "cell_type": "markdown",
   "metadata": {},
   "source": [
    "### Aa1. Hold-out\n",
    "\n",
    "Split the whole dataset into two subsets, `train` with $\\approx60\\%$ of data, and `test` the rest."
   ]
  },
  {
   "cell_type": "code",
   "execution_count": null,
   "metadata": {},
   "outputs": [],
   "source": [
    "n<-nrow(wine)\n",
    "ntrain<-ceiling(0.6*n)\n",
    "ntest<-n-ntrain\n",
    "Itrain<-sample(1:n,ntrain,replace=FALSE)\n",
    "wine.train<-wine[Itrain,]\n",
    "wine.test<-wine[-Itrain,]\n",
    "Xtrain<-as.matrix(wine.train[,-1])\n",
    "ytrain<-wine.train[,1]\n",
    "Xtest<-as.matrix(wine.test[,-1])\n",
    "ytest<-wine.test[,1]"
   ]
  },
  {
   "cell_type": "code",
   "execution_count": null,
   "metadata": {},
   "outputs": [],
   "source": [
    "#install.packages(\"class\",dependencies=TRUE,repos=\"https://cloud.r-project.org\")\n",
    "require(class)"
   ]
  },
  {
   "cell_type": "markdown",
   "metadata": {},
   "source": [
    "#### Confusion matrix and misclassification error estimate"
   ]
  },
  {
   "cell_type": "code",
   "execution_count": null,
   "metadata": {},
   "outputs": [],
   "source": [
    "k<-5\n",
    "y.hat<-knn(Xtrain,Xtest,ytrain,k )\n",
    "C<-table(\"True\"=ytest,\"Predicted\"=y.hat)\n",
    "P.err<-(ntest-sum(diag(C)))/ntest\n",
    "C\n",
    "sprintf(\"For k =%d,   Prob.err = %5.2f \", k, round(P.err,2))"
   ]
  },
  {
   "cell_type": "markdown",
   "metadata": {},
   "source": [
    "#### Which is the optimal $k$?\n",
    "\n",
    "Redo the above computation with several values of $k$ and decide which is the optimal $k$ according to the probability of misclassification.\n",
    "\n",
    "_Hint:_ After doing it _\"by hand\"_ you can try a systematic approach, building a table where the first column is `k` and the second column the estimated probability of misclassification."
   ]
  },
  {
   "cell_type": "code",
   "execution_count": null,
   "metadata": {},
   "outputs": [],
   "source": []
  },
  {
   "cell_type": "markdown",
   "metadata": {},
   "source": [
    "### Aa.2. k-fold cross-validation"
   ]
  },
  {
   "cell_type": "markdown",
   "metadata": {},
   "source": [
    "Here we perform $k$-fold cross-validation with some simple code. An alternative approach is to use functions from a dedicated R package. My personal prejudice is in favor of writing one's own code. Anyway you can see in the Appendix at the end of this notebook some possible such packages and you can judge by yourselves."
   ]
  },
  {
   "cell_type": "code",
   "execution_count": null,
   "metadata": {},
   "outputs": [],
   "source": [
    "kfoldIndexes<-function(n,k){\n",
    "    l<-floor(n/k)\n",
    "    Indexes<-c(1,(1:k)*l)\n",
    "    Indexes[k+1]<-n\n",
    "    return(Indexes)\n",
    "    }"
   ]
  },
  {
   "cell_type": "code",
   "execution_count": null,
   "metadata": {},
   "outputs": [],
   "source": [
    "# Decide a 'K' for K-fold cross-validation (uppercase to avoid notation clash with the k in k-NN)\n",
    "n<-nrow(wine)\n",
    "K<-5\n",
    "J<-kfoldIndexes(n,K)\n",
    "J\n",
    "Lower<-J[-(K+1)]\n",
    "Upper<-J[-1]\n",
    "Lower\n",
    "Upper\n",
    "# Una random permutation of indexes\n",
    "I<-sample(1:n)"
   ]
  },
  {
   "cell_type": "code",
   "execution_count": null,
   "metadata": {},
   "outputs": [],
   "source": [
    "k<-7 # this is the 'k' in k-NN\n",
    "# Repeat with several 'k' and choose an optimal value.\n",
    "P.ERR<-rep(0,K)\n",
    "for (fold in 1:K){\n",
    "    Itest<-I[Lower[fold]:Upper[fold]]\n",
    "    wine.test<-wine[Itest,]\n",
    "    wine.train<-wine[-Itest,]\n",
    "    Xtrain<-as.matrix(wine.train[,-1])\n",
    "    ytrain<-wine.train[,1]\n",
    "    Xtest<-as.matrix(wine.test[,-1])\n",
    "    ytest<-wine.test[,1]\n",
    "    y.hat<-knn(Xtrain,Xtest,ytrain,k)\n",
    "    C<-table(\"True\"=ytest,\"Predicted\"=y.hat)\n",
    "    print(C)\n",
    "    P.ERR[fold]<-(ntest-sum(diag(C)))/ntest\n",
    "    }\n",
    "round(P.ERR,3)\n",
    "mean.p.err<-mean(P.ERR)\n",
    "round(mean.p.err,3)"
   ]
  },
  {
   "cell_type": "markdown",
   "metadata": {},
   "source": [
    "### Aa.3. Leave-one-out _(LOO)_"
   ]
  },
  {
   "cell_type": "code",
   "execution_count": null,
   "metadata": {},
   "outputs": [],
   "source": [
    "k<-7\n",
    "# Repeat with several 'k' and choose an optimal value.\n",
    "g<-nlevels(wine$Type)\n",
    "C<-matrix(0,nrow=g,ncol=g)\n",
    "for (i in 1:n){\n",
    "    wine.test<-wine[i,]\n",
    "    wine.train<-wine[-i,]\n",
    "    Xtrain<-as.matrix(wine.train[,-1])\n",
    "    ytrain<-wine.train[,1]\n",
    "    Xtest<-as.matrix(wine.test[,-1])\n",
    "    ytest<-wine.test[,1]\n",
    "    y.hat<-knn(Xtrain,Xtest,ytrain,k)\n",
    "    C[ytest,y.hat]=C[ytest,y.hat]+1\n",
    "    }\n",
    "print(C)\n",
    "p.err<-(n-sum(diag(C)))/n\n",
    "round(p.err,3)"
   ]
  },
  {
   "cell_type": "markdown",
   "metadata": {},
   "source": [
    "### Aa.4.  _bootstrap_"
   ]
  },
  {
   "cell_type": "code",
   "execution_count": null,
   "metadata": {},
   "outputs": [],
   "source": [
    "k<-7\n",
    "# Repeat with several 'k' and choose an optimal value.\n",
    "n<-nrow(wine)\n",
    "I<-1:n\n",
    "# Number of bootstrap resamples\n",
    "B<-10\n",
    "P.ERR<-rep(0,B)\n",
    "for (b in 1:B){\n",
    "    Ib<-sample(I,n,replace = TRUE)\n",
    "    oob<-I[is.na(match(I,Ib))]\n",
    "    Itest<-oob\n",
    "    ntest<-length(oob)\n",
    "    print(ntest)\n",
    "    wine.test<-wine[Itest,]\n",
    "    wine.train<-wine[-Itest,]\n",
    "    Xtrain<-as.matrix(wine.train[,-1])\n",
    "    ytrain<-wine.train[,1]\n",
    "    Xtest<-as.matrix(wine.test[,-1])\n",
    "    ytest<-wine.test[,1]\n",
    "    y.hat<-knn(Xtrain,Xtest,ytrain,k)\n",
    "    C<-table(\"True\"=ytest,\"Predicted\"=y.hat)\n",
    "    print(C)\n",
    "    P.ERR[b]<-(ntest-sum(diag(C)))/ntest\n",
    "    }\n",
    "round(P.ERR,3)\n",
    "mean.p.err<-mean(P.ERR)\n",
    "round(mean.p.err,3)"
   ]
  },
  {
   "cell_type": "markdown",
   "metadata": {},
   "source": [
    "# B. `Auto` dataset"
   ]
  },
  {
   "cell_type": "markdown",
   "metadata": {},
   "source": [
    "#### Description\n",
    "Gas mileage, horsepower, and other information for 392 vehicles.\n",
    "\n",
    "#### Format\n",
    "A data frame with 392 observations on the following 9 variables.\n",
    "\n",
    "01. `mpg`: miles per gallon.\n",
    "\n",
    "02. `cylinders`: Number of cylinders between 4 and 8.\n",
    "\n",
    "03. `displacement`: Engine displacement (cu. inches).\n",
    "\n",
    "04. `horsepower`: Engine horsepower.\n",
    "\n",
    "05. `weight`: Vehicle weight (lbs.).\n",
    "\n",
    "06. `acceleration`: Time to accelerate from 0 to 60 mph (sec.).\n",
    "\n",
    "07. `year`: Model year (modulo 100).\n",
    "\n",
    "08. `origin`: Origin of car (1. American, 2. European, 3. Japanese).\n",
    "\n",
    "09. `name`: Vehicle name.\n",
    "\n",
    "The orginal data contained 408 observations but 16 observations with missing values were removed.\n",
    "\n",
    "#### Source\n",
    "This dataset was taken from the StatLib library which is maintained at Carnegie Mellon University. The dataset was used in the 1983 American Statistical Association Exposition."
   ]
  },
  {
   "cell_type": "code",
   "execution_count": 1,
   "metadata": {},
   "outputs": [
    {
     "name": "stderr",
     "output_type": "stream",
     "text": [
      "Loading required package: ISLR\n"
     ]
    }
   ],
   "source": [
    "#install.packages(\"ISLR\",dependencies=TRUE,repos=\"https://cloud.r-project.org\")\n",
    "require(ISLR)"
   ]
  },
  {
   "cell_type": "code",
   "execution_count": 2,
   "metadata": {},
   "outputs": [
    {
     "name": "stdout",
     "output_type": "stream",
     "text": [
      "'data.frame':\t392 obs. of  9 variables:\n",
      " $ mpg         : num  18 15 18 16 17 15 14 14 14 15 ...\n",
      " $ cylinders   : num  8 8 8 8 8 8 8 8 8 8 ...\n",
      " $ displacement: num  307 350 318 304 302 429 454 440 455 390 ...\n",
      " $ horsepower  : num  130 165 150 150 140 198 220 215 225 190 ...\n",
      " $ weight      : num  3504 3693 3436 3433 3449 ...\n",
      " $ acceleration: num  12 11.5 11 12 10.5 10 9 8.5 10 8.5 ...\n",
      " $ year        : num  70 70 70 70 70 70 70 70 70 70 ...\n",
      " $ origin      : num  1 1 1 1 1 1 1 1 1 1 ...\n",
      " $ name        : Factor w/ 304 levels \"amc ambassador brougham\",..: 49 36 231 14 161 141 54 223 241 2 ...\n"
     ]
    }
   ],
   "source": [
    "data(Auto)\n",
    "str(Auto)"
   ]
  },
  {
   "cell_type": "code",
   "execution_count": 3,
   "metadata": {},
   "outputs": [
    {
     "name": "stdout",
     "output_type": "stream",
     "text": [
      "'data.frame':\t392 obs. of  8 variables:\n",
      " $ mpg         : num  18 15 18 16 17 15 14 14 14 15 ...\n",
      " $ cylinders   : num  8 8 8 8 8 8 8 8 8 8 ...\n",
      " $ displacement: num  307 350 318 304 302 429 454 440 455 390 ...\n",
      " $ horsepower  : num  130 165 150 150 140 198 220 215 225 190 ...\n",
      " $ weight      : num  3504 3693 3436 3433 3449 ...\n",
      " $ acceleration: num  12 11.5 11 12 10.5 10 9 8.5 10 8.5 ...\n",
      " $ year        : num  70 70 70 70 70 70 70 70 70 70 ...\n",
      " $ origin      : num  1 1 1 1 1 1 1 1 1 1 ...\n"
     ]
    }
   ],
   "source": [
    "# Discard the 'name' variable, irrelevant for prediction\n",
    "Auto<-Auto[,-9]\n",
    "str(Auto)"
   ]
  },
  {
   "cell_type": "code",
   "execution_count": 4,
   "metadata": {},
   "outputs": [
    {
     "data": {
      "text/plain": [
       "\n",
       "  1   2   3 \n",
       "245  68  79 "
      ]
     },
     "metadata": {},
     "output_type": "display_data"
    }
   ],
   "source": [
    "table(Auto$origin)"
   ]
  },
  {
   "cell_type": "code",
   "execution_count": 5,
   "metadata": {},
   "outputs": [
    {
     "data": {
      "text/plain": [
       "\n",
       "70 71 72 73 74 75 76 77 78 79 80 81 82 \n",
       "29 27 28 40 26 30 34 28 36 29 27 28 30 "
      ]
     },
     "metadata": {},
     "output_type": "display_data"
    }
   ],
   "source": [
    "table(Auto$year)"
   ]
  },
  {
   "cell_type": "code",
   "execution_count": 6,
   "metadata": {},
   "outputs": [
    {
     "data": {
      "text/plain": [
       "\n",
       "  3   4   5   6   8 \n",
       "  4 199   3  83 103 "
      ]
     },
     "metadata": {},
     "output_type": "display_data"
    }
   ],
   "source": [
    "table(Auto$cylinders)"
   ]
  },
  {
   "cell_type": "markdown",
   "metadata": {},
   "source": [
    "### Ba.1 Hold-out"
   ]
  },
  {
   "cell_type": "code",
   "execution_count": 7,
   "metadata": {},
   "outputs": [],
   "source": [
    "n<-nrow(Auto)\n",
    "ntrain<-ceiling(0.6*n)\n",
    "ntest<-n-ntrain\n",
    "Itrain<-sample(1:n,ntrain,replace=FALSE)\n",
    "Auto.train<-Auto[Itrain,]\n",
    "Auto.test<-Auto[-Itrain,]"
   ]
  },
  {
   "cell_type": "code",
   "execution_count": 8,
   "metadata": {},
   "outputs": [],
   "source": [
    "Auto.lm.01<-lm(mpg~.,data=Auto.train)"
   ]
  },
  {
   "cell_type": "code",
   "execution_count": 9,
   "metadata": {},
   "outputs": [
    {
     "data": {
      "text/plain": [
       "\n",
       "Call:\n",
       "lm(formula = mpg ~ ., data = Auto.train)\n",
       "\n",
       "Residuals:\n",
       "    Min      1Q  Median      3Q     Max \n",
       "-9.2612 -2.1990 -0.1923  2.0492 12.8552 \n",
       "\n",
       "Coefficients:\n",
       "               Estimate Std. Error t value Pr(>|t|)    \n",
       "(Intercept)  -2.073e+01  6.266e+00  -3.308 0.001092 ** \n",
       "cylinders    -3.031e-01  4.353e-01  -0.696 0.486925    \n",
       "displacement  1.213e-02  1.052e-02   1.152 0.250457    \n",
       "horsepower   -2.788e-02  2.033e-02  -1.372 0.171459    \n",
       "weight       -5.535e-03  8.634e-04  -6.411 8.23e-10 ***\n",
       "acceleration  7.293e-02  1.320e-01   0.552 0.581282    \n",
       "year          7.853e-01  6.885e-02  11.407  < 2e-16 ***\n",
       "origin        1.334e+00  3.755e-01   3.554 0.000462 ***\n",
       "---\n",
       "Signif. codes:  0 '***' 0.001 '**' 0.01 '*' 0.05 '.' 0.1 ' ' 1\n",
       "\n",
       "Residual standard error: 3.47 on 228 degrees of freedom\n",
       "Multiple R-squared:  0.809,\tAdjusted R-squared:  0.8031 \n",
       "F-statistic: 137.9 on 7 and 228 DF,  p-value: < 2.2e-16\n"
      ]
     },
     "metadata": {},
     "output_type": "display_data"
    }
   ],
   "source": [
    "summary(Auto.lm.01)"
   ]
  },
  {
   "cell_type": "code",
   "execution_count": 10,
   "metadata": {},
   "outputs": [
    {
     "name": "stdout",
     "output_type": "stream",
     "text": [
      "Start:  AIC=595.16\n",
      "mpg ~ cylinders + displacement + horsepower + weight + acceleration + \n",
      "    year + origin\n",
      "\n",
      "               Df Sum of Sq    RSS    AIC\n",
      "- acceleration  1      3.67 2749.6 593.47\n",
      "- cylinders     1      5.84 2751.8 593.66\n",
      "- displacement  1     15.99 2761.9 594.53\n",
      "- horsepower    1     22.67 2768.6 595.10\n",
      "<none>                      2746.0 595.16\n",
      "- origin        1    152.10 2898.0 605.88\n",
      "- weight        1    494.98 3240.9 632.27\n",
      "- year          1   1567.08 4313.0 699.71\n",
      "\n",
      "Step:  AIC=593.47\n",
      "mpg ~ cylinders + displacement + horsepower + weight + year + \n",
      "    origin\n",
      "\n",
      "               Df Sum of Sq    RSS    AIC\n",
      "- cylinders     1      6.63 2756.3 592.04\n",
      "- displacement  1     15.71 2765.3 592.82\n",
      "<none>                      2749.6 593.47\n",
      "- horsepower    1     63.47 2813.1 596.86\n",
      "- origin        1    154.39 2904.0 604.36\n",
      "- weight        1    600.14 3349.8 638.06\n",
      "- year          1   1564.63 4314.3 697.78\n",
      "\n",
      "Step:  AIC=592.04\n",
      "mpg ~ displacement + horsepower + weight + year + origin\n",
      "\n",
      "               Df Sum of Sq    RSS    AIC\n",
      "- displacement  1      9.12 2765.4 590.82\n",
      "<none>                      2756.3 592.04\n",
      "- horsepower    1     59.95 2816.2 595.12\n",
      "- origin        1    150.92 2907.2 602.62\n",
      "- weight        1    610.23 3366.5 637.24\n",
      "- year          1   1558.07 4314.3 695.78\n",
      "\n",
      "Step:  AIC=590.82\n",
      "mpg ~ horsepower + weight + year + origin\n",
      "\n",
      "             Df Sum of Sq    RSS    AIC\n",
      "<none>                    2765.4 590.82\n",
      "- horsepower  1     53.49 2818.9 593.34\n",
      "- origin      1    146.24 2911.6 600.98\n",
      "- weight      1    852.94 3618.3 652.26\n",
      "- year        1   1548.99 4314.4 693.79\n"
     ]
    },
    {
     "data": {
      "text/plain": [
       "\n",
       "Call:\n",
       "lm(formula = mpg ~ horsepower + weight + year + origin, data = Auto.train)\n",
       "\n",
       "Coefficients:\n",
       "(Intercept)   horsepower       weight         year       origin  \n",
       " -19.756725    -0.026577    -0.004927     0.773919     1.194028  \n"
      ]
     },
     "metadata": {},
     "output_type": "display_data"
    }
   ],
   "source": [
    "step(Auto.lm.01)"
   ]
  },
  {
   "cell_type": "code",
   "execution_count": 11,
   "metadata": {},
   "outputs": [],
   "source": [
    "mpg.hat<-predict(Auto.lm.01,newdata=Auto.test[,-1],type=\"response\")"
   ]
  },
  {
   "cell_type": "code",
   "execution_count": 12,
   "metadata": {},
   "outputs": [],
   "source": [
    "mpg.true<-Auto.test[,1]"
   ]
  },
  {
   "cell_type": "code",
   "execution_count": 13,
   "metadata": {},
   "outputs": [
    {
     "data": {
      "text/html": [
       "10.08"
      ],
      "text/latex": [
       "10.08"
      ],
      "text/markdown": [
       "10.08"
      ],
      "text/plain": [
       "[1] 10.08"
      ]
     },
     "metadata": {},
     "output_type": "display_data"
    }
   ],
   "source": [
    "HO.CV.RMS<-mean((mpg.true-mpg.hat)^2)\n",
    "round(HO.CV.RMS,2)"
   ]
  },
  {
   "cell_type": "code",
   "execution_count": 14,
   "metadata": {},
   "outputs": [
    {
     "data": {
      "text/plain": [
       "\n",
       "Call:\n",
       "lm(formula = mpg ~ cylinders + displacement + horsepower + weight + \n",
       "    year + origin, data = Auto.train)\n",
       "\n",
       "Residuals:\n",
       "    Min      1Q  Median      3Q     Max \n",
       "-9.3903 -2.2193 -0.1928  1.9964 12.9071 \n",
       "\n",
       "Coefficients:\n",
       "               Estimate Std. Error t value Pr(>|t|)    \n",
       "(Intercept)  -1.920e+01  5.617e+00  -3.419 0.000744 ***\n",
       "cylinders    -3.219e-01  4.333e-01  -0.743 0.458352    \n",
       "displacement  1.202e-02  1.051e-02   1.144 0.253808    \n",
       "horsepower   -3.524e-02  1.533e-02  -2.299 0.022399 *  \n",
       "weight       -5.300e-03  7.496e-04  -7.070 1.86e-11 ***\n",
       "year          7.824e-01  6.854e-02  11.415  < 2e-16 ***\n",
       "origin        1.343e+00  3.746e-01   3.586 0.000411 ***\n",
       "---\n",
       "Signif. codes:  0 '***' 0.001 '**' 0.01 '*' 0.05 '.' 0.1 ' ' 1\n",
       "\n",
       "Residual standard error: 3.465 on 229 degrees of freedom\n",
       "Multiple R-squared:  0.8087,\tAdjusted R-squared:  0.8037 \n",
       "F-statistic: 161.4 on 6 and 229 DF,  p-value: < 2.2e-16\n"
      ]
     },
     "metadata": {},
     "output_type": "display_data"
    }
   ],
   "source": [
    "Auto.lm.02<-lm(mpg~cylinders + displacement + horsepower + weight + year + origin,data=Auto.train)\n",
    "summary(Auto.lm.02)"
   ]
  },
  {
   "cell_type": "code",
   "execution_count": 15,
   "metadata": {},
   "outputs": [
    {
     "data": {
      "text/html": [
       "10.11"
      ],
      "text/latex": [
       "10.11"
      ],
      "text/markdown": [
       "10.11"
      ],
      "text/plain": [
       "[1] 10.11"
      ]
     },
     "metadata": {},
     "output_type": "display_data"
    }
   ],
   "source": [
    "mpg.hat.02<-predict(Auto.lm.02,newdata=Auto.test[,-1],type=\"response\")\n",
    "mpg.true<-Auto.test[,1]\n",
    "HO.CV.RMS.02<-mean((mpg.true-mpg.hat.02)^2)\n",
    "round(HO.CV.RMS.02,2)"
   ]
  },
  {
   "cell_type": "code",
   "execution_count": 16,
   "metadata": {
    "scrolled": true
   },
   "outputs": [
    {
     "data": {
      "text/plain": [
       "\n",
       "Call:\n",
       "lm(formula = mpg ~ horsepower + weight + year + origin, data = Auto.train)\n",
       "\n",
       "Residuals:\n",
       "    Min      1Q  Median      3Q     Max \n",
       "-9.4651 -2.2980 -0.1402  1.9001 12.9841 \n",
       "\n",
       "Coefficients:\n",
       "              Estimate Std. Error t value Pr(>|t|)    \n",
       "(Intercept) -1.976e+01  5.575e+00  -3.544 0.000477 ***\n",
       "horsepower  -2.658e-02  1.257e-02  -2.114 0.035608 *  \n",
       "weight      -4.927e-03  5.837e-04  -8.441 3.49e-15 ***\n",
       "year         7.739e-01  6.804e-02  11.375  < 2e-16 ***\n",
       "origin       1.194e+00  3.416e-01   3.495 0.000568 ***\n",
       "---\n",
       "Signif. codes:  0 '***' 0.001 '**' 0.01 '*' 0.05 '.' 0.1 ' ' 1\n",
       "\n",
       "Residual standard error: 3.46 on 231 degrees of freedom\n",
       "Multiple R-squared:  0.8076,\tAdjusted R-squared:  0.8043 \n",
       "F-statistic: 242.4 on 4 and 231 DF,  p-value: < 2.2e-16\n"
      ]
     },
     "metadata": {},
     "output_type": "display_data"
    }
   ],
   "source": [
    "Auto.lm.03<-lm(mpg~horsepower + weight + year + origin,data=Auto.train)\n",
    "summary(Auto.lm.03)"
   ]
  },
  {
   "cell_type": "code",
   "execution_count": 17,
   "metadata": {},
   "outputs": [
    {
     "data": {
      "text/html": [
       "10.395"
      ],
      "text/latex": [
       "10.395"
      ],
      "text/markdown": [
       "10.395"
      ],
      "text/plain": [
       "[1] 10.395"
      ]
     },
     "metadata": {},
     "output_type": "display_data"
    }
   ],
   "source": [
    "mpg.hat.03<-predict(Auto.lm.03,newdata=Auto.test[,-1],type=\"response\")\n",
    "mpg.true<-Auto.test[,1]\n",
    "HO.CV.RMS.03<-mean((mpg.true-mpg.hat.03)^2)\n",
    "round(HO.CV.RMS.03,3)"
   ]
  },
  {
   "cell_type": "code",
   "execution_count": 18,
   "metadata": {},
   "outputs": [
    {
     "data": {
      "text/plain": [
       "\n",
       "Call:\n",
       "lm(formula = mpg ~ displacement + weight + year + origin, data = Auto.train)\n",
       "\n",
       "Residuals:\n",
       "    Min      1Q  Median      3Q     Max \n",
       "-9.7721 -2.2036 -0.0962  1.8303 13.1256 \n",
       "\n",
       "Coefficients:\n",
       "               Estimate Std. Error t value Pr(>|t|)    \n",
       "(Intercept)  -2.247e+01  5.482e+00  -4.100 5.73e-05 ***\n",
       "displacement -2.983e-03  6.391e-03  -0.467  0.64117    \n",
       "weight       -5.615e-03  7.431e-04  -7.556 9.65e-13 ***\n",
       "year          8.102e-01  6.742e-02  12.018  < 2e-16 ***\n",
       "origin        1.078e+00  3.599e-01   2.997  0.00302 ** \n",
       "---\n",
       "Signif. codes:  0 '***' 0.001 '**' 0.01 '*' 0.05 '.' 0.1 ' ' 1\n",
       "\n",
       "Residual standard error: 3.492 on 231 degrees of freedom\n",
       "Multiple R-squared:  0.8041,\tAdjusted R-squared:  0.8007 \n",
       "F-statistic:   237 on 4 and 231 DF,  p-value: < 2.2e-16\n"
      ]
     },
     "metadata": {},
     "output_type": "display_data"
    }
   ],
   "source": [
    "Auto.lm.03a<-lm(mpg~ displacement + weight + year + origin,data=Auto.train)\n",
    "summary(Auto.lm.03a)"
   ]
  },
  {
   "cell_type": "code",
   "execution_count": 19,
   "metadata": {},
   "outputs": [
    {
     "data": {
      "text/html": [
       "10.072"
      ],
      "text/latex": [
       "10.072"
      ],
      "text/markdown": [
       "10.072"
      ],
      "text/plain": [
       "[1] 10.072"
      ]
     },
     "metadata": {},
     "output_type": "display_data"
    }
   ],
   "source": [
    "mpg.hat.03a<-predict(Auto.lm.03a,newdata=Auto.test[,-1],type=\"response\")\n",
    "mpg.true<-Auto.test[,1]\n",
    "HO.CV.RMS.03a<-mean((mpg.true-mpg.hat.03a)^2)\n",
    "round(HO.CV.RMS.03a,3)"
   ]
  },
  {
   "cell_type": "markdown",
   "metadata": {},
   "source": [
    "### Ba.2 $k$-fold crossvalidation"
   ]
  },
  {
   "cell_type": "code",
   "execution_count": 20,
   "metadata": {},
   "outputs": [],
   "source": [
    "kfoldIndexes<-function(n,k){\n",
    "    l<-floor(n/k)\n",
    "    Indexes<-c(1,(1:k)*l)\n",
    "    Indexes[k+1]<-n\n",
    "    return(Indexes)\n",
    "    }"
   ]
  },
  {
   "cell_type": "code",
   "execution_count": 21,
   "metadata": {},
   "outputs": [
    {
     "data": {
      "text/html": [
       "<ol class=list-inline>\n",
       "\t<li>1</li>\n",
       "\t<li>78</li>\n",
       "\t<li>156</li>\n",
       "\t<li>234</li>\n",
       "\t<li>312</li>\n",
       "\t<li>392</li>\n",
       "</ol>\n"
      ],
      "text/latex": [
       "\\begin{enumerate*}\n",
       "\\item 1\n",
       "\\item 78\n",
       "\\item 156\n",
       "\\item 234\n",
       "\\item 312\n",
       "\\item 392\n",
       "\\end{enumerate*}\n"
      ],
      "text/markdown": [
       "1. 1\n",
       "2. 78\n",
       "3. 156\n",
       "4. 234\n",
       "5. 312\n",
       "6. 392\n",
       "\n",
       "\n"
      ],
      "text/plain": [
       "[1]   1  78 156 234 312 392"
      ]
     },
     "metadata": {},
     "output_type": "display_data"
    },
    {
     "data": {
      "text/html": [
       "<ol class=list-inline>\n",
       "\t<li>1</li>\n",
       "\t<li>78</li>\n",
       "\t<li>156</li>\n",
       "\t<li>234</li>\n",
       "\t<li>312</li>\n",
       "</ol>\n"
      ],
      "text/latex": [
       "\\begin{enumerate*}\n",
       "\\item 1\n",
       "\\item 78\n",
       "\\item 156\n",
       "\\item 234\n",
       "\\item 312\n",
       "\\end{enumerate*}\n"
      ],
      "text/markdown": [
       "1. 1\n",
       "2. 78\n",
       "3. 156\n",
       "4. 234\n",
       "5. 312\n",
       "\n",
       "\n"
      ],
      "text/plain": [
       "[1]   1  78 156 234 312"
      ]
     },
     "metadata": {},
     "output_type": "display_data"
    },
    {
     "data": {
      "text/html": [
       "<ol class=list-inline>\n",
       "\t<li>78</li>\n",
       "\t<li>156</li>\n",
       "\t<li>234</li>\n",
       "\t<li>312</li>\n",
       "\t<li>392</li>\n",
       "</ol>\n"
      ],
      "text/latex": [
       "\\begin{enumerate*}\n",
       "\\item 78\n",
       "\\item 156\n",
       "\\item 234\n",
       "\\item 312\n",
       "\\item 392\n",
       "\\end{enumerate*}\n"
      ],
      "text/markdown": [
       "1. 78\n",
       "2. 156\n",
       "3. 234\n",
       "4. 312\n",
       "5. 392\n",
       "\n",
       "\n"
      ],
      "text/plain": [
       "[1]  78 156 234 312 392"
      ]
     },
     "metadata": {},
     "output_type": "display_data"
    }
   ],
   "source": [
    "# Decide a 'K' for K-fold cross-validation (uppercase to avoid notation clash with the k in k-NN)\n",
    "n<-nrow(Auto)\n",
    "K<-5\n",
    "J<-kfoldIndexes(n,K)\n",
    "J\n",
    "Lower<-J[-(K+1)]\n",
    "Upper<-J[-1]\n",
    "Lower\n",
    "Upper\n",
    "# Una random permutation of indexes\n",
    "I<-sample(1:n)"
   ]
  },
  {
   "cell_type": "code",
   "execution_count": 22,
   "metadata": {},
   "outputs": [
    {
     "data": {
      "text/html": [
       "<ol class=list-inline>\n",
       "\t<li>14.249</li>\n",
       "\t<li>11.335</li>\n",
       "\t<li>12.231</li>\n",
       "\t<li>9.026</li>\n",
       "\t<li>9.709</li>\n",
       "</ol>\n"
      ],
      "text/latex": [
       "\\begin{enumerate*}\n",
       "\\item 14.249\n",
       "\\item 11.335\n",
       "\\item 12.231\n",
       "\\item 9.026\n",
       "\\item 9.709\n",
       "\\end{enumerate*}\n"
      ],
      "text/markdown": [
       "1. 14.249\n",
       "2. 11.335\n",
       "3. 12.231\n",
       "4. 9.026\n",
       "5. 9.709\n",
       "\n",
       "\n"
      ],
      "text/plain": [
       "[1] 14.249 11.335 12.231  9.026  9.709"
      ]
     },
     "metadata": {},
     "output_type": "display_data"
    },
    {
     "data": {
      "text/html": [
       "11.31"
      ],
      "text/latex": [
       "11.31"
      ],
      "text/markdown": [
       "11.31"
      ],
      "text/plain": [
       "[1] 11.31"
      ]
     },
     "metadata": {},
     "output_type": "display_data"
    }
   ],
   "source": [
    "# Repeat with several 'k' and choose an optimal value.\n",
    "MSE.01<-rep(0,K)\n",
    "for (fold in 1:K){\n",
    "    Itest<-I[Lower[fold]:Upper[fold]]\n",
    "    Auto.test.fold<-Auto[Itest,]\n",
    "    Auto.train.fold<-Auto[-Itest,]\n",
    "    Auto.lm.01.fold<-lm(mpg~.,data=Auto.train.fold)\n",
    "    y.hat.01.fold<-predict(Auto.lm.01.fold,newdata=Auto.test.fold[,-1],\n",
    "                           type=\"response\")\n",
    "    y.true.01.fold<-Auto.test.fold[,1]\n",
    "    MSE.01.fold<-mean((y.true.01.fold-y.hat.01.fold)^2)\n",
    "    MSE.01[fold]<-MSE.01.fold\n",
    "    }\n",
    "round(MSE.01,3)\n",
    "mean.MSE.01<-mean(MSE.01)\n",
    "round(mean.MSE.01,3)"
   ]
  },
  {
   "cell_type": "markdown",
   "metadata": {},
   "source": [
    "### Ba.3 Leave-one-out"
   ]
  },
  {
   "cell_type": "markdown",
   "metadata": {},
   "source": [
    "### Ba.4 Bootstrap"
   ]
  },
  {
   "cell_type": "markdown",
   "metadata": {},
   "source": [
    "## C. `SAheart` dataset"
   ]
  },
  {
   "cell_type": "markdown",
   "metadata": {},
   "source": [
    "From the `ElemStatLearn` package, `SAheart` is a data frame with 462 observations on the following 10 variables.\n",
    "\n",
    "01. `sbp`: systolic blood pressure.\n",
    "\n",
    "02. `tobacco`: cumulative tobacco (kg).\n",
    "\n",
    "03. `ldl`: low density lipoprotein cholesterol.\n",
    "\n",
    "04. `adiposity`: a numeric vector.\n",
    "\n",
    "05. `famhist`: family history of heart disease, a factor with levels `Absent`, `Present`.\n",
    "\n",
    "06. `typea`: type-A behavior.\n",
    "\n",
    "07. `obesity`: a numeric vector.\n",
    "\n",
    "08. `alcohol`: current alcohol consumption.\n",
    "\n",
    "09. `age`: age at onset\n",
    "\n",
    "10. `chd`: response, coronary heart disease\n",
    "\n",
    "##### Details\n",
    "\n",
    "A retrospective sample of males in a heart-disease high-risk region of the Western Cape, South Africa. There are roughly two controls per case of CHD. Many of the CHD positive men have undergone blood pressure reduction treatment and other programs to reduce their risk factors after their CHD event. In some cases the measurements were made after these treatments. These data are taken from a larger dataset, described in Rousseauw et al, 1983, South African Medical Journal."
   ]
  },
  {
   "cell_type": "code",
   "execution_count": null,
   "metadata": {},
   "outputs": [],
   "source": [
    "#install.packages(\"ElemStatLearn\",dependencies=TRUE,repos=\"https://cloud.r-project.org\")\n",
    "require(ElemStatLearn)\n",
    "data(SAheart)"
   ]
  },
  {
   "cell_type": "code",
   "execution_count": null,
   "metadata": {},
   "outputs": [],
   "source": [
    "n<-nrow(SAheart)\n",
    "ntrain<-ceiling(0.60*n)\n",
    "Itrain<-sample(1:n,ntrain,replace=FALSE)\n",
    "n<-nrow(SAheart)\n",
    "ntrain<-ceiling(0.60*n)\n",
    "Itrain<-sample(1:n,ntrain,replace=FALSE)\n",
    "SAheart.train<-SAheart[Itrain,]\n",
    "SAheart.test<-SAheart[-Itrain,]"
   ]
  },
  {
   "cell_type": "markdown",
   "metadata": {},
   "source": [
    "## Ca. SAheart data with logistic regression"
   ]
  },
  {
   "cell_type": "code",
   "execution_count": null,
   "metadata": {},
   "outputs": [],
   "source": [
    "SAheart.logit1<-glm(chd~.,data=SAheart.train,family=binomial)\n",
    "summary(SAheart.logit1)"
   ]
  },
  {
   "cell_type": "markdown",
   "metadata": {},
   "source": [
    "Prediction of probabilities that the binary 0/1 response takes the value 1 (here `chd=1`):"
   ]
  },
  {
   "cell_type": "code",
   "execution_count": null,
   "metadata": {},
   "outputs": [],
   "source": [
    "SAheart.pred<-predict(SAheart.logit1,newdata=SAheart.test,type=\"response\")\n",
    "str(SAheart.pred)"
   ]
  },
  {
   "cell_type": "markdown",
   "metadata": {},
   "source": [
    "A _crisp_ prediction of 0 or 1 is obtained from the above by taking a cut point, e.g., $L=0.5$ (this is not a mandatory value, it may depend on the problem or on the _a priori_ probabilites) and assign to 0 or 1 according to whether the probability is smaller or larger than this threshold:"
   ]
  },
  {
   "cell_type": "code",
   "execution_count": null,
   "metadata": {},
   "outputs": [],
   "source": [
    "SAheart.pred.crisp<-1*(SAheart.pred>=0.5)\n",
    "C<-table(\"True\"=SAheart.test$chd,\"Predicted\"=SAheart.pred.crisp)\n",
    "C"
   ]
  },
  {
   "cell_type": "markdown",
   "metadata": {},
   "source": [
    "### Ca.1 Hold-out"
   ]
  },
  {
   "cell_type": "markdown",
   "metadata": {},
   "source": [
    "### Ca.2 $k$-fold crossvalidation"
   ]
  },
  {
   "cell_type": "markdown",
   "metadata": {},
   "source": [
    "### Ca.3 Leave-one-out"
   ]
  },
  {
   "cell_type": "markdown",
   "metadata": {},
   "source": [
    "### Ca.4 Bootstrap"
   ]
  },
  {
   "cell_type": "markdown",
   "metadata": {},
   "source": [
    "## Cb. `SAheart` with Fisher's linear discriminant analysis"
   ]
  },
  {
   "cell_type": "code",
   "execution_count": null,
   "metadata": {},
   "outputs": [],
   "source": [
    "require(MASS)\n",
    "SAheart.lda1<-lda(chd~.,data=SAheart.train)\n",
    "SAheart.pred<-predict(SAheart.lda1,newdata=SAheart.test)\n",
    "C<-table(\"True\"=SAheart.test$chd,\"Predicted\"=SAheart.pred$class)\n",
    "C"
   ]
  },
  {
   "cell_type": "markdown",
   "metadata": {},
   "source": [
    "### Cb.1 Hold-out"
   ]
  },
  {
   "cell_type": "markdown",
   "metadata": {},
   "source": [
    "### Cb.2 $k$-fold crossvalidation"
   ]
  },
  {
   "cell_type": "markdown",
   "metadata": {},
   "source": [
    "### Cb.3 Leave-one-out"
   ]
  },
  {
   "cell_type": "markdown",
   "metadata": {},
   "source": [
    "### Cb.4 Bootstrap"
   ]
  },
  {
   "cell_type": "markdown",
   "metadata": {},
   "source": [
    "## Cb. `SAheart` with Quadratic discriminant"
   ]
  },
  {
   "cell_type": "code",
   "execution_count": null,
   "metadata": {},
   "outputs": [],
   "source": [
    "SAheart.qda1<-qda(chd~.,data=SAheart.train)\n",
    "SAheart.pred<-predict(SAheart.qda1,newdata=SAheart.test)\n",
    "C<-table(\"True\"=SAheart.test$chd,\"Predicted\"=SAheart.pred$class)\n",
    "C"
   ]
  },
  {
   "cell_type": "markdown",
   "metadata": {},
   "source": [
    "# D. `Default` data set"
   ]
  },
  {
   "cell_type": "markdown",
   "metadata": {},
   "source": [
    "From the `ISLR` package. A simulated data set containing information on ten thousand customers. The aim here is to predict which customers will default on their credit card debt.\n",
    "\n",
    "A data frame with 10000 observations on the following 4 variables.\n",
    "\n",
    "01. `default`: A factor with levels `No` and `Yes` indicating whether the customer defaulted on their debt\n",
    "\n",
    "02. `student`: A factor with levels `No` and `Yes` indicating whether the customer is a student\n",
    "\n",
    "03. `balance`: The average balance that the customer has remaining on their credit card after making their monthly payment\n",
    "\n",
    "04. `income`: Income of customer"
   ]
  },
  {
   "cell_type": "code",
   "execution_count": null,
   "metadata": {},
   "outputs": [],
   "source": [
    "#install.packages(\"ISLR\",dependencies=TRUE,repos=\"https://cloud.r-project.org\")\n",
    "require(ISLR)\n",
    "data(Default)\n",
    "str(Default)"
   ]
  },
  {
   "cell_type": "markdown",
   "metadata": {},
   "source": [
    "## Da. `Default` data set with Fisher's linear discriminant"
   ]
  },
  {
   "cell_type": "code",
   "execution_count": null,
   "metadata": {},
   "outputs": [],
   "source": [
    "n<-nrow(Default)\n",
    "ntrain<-ceiling(0.6*n)\n",
    "set.seed(24025)         # An arbitrary value, fixed for the sake of reproducibility of results\n",
    "Itrain<-sample(1:n,ntrain,replace=FALSE)\n",
    "Default.train<-Default[Itrain,]\n",
    "Default.test<-Default[-Itrain,]"
   ]
  },
  {
   "cell_type": "code",
   "execution_count": null,
   "metadata": {},
   "outputs": [],
   "source": [
    "require(MASS)\n",
    "Default.lda<-lda(default~.,data=Default.train)\n",
    "Default.pred<-predict(Default.lda,newdata=Default.test)\n",
    "C<-table(\"True\"=Default.test$default,\"Predicted\"=Default.pred$class)\n",
    "C"
   ]
  },
  {
   "cell_type": "markdown",
   "metadata": {},
   "source": [
    "## `Smarket` data set"
   ]
  },
  {
   "cell_type": "markdown",
   "metadata": {},
   "source": [
    "This is an S&P Stock Market Data set. Daily percentage returns for the S&P 500 stock index between 2001 and 2005.\n",
    "Contained in the `ISLR` package as a `data.frame` with 1250 observations on the following 9 variables.\n",
    "\n",
    "01. `Year`: The year that the observation was recorded\n",
    "\n",
    "02. `Lag1`: Percentage return for previous day\n",
    "\n",
    "03. `Lag2`: Percentage return for 2 days previous\n",
    "\n",
    "04. `Lag3`: Percentage return for 3 days previous\n",
    "\n",
    "05. `Lag4`: Percentage return for 4 days previous\n",
    "\n",
    "06. `Lag5`: Percentage return for 5 days previous\n",
    "\n",
    "07. `Volume`: Volume of shares traded (number of daily shares traded in billions)\n",
    "\n",
    "08. `Today`: Percentage return for today\n",
    "\n",
    "09. `Direction`: A factor with levels `Down` and `Up` indicating whether the market had a positive or negative return on a given day."
   ]
  },
  {
   "cell_type": "code",
   "execution_count": null,
   "metadata": {},
   "outputs": [],
   "source": [
    "require(ISLR)\n",
    "data(Smarket)\n",
    "str(Smarket)"
   ]
  },
  {
   "cell_type": "markdown",
   "metadata": {},
   "source": [
    "# Appendix: dedicated R packages"
   ]
  },
  {
   "cell_type": "markdown",
   "metadata": {},
   "source": [
    "Many R packages contain functions implementing methods for validating prediction procedures, for instance:\n",
    "- `caret`, \n",
    "- `CVST`, \n",
    "- `cvTools`, \n",
    "- `dprep`, \n",
    "- `sortinghat`. \n",
    "\n",
    "One of them (`CVST`) is devoted to a validation technique more sophisticated than the four in this notebook, and the rest are generic, with application to some prediction methods than those in our course. "
   ]
  },
  {
   "cell_type": "code",
   "execution_count": null,
   "metadata": {},
   "outputs": [],
   "source": []
  }
 ],
 "metadata": {
  "kernelspec": {
   "display_name": "R",
   "language": "R",
   "name": "ir"
  },
  "language_info": {
   "codemirror_mode": "r",
   "file_extension": ".r",
   "mimetype": "text/x-r-source",
   "name": "R",
   "pygments_lexer": "r",
   "version": "3.6.1"
  }
 },
 "nbformat": 4,
 "nbformat_minor": 2
}
